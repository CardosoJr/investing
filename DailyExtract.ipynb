{
 "metadata": {
  "language_info": {
   "codemirror_mode": {
    "name": "ipython",
    "version": 3
   },
   "file_extension": ".py",
   "mimetype": "text/x-python",
   "name": "python",
   "nbconvert_exporter": "python",
   "pygments_lexer": "ipython3",
   "version": "3.8.5-final"
  },
  "orig_nbformat": 2,
  "kernelspec": {
   "name": "python3",
   "display_name": "Python 3",
   "language": "python"
  }
 },
 "nbformat": 4,
 "nbformat_minor": 2,
 "cells": [
  {
   "source": [
    "# Daily Extract \n",
    "\n",
    "Run this notebook daily to update intraday quotes for all investment assets"
   ],
   "cell_type": "markdown",
   "metadata": {}
  },
  {
   "cell_type": "code",
   "execution_count": 1,
   "metadata": {},
   "outputs": [],
   "source": [
    "import Extractors.DailyExtractor as daily\n",
    "from pathlib import Path\n",
    "import pandas as pd \n",
    "from datetime import datetime\n",
    "\n",
    "data_path = \"./DATA\"\n",
    "path = Path(data_path)"
   ]
  },
  {
   "source": [
    "### Parameters\n",
    "\n",
    "Define parameters here"
   ],
   "cell_type": "markdown",
   "metadata": {}
  },
  {
   "cell_type": "code",
   "execution_count": 2,
   "metadata": {},
   "outputs": [],
   "source": [
    "date = \"2021-01-23\" # If None will consider today \n",
    "assets = [\"b3\", \"b3_funds\", \"cripto\", \"funds\"]\n",
    "interval = \"1m\""
   ]
  },
  {
   "cell_type": "code",
   "execution_count": 3,
   "metadata": {},
   "outputs": [],
   "source": [
    "if date is None: \n",
    "    date = datetime.now()\n",
    "else:\n",
    "    date = datetime.strptime(date, \"%Y-%m-%d\")\n",
    "\n",
    "extractor = daily.DailyExtractor(data_path, assets = assets, interval = interval)"
   ]
  },
  {
   "cell_type": "code",
   "execution_count": 4,
   "metadata": {},
   "outputs": [
    {
     "output_type": "stream",
     "name": "stderr",
     "text": [
      "  0%|          | 0/5 [00:00<?, ?it/s]Extracting Intraday data\n",
      "\n",
      "Starting for asset b3 \n",
      "\n",
      "100%|██████████| 5/5 [00:24<00:00,  4.93s/it]\n",
      "  0%|          | 0/5 [00:00<?, ?it/s]Could not load data from RRRP3.SA \n",
      "\n",
      "'dict' object has no attribute 'reset_index'\n",
      " 20%|██        | 1/5 [00:00<00:01,  2.12it/s]Could not load data from CSAN3.SA \n",
      "\n",
      "'dict' object has no attribute 'reset_index'\n",
      " 40%|████      | 2/5 [00:01<00:02,  1.04it/s]Could not load data from DMMO3.SA \n",
      "\n",
      "'dict' object has no attribute 'reset_index'\n",
      " 60%|██████    | 3/5 [00:02<00:01,  1.15it/s]Could not load data from ENAT3.SA \n",
      "\n",
      "'dict' object has no attribute 'reset_index'\n",
      " 80%|████████  | 4/5 [00:03<00:01,  1.03s/it]Could not load data from RPMG3.SA \n",
      "\n",
      "'dict' object has no attribute 'reset_index'\n",
      "100%|██████████| 5/5 [00:04<00:00,  1.10it/s]\n",
      "  0%|          | 0/5 [00:00<?, ?it/s]Starting for asset b3_funds \n",
      "\n",
      " 40%|████      | 2/5 [00:14<00:23,  7.68s/it]Could not load data from AQLL11.SA \n",
      "\n",
      "'dict' object has no attribute 'reset_index'\n",
      "Could not load data from AQLL11.SA \n",
      "\n",
      "'dict' object has no attribute 'reset_index'\n",
      "100%|██████████| 5/5 [00:24<00:00,  4.96s/it]\n",
      "  0%|          | 0/5 [00:00<?, ?it/s]Could not load data from AFCR11.SA \n",
      "\n",
      "'dict' object has no attribute 'reset_index'\n",
      " 20%|██        | 1/5 [00:00<00:03,  1.27it/s]Could not load data from ALZR11.SA \n",
      "\n",
      "'dict' object has no attribute 'reset_index'\n",
      " 40%|████      | 2/5 [00:03<00:05,  1.67s/it]Could not load data from AQLL11.SA \n",
      "\n",
      "'dict' object has no attribute 'reset_index'\n",
      " 60%|██████    | 3/5 [00:04<00:02,  1.50s/it]Could not load data from AIEC11.SA \n",
      "\n",
      "'dict' object has no attribute 'reset_index'\n",
      " 80%|████████  | 4/5 [00:05<00:01,  1.41s/it]Could not load data from BCRI11.SA \n",
      "\n",
      "'dict' object has no attribute 'reset_index'\n",
      "100%|██████████| 5/5 [00:06<00:00,  1.22s/it]\n",
      "  0%|          | 0/5 [00:00<?, ?it/s]Starting for asset cripto \n",
      "\n",
      "100%|██████████| 5/5 [00:32<00:00,  6.40s/it]\n",
      "  0%|          | 0/5 [00:00<?, ?it/s]Could not load data from BTC-USD \n",
      "\n",
      "'dict' object has no attribute 'reset_index'\n",
      " 20%|██        | 1/5 [00:00<00:03,  1.26it/s]Could not load data from ETH-USD \n",
      "\n",
      "'dict' object has no attribute 'reset_index'\n",
      " 40%|████      | 2/5 [00:03<00:04,  1.65s/it]Could not load data from USDT-USD \n",
      "\n",
      "'dict' object has no attribute 'reset_index'\n",
      " 60%|██████    | 3/5 [00:03<00:02,  1.26s/it]Could not load data from ADA-USD \n",
      "\n",
      "'dict' object has no attribute 'reset_index'\n",
      " 80%|████████  | 4/5 [00:06<00:01,  1.65s/it]Could not load data from XRP-USD \n",
      "\n",
      "'dict' object has no attribute 'reset_index'\n",
      "100%|██████████| 5/5 [00:06<00:00,  1.32s/it]\n",
      "  0%|          | 0/1 [00:00<?, ?it/s]Starting for asset funds \n",
      "\n",
      "100%|██████████| 1/1 [00:02<00:00,  2.95s/it]\n"
     ]
    }
   ],
   "source": [
    "extractor.run(baseline_date = date)"
   ]
  },
  {
   "cell_type": "code",
   "execution_count": 6,
   "metadata": {},
   "outputs": [
    {
     "output_type": "execute_result",
     "data": {
      "text/plain": [
       "WindowsPath('DATA/bkp_fund.csv')"
      ]
     },
     "metadata": {},
     "execution_count": 6
    }
   ],
   "source": [
    "path / \"bkp_fund.csv\""
   ]
  },
  {
   "cell_type": "code",
   "execution_count": 11,
   "metadata": {},
   "outputs": [],
   "source": [
    "file = path / \"bkp_fund.csv\""
   ]
  },
  {
   "cell_type": "code",
   "execution_count": 12,
   "metadata": {},
   "outputs": [
    {
     "output_type": "execute_result",
     "data": {
      "text/plain": [
       "'.csv'"
      ]
     },
     "metadata": {},
     "execution_count": 12
    }
   ],
   "source": [
    "file.suffix"
   ]
  }
 ]
}