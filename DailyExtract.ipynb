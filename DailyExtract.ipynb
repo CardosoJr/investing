{
 "metadata": {
  "language_info": {
   "codemirror_mode": {
    "name": "ipython",
    "version": 3
   },
   "file_extension": ".py",
   "mimetype": "text/x-python",
   "name": "python",
   "nbconvert_exporter": "python",
   "pygments_lexer": "ipython3",
   "version": "3.8.5-final"
  },
  "orig_nbformat": 2,
  "kernelspec": {
   "name": "python3",
   "display_name": "Python 3",
   "language": "python"
  }
 },
 "nbformat": 4,
 "nbformat_minor": 2,
 "cells": [
  {
   "source": [
    "# Daily Extract \n",
    "\n",
    "Run this notebook daily to update intraday quotes for all investment assets"
   ],
   "cell_type": "markdown",
   "metadata": {}
  },
  {
   "cell_type": "code",
   "execution_count": 1,
   "metadata": {},
   "outputs": [],
   "source": [
    "import Extractors.DailyExtractor as daily\n",
    "from pathlib import Path\n",
    "import pandas as pd \n",
    "from datetime import datetime\n",
    "\n",
    "data_path = \"./DATA\"\n",
    "path = Path(data_path)"
   ]
  },
  {
   "source": [
    "### Parameters\n",
    "\n",
    "Define parameters here"
   ],
   "cell_type": "markdown",
   "metadata": {}
  },
  {
   "cell_type": "code",
   "execution_count": 2,
   "metadata": {},
   "outputs": [],
   "source": [
    "date = \"2021-02-26\" # If None will consider today \n",
    "assets = [\"b3\", \"b3_funds\", \"cripto\", \"funds\", \"b3_history\", \"b3_funds_history\", \"cripto_history\", \"funds_history\", \"KPIs_history\"]\n",
    "assets = [\"b3_history\"]\n",
    "interval = \"1m\""
   ]
  },
  {
   "cell_type": "code",
   "execution_count": 3,
   "metadata": {},
   "outputs": [],
   "source": [
    "if date is None: \n",
    "    date = datetime.now()\n",
    "else:\n",
    "    date = datetime.strptime(date, \"%Y-%m-%d\")\n",
    "\n",
    "extractor = daily.DailyExtractor(data_path, assets = assets, interval = interval)"
   ]
  },
  {
   "cell_type": "code",
   "execution_count": 4,
   "metadata": {
    "tags": []
   },
   "outputs": [
    {
     "output_type": "stream",
     "name": "stdout",
     "text": [
      "Extracting Intraday data \n",
      "\n",
      "Starting for asset KPIs_history \n",
      "\n",
      "100%|██████████| 2/2 [00:02<00:00,  1.25s/it]\n"
     ]
    }
   ],
   "source": [
    "extractor.run(baseline_date = date)"
   ]
  },
  {
   "cell_type": "code",
   "execution_count": 5,
   "metadata": {},
   "outputs": [],
   "source": [
    "import Extractors.DSManager as mg\n"
   ]
  },
  {
   "cell_type": "code",
   "execution_count": 6,
   "metadata": {},
   "outputs": [],
   "source": [
    "mgmt = mg.Manager(\"./DATA\")"
   ]
  },
  {
   "cell_type": "code",
   "execution_count": 7,
   "metadata": {},
   "outputs": [
    {
     "output_type": "execute_result",
     "data": {
      "text/plain": [
       "{'cripto': WindowsPath('DATA/cripto/20210228_data.txt'),\n",
       " 'b3': WindowsPath('DATA/b3/20210228_data.txt'),\n",
       " 'b3_funds': WindowsPath('DATA/b3_funds/20210228_data.txt'),\n",
       " 'cripto_history': WindowsPath('DATA/cripto_history/2021_data.parquet'),\n",
       " 'b3_history': WindowsPath('DATA/b3_history/2021_data.parquet'),\n",
       " 'b3_funds_history': WindowsPath('DATA/b3_funds_history/2021_data.parquet'),\n",
       " 'funds_history': WindowsPath('DATA/funds_history/2021_data.parquet'),\n",
       " 'KPIs_history': WindowsPath('DATA/KPIs_history/20210228_data.parquet')}"
      ]
     },
     "metadata": {},
     "execution_count": 7
    }
   ],
   "source": [
    "mgmt.get_latest_files()"
   ]
  }
 ]
}