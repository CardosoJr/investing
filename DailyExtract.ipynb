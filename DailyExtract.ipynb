{
 "metadata": {
  "language_info": {
   "codemirror_mode": {
    "name": "ipython",
    "version": 3
   },
   "file_extension": ".py",
   "mimetype": "text/x-python",
   "name": "python",
   "nbconvert_exporter": "python",
   "pygments_lexer": "ipython3",
   "version": "3.8.5"
  },
  "orig_nbformat": 2,
  "kernelspec": {
   "name": "python3",
   "display_name": "Python 3.8.5 64-bit ('base': conda)"
  },
  "interpreter": {
   "hash": "b3ba2566441a7c06988d0923437866b63cedc61552a5af99d1f4fb67d367b25f"
  }
 },
 "nbformat": 4,
 "nbformat_minor": 2,
 "cells": [
  {
   "source": [
    "# Daily Extract \n",
    "\n",
    "Run this notebook daily to update intraday quotes for all investment assets"
   ],
   "cell_type": "markdown",
   "metadata": {}
  },
  {
   "cell_type": "code",
   "execution_count": 1,
   "metadata": {},
   "outputs": [],
   "source": [
    "import Extractors.DailyExtractor as daily\n",
    "from pathlib import Path\n",
    "import pandas as pd \n",
    "from datetime import datetime\n",
    "\n",
    "data_path = \"./DATA\"\n",
    "path = Path(data_path)"
   ]
  },
  {
   "source": [
    "### Parameters\n",
    "\n",
    "Define parameters here"
   ],
   "cell_type": "markdown",
   "metadata": {}
  },
  {
   "cell_type": "code",
   "execution_count": 2,
   "metadata": {},
   "outputs": [],
   "source": [
    "date = None # If None will consider last day in config files \n",
    "max_date = \"2021-07-04\" # If None will consider today \n",
    "assets = [\"b3\", \"b3_funds\", \"cripto\", \"b3_history\", \"b3_funds_history\", \"cripto_history\", \"funds_history\", \"KPIs_history\"]\n",
    "assets = [\"b3_history\", \"b3_funds_history\", \"cripto_history\", \"funds_history\", \"KPIs_history\"]\n",
    "# assets = [\"funds_history\", \"KPIs_history\"]\n",
    "interval = \"1m\""
   ]
  },
  {
   "cell_type": "code",
   "execution_count": 3,
   "metadata": {},
   "outputs": [],
   "source": [
    "if date is not None: \n",
    "    date = datetime.strptime(date, \"%Y-%m-%d\")\n",
    "if max_date is not None: \n",
    "    max_date = datetime.strptime(max_date, \"%Y-%m-%d\")\n",
    "    \n",
    "extractor = daily.DailyExtractor(data_path, assets = assets, interval = interval)"
   ]
  },
  {
   "cell_type": "code",
   "execution_count": 4,
   "metadata": {
    "tags": []
   },
   "outputs": [
    {
     "output_type": "stream",
     "name": "stderr",
     "text": [
      "  0%|          | 0/464 [00:00<?, ?it/s]Extracting Intraday data \n",
      "\n",
      "Starting for asset b3_history \n",
      "\n",
      " 21%|██        | 97/464 [01:52<08:29,  1.39s/it]Could not load data from RLOG3.SA \n",
      "\n",
      "Error: {\"RLOG3.SA\": \"No data found, symbol may be delisted\"}\n",
      " 28%|██▊       | 131/464 [02:25<04:50,  1.15it/s]Could not load data from BSEV3.SA \n",
      "\n",
      "Error: {\"BSEV3.SA\": {\"meta\": {\"currency\": \"BRL\", \"symbol\": \"BSEV3.SA\", \"exchangeName\": \"SAO\", \"instrumentType\": \"EQUITY\", \"firstTradeDate\": 1366376400, \"regularMarketTime\": 1621022760, \"gmtoffset\": -10800, \"timezone\": \"BRT\", \"exchangeTimezoneName\": \"America/Sao_Paulo\", \"regularMarketPrice\": 9.0, \"chartPreviousClose\": 9.0, \"priceHint\": 2, \"currentTradingPeriod\": {\"pre\": {\"timezone\": \"BRT\", \"start\": 1625489100, \"end\": 1625490000, \"gmtoffset\": -10800}, \"regular\": {\"timezone\": \"BRT\", \"start\": 1625490000, \"end\": 1625515200, \"gmtoffset\": -10800}, \"post\": {\"timezone\": \"BRT\", \"start\": 1625515200, \"end\": 1625518800, \"gmtoffset\": -10800}}, \"dataGranularity\": \"1d\", \"range\": \"\", \"validRanges\": [\"1d\", \"5d\", \"1mo\", \"3mo\", \"6mo\", \"1y\", \"2y\", \"5y\", \"10y\", \"ytd\", \"max\"]}, \"indicators\": {\"quote\": [{}], \"adjclose\": [{}]}}}\n",
      " 44%|████▎     | 202/464 [03:35<04:54,  1.12s/it]Could not load data from CAMB4.SA \n",
      "\n",
      "Error: {\"CAMB4.SA\": {\"meta\": {\"currency\": \"BRL\", \"symbol\": \"CAMB4.SA\", \"exchangeName\": \"SAO\", \"instrumentType\": \"EQUITY\", \"firstTradeDate\": 946987200, \"regularMarketTime\": 1576875600, \"gmtoffset\": -10800, \"timezone\": \"BRT\", \"exchangeTimezoneName\": \"America/Sao_Paulo\", \"regularMarketPrice\": 6.25, \"chartPreviousClose\": 6.25, \"priceHint\": 2, \"currentTradingPeriod\": {\"pre\": {\"timezone\": \"BRT\", \"start\": 1625489100, \"end\": 1625490000, \"gmtoffset\": -10800}, \"regular\": {\"timezone\": \"BRT\", \"start\": 1625490000, \"end\": 1625515200, \"gmtoffset\": -10800}, \"post\": {\"timezone\": \"BRT\", \"start\": 1625515200, \"end\": 1625518800, \"gmtoffset\": -10800}}, \"dataGranularity\": \"1d\", \"range\": \"\", \"validRanges\": [\"1d\", \"5d\", \"1mo\", \"3mo\", \"6mo\", \"1y\", \"2y\", \"5y\", \"10y\", \"ytd\", \"max\"]}, \"indicators\": {\"quote\": [{}], \"adjclose\": [{}]}}}\n",
      " 50%|█████     | 232/464 [04:11<02:49,  1.37it/s]Could not load data from SMLS3.SA \n",
      "\n",
      "Error: {\"SMLS3.SA\": {\"meta\": {\"currency\": \"BRL\", \"symbol\": \"SMLS3.SA\", \"exchangeName\": \"SAO\", \"instrumentType\": \"EQUITY\", \"firstTradeDate\": 1367240400, \"regularMarketTime\": 1622837405, \"gmtoffset\": -10800, \"timezone\": \"BRT\", \"exchangeTimezoneName\": \"America/Sao_Paulo\", \"regularMarketPrice\": 22.4, \"chartPreviousClose\": 22.4, \"priceHint\": 2, \"currentTradingPeriod\": {\"pre\": {\"timezone\": \"BRT\", \"end\": 1625490000, \"start\": 1625489100, \"gmtoffset\": -10800}, \"regular\": {\"timezone\": \"BRT\", \"end\": 1625515200, \"start\": 1625490000, \"gmtoffset\": -10800}, \"post\": {\"timezone\": \"BRT\", \"end\": 1625518800, \"start\": 1625515200, \"gmtoffset\": -10800}}, \"dataGranularity\": \"1d\", \"range\": \"\", \"validRanges\": [\"1d\", \"5d\", \"1mo\", \"3mo\", \"6mo\", \"1y\", \"2y\", \"5y\", \"10y\", \"ytd\", \"max\"]}, \"indicators\": {\"quote\": [{}], \"adjclose\": [{}]}}}\n",
      " 53%|█████▎    | 245/464 [04:22<02:41,  1.36it/s]Could not load data from CNTO3.SA \n",
      "\n",
      "Error: {\"CNTO3.SA\": \"No data found, symbol may be delisted\"}\n",
      " 59%|█████▉    | 275/464 [04:53<04:07,  1.31s/it]Could not load data from LINX3.SA \n",
      "\n",
      "Error: {\"LINX3.SA\": {\"meta\": {\"currency\": \"BRL\", \"symbol\": \"LINX3.SA\", \"exchangeName\": \"SAO\", \"instrumentType\": \"EQUITY\", \"firstTradeDate\": 1362661200, \"regularMarketTime\": 1624651860, \"gmtoffset\": -10800, \"timezone\": \"BRT\", \"exchangeTimezoneName\": \"America/Sao_Paulo\", \"regularMarketPrice\": 37.4, \"chartPreviousClose\": 37.4, \"priceHint\": 2, \"currentTradingPeriod\": {\"pre\": {\"timezone\": \"BRT\", \"end\": 1625490000, \"start\": 1625489100, \"gmtoffset\": -10800}, \"regular\": {\"timezone\": \"BRT\", \"end\": 1625515200, \"start\": 1625490000, \"gmtoffset\": -10800}, \"post\": {\"timezone\": \"BRT\", \"end\": 1625518800, \"start\": 1625515200, \"gmtoffset\": -10800}}, \"dataGranularity\": \"1d\", \"range\": \"\", \"validRanges\": [\"1d\", \"5d\", \"1mo\", \"3mo\", \"6mo\", \"1y\", \"2y\", \"5y\", \"10y\", \"ytd\", \"max\"]}, \"indicators\": {\"quote\": [{}], \"adjclose\": [{}]}}}\n",
      " 62%|██████▎   | 290/464 [05:09<02:49,  1.02it/s]Could not load data from TIET11.SA \n",
      "\n",
      "Error: {\"TIET11.SA\": \"No data found, symbol may be delisted\"}\n",
      " 63%|██████▎   | 291/464 [05:09<02:22,  1.22it/s]Could not load data from TIET3.SA \n",
      "\n",
      "Error: {\"TIET3.SA\": \"No data found, symbol may be delisted\"}\n",
      " 63%|██████▎   | 292/464 [05:10<02:19,  1.23it/s]Could not load data from TIET4.SA \n",
      "\n",
      "Error: {\"TIET4.SA\": \"No data found, symbol may be delisted\"}\n",
      " 86%|████████▌ | 399/464 [07:04<00:49,  1.33it/s]Could not load data from IDVL3.SA \n",
      "\n",
      "Error: {\"IDVL3.SA\": \"No data found, symbol may be delisted\"}\n",
      " 86%|████████▌ | 400/464 [07:04<00:43,  1.47it/s]Could not load data from IDVL4.SA \n",
      "\n",
      "Error: {\"IDVL4.SA\": \"No data found, symbol may be delisted\"}\n",
      "100%|██████████| 464/464 [08:07<00:00,  1.05s/it]\n",
      "  0%|          | 0/926 [00:00<?, ?it/s]Starting for asset b3_funds_history \n",
      "\n",
      "  1%|▏         | 13/926 [00:15<22:27,  1.48s/it]Could not load data from BLMO11.SA \n",
      "\n",
      "Error: {\"BLMO11.SA\": {\"meta\": {\"currency\": \"BRL\", \"symbol\": \"BLMO11.SA\", \"exchangeName\": \"SAO\", \"instrumentType\": \"EQUITY\", \"firstTradeDate\": null, \"regularMarketTime\": 1620407515, \"gmtoffset\": -10800, \"timezone\": \"BRT\", \"exchangeTimezoneName\": \"America/Sao_Paulo\", \"regularMarketPrice\": 26004.5, \"chartPreviousClose\": 26004.5, \"priceHint\": 2, \"currentTradingPeriod\": {\"pre\": {\"timezone\": \"BRT\", \"start\": 1625489100, \"end\": 1625490000, \"gmtoffset\": -10800}, \"regular\": {\"timezone\": \"BRT\", \"start\": 1625490000, \"end\": 1625515200, \"gmtoffset\": -10800}, \"post\": {\"timezone\": \"BRT\", \"start\": 1625515200, \"end\": 1625518800, \"gmtoffset\": -10800}}, \"dataGranularity\": \"1d\", \"range\": \"\", \"validRanges\": [\"1d\", \"5d\"]}, \"indicators\": {\"quote\": [{}], \"adjclose\": [{}]}}}\n",
      "  2%|▏         | 20/926 [00:20<10:44,  1.41it/s]Could not load data from BRIM11.SA \n",
      "\n",
      "Error: {\"BRIM11.SA\": {\"meta\": {\"currency\": \"BRL\", \"symbol\": \"BRIM11.SA\", \"exchangeName\": \"SAO\", \"instrumentType\": \"EQUITY\", \"firstTradeDate\": null, \"regularMarketTime\": 1623437100, \"gmtoffset\": -10800, \"timezone\": \"BRT\", \"exchangeTimezoneName\": \"America/Sao_Paulo\", \"regularMarketPrice\": 1200.01, \"chartPreviousClose\": 1200.01, \"priceHint\": 2, \"currentTradingPeriod\": {\"pre\": {\"timezone\": \"BRT\", \"start\": 1625489100, \"end\": 1625490000, \"gmtoffset\": -10800}, \"regular\": {\"timezone\": \"BRT\", \"start\": 1625490000, \"end\": 1625515200, \"gmtoffset\": -10800}, \"post\": {\"timezone\": \"BRT\", \"start\": 1625515200, \"end\": 1625518800, \"gmtoffset\": -10800}}, \"dataGranularity\": \"1d\", \"range\": \"\", \"validRanges\": [\"1d\", \"5d\"]}, \"indicators\": {\"quote\": [{}], \"adjclose\": [{}]}}}\n",
      "  2%|▏         | 21/926 [00:21<13:25,  1.12it/s]Could not load data from BRIP11.SA \n",
      "\n",
      "Error: {\"BRIP11.SA\": {\"meta\": {\"currency\": \"BRL\", \"symbol\": \"BRIP11.SA\", \"exchangeName\": \"SAO\", \"instrumentType\": \"EQUITY\", \"firstTradeDate\": null, \"regularMarketTime\": 1623959100, \"gmtoffset\": -10800, \"timezone\": \"BRT\", \"exchangeTimezoneName\": \"America/Sao_Paulo\", \"regularMarketPrice\": 1131.97, \"chartPreviousClose\": 1131.97, \"priceHint\": 2, \"currentTradingPeriod\": {\"pre\": {\"timezone\": \"BRT\", \"start\": 1625489100, \"end\": 1625490000, \"gmtoffset\": -10800}, \"regular\": {\"timezone\": \"BRT\", \"start\": 1625490000, \"end\": 1625515200, \"gmtoffset\": -10800}, \"post\": {\"timezone\": \"BRT\", \"start\": 1625515200, \"end\": 1625518800, \"gmtoffset\": -10800}}, \"dataGranularity\": \"1d\", \"range\": \"\", \"validRanges\": [\"1d\", \"5d\"]}, \"indicators\": {\"quote\": [{}], \"adjclose\": [{}]}}}\n",
      "  4%|▍         | 37/926 [00:40<17:18,  1.17s/it]Could not load data from KEVE11.SA \n",
      "\n",
      "Error: {\"KEVE11.SA\": {\"meta\": {\"currency\": \"BRL\", \"symbol\": \"KEVE11.SA\", \"exchangeName\": \"SAO\", \"instrumentType\": \"EQUITY\", \"firstTradeDate\": null, \"regularMarketTime\": 1624894879, \"gmtoffset\": -10800, \"timezone\": \"BRT\", \"exchangeTimezoneName\": \"America/Sao_Paulo\", \"regularMarketPrice\": 996.0, \"chartPreviousClose\": 996.0, \"priceHint\": 2, \"currentTradingPeriod\": {\"pre\": {\"timezone\": \"BRT\", \"start\": 1625489100, \"end\": 1625490000, \"gmtoffset\": -10800}, \"regular\": {\"timezone\": \"BRT\", \"start\": 1625490000, \"end\": 1625515200, \"gmtoffset\": -10800}, \"post\": {\"timezone\": \"BRT\", \"start\": 1625515200, \"end\": 1625518800, \"gmtoffset\": -10800}}, \"dataGranularity\": \"1d\", \"range\": \"\", \"validRanges\": [\"1d\", \"5d\"]}, \"indicators\": {\"quote\": [{}], \"adjclose\": [{}]}}}\n",
      " 16%|█▋        | 151/926 [02:45<11:52,  1.09it/s]Could not load data from HUSI11.SA \n",
      "\n",
      "Error: {\"HUSI11.SA\": {\"meta\": {\"currency\": \"BRL\", \"symbol\": \"HUSI11.SA\", \"exchangeName\": \"SAO\", \"instrumentType\": \"EQUITY\", \"firstTradeDate\": null, \"regularMarketTime\": 1617718992, \"gmtoffset\": -10800, \"timezone\": \"BRT\", \"exchangeTimezoneName\": \"America/Sao_Paulo\", \"regularMarketPrice\": 1040.0, \"chartPreviousClose\": 1040.0, \"priceHint\": 2, \"currentTradingPeriod\": {\"pre\": {\"timezone\": \"BRT\", \"start\": 1625489100, \"end\": 1625490000, \"gmtoffset\": -10800}, \"regular\": {\"timezone\": \"BRT\", \"start\": 1625490000, \"end\": 1625515200, \"gmtoffset\": -10800}, \"post\": {\"timezone\": \"BRT\", \"start\": 1625515200, \"end\": 1625518800, \"gmtoffset\": -10800}}, \"dataGranularity\": \"1d\", \"range\": \"\", \"validRanges\": [\"1d\", \"5d\"]}, \"indicators\": {\"quote\": [{}], \"adjclose\": [{}]}}}\n",
      " 23%|██▎       | 209/926 [03:46<12:15,  1.03s/it]Could not load data from REIT11.SA \n",
      "\n",
      "Error: {\"REIT11.SA\": {\"meta\": {\"currency\": \"BRL\", \"symbol\": \"REIT11.SA\", \"exchangeName\": \"SAO\", \"instrumentType\": \"EQUITY\", \"firstTradeDate\": 1476792000, \"regularMarketTime\": 1623333491, \"gmtoffset\": -10800, \"timezone\": \"BRT\", \"exchangeTimezoneName\": \"America/Sao_Paulo\", \"regularMarketPrice\": 1140.0, \"chartPreviousClose\": 778.268, \"priceHint\": 2, \"currentTradingPeriod\": {\"pre\": {\"timezone\": \"BRT\", \"start\": 1625489100, \"end\": 1625490000, \"gmtoffset\": -10800}, \"regular\": {\"timezone\": \"BRT\", \"start\": 1625490000, \"end\": 1625515200, \"gmtoffset\": -10800}, \"post\": {\"timezone\": \"BRT\", \"start\": 1625515200, \"end\": 1625518800, \"gmtoffset\": -10800}}, \"dataGranularity\": \"1d\", \"range\": \"\", \"validRanges\": [\"1d\", \"5d\", \"1mo\", \"3mo\", \"6mo\", \"1y\", \"2y\", \"5y\", \"ytd\", \"max\"]}, \"indicators\": {\"quote\": [{}], \"adjclose\": [{}]}}}\n",
      " 42%|████▏     | 389/926 [06:51<25:49,  2.89s/it]Could not load data from C1HL34.SA \n",
      "\n",
      "Error: {\"C1HL34.SA\": \"No data found, symbol may be delisted\"}\n",
      " 44%|████▎     | 405/926 [07:09<10:55,  1.26s/it]Could not load data from C1EO34.SA \n",
      "\n",
      "Error: {\"C1EO34.SA\": \"No data found, symbol may be delisted\"}\n",
      " 44%|████▍     | 410/926 [07:15<09:58,  1.16s/it]Could not load data from C1XO34.SA \n",
      "\n",
      "Error: {\"C1XO34.SA\": \"No data found, symbol may be delisted\"}\n",
      " 90%|█████████ | 838/926 [14:39<01:54,  1.30s/it]Could not load data from V1AR34.SA \n",
      "\n",
      "Error: {\"V1AR34.SA\": \"No data found, symbol may be delisted\"}\n",
      "100%|█████████▉| 924/926 [16:02<00:02,  1.09s/it]Could not load data from TIFF34.SA \n",
      "\n",
      "Error: {\"TIFF34.SA\": \"No data found, symbol may be delisted\"}\n",
      "100%|██████████| 926/926 [16:06<00:00,  1.04s/it]\n",
      "  0%|          | 0/169 [00:00<?, ?it/s]Starting for asset cripto_history \n",
      "\n",
      " 33%|███▎      | 56/169 [00:53<01:37,  1.16it/s]Could not load data from STRAT-USD \n",
      "\n",
      "Error: {\"STRAT-USD\": {\"meta\": {\"currency\": \"USD\", \"symbol\": \"STRAT-USD\", \"exchangeName\": \"CCC\", \"instrumentType\": \"CRYPTOCURRENCY\", \"firstTradeDate\": 1470956400, \"regularMarketTime\": 1605802024, \"gmtoffset\": 3600, \"timezone\": \"BST\", \"exchangeTimezoneName\": \"Europe/London\", \"regularMarketPrice\": 0.40935344, \"chartPreviousClose\": 0.49067706, \"priceHint\": 6, \"currentTradingPeriod\": {\"pre\": {\"timezone\": \"BST\", \"start\": 1625439600, \"end\": 1625439600, \"gmtoffset\": 3600}, \"regular\": {\"timezone\": \"BST\", \"start\": 1625439600, \"end\": 1625525940, \"gmtoffset\": 3600}, \"post\": {\"timezone\": \"BST\", \"start\": 1625525940, \"end\": 1625525940, \"gmtoffset\": 3600}}, \"dataGranularity\": \"1d\", \"range\": \"\", \"validRanges\": [\"1d\", \"5d\", \"1mo\", \"3mo\", \"6mo\", \"1y\", \"2y\", \"5y\", \"ytd\", \"max\"]}, \"indicators\": {\"quote\": [{}], \"adjclose\": [{}]}}}\n",
      " 51%|█████     | 86/169 [01:28<01:34,  1.14s/it]Could not load data from BTCD-USD \n",
      "\n",
      "Error: {\"BTCD-USD\": {\"meta\": {\"currency\": \"USD\", \"symbol\": \"BTCD-USD\", \"exchangeName\": \"CCC\", \"instrumentType\": \"CRYPTOCURRENCY\", \"firstTradeDate\": null, \"regularMarketTime\": 1571098237, \"gmtoffset\": 3600, \"timezone\": \"BST\", \"exchangeTimezoneName\": \"Europe/London\", \"regularMarketPrice\": 21.063925, \"chartPreviousClose\": 21.063673, \"priceHint\": 2, \"currentTradingPeriod\": {\"pre\": {\"timezone\": \"BST\", \"start\": 1625439600, \"end\": 1625439600, \"gmtoffset\": 3600}, \"regular\": {\"timezone\": \"BST\", \"start\": 1625439600, \"end\": 1625525940, \"gmtoffset\": 3600}, \"post\": {\"timezone\": \"BST\", \"start\": 1625525940, \"end\": 1625525940, \"gmtoffset\": 3600}}, \"dataGranularity\": \"1d\", \"range\": \"\", \"validRanges\": [\"1d\", \"5d\"]}, \"indicators\": {\"quote\": [{}], \"adjclose\": [{}]}}}\n",
      " 53%|█████▎    | 90/169 [01:31<01:06,  1.19it/s]Could not load data from CMP-USD \n",
      "\n",
      "Error: {\"CMP-USD\": {\"meta\": {\"currency\": \"USD\", \"symbol\": \"CMP-USD\", \"exchangeName\": \"CCC\", \"instrumentType\": \"CRYPTOCURRENCY\", \"firstTradeDate\": 1506726000, \"regularMarketTime\": 1508364928, \"gmtoffset\": 3600, \"timezone\": \"BST\", \"exchangeTimezoneName\": \"Europe/London\", \"regularMarketPrice\": 5.82666, \"chartPreviousClose\": 5.56612, \"priceHint\": 2, \"currentTradingPeriod\": {\"pre\": {\"timezone\": \"BST\", \"start\": 1625439600, \"end\": 1625439600, \"gmtoffset\": 3600}, \"regular\": {\"timezone\": \"BST\", \"start\": 1625439600, \"end\": 1625525940, \"gmtoffset\": 3600}, \"post\": {\"timezone\": \"BST\", \"start\": 1625525940, \"end\": 1625525940, \"gmtoffset\": 3600}}, \"dataGranularity\": \"1d\", \"range\": \"\", \"validRanges\": [\"1d\", \"5d\", \"1mo\", \"3mo\", \"6mo\", \"1y\", \"2y\", \"5y\", \"ytd\", \"max\"]}, \"indicators\": {\"quote\": [{}], \"adjclose\": [{}]}}}\n",
      " 54%|█████▍    | 91/169 [01:32<01:21,  1.04s/it]Could not load data from CNX-USD \n",
      "\n",
      "Error: {\"CNX-USD\": {\"meta\": {\"currency\": \"USD\", \"symbol\": \"CNX-USD\", \"exchangeName\": \"CCC\", \"instrumentType\": \"CRYPTOCURRENCY\", \"firstTradeDate\": 1507330800, \"regularMarketTime\": 1612321116, \"gmtoffset\": 3600, \"timezone\": \"BST\", \"exchangeTimezoneName\": \"Europe/London\", \"regularMarketPrice\": 1.402785, \"chartPreviousClose\": 1.0379832, \"priceHint\": 6, \"currentTradingPeriod\": {\"pre\": {\"timezone\": \"BST\", \"start\": 1625439600, \"end\": 1625439600, \"gmtoffset\": 3600}, \"regular\": {\"timezone\": \"BST\", \"start\": 1625439600, \"end\": 1625525940, \"gmtoffset\": 3600}, \"post\": {\"timezone\": \"BST\", \"start\": 1625525940, \"end\": 1625525940, \"gmtoffset\": 3600}}, \"dataGranularity\": \"1d\", \"range\": \"\", \"validRanges\": [\"1d\", \"5d\", \"1mo\", \"3mo\", \"6mo\", \"1y\", \"2y\", \"5y\", \"ytd\", \"max\"]}, \"indicators\": {\"quote\": [{}], \"adjclose\": [{}]}}}\n",
      " 59%|█████▉    | 100/169 [01:41<01:04,  1.07it/s]Could not load data from ETHOS-USD \n",
      "\n",
      "Error: {\"ETHOS-USD\": {\"meta\": {\"currency\": \"USD\", \"symbol\": \"ETHOS-USD\", \"exchangeName\": \"CCC\", \"instrumentType\": \"CRYPTOCURRENCY\", \"firstTradeDate\": 1500332400, \"regularMarketTime\": 1575943683, \"gmtoffset\": 3600, \"timezone\": \"BST\", \"exchangeTimezoneName\": \"Europe/London\", \"regularMarketPrice\": 0.024665372, \"chartPreviousClose\": 0.026345499, \"priceHint\": 6, \"currentTradingPeriod\": {\"pre\": {\"timezone\": \"BST\", \"start\": 1625439600, \"end\": 1625439600, \"gmtoffset\": 3600}, \"regular\": {\"timezone\": \"BST\", \"start\": 1625439600, \"end\": 1625525940, \"gmtoffset\": 3600}, \"post\": {\"timezone\": \"BST\", \"start\": 1625525940, \"end\": 1625525940, \"gmtoffset\": 3600}}, \"dataGranularity\": \"1d\", \"range\": \"\", \"validRanges\": [\"1d\", \"5d\", \"1mo\", \"3mo\", \"6mo\", \"1y\", \"2y\", \"5y\", \"ytd\", \"max\"]}, \"indicators\": {\"quote\": [{}], \"adjclose\": [{}]}}}\n",
      " 64%|██████▍   | 109/169 [01:51<01:25,  1.42s/it]Could not load data from GNT-USD \n",
      "\n",
      "Error: {\"GNT-USD\": {\"meta\": {\"currency\": \"USD\", \"symbol\": \"GNT-USD\", \"exchangeName\": \"CCC\", \"instrumentType\": \"CRYPTOCURRENCY\", \"firstTradeDate\": 1479427200, \"regularMarketTime\": 1610174644, \"gmtoffset\": 3600, \"timezone\": \"BST\", \"exchangeTimezoneName\": \"Europe/London\", \"regularMarketPrice\": 0.11886407, \"chartPreviousClose\": 0.12335934, \"priceHint\": 6, \"currentTradingPeriod\": {\"pre\": {\"timezone\": \"BST\", \"start\": 1625439600, \"end\": 1625439600, \"gmtoffset\": 3600}, \"regular\": {\"timezone\": \"BST\", \"start\": 1625439600, \"end\": 1625525940, \"gmtoffset\": 3600}, \"post\": {\"timezone\": \"BST\", \"start\": 1625525940, \"end\": 1625525940, \"gmtoffset\": 3600}}, \"dataGranularity\": \"1d\", \"range\": \"\", \"validRanges\": [\"1d\", \"5d\", \"1mo\", \"3mo\", \"6mo\", \"1y\", \"2y\", \"5y\", \"ytd\", \"max\"]}, \"indicators\": {\"quote\": [{}], \"adjclose\": [{}]}}}\n",
      " 66%|██████▋   | 112/169 [01:53<00:49,  1.16it/s]Could not load data from ICN-USD \n",
      "\n",
      "Error: {\"ICN-USD\": {\"meta\": {\"currency\": \"USD\", \"symbol\": \"ICN-USD\", \"exchangeName\": \"CCC\", \"instrumentType\": \"CRYPTOCURRENCY\", \"firstTradeDate\": null, \"regularMarketTime\": 1571098237, \"gmtoffset\": 3600, \"timezone\": \"BST\", \"exchangeTimezoneName\": \"Europe/London\", \"regularMarketPrice\": 0.18497795, \"chartPreviousClose\": 0.18497795, \"priceHint\": 6, \"currentTradingPeriod\": {\"pre\": {\"timezone\": \"BST\", \"start\": 1625439600, \"end\": 1625439600, \"gmtoffset\": 3600}, \"regular\": {\"timezone\": \"BST\", \"start\": 1625439600, \"end\": 1625525940, \"gmtoffset\": 3600}, \"post\": {\"timezone\": \"BST\", \"start\": 1625525940, \"end\": 1625525940, \"gmtoffset\": 3600}}, \"dataGranularity\": \"1d\", \"range\": \"\", \"validRanges\": [\"1d\", \"5d\"]}, \"indicators\": {\"quote\": [{}], \"adjclose\": [{}]}}}\n",
      " 70%|██████▉   | 118/169 [02:01<00:53,  1.05s/it]Could not load data from MCAP-USD \n",
      "\n",
      "Error: {\"MCAP-USD\": {\"meta\": {\"currency\": \"USD\", \"symbol\": \"MCAP-USD\", \"exchangeName\": \"CCC\", \"instrumentType\": \"CRYPTOCURRENCY\", \"firstTradeDate\": null, \"regularMarketTime\": 1555542844, \"gmtoffset\": 3600, \"timezone\": \"BST\", \"exchangeTimezoneName\": \"Europe/London\", \"regularMarketPrice\": 0.005, \"chartPreviousClose\": 0.0, \"priceHint\": 6, \"currentTradingPeriod\": {\"pre\": {\"timezone\": \"BST\", \"start\": 1625439600, \"end\": 1625439600, \"gmtoffset\": 3600}, \"regular\": {\"timezone\": \"BST\", \"start\": 1625439600, \"end\": 1625525940, \"gmtoffset\": 3600}, \"post\": {\"timezone\": \"BST\", \"start\": 1625525940, \"end\": 1625525940, \"gmtoffset\": 3600}}, \"dataGranularity\": \"1d\", \"range\": \"\", \"validRanges\": [\"1d\", \"5d\"]}, \"indicators\": {\"quote\": [{}], \"adjclose\": [{}]}}}\n",
      " 76%|███████▌  | 128/169 [02:09<00:31,  1.32it/s]Could not load data from NXC-USD \n",
      "\n",
      "Error: {\"NXC-USD\": {\"meta\": {\"currency\": \"USD\", \"symbol\": \"NXC-USD\", \"exchangeName\": \"CCC\", \"instrumentType\": \"CRYPTOCURRENCY\", \"firstTradeDate\": 1506726000, \"regularMarketTime\": 1508364928, \"gmtoffset\": 3600, \"timezone\": \"BST\", \"exchangeTimezoneName\": \"Europe/London\", \"regularMarketPrice\": 0.2143063, \"chartPreviousClose\": 0.22331272, \"priceHint\": 6, \"currentTradingPeriod\": {\"pre\": {\"timezone\": \"BST\", \"start\": 1625439600, \"end\": 1625439600, \"gmtoffset\": 3600}, \"regular\": {\"timezone\": \"BST\", \"start\": 1625439600, \"end\": 1625525940, \"gmtoffset\": 3600}, \"post\": {\"timezone\": \"BST\", \"start\": 1625525940, \"end\": 1625525940, \"gmtoffset\": 3600}}, \"dataGranularity\": \"1d\", \"range\": \"\", \"validRanges\": [\"1d\", \"5d\", \"1mo\", \"3mo\", \"6mo\", \"1y\", \"2y\", \"5y\", \"ytd\", \"max\"]}, \"indicators\": {\"quote\": [{}], \"adjclose\": [{}]}}}\n",
      " 80%|████████  | 136/169 [02:23<00:57,  1.74s/it]Could not load data from RADS-USD \n",
      "\n",
      "Error: {\"RADS-USD\": {\"meta\": {\"currency\": \"USD\", \"symbol\": \"RADS-USD\", \"exchangeName\": \"CCC\", \"instrumentType\": \"CRYPTOCURRENCY\", \"firstTradeDate\": 1453075200, \"regularMarketTime\": 1608792903, \"gmtoffset\": 3600, \"timezone\": \"BST\", \"exchangeTimezoneName\": \"Europe/London\", \"regularMarketPrice\": 0.6955333, \"chartPreviousClose\": 0.7542482, \"priceHint\": 6, \"currentTradingPeriod\": {\"pre\": {\"timezone\": \"BST\", \"start\": 1625439600, \"end\": 1625439600, \"gmtoffset\": 3600}, \"regular\": {\"timezone\": \"BST\", \"start\": 1625439600, \"end\": 1625525940, \"gmtoffset\": 3600}, \"post\": {\"timezone\": \"BST\", \"start\": 1625525940, \"end\": 1625525940, \"gmtoffset\": 3600}}, \"dataGranularity\": \"1d\", \"range\": \"\", \"validRanges\": [\"1d\", \"5d\", \"1mo\", \"3mo\", \"6mo\", \"1y\", \"2y\", \"5y\", \"10y\", \"ytd\", \"max\"]}, \"indicators\": {\"quote\": [{}], \"adjclose\": [{}]}}}\n",
      " 88%|████████▊ | 148/169 [02:34<00:18,  1.13it/s]Could not load data from TAAS-USD \n",
      "\n",
      "Error: {\"TAAS-USD\": {\"meta\": {\"currency\": \"USD\", \"symbol\": \"TAAS-USD\", \"exchangeName\": \"CCC\", \"instrumentType\": \"CRYPTOCURRENCY\", \"firstTradeDate\": 1490828400, \"regularMarketTime\": 1612321116, \"gmtoffset\": 3600, \"timezone\": \"BST\", \"exchangeTimezoneName\": \"Europe/London\", \"regularMarketPrice\": 0.8373087, \"chartPreviousClose\": 0.013007965, \"priceHint\": 6, \"currentTradingPeriod\": {\"pre\": {\"timezone\": \"BST\", \"end\": 1625439600, \"start\": 1625439600, \"gmtoffset\": 3600}, \"regular\": {\"timezone\": \"BST\", \"end\": 1625525940, \"start\": 1625439600, \"gmtoffset\": 3600}, \"post\": {\"timezone\": \"BST\", \"end\": 1625525940, \"start\": 1625525940, \"gmtoffset\": 3600}}, \"dataGranularity\": \"1d\", \"range\": \"\", \"validRanges\": [\"1d\", \"5d\", \"1mo\", \"3mo\", \"6mo\", \"1y\", \"2y\", \"5y\", \"ytd\", \"max\"]}, \"indicators\": {\"quote\": [{}], \"adjclose\": [{}]}}}\n",
      " 88%|████████▊ | 149/169 [02:35<00:16,  1.20it/s]Could not load data from TRIG-USD \n",
      "\n",
      "Error: {\"TRIG-USD\": {\"meta\": {\"currency\": \"USD\", \"symbol\": \"TRIG-USD\", \"exchangeName\": \"CCC\", \"instrumentType\": \"CRYPTOCURRENCY\", \"firstTradeDate\": 1473289200, \"regularMarketTime\": 1508364928, \"gmtoffset\": 3600, \"timezone\": \"BST\", \"exchangeTimezoneName\": \"Europe/London\", \"regularMarketPrice\": 0.6974335, \"chartPreviousClose\": 0.56217813, \"priceHint\": 6, \"currentTradingPeriod\": {\"pre\": {\"timezone\": \"BST\", \"start\": 1625439600, \"end\": 1625439600, \"gmtoffset\": 3600}, \"regular\": {\"timezone\": \"BST\", \"start\": 1625439600, \"end\": 1625525940, \"gmtoffset\": 3600}, \"post\": {\"timezone\": \"BST\", \"start\": 1625525940, \"end\": 1625525940, \"gmtoffset\": 3600}}, \"dataGranularity\": \"1d\", \"range\": \"\", \"validRanges\": [\"1d\", \"5d\", \"1mo\", \"3mo\", \"6mo\", \"1y\", \"2y\", \"5y\", \"ytd\", \"max\"]}, \"indicators\": {\"quote\": [{}], \"adjclose\": [{}]}}}\n",
      " 98%|█████████▊| 165/169 [02:48<00:04,  1.01s/it]Could not load data from XZC-USD \n",
      "\n",
      "Error: {\"XZC-USD\": {\"meta\": {\"currency\": \"USD\", \"symbol\": \"XZC-USD\", \"exchangeName\": \"CCC\", \"instrumentType\": \"CRYPTOCURRENCY\", \"firstTradeDate\": 1475708400, \"regularMarketTime\": 1610433844, \"gmtoffset\": 3600, \"timezone\": \"BST\", \"exchangeTimezoneName\": \"Europe/London\", \"regularMarketPrice\": 4.257732, \"chartPreviousClose\": 4.1975513, \"priceHint\": 6, \"currentTradingPeriod\": {\"pre\": {\"timezone\": \"BST\", \"start\": 1625439600, \"end\": 1625439600, \"gmtoffset\": 3600}, \"regular\": {\"timezone\": \"BST\", \"start\": 1625439600, \"end\": 1625525940, \"gmtoffset\": 3600}, \"post\": {\"timezone\": \"BST\", \"start\": 1625525940, \"end\": 1625525940, \"gmtoffset\": 3600}}, \"dataGranularity\": \"1d\", \"range\": \"\", \"validRanges\": [\"1d\", \"5d\", \"1mo\", \"3mo\", \"6mo\", \"1y\", \"2y\", \"5y\", \"ytd\", \"max\"]}, \"indicators\": {\"quote\": [{}], \"adjclose\": [{}]}}}\n",
      "100%|██████████| 169/169 [02:51<00:00,  1.01s/it]\n",
      "  0%|          | 0/2 [00:00<?, ?it/s]Starting for asset funds_history \n",
      "\n",
      "100%|██████████| 2/2 [00:06<00:00,  3.07s/it]\n",
      "c:\\Users\\AniltonCardoso\\Desktop\\Code\\investing\\Extractors\\DailyExtractor.py:91: DtypeWarning: Columns (14,17,18,20,22,24,27,37,38) have mixed types.Specify dtype option on import or set low_memory=False.\n",
      "  data = self.__extract_funds_history(date)\n",
      "Starting for asset KPIs_history \n",
      "\n",
      "100%|██████████| 2/2 [00:01<00:00,  1.07it/s]\n"
     ]
    }
   ],
   "source": [
    "extractor.run(baseline_date = date, max_date = max_date)"
   ]
  }
 ]
}