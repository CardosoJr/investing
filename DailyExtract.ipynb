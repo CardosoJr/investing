{
 "metadata": {
  "language_info": {
   "codemirror_mode": {
    "name": "ipython",
    "version": 3
   },
   "file_extension": ".py",
   "mimetype": "text/x-python",
   "name": "python",
   "nbconvert_exporter": "python",
   "pygments_lexer": "ipython3",
   "version": "3.8.5-final"
  },
  "orig_nbformat": 2,
  "kernelspec": {
   "name": "python3",
   "display_name": "Python 3",
   "language": "python"
  }
 },
 "nbformat": 4,
 "nbformat_minor": 2,
 "cells": [
  {
   "source": [
    "# Daily Extract \n",
    "\n",
    "Run this notebook daily to update intraday quotes for all investment assets"
   ],
   "cell_type": "markdown",
   "metadata": {}
  },
  {
   "cell_type": "code",
   "execution_count": 1,
   "metadata": {},
   "outputs": [],
   "source": [
    "import Extractors.DailyExtractor as daily\n",
    "from pathlib import Path\n",
    "import pandas as pd \n",
    "from datetime import datetime\n",
    "\n",
    "data_path = \"./DATA\"\n",
    "path = Path(data_path)"
   ]
  },
  {
   "source": [
    "### Parameters\n",
    "\n",
    "Define parameters here"
   ],
   "cell_type": "markdown",
   "metadata": {}
  },
  {
   "cell_type": "code",
   "execution_count": 2,
   "metadata": {},
   "outputs": [],
   "source": [
    "date = \"2021-02-26\" # If None will consider today \n",
    "assets = [\"b3\", \"b3_funds\", \"cripto\", \"funds\", \"b3_history\", \"b3_funds_history\", \"cripto_history\", \"funds_history\", \"KPIs_history\"]\n",
    "interval = \"1m\""
   ]
  },
  {
   "cell_type": "code",
   "execution_count": 3,
   "metadata": {},
   "outputs": [],
   "source": [
    "if date is None: \n",
    "    date = datetime.now()\n",
    "else:\n",
    "    date = datetime.strptime(date, \"%Y-%m-%d\")\n",
    "\n",
    "extractor = daily.DailyExtractor(data_path, assets = assets, interval = interval)"
   ]
  },
  {
   "cell_type": "code",
   "execution_count": 4,
   "metadata": {
    "tags": []
   },
   "outputs": [
    {
     "output_type": "stream",
     "name": "stderr",
     "text": [
      "  0%|          | 0/10 [00:00<?, ?it/s]Extracting Intraday data \n",
      "\n",
      "Starting for asset b3 \n",
      "\n",
      "100%|██████████| 10/10 [00:12<00:00,  1.24s/it]\n",
      "  0%|          | 0/10 [00:00<?, ?it/s]Starting for asset b3_funds \n",
      "\n",
      "100%|██████████| 10/10 [00:12<00:00,  1.21s/it]\n",
      "  0%|          | 0/10 [00:00<?, ?it/s]Starting for asset cripto \n",
      "\n",
      "100%|██████████| 10/10 [00:22<00:00,  2.27s/it]\n",
      "  0%|          | 0/10 [00:00<?, ?it/s]Starting for asset funds \n",
      "\n",
      "Starting for asset b3_history \n",
      "\n",
      "100%|██████████| 10/10 [00:12<00:00,  1.26s/it]\n",
      "  0%|          | 0/10 [00:00<?, ?it/s]Starting for asset b3_funds_history \n",
      "\n",
      "100%|██████████| 10/10 [00:08<00:00,  1.18it/s]\n",
      "  0%|          | 0/10 [00:00<?, ?it/s]Starting for asset cripto_history \n",
      "\n",
      "100%|██████████| 10/10 [00:16<00:00,  1.69s/it]\n",
      "  0%|          | 0/1 [00:00<?, ?it/s]Starting for asset funds_history \n",
      "\n",
      "100%|██████████| 1/1 [00:02<00:00,  2.63s/it]\n",
      "Starting for asset KPIs_history \n",
      "\n",
      "100%|██████████| 2/2 [00:03<00:00,  1.59s/it]\n"
     ]
    }
   ],
   "source": [
    "extractor.run(baseline_date = date)"
   ]
  }
 ]
}