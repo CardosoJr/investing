{
 "metadata": {
  "language_info": {
   "codemirror_mode": {
    "name": "ipython",
    "version": 3
   },
   "file_extension": ".py",
   "mimetype": "text/x-python",
   "name": "python",
   "nbconvert_exporter": "python",
   "pygments_lexer": "ipython3",
   "version": "3.8.5-final"
  },
  "orig_nbformat": 2,
  "kernelspec": {
   "name": "python3",
   "display_name": "Python 3",
   "language": "python"
  }
 },
 "nbformat": 4,
 "nbformat_minor": 2,
 "cells": [
  {
   "source": [
    "# Build Initial Dataset \n",
    "\n",
    "Example of how to build the initial investing dataset\n",
    "\n",
    "\n",
    "### 1. First Build Fundamentus data"
   ],
   "cell_type": "markdown",
   "metadata": {}
  },
  {
   "cell_type": "code",
   "execution_count": 1,
   "metadata": {},
   "outputs": [],
   "source": [
    "import Extractors.Extract as methods\n",
    "data_path = \"./DATA\""
   ]
  },
  {
   "cell_type": "code",
   "execution_count": 3,
   "metadata": {
    "tags": []
   },
   "outputs": [],
   "source": [
    "methods.build_fundamentos(data_path)"
   ]
  },
  {
   "cell_type": "code",
   "execution_count": 2,
   "metadata": {},
   "outputs": [],
   "source": [
    "from pathlib import Path\n",
    "import pandas as pd \n",
    "\n",
    "fundamentos = pd.read_csv(Path(data_path) / \"fundamentos.csv\")"
   ]
  },
  {
   "cell_type": "code",
   "execution_count": 3,
   "metadata": {},
   "outputs": [],
   "source": [
    "assets = methods.build_full_assets(data_path, fundamentos)"
   ]
  },
  {
   "cell_type": "code",
   "execution_count": 4,
   "metadata": {},
   "outputs": [],
   "source": [
    "grouping = assets.groupby('Codigo')['P/L'].sum().reset_index()\n",
    "not_found_codes = grouping[grouping['P/L'] == 0]['Codigo']"
   ]
  },
  {
   "cell_type": "code",
   "execution_count": 5,
   "metadata": {},
   "outputs": [],
   "source": [
    "teste = methods.get_fundamentos_simple()\n",
    "teste['Codigo'] = teste.index.str[:4]\n",
    "not_found_tickers = teste[teste['Codigo'].isin(not_found_codes)].index\n",
    "not_found_codes = [x for x in not_found_codes if x not in teste['Codigo'].ravel()]"
   ]
  },
  {
   "cell_type": "code",
   "execution_count": 6,
   "metadata": {},
   "outputs": [
    {
     "output_type": "stream",
     "name": "stderr",
     "text": [
      "  0%|          | 0/70 [00:00<?, ?it/s]Building Fundamentus data\n",
      "\n",
      "  1%|▏         | 1/70 [00:04<04:37,  4.02s/it]\n",
      "error in trying to get data from ticker NTCO3\n",
      "  4%|▍         | 3/70 [00:27<09:50,  8.82s/it]\n",
      "error in trying to get data from ticker CEAB3\n",
      "  9%|▊         | 6/70 [00:58<09:30,  8.92s/it]\n",
      "error in trying to get data from ticker COGN3\n",
      " 16%|█▌        | 11/70 [01:28<05:40,  5.78s/it]\n",
      "error in trying to get data from ticker GPIV33\n",
      " 17%|█▋        | 12/70 [01:32<05:02,  5.22s/it]\n",
      "error in trying to get data from ticker ATMP3\n",
      " 21%|██▏       | 15/70 [01:45<04:04,  4.45s/it]\n",
      "error in trying to get data from ticker AVLL3\n",
      " 23%|██▎       | 16/70 [01:48<03:49,  4.25s/it]\n",
      "error in trying to get data from ticker CASH3\n",
      " 24%|██▍       | 17/70 [01:52<03:34,  4.05s/it]\n",
      "error in trying to get data from ticker CURY3\n",
      " 26%|██▌       | 18/70 [01:56<03:29,  4.02s/it]\n",
      "error in trying to get data from ticker DMVF3\n",
      " 27%|██▋       | 19/70 [02:00<03:21,  3.95s/it]\n",
      "error in trying to get data from ticker ENJU3\n",
      " 29%|██▊       | 20/70 [02:04<03:17,  3.94s/it]\n",
      "error in trying to get data from ticker ESPA3\n",
      " 30%|███       | 21/70 [02:08<03:13,  3.96s/it]\n",
      "error in trying to get data from ticker GMAT3\n",
      " 31%|███▏      | 22/70 [02:12<03:17,  4.11s/it]\n",
      "error in trying to get data from ticker HBRE3\n",
      " 36%|███▌      | 25/70 [02:35<04:37,  6.16s/it]\n",
      "error in trying to get data from ticker INTB3\n",
      " 39%|███▊      | 27/70 [02:53<05:04,  7.09s/it]\n",
      "error in trying to get data from ticker JALL3\n",
      " 40%|████      | 28/70 [02:57<04:14,  6.05s/it]\n",
      "error in trying to get data from ticker LAVV3\n",
      " 41%|████▏     | 29/70 [03:00<03:41,  5.40s/it]\n",
      "error in trying to get data from ticker LJQQ3\n",
      " 43%|████▎     | 30/70 [03:04<03:17,  4.93s/it]\n",
      "error in trying to get data from ticker MBLY3\n",
      " 44%|████▍     | 31/70 [03:08<03:00,  4.63s/it]\n",
      "error in trying to get data from ticker MELK3\n",
      " 46%|████▌     | 32/70 [03:12<02:47,  4.41s/it]\n",
      "error in trying to get data from ticker MOSI3\n",
      " 47%|████▋     | 33/70 [03:16<02:37,  4.26s/it]\n",
      "error in trying to get data from ticker NGRD3\n",
      " 49%|████▊     | 34/70 [03:20<02:29,  4.16s/it]\n",
      "error in trying to get data from ticker PETZ3\n",
      " 50%|█████     | 35/70 [03:24<02:22,  4.08s/it]\n",
      "error in trying to get data from ticker PLPL3\n",
      " 51%|█████▏    | 36/70 [03:28<02:17,  4.03s/it]\n",
      "error in trying to get data from ticker POWE3\n",
      " 53%|█████▎    | 37/70 [03:32<02:11,  3.98s/it]\n",
      "error in trying to get data from ticker RRRP3\n",
      " 54%|█████▍    | 38/70 [03:36<02:07,  3.99s/it]\n",
      "error in trying to get data from ticker SEQL3\n",
      " 56%|█████▌    | 39/70 [03:39<02:02,  3.96s/it]\n",
      "error in trying to get data from ticker SIMH3\n",
      " 57%|█████▋    | 40/70 [03:43<01:54,  3.82s/it]\n",
      "error in trying to get data from ticker SOMA3\n",
      " 59%|█████▊    | 41/70 [03:47<01:50,  3.81s/it]\n",
      "error in trying to get data from ticker TFCO4\n",
      " 63%|██████▎   | 44/70 [04:07<02:16,  5.24s/it]\n",
      "error in trying to get data from ticker ENAT3\n",
      " 64%|██████▍   | 45/70 [04:11<01:58,  4.74s/it]\n",
      "error in trying to get data from ticker EQMA3B\n",
      " 67%|██████▋   | 47/70 [04:20<01:43,  4.51s/it]\n",
      "error in trying to get data from ticker EQPA3\n",
      " 73%|███████▎  | 51/70 [04:52<02:05,  6.63s/it]\n",
      "error in trying to get data from ticker EQPA5\n",
      " 74%|███████▍  | 52/70 [04:56<01:45,  5.83s/it]\n",
      "error in trying to get data from ticker EQPA7\n",
      " 76%|███████▌  | 53/70 [05:00<01:28,  5.22s/it]\n",
      "error in trying to get data from ticker TIMS3\n",
      " 77%|███████▋  | 54/70 [05:04<01:16,  4.78s/it]\n",
      "error in trying to get data from ticker PDTC3\n",
      " 79%|███████▊  | 55/70 [05:08<01:07,  4.53s/it]\n",
      "error in trying to get data from ticker ALSO3\n",
      " 80%|████████  | 56/70 [05:11<00:59,  4.24s/it]\n",
      "error in trying to get data from ticker B3SA3\n",
      " 81%|████████▏ | 57/70 [05:16<00:56,  4.31s/it]\n",
      "error in trying to get data from ticker WSON33\n",
      " 84%|████████▍ | 59/70 [05:26<00:51,  4.65s/it]\n",
      "error in trying to get data from ticker YDUQ3\n",
      " 87%|████████▋ | 61/70 [05:35<00:39,  4.44s/it]\n",
      "error in trying to get data from ticker VAMO3\n",
      " 89%|████████▊ | 62/70 [05:39<00:34,  4.28s/it]\n",
      "error in trying to get data from ticker MTRE3\n",
      " 91%|█████████▏| 64/70 [05:49<00:27,  4.52s/it]\n",
      "error in trying to get data from ticker AERI3\n",
      " 93%|█████████▎| 65/70 [05:53<00:21,  4.32s/it]\n",
      "error in trying to get data from ticker BOAS3\n",
      " 94%|█████████▍| 66/70 [05:56<00:16,  4.13s/it]\n",
      "error in trying to get data from ticker TASA3\n",
      " 96%|█████████▌| 67/70 [06:00<00:12,  4.05s/it]\n",
      "error in trying to get data from ticker TASA4\n",
      " 97%|█████████▋| 68/70 [06:04<00:08,  4.03s/it]\n",
      "error in trying to get data from ticker RDOR3\n",
      " 99%|█████████▊| 69/70 [06:08<00:03,  3.96s/it]\n",
      "error in trying to get data from ticker SQIA3\n",
      "100%|██████████| 70/70 [06:13<00:00,  5.33s/it]\n"
     ]
    },
    {
     "output_type": "error",
     "ename": "TypeError",
     "evalue": "Can only merge Series or DataFrame objects, a <class 'pandas.core.indexes.base.Index'> was passed",
     "traceback": [
      "\u001b[1;31m---------------------------------------------------------------------------\u001b[0m",
      "\u001b[1;31mTypeError\u001b[0m                                 Traceback (most recent call last)",
      "\u001b[1;32m<ipython-input-6-b14b056edc5f>\u001b[0m in \u001b[0;36m<module>\u001b[1;34m\u001b[0m\n\u001b[1;32m----> 1\u001b[1;33m \u001b[0mnew_fundamentos\u001b[0m \u001b[1;33m=\u001b[0m \u001b[0mmethods\u001b[0m\u001b[1;33m.\u001b[0m\u001b[0mbuild_fundamentos_tickers\u001b[0m\u001b[1;33m(\u001b[0m\u001b[0mdata_path\u001b[0m\u001b[1;33m,\u001b[0m \u001b[0mnot_found_tickers\u001b[0m\u001b[1;33m)\u001b[0m\u001b[1;33m\u001b[0m\u001b[1;33m\u001b[0m\u001b[0m\n\u001b[0m",
      "\u001b[1;32mc:\\Users\\BITKA\\Desktop\\Code\\investing\\Extractors\\Extract.py\u001b[0m in \u001b[0;36mbuild_fundamentos_tickers\u001b[1;34m(path_dir, tickers)\u001b[0m\n\u001b[0;32m     45\u001b[0m \u001b[1;33m\u001b[0m\u001b[0m\n\u001b[0;32m     46\u001b[0m \u001b[1;33m\u001b[0m\u001b[0m\n\u001b[1;32m---> 47\u001b[1;33m     \u001b[0mfundamentos\u001b[0m \u001b[1;33m=\u001b[0m \u001b[0mpd\u001b[0m\u001b[1;33m.\u001b[0m\u001b[0mmerge\u001b[0m\u001b[1;33m(\u001b[0m\u001b[0mright\u001b[0m \u001b[1;33m=\u001b[0m \u001b[0mtickers\u001b[0m\u001b[1;33m,\u001b[0m \u001b[0mleft\u001b[0m \u001b[1;33m=\u001b[0m \u001b[0mfundamentos\u001b[0m\u001b[1;33m,\u001b[0m \u001b[0mon\u001b[0m \u001b[1;33m=\u001b[0m \u001b[1;34m\"Ticker\"\u001b[0m\u001b[1;33m,\u001b[0m \u001b[0mhow\u001b[0m \u001b[1;33m=\u001b[0m \u001b[1;34m'left'\u001b[0m\u001b[1;33m)\u001b[0m\u001b[1;33m\u001b[0m\u001b[1;33m\u001b[0m\u001b[0m\n\u001b[0m\u001b[0;32m     48\u001b[0m     \u001b[0mfundamentos\u001b[0m\u001b[1;33m.\u001b[0m\u001b[0mto_csv\u001b[0m\u001b[1;33m(\u001b[0m\u001b[0mpath\u001b[0m \u001b[1;33m/\u001b[0m \u001b[1;34m\"fundamentos.csv\"\u001b[0m\u001b[1;33m,\u001b[0m \u001b[0mindex\u001b[0m \u001b[1;33m=\u001b[0m \u001b[1;32mFalse\u001b[0m\u001b[1;33m)\u001b[0m\u001b[1;33m\u001b[0m\u001b[1;33m\u001b[0m\u001b[0m\n\u001b[0;32m     49\u001b[0m \u001b[1;33m\u001b[0m\u001b[0m\n",
      "\u001b[1;32mC:\\ProgramData\\Anaconda3\\lib\\site-packages\\pandas\\core\\reshape\\merge.py\u001b[0m in \u001b[0;36mmerge\u001b[1;34m(left, right, how, on, left_on, right_on, left_index, right_index, sort, suffixes, copy, indicator, validate)\u001b[0m\n\u001b[0;32m     72\u001b[0m     \u001b[0mvalidate\u001b[0m\u001b[1;33m=\u001b[0m\u001b[1;32mNone\u001b[0m\u001b[1;33m,\u001b[0m\u001b[1;33m\u001b[0m\u001b[1;33m\u001b[0m\u001b[0m\n\u001b[0;32m     73\u001b[0m ) -> \"DataFrame\":\n\u001b[1;32m---> 74\u001b[1;33m     op = _MergeOperation(\n\u001b[0m\u001b[0;32m     75\u001b[0m         \u001b[0mleft\u001b[0m\u001b[1;33m,\u001b[0m\u001b[1;33m\u001b[0m\u001b[1;33m\u001b[0m\u001b[0m\n\u001b[0;32m     76\u001b[0m         \u001b[0mright\u001b[0m\u001b[1;33m,\u001b[0m\u001b[1;33m\u001b[0m\u001b[1;33m\u001b[0m\u001b[0m\n",
      "\u001b[1;32mC:\\ProgramData\\Anaconda3\\lib\\site-packages\\pandas\\core\\reshape\\merge.py\u001b[0m in \u001b[0;36m__init__\u001b[1;34m(self, left, right, how, on, left_on, right_on, axis, left_index, right_index, sort, suffixes, copy, indicator, validate)\u001b[0m\n\u001b[0;32m    592\u001b[0m     ):\n\u001b[0;32m    593\u001b[0m         \u001b[0m_left\u001b[0m \u001b[1;33m=\u001b[0m \u001b[0m_validate_operand\u001b[0m\u001b[1;33m(\u001b[0m\u001b[0mleft\u001b[0m\u001b[1;33m)\u001b[0m\u001b[1;33m\u001b[0m\u001b[1;33m\u001b[0m\u001b[0m\n\u001b[1;32m--> 594\u001b[1;33m         \u001b[0m_right\u001b[0m \u001b[1;33m=\u001b[0m \u001b[0m_validate_operand\u001b[0m\u001b[1;33m(\u001b[0m\u001b[0mright\u001b[0m\u001b[1;33m)\u001b[0m\u001b[1;33m\u001b[0m\u001b[1;33m\u001b[0m\u001b[0m\n\u001b[0m\u001b[0;32m    595\u001b[0m         \u001b[0mself\u001b[0m\u001b[1;33m.\u001b[0m\u001b[0mleft\u001b[0m \u001b[1;33m=\u001b[0m \u001b[0mself\u001b[0m\u001b[1;33m.\u001b[0m\u001b[0morig_left\u001b[0m \u001b[1;33m=\u001b[0m \u001b[0m_left\u001b[0m\u001b[1;33m\u001b[0m\u001b[1;33m\u001b[0m\u001b[0m\n\u001b[0;32m    596\u001b[0m         \u001b[0mself\u001b[0m\u001b[1;33m.\u001b[0m\u001b[0mright\u001b[0m \u001b[1;33m=\u001b[0m \u001b[0mself\u001b[0m\u001b[1;33m.\u001b[0m\u001b[0morig_right\u001b[0m \u001b[1;33m=\u001b[0m \u001b[0m_right\u001b[0m\u001b[1;33m\u001b[0m\u001b[1;33m\u001b[0m\u001b[0m\n",
      "\u001b[1;32mC:\\ProgramData\\Anaconda3\\lib\\site-packages\\pandas\\core\\reshape\\merge.py\u001b[0m in \u001b[0;36m_validate_operand\u001b[1;34m(obj)\u001b[0m\n\u001b[0;32m   2059\u001b[0m             \u001b[1;32mreturn\u001b[0m \u001b[0mobj\u001b[0m\u001b[1;33m.\u001b[0m\u001b[0mto_frame\u001b[0m\u001b[1;33m(\u001b[0m\u001b[1;33m)\u001b[0m\u001b[1;33m\u001b[0m\u001b[1;33m\u001b[0m\u001b[0m\n\u001b[0;32m   2060\u001b[0m     \u001b[1;32melse\u001b[0m\u001b[1;33m:\u001b[0m\u001b[1;33m\u001b[0m\u001b[1;33m\u001b[0m\u001b[0m\n\u001b[1;32m-> 2061\u001b[1;33m         raise TypeError(\n\u001b[0m\u001b[0;32m   2062\u001b[0m             \u001b[1;34mf\"Can only merge Series or DataFrame objects, a {type(obj)} was passed\"\u001b[0m\u001b[1;33m\u001b[0m\u001b[1;33m\u001b[0m\u001b[0m\n\u001b[0;32m   2063\u001b[0m         )\n",
      "\u001b[1;31mTypeError\u001b[0m: Can only merge Series or DataFrame objects, a <class 'pandas.core.indexes.base.Index'> was passed"
     ]
    }
   ],
   "source": [
    "new_fundamentos = methods.build_fundamentos_tickers(data_path, not_found_tickers)"
   ]
  },
  {
   "cell_type": "code",
   "execution_count": null,
   "metadata": {},
   "outputs": [],
   "source": [
    "fundamentos = fundamentos.append(new_fundamentos)\n",
    "assets = methods.build_full_assets(data_path, fundamentos)"
   ]
  }
 ]
}