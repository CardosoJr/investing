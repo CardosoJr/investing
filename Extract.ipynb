{
 "metadata": {
  "language_info": {
   "codemirror_mode": {
    "name": "ipython",
    "version": 3
   },
   "file_extension": ".py",
   "mimetype": "text/x-python",
   "name": "python",
   "nbconvert_exporter": "python",
   "pygments_lexer": "ipython3",
   "version": "3.8.5-final"
  },
  "orig_nbformat": 2,
  "kernelspec": {
   "name": "python3",
   "display_name": "Python 3",
   "language": "python"
  }
 },
 "nbformat": 4,
 "nbformat_minor": 2,
 "cells": [
  {
   "source": [
    "# Build Initial Dataset \n",
    "\n",
    "Example of how to build the initial investing dataset\n",
    "\n",
    "\n",
    "### 0. Importing Necessary Libs"
   ],
   "cell_type": "markdown",
   "metadata": {}
  },
  {
   "cell_type": "code",
   "execution_count": 1,
   "metadata": {},
   "outputs": [],
   "source": [
    "import Extractors.Extract as methods\n",
    "from pathlib import Path\n",
    "import pandas as pd \n",
    "\n",
    "data_path = \"./DATA\"\n",
    "path = Path(data_path)"
   ]
  },
  {
   "source": [
    "### 1. First Build Fundamentus data"
   ],
   "cell_type": "markdown",
   "metadata": {}
  },
  {
   "cell_type": "code",
   "execution_count": 1,
   "metadata": {
    "tags": []
   },
   "outputs": [],
   "source": [
    "methods.build_fundamentos(data_path)"
   ]
  },
  {
   "cell_type": "code",
   "execution_count": 2,
   "metadata": {},
   "outputs": [],
   "source": [
    "fundamentos = pd.read_csv(Path(data_path) / \"fundamentos.csv\")"
   ]
  },
  {
   "cell_type": "code",
   "execution_count": 3,
   "metadata": {},
   "outputs": [],
   "source": [
    "assets = methods.build_full_assets(data_path, fundamentos)"
   ]
  },
  {
   "cell_type": "code",
   "execution_count": 4,
   "metadata": {},
   "outputs": [],
   "source": [
    "grouping = assets.groupby('Codigo')['P/L'].sum().reset_index()\n",
    "not_found_codes = grouping[grouping['P/L'] == 0]['Codigo']"
   ]
  },
  {
   "cell_type": "code",
   "execution_count": 5,
   "metadata": {},
   "outputs": [],
   "source": [
    "teste = methods.get_fundamentos_simple()\n",
    "teste['Codigo'] = teste.index.str[:4]\n",
    "not_found_tickers = teste[teste['Codigo'].isin(not_found_codes)].index\n",
    "not_found_codes = [x for x in not_found_codes if x not in teste['Codigo'].ravel()]"
   ]
  },
  {
   "cell_type": "code",
   "execution_count": 6,
   "metadata": {},
   "outputs": [
    {
     "output_type": "stream",
     "name": "stderr",
     "text": [
      "  0%|          | 0/65 [00:00<?, ?it/s]Building Fundamentus data\n",
      "\n",
      "  2%|▏         | 1/65 [00:03<04:10,  3.92s/it]\n",
      "error in trying to get data from ticker NTCO3\n",
      "  5%|▍         | 3/65 [00:27<09:07,  8.83s/it]\n",
      "error in trying to get data from ticker CEAB3\n",
      "  9%|▉         | 6/65 [01:00<09:07,  9.29s/it]\n",
      "error in trying to get data from ticker COGN3\n",
      " 12%|█▏        | 8/65 [01:15<07:38,  8.05s/it]\n",
      "error in trying to get data from ticker GPIV33\n",
      " 14%|█▍        | 9/65 [01:19<06:18,  6.75s/it]\n",
      "error in trying to get data from ticker ATMP3\n",
      " 18%|█▊        | 12/65 [01:33<04:37,  5.23s/it]\n",
      "error in trying to get data from ticker AVLL3\n",
      " 20%|██        | 13/65 [01:37<04:11,  4.84s/it]\n",
      "error in trying to get data from ticker CASH3\n",
      " 22%|██▏       | 14/65 [01:40<03:49,  4.50s/it]\n",
      "error in trying to get data from ticker CURY3\n",
      " 23%|██▎       | 15/65 [01:44<03:38,  4.38s/it]\n",
      "error in trying to get data from ticker DMVF3\n",
      " 25%|██▍       | 16/65 [01:48<03:24,  4.17s/it]\n",
      "error in trying to get data from ticker ENJU3\n",
      " 26%|██▌       | 17/65 [01:52<03:15,  4.06s/it]\n",
      "error in trying to get data from ticker ESPA3\n",
      " 28%|██▊       | 18/65 [01:55<03:02,  3.87s/it]\n",
      "error in trying to get data from ticker GMAT3\n",
      " 29%|██▉       | 19/65 [01:59<02:55,  3.81s/it]\n",
      "error in trying to get data from ticker HBRE3\n",
      " 34%|███▍      | 22/65 [02:21<04:12,  5.86s/it]\n",
      "error in trying to get data from ticker INTB3\n",
      " 37%|███▋      | 24/65 [02:39<04:49,  7.05s/it]\n",
      "error in trying to get data from ticker JALL3\n",
      " 38%|███▊      | 25/65 [02:43<04:02,  6.05s/it]\n",
      "error in trying to get data from ticker LAVV3\n",
      " 40%|████      | 26/65 [02:47<03:29,  5.38s/it]\n",
      "error in trying to get data from ticker LJQQ3\n",
      " 42%|████▏     | 27/65 [02:50<03:07,  4.93s/it]\n",
      "error in trying to get data from ticker MBLY3\n",
      " 43%|████▎     | 28/65 [02:54<02:50,  4.61s/it]\n",
      "error in trying to get data from ticker MELK3\n",
      " 45%|████▍     | 29/65 [02:58<02:38,  4.40s/it]\n",
      "error in trying to get data from ticker MOSI3\n",
      " 46%|████▌     | 30/65 [03:02<02:27,  4.22s/it]\n",
      "error in trying to get data from ticker NGRD3\n",
      " 48%|████▊     | 31/65 [03:06<02:19,  4.12s/it]\n",
      "error in trying to get data from ticker PETZ3\n",
      " 49%|████▉     | 32/65 [03:10<02:12,  4.03s/it]\n",
      "error in trying to get data from ticker PLPL3\n",
      " 51%|█████     | 33/65 [03:13<02:04,  3.89s/it]\n",
      "error in trying to get data from ticker POWE3\n",
      " 52%|█████▏    | 34/65 [03:17<01:56,  3.77s/it]\n",
      "error in trying to get data from ticker RRRP3\n",
      " 54%|█████▍    | 35/65 [03:21<01:54,  3.81s/it]\n",
      "error in trying to get data from ticker SEQL3\n",
      " 55%|█████▌    | 36/65 [03:25<01:51,  3.85s/it]\n",
      "error in trying to get data from ticker SIMH3\n",
      " 57%|█████▋    | 37/65 [03:28<01:46,  3.81s/it]\n",
      "error in trying to get data from ticker SOMA3\n",
      " 58%|█████▊    | 38/65 [03:32<01:40,  3.74s/it]\n",
      "error in trying to get data from ticker TFCO4\n",
      " 63%|██████▎   | 41/65 [03:54<02:12,  5.51s/it]\n",
      "error in trying to get data from ticker ENAT3\n",
      " 65%|██████▍   | 42/65 [03:58<01:54,  4.99s/it]\n",
      "error in trying to get data from ticker EQMA3B\n",
      " 66%|██████▌   | 43/65 [04:02<01:42,  4.67s/it]\n",
      "error in trying to get data from ticker EQPA3\n",
      " 71%|███████   | 46/65 [04:30<02:14,  7.07s/it]\n",
      "error in trying to get data from ticker EQPA5\n",
      " 72%|███████▏  | 47/65 [04:34<01:50,  6.15s/it]\n",
      "error in trying to get data from ticker EQPA7\n",
      " 74%|███████▍  | 48/65 [04:38<01:33,  5.47s/it]\n",
      "error in trying to get data from ticker TIMS3\n",
      " 75%|███████▌  | 49/65 [04:41<01:18,  4.89s/it]\n",
      "error in trying to get data from ticker PDTC3\n",
      " 77%|███████▋  | 50/65 [04:45<01:06,  4.45s/it]\n",
      "error in trying to get data from ticker ALSO3\n",
      " 78%|███████▊  | 51/65 [04:48<00:57,  4.13s/it]\n",
      "error in trying to get data from ticker B3SA3\n",
      " 80%|████████  | 52/65 [04:52<00:53,  4.09s/it]\n",
      "error in trying to get data from ticker WSON33\n",
      " 83%|████████▎ | 54/65 [05:03<00:50,  4.55s/it]\n",
      "error in trying to get data from ticker YDUQ3\n",
      " 86%|████████▌ | 56/65 [05:12<00:39,  4.44s/it]\n",
      "error in trying to get data from ticker VAMO3\n",
      " 88%|████████▊ | 57/65 [05:15<00:34,  4.26s/it]\n",
      "error in trying to get data from ticker MTRE3\n",
      " 91%|█████████ | 59/65 [05:25<00:26,  4.45s/it]\n",
      "error in trying to get data from ticker AERI3\n",
      " 92%|█████████▏| 60/65 [05:29<00:22,  4.44s/it]\n",
      "error in trying to get data from ticker BOAS3\n",
      " 94%|█████████▍| 61/65 [05:33<00:17,  4.25s/it]\n",
      "error in trying to get data from ticker TASA3\n",
      " 95%|█████████▌| 62/65 [05:37<00:12,  4.14s/it]\n",
      "error in trying to get data from ticker TASA4\n",
      " 97%|█████████▋| 63/65 [05:41<00:08,  4.03s/it]\n",
      "error in trying to get data from ticker RDOR3\n",
      " 98%|█████████▊| 64/65 [05:45<00:03,  3.99s/it]\n",
      "error in trying to get data from ticker SQIA3\n",
      "100%|██████████| 65/65 [05:50<00:00,  5.40s/it]\n"
     ]
    }
   ],
   "source": [
    "new_fundamentos = methods.build_fundamentos_tickers(data_path, not_found_tickers)"
   ]
  },
  {
   "cell_type": "code",
   "execution_count": 7,
   "metadata": {},
   "outputs": [],
   "source": [
    "fundamentos = fundamentos.append(new_fundamentos)\n",
    "fundamentos.to_csv(Path(data_path) / \"fundamentos.csv\", index = False)\n",
    "assets = methods.build_full_assets(data_path, fundamentos)"
   ]
  },
  {
   "cell_type": "code",
   "execution_count": 9,
   "metadata": {},
   "outputs": [],
   "source": [
    "with open(Path(data_path) / 'log.txt', 'r') as f:\n",
    "    log = f.readlines()\n",
    "log = [x.replace(\"\\n\", \"\") for x in log]"
   ]
  },
  {
   "cell_type": "code",
   "execution_count": 49,
   "metadata": {},
   "outputs": [],
   "source": [
    "renaming = {\"Cotacao\" : \"Última Cotação ON\",\n",
    "\"P/L\" : \"P/L\",\n",
    "\"P/VP\" : \"P/VPA\",\n",
    "\"PSR\" : \"PSR\",\n",
    "\"DY\" : \"DY\",\n",
    "\"P/Ativo\" : \"P/Ativo\",\n",
    "\"P/Cap.Giro\" : 'P/Capital de Giro',\n",
    "\"P/EBIT\" : 'P/EBIT',\n",
    "\"P/ACL\" : 'P/ACL',\n",
    "\"EV/EBIT\" : 'EV/EBIT',\n",
    "\"EV/EBITDA\" : \"REMOVER\",\n",
    "\"Mrg.Ebit\" : 'Margem EBIT',\n",
    "\"Mrg.Liq.\" : \"REMOVER\",\n",
    "\"Liq.Corr.\" : \"REMOVER\",\n",
    "\"ROIC\" : \"REMOVER\",\n",
    "\"ROE\" : \"ROE\",\n",
    "\"Liq.2meses\" : \"REMOVER\",\n",
    "\"Pat.Liq\" : \"REMOVER\",\n",
    "\"Div.Brut/Pat.\" : \"REMOVER\",\n",
    "\"Cresc.5anos\" : \"REMOVER\",\n",
    "\"Codigo\" : \"Codigo\" }"
   ]
  },
  {
   "cell_type": "code",
   "execution_count": 48,
   "metadata": {},
   "outputs": [],
   "source": [
    "teste['Ticker'] = teste.index\n",
    "teste = teste.reset_index()\n",
    "teste = teste[teste['Ticker'].isin(log)]\n",
    "teste = teste.rename(columns = renaming)\n",
    "teste = teste.drop(columns = \"REMOVER\")\n",
    "teste = teste.drop(columns = 'index')\n",
    "teste['Data'] = [\"2020\"] * len(teste)"
   ]
  },
  {
   "cell_type": "code",
   "execution_count": 68,
   "metadata": {},
   "outputs": [],
   "source": [
    "fundamentos = fundamentos.append(teste)\n",
    "fundamentos.to_csv(Path(data_path) / \"fundamentos.csv\", index = False)\n",
    "assets = methods.build_full_assets(data_path, fundamentos)"
   ]
  },
  {
   "source": [
    "### 2. Extract Macro Price data \n",
    "\n",
    "Extracting 2 years of data for every ticker in assets database. This data will be daily. This will be used only for extracting some metrics. More precise data will be extract later to use in ML models."
   ],
   "cell_type": "markdown",
   "metadata": {}
  },
  {
   "cell_type": "code",
   "execution_count": 5,
   "metadata": {},
   "outputs": [],
   "source": [
    "assets = pd.read_csv(path / \"assets.csv\")\n",
    "tickers = assets['Ticker'].unique()"
   ]
  },
  {
   "cell_type": "code",
   "execution_count": 6,
   "metadata": {},
   "outputs": [],
   "source": [
    "history = methods.build_price_history(data_path, tickers)"
   ]
  },
  {
   "cell_type": "code",
   "execution_count": 7,
   "metadata": {},
   "outputs": [],
   "source": [
    "history = pd.read_csv(path / \"history.csv\")"
   ]
  },
  {
   "cell_type": "code",
   "execution_count": 9,
   "metadata": {},
   "outputs": [
    {
     "output_type": "execute_result",
     "data": {
      "text/plain": [
       "464"
      ]
     },
     "metadata": {},
     "execution_count": 9
    }
   ],
   "source": [
    "history['symbol'].nunique()"
   ]
  },
  {
   "source": [
    "### 3. Extract Cripto data \n",
    "\n",
    "Extracting 2 years of data for every ticker in assets database. This data will be daily. This will be used only for extracting some metrics. More precise data will be extract later to use in ML models."
   ],
   "cell_type": "markdown",
   "metadata": {}
  },
  {
   "cell_type": "code",
   "execution_count": 2,
   "metadata": {},
   "outputs": [],
   "source": [
    "criptos = pd.read_csv(Path(\"./Extractors/cripto/digital_currency_list.csv\"))"
   ]
  },
  {
   "cell_type": "code",
   "execution_count": null,
   "metadata": {},
   "outputs": [],
   "source": [
    "history = methods.build_cripto_history(data_path, criptos['currency code'].unique().ravel())"
   ]
  }
 ]
}