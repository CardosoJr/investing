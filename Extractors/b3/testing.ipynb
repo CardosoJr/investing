{
 "metadata": {
  "language_info": {
   "codemirror_mode": {
    "name": "ipython",
    "version": 3
   },
   "file_extension": ".py",
   "mimetype": "text/x-python",
   "name": "python",
   "nbconvert_exporter": "python",
   "pygments_lexer": "ipython3",
   "version": "3.8.5-final"
  },
  "orig_nbformat": 2,
  "kernelspec": {
   "name": "python3",
   "display_name": "Python 3",
   "language": "python"
  }
 },
 "nbformat": 4,
 "nbformat_minor": 2,
 "cells": [
  {
   "cell_type": "code",
   "execution_count": 1,
   "metadata": {},
   "outputs": [],
   "source": [
    "import pandas as pd \n",
    "from pandas_datareader import data as web\n"
   ]
  },
  {
   "cell_type": "code",
   "execution_count": 2,
   "metadata": {},
   "outputs": [
    {
     "output_type": "execute_result",
     "data": {
      "text/plain": [
       "                High       Low      Open     Close   Volume  Adj Close\n",
       "Date                                                                  \n",
       "2000-01-03  2.318106  2.318106  2.318106  2.318106  65225.0   1.356192\n",
       "2000-01-04  2.301548  2.235316  2.301548  2.235316  25365.0   1.307758\n",
       "2000-01-05  2.235316  2.218758  2.235316  2.218758  15702.0   1.298070\n",
       "2000-01-06  2.169085  2.152527  2.152527  2.152527  85759.0   1.259322\n",
       "2000-01-07  2.334664  2.318106  2.334664  2.318106  31404.0   1.356192"
      ],
      "text/html": "<div>\n<style scoped>\n    .dataframe tbody tr th:only-of-type {\n        vertical-align: middle;\n    }\n\n    .dataframe tbody tr th {\n        vertical-align: top;\n    }\n\n    .dataframe thead th {\n        text-align: right;\n    }\n</style>\n<table border=\"1\" class=\"dataframe\">\n  <thead>\n    <tr style=\"text-align: right;\">\n      <th></th>\n      <th>High</th>\n      <th>Low</th>\n      <th>Open</th>\n      <th>Close</th>\n      <th>Volume</th>\n      <th>Adj Close</th>\n    </tr>\n    <tr>\n      <th>Date</th>\n      <th></th>\n      <th></th>\n      <th></th>\n      <th></th>\n      <th></th>\n      <th></th>\n    </tr>\n  </thead>\n  <tbody>\n    <tr>\n      <th>2000-01-03</th>\n      <td>2.318106</td>\n      <td>2.318106</td>\n      <td>2.318106</td>\n      <td>2.318106</td>\n      <td>65225.0</td>\n      <td>1.356192</td>\n    </tr>\n    <tr>\n      <th>2000-01-04</th>\n      <td>2.301548</td>\n      <td>2.235316</td>\n      <td>2.301548</td>\n      <td>2.235316</td>\n      <td>25365.0</td>\n      <td>1.307758</td>\n    </tr>\n    <tr>\n      <th>2000-01-05</th>\n      <td>2.235316</td>\n      <td>2.218758</td>\n      <td>2.235316</td>\n      <td>2.218758</td>\n      <td>15702.0</td>\n      <td>1.298070</td>\n    </tr>\n    <tr>\n      <th>2000-01-06</th>\n      <td>2.169085</td>\n      <td>2.152527</td>\n      <td>2.152527</td>\n      <td>2.152527</td>\n      <td>85759.0</td>\n      <td>1.259322</td>\n    </tr>\n    <tr>\n      <th>2000-01-07</th>\n      <td>2.334664</td>\n      <td>2.318106</td>\n      <td>2.334664</td>\n      <td>2.318106</td>\n      <td>31404.0</td>\n      <td>1.356192</td>\n    </tr>\n  </tbody>\n</table>\n</div>"
     },
     "metadata": {},
     "execution_count": 2
    }
   ],
   "source": [
    "# escolher a ação desejada\n",
    "acao = 'ITUB3.SA'\n",
    " \n",
    "# importar dados para o DataFrame\n",
    "df = web.DataReader(acao, data_source='yahoo', start='01-01-2000')\n",
    " \n",
    "# ver as 5 primeiras entradas\n",
    "df.head()"
   ]
  },
  {
   "cell_type": "code",
   "execution_count": 1,
   "metadata": {},
   "outputs": [],
   "source": [
    "import b3"
   ]
  },
  {
   "cell_type": "code",
   "execution_count": 2,
   "metadata": {},
   "outputs": [],
   "source": [
    "api = b3.B3()"
   ]
  },
  {
   "cell_type": "code",
   "execution_count": 3,
   "metadata": {},
   "outputs": [],
   "source": [
    "df = api.Extract_History(\"HGLG11.SA\")"
   ]
  },
  {
   "cell_type": "code",
   "execution_count": 13,
   "metadata": {},
   "outputs": [],
   "source": [
    "df = df.reset_index()"
   ]
  },
  {
   "cell_type": "code",
   "execution_count": 14,
   "metadata": {},
   "outputs": [],
   "source": [
    "import pandas as pd\n",
    "df['date'] = pd.to_datetime(df['date'])"
   ]
  },
  {
   "cell_type": "code",
   "execution_count": 18,
   "metadata": {},
   "outputs": [],
   "source": [
    "from yahooquery import Ticker"
   ]
  },
  {
   "cell_type": "code",
   "execution_count": 28,
   "metadata": {},
   "outputs": [],
   "source": [
    "itau = Ticker(\"ITUB3.SA\")"
   ]
  },
  {
   "cell_type": "code",
   "execution_count": 41,
   "metadata": {},
   "outputs": [
    {
     "output_type": "execute_result",
     "data": {
      "text/plain": [
       "{'ITUB3.SA': {'symbol': 'ITUB3.SA',\n",
       "  'sigDevs': [{'headline': \"Brazil's Itau Unibanco CEO Maluhy says bank unlikely to close branches this year\",\n",
       "    'date': '2021-02-02'}]}}"
      ]
     },
     "metadata": {},
     "execution_count": 41
    }
   ],
   "source": [
    "itau.technical_insights"
   ]
  },
  {
   "cell_type": "code",
   "execution_count": 71,
   "metadata": {},
   "outputs": [],
   "source": [
    "fii = Ticker(\"HGLG11.SA\")"
   ]
  },
  {
   "cell_type": "code",
   "execution_count": 76,
   "metadata": {},
   "outputs": [],
   "source": [
    "aa = fii.summary_detail"
   ]
  },
  {
   "cell_type": "code",
   "execution_count": 82,
   "metadata": {},
   "outputs": [],
   "source": [
    "df = pd.DataFrame([aa[\"HGLG11.SA\"]])\n",
    "df['Ticker'] = [\"HGLG11.SA\"] * len(df)"
   ]
  },
  {
   "cell_type": "code",
   "execution_count": 83,
   "metadata": {},
   "outputs": [
    {
     "output_type": "execute_result",
     "data": {
      "text/plain": [
       "   maxAge  priceHint  previousClose   open  dayLow  dayHigh  \\\n",
       "0       1          2          178.3  178.3   178.0    178.8   \n",
       "\n",
       "   regularMarketPreviousClose  regularMarketOpen  regularMarketDayLow  \\\n",
       "0                       178.3              178.3                178.0   \n",
       "\n",
       "   regularMarketDayHigh  ...  priceToSalesTrailing12Months  fiftyDayAverage  \\\n",
       "0                 178.8  ...                     15.234007        179.96584   \n",
       "\n",
       "  twoHundredDayAverage  currency  fromCurrency  toCurrency  lastMarket  \\\n",
       "0             174.3225       BRL          None        None        None   \n",
       "\n",
       "   algorithm  tradeable     Ticker  \n",
       "0       None      False  HGLG11.SA  \n",
       "\n",
       "[1 rows x 37 columns]"
      ],
      "text/html": "<div>\n<style scoped>\n    .dataframe tbody tr th:only-of-type {\n        vertical-align: middle;\n    }\n\n    .dataframe tbody tr th {\n        vertical-align: top;\n    }\n\n    .dataframe thead th {\n        text-align: right;\n    }\n</style>\n<table border=\"1\" class=\"dataframe\">\n  <thead>\n    <tr style=\"text-align: right;\">\n      <th></th>\n      <th>maxAge</th>\n      <th>priceHint</th>\n      <th>previousClose</th>\n      <th>open</th>\n      <th>dayLow</th>\n      <th>dayHigh</th>\n      <th>regularMarketPreviousClose</th>\n      <th>regularMarketOpen</th>\n      <th>regularMarketDayLow</th>\n      <th>regularMarketDayHigh</th>\n      <th>...</th>\n      <th>priceToSalesTrailing12Months</th>\n      <th>fiftyDayAverage</th>\n      <th>twoHundredDayAverage</th>\n      <th>currency</th>\n      <th>fromCurrency</th>\n      <th>toCurrency</th>\n      <th>lastMarket</th>\n      <th>algorithm</th>\n      <th>tradeable</th>\n      <th>Ticker</th>\n    </tr>\n  </thead>\n  <tbody>\n    <tr>\n      <th>0</th>\n      <td>1</td>\n      <td>2</td>\n      <td>178.3</td>\n      <td>178.3</td>\n      <td>178.0</td>\n      <td>178.8</td>\n      <td>178.3</td>\n      <td>178.3</td>\n      <td>178.0</td>\n      <td>178.8</td>\n      <td>...</td>\n      <td>15.234007</td>\n      <td>179.96584</td>\n      <td>174.3225</td>\n      <td>BRL</td>\n      <td>None</td>\n      <td>None</td>\n      <td>None</td>\n      <td>None</td>\n      <td>False</td>\n      <td>HGLG11.SA</td>\n    </tr>\n  </tbody>\n</table>\n<p>1 rows × 37 columns</p>\n</div>"
     },
     "metadata": {},
     "execution_count": 83
    }
   ],
   "source": [
    "df"
   ]
  },
  {
   "cell_type": "code",
   "execution_count": null,
   "metadata": {},
   "outputs": [],
   "source": []
  }
 ]
}