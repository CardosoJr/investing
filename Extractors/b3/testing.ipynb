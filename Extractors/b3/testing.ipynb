{
 "metadata": {
  "language_info": {
   "codemirror_mode": {
    "name": "ipython",
    "version": 3
   },
   "file_extension": ".py",
   "mimetype": "text/x-python",
   "name": "python",
   "nbconvert_exporter": "python",
   "pygments_lexer": "ipython3",
   "version": "3.8.5-final"
  },
  "orig_nbformat": 2,
  "kernelspec": {
   "name": "python3",
   "display_name": "Python 3",
   "language": "python"
  }
 },
 "nbformat": 4,
 "nbformat_minor": 2,
 "cells": [
  {
   "cell_type": "code",
   "execution_count": 1,
   "metadata": {},
   "outputs": [],
   "source": [
    "import pandas as pd \n",
    "from pandas_datareader import data as web\n"
   ]
  },
  {
   "cell_type": "code",
   "execution_count": 2,
   "metadata": {},
   "outputs": [
    {
     "output_type": "execute_result",
     "data": {
      "text/plain": [
       "                High       Low      Open     Close   Volume  Adj Close\n",
       "Date                                                                  \n",
       "2000-01-03  2.318106  2.318106  2.318106  2.318106  65225.0   1.356192\n",
       "2000-01-04  2.301548  2.235316  2.301548  2.235316  25365.0   1.307758\n",
       "2000-01-05  2.235316  2.218758  2.235316  2.218758  15702.0   1.298070\n",
       "2000-01-06  2.169085  2.152527  2.152527  2.152527  85759.0   1.259322\n",
       "2000-01-07  2.334664  2.318106  2.334664  2.318106  31404.0   1.356192"
      ],
      "text/html": "<div>\n<style scoped>\n    .dataframe tbody tr th:only-of-type {\n        vertical-align: middle;\n    }\n\n    .dataframe tbody tr th {\n        vertical-align: top;\n    }\n\n    .dataframe thead th {\n        text-align: right;\n    }\n</style>\n<table border=\"1\" class=\"dataframe\">\n  <thead>\n    <tr style=\"text-align: right;\">\n      <th></th>\n      <th>High</th>\n      <th>Low</th>\n      <th>Open</th>\n      <th>Close</th>\n      <th>Volume</th>\n      <th>Adj Close</th>\n    </tr>\n    <tr>\n      <th>Date</th>\n      <th></th>\n      <th></th>\n      <th></th>\n      <th></th>\n      <th></th>\n      <th></th>\n    </tr>\n  </thead>\n  <tbody>\n    <tr>\n      <th>2000-01-03</th>\n      <td>2.318106</td>\n      <td>2.318106</td>\n      <td>2.318106</td>\n      <td>2.318106</td>\n      <td>65225.0</td>\n      <td>1.356192</td>\n    </tr>\n    <tr>\n      <th>2000-01-04</th>\n      <td>2.301548</td>\n      <td>2.235316</td>\n      <td>2.301548</td>\n      <td>2.235316</td>\n      <td>25365.0</td>\n      <td>1.307758</td>\n    </tr>\n    <tr>\n      <th>2000-01-05</th>\n      <td>2.235316</td>\n      <td>2.218758</td>\n      <td>2.235316</td>\n      <td>2.218758</td>\n      <td>15702.0</td>\n      <td>1.298070</td>\n    </tr>\n    <tr>\n      <th>2000-01-06</th>\n      <td>2.169085</td>\n      <td>2.152527</td>\n      <td>2.152527</td>\n      <td>2.152527</td>\n      <td>85759.0</td>\n      <td>1.259322</td>\n    </tr>\n    <tr>\n      <th>2000-01-07</th>\n      <td>2.334664</td>\n      <td>2.318106</td>\n      <td>2.334664</td>\n      <td>2.318106</td>\n      <td>31404.0</td>\n      <td>1.356192</td>\n    </tr>\n  </tbody>\n</table>\n</div>"
     },
     "metadata": {},
     "execution_count": 2
    }
   ],
   "source": [
    "# escolher a ação desejada\n",
    "acao = 'ITUB3.SA'\n",
    " \n",
    "# importar dados para o DataFrame\n",
    "df = web.DataReader(acao, data_source='yahoo', start='01-01-2000')\n",
    " \n",
    "# ver as 5 primeiras entradas\n",
    "df.head()"
   ]
  },
  {
   "cell_type": "code",
   "execution_count": 35,
   "metadata": {},
   "outputs": [],
   "source": [
    "import b3"
   ]
  },
  {
   "cell_type": "code",
   "execution_count": 36,
   "metadata": {},
   "outputs": [],
   "source": [
    "api = b3.B3()"
   ]
  },
  {
   "cell_type": "code",
   "execution_count": 3,
   "metadata": {},
   "outputs": [],
   "source": [
    "df = api.Extract_History(\"HGLG11.SA\")"
   ]
  },
  {
   "cell_type": "code",
   "execution_count": 13,
   "metadata": {},
   "outputs": [],
   "source": [
    "df = df.reset_index()"
   ]
  },
  {
   "cell_type": "code",
   "execution_count": 14,
   "metadata": {},
   "outputs": [],
   "source": [
    "import pandas as pd\n",
    "df['date'] = pd.to_datetime(df['date'])"
   ]
  },
  {
   "cell_type": "code",
   "execution_count": 1,
   "metadata": {},
   "outputs": [],
   "source": [
    "from yahooquery import Ticker\n",
    "import pandas as pd"
   ]
  },
  {
   "cell_type": "code",
   "execution_count": 3,
   "metadata": {},
   "outputs": [],
   "source": [
    "itau = Ticker(\"ITSA4.SA\")"
   ]
  },
  {
   "cell_type": "code",
   "execution_count": 7,
   "metadata": {},
   "outputs": [
    {
     "output_type": "execute_result",
     "data": {
      "text/plain": [
       "{'ITSA4.SA': {'language': 'en-US',\n",
       "  'region': 'US',\n",
       "  'quoteType': 'EQUITY',\n",
       "  'quoteSourceName': 'Delayed Quote',\n",
       "  'triggerable': False,\n",
       "  'currency': 'BRL',\n",
       "  'regularMarketChange': 0.7400007,\n",
       "  'regularMarketChangePercent': 7.56647,\n",
       "  'regularMarketTime': 1614114502,\n",
       "  'regularMarketPrice': 10.52,\n",
       "  'regularMarketDayHigh': 0.0,\n",
       "  'regularMarketDayRange': '0.0 - 0.0',\n",
       "  'regularMarketDayLow': 0.0,\n",
       "  'regularMarketVolume': 0,\n",
       "  'regularMarketPreviousClose': 9.78,\n",
       "  'bid': 10.52,\n",
       "  'ask': 10.45,\n",
       "  'bidSize': 0,\n",
       "  'askSize': 0,\n",
       "  'fullExchangeName': 'Sao Paolo',\n",
       "  'financialCurrency': 'BRL',\n",
       "  'regularMarketOpen': 0.0,\n",
       "  'averageDailyVolume3Month': 25691780,\n",
       "  'averageDailyVolume10Day': 28910983,\n",
       "  'fiftyTwoWeekLowChange': 10.52,\n",
       "  'fiftyTwoWeekRange': '0.0 - 12.81',\n",
       "  'fiftyTwoWeekHighChange': -2.29,\n",
       "  'fiftyTwoWeekHighChangePercent': -0.17876658,\n",
       "  'fiftyTwoWeekLow': 0.0,\n",
       "  'fiftyTwoWeekHigh': 12.81,\n",
       "  'earningsTimestamp': 1614072600,\n",
       "  'earningsTimestampStart': 1614072600,\n",
       "  'earningsTimestampEnd': 1614072600,\n",
       "  'trailingAnnualDividendRate': 0.549,\n",
       "  'trailingPE': 12.923833,\n",
       "  'trailingAnnualDividendYield': 0.056134973,\n",
       "  'epsTrailingTwelveMonths': 0.814,\n",
       "  'epsForward': 1.34,\n",
       "  'tradeable': False,\n",
       "  'firstTradeDateMilliseconds': 946900800000,\n",
       "  'priceHint': 2,\n",
       "  'marketState': 'PREPRE',\n",
       "  'sharesOutstanding': 5520979968,\n",
       "  'bookValue': 6.479,\n",
       "  'fiftyDayAverage': 11.044723,\n",
       "  'fiftyDayAverageChange': -0.5247221,\n",
       "  'fiftyDayAverageChangePercent': -0.047508854,\n",
       "  'twoHundredDayAverage': 10.328723,\n",
       "  'twoHundredDayAverageChange': 0.1912775,\n",
       "  'twoHundredDayAverageChangePercent': 0.018518988,\n",
       "  'marketCap': 92740435968,\n",
       "  'forwardPE': 7.8507466,\n",
       "  'priceToBook': 1.6237074,\n",
       "  'sourceInterval': 15,\n",
       "  'exchangeDataDelayedBy': 0,\n",
       "  'exchange': 'SAO',\n",
       "  'shortName': 'ITAUSA      PN      N1',\n",
       "  'longName': 'Itaúsa - Investimentos Itaú SA',\n",
       "  'messageBoardId': 'finmb_875352',\n",
       "  'exchangeTimezoneName': 'America/Sao_Paulo',\n",
       "  'exchangeTimezoneShortName': 'BRT',\n",
       "  'gmtOffSetMilliseconds': -10800000,\n",
       "  'market': 'br_market',\n",
       "  'esgPopulated': False}}"
      ]
     },
     "metadata": {},
     "execution_count": 7
    }
   ],
   "source": [
    "itau.quotes"
   ]
  },
  {
   "cell_type": "code",
   "execution_count": 13,
   "metadata": {},
   "outputs": [
    {
     "output_type": "execute_result",
     "data": {
      "text/plain": [
       "     symbol                date      close       high        low  volume  \\\n",
       "0  ITUB3.SA 2021-02-19 10:00:00  25.139999  25.260000  25.110001   24200   \n",
       "1  ITUB3.SA 2021-02-19 11:00:00  25.160000  25.340000  25.100000   29100   \n",
       "2  ITUB3.SA 2021-02-19 12:00:00  25.280001  25.360001  25.160000   41800   \n",
       "3  ITUB3.SA 2021-02-19 13:00:00  25.250000  25.330000  25.230000   16900   \n",
       "4  ITUB3.SA 2021-02-19 14:00:00  24.980000  25.260000  24.930000   77600   \n",
       "5  ITUB3.SA 2021-02-19 15:00:00  25.020000  25.030001  24.840000   63700   \n",
       "\n",
       "        open  \n",
       "0  25.160000  \n",
       "1  25.129999  \n",
       "2  25.160000  \n",
       "3  25.270000  \n",
       "4  25.250000  \n",
       "5  24.969999  "
      ],
      "text/html": "<div>\n<style scoped>\n    .dataframe tbody tr th:only-of-type {\n        vertical-align: middle;\n    }\n\n    .dataframe tbody tr th {\n        vertical-align: top;\n    }\n\n    .dataframe thead th {\n        text-align: right;\n    }\n</style>\n<table border=\"1\" class=\"dataframe\">\n  <thead>\n    <tr style=\"text-align: right;\">\n      <th></th>\n      <th>symbol</th>\n      <th>date</th>\n      <th>close</th>\n      <th>high</th>\n      <th>low</th>\n      <th>volume</th>\n      <th>open</th>\n    </tr>\n  </thead>\n  <tbody>\n    <tr>\n      <th>0</th>\n      <td>ITUB3.SA</td>\n      <td>2021-02-19 10:00:00</td>\n      <td>25.139999</td>\n      <td>25.260000</td>\n      <td>25.110001</td>\n      <td>24200</td>\n      <td>25.160000</td>\n    </tr>\n    <tr>\n      <th>1</th>\n      <td>ITUB3.SA</td>\n      <td>2021-02-19 11:00:00</td>\n      <td>25.160000</td>\n      <td>25.340000</td>\n      <td>25.100000</td>\n      <td>29100</td>\n      <td>25.129999</td>\n    </tr>\n    <tr>\n      <th>2</th>\n      <td>ITUB3.SA</td>\n      <td>2021-02-19 12:00:00</td>\n      <td>25.280001</td>\n      <td>25.360001</td>\n      <td>25.160000</td>\n      <td>41800</td>\n      <td>25.160000</td>\n    </tr>\n    <tr>\n      <th>3</th>\n      <td>ITUB3.SA</td>\n      <td>2021-02-19 13:00:00</td>\n      <td>25.250000</td>\n      <td>25.330000</td>\n      <td>25.230000</td>\n      <td>16900</td>\n      <td>25.270000</td>\n    </tr>\n    <tr>\n      <th>4</th>\n      <td>ITUB3.SA</td>\n      <td>2021-02-19 14:00:00</td>\n      <td>24.980000</td>\n      <td>25.260000</td>\n      <td>24.930000</td>\n      <td>77600</td>\n      <td>25.250000</td>\n    </tr>\n    <tr>\n      <th>5</th>\n      <td>ITUB3.SA</td>\n      <td>2021-02-19 15:00:00</td>\n      <td>25.020000</td>\n      <td>25.030001</td>\n      <td>24.840000</td>\n      <td>63700</td>\n      <td>24.969999</td>\n    </tr>\n  </tbody>\n</table>\n</div>"
     },
     "metadata": {},
     "execution_count": 13
    }
   ],
   "source": [
    "itau.history(period = \"1d\", interval =\"1h\").reset_index()"
   ]
  },
  {
   "cell_type": "code",
   "execution_count": 41,
   "metadata": {},
   "outputs": [
    {
     "output_type": "execute_result",
     "data": {
      "text/plain": [
       "{'ITUB3.SA': {'symbol': 'ITUB3.SA',\n",
       "  'sigDevs': [{'headline': \"Brazil's Itau Unibanco CEO Maluhy says bank unlikely to close branches this year\",\n",
       "    'date': '2021-02-02'}]}}"
      ]
     },
     "metadata": {},
     "execution_count": 41
    }
   ],
   "source": [
    "itau.technical_insights"
   ]
  },
  {
   "cell_type": "code",
   "execution_count": 71,
   "metadata": {},
   "outputs": [],
   "source": [
    "fii = Ticker(\"HGLG11.SA\")"
   ]
  },
  {
   "cell_type": "code",
   "execution_count": 76,
   "metadata": {},
   "outputs": [],
   "source": [
    "aa = fii.summary_detail"
   ]
  },
  {
   "cell_type": "code",
   "execution_count": 82,
   "metadata": {},
   "outputs": [],
   "source": [
    "df = pd.DataFrame([aa[\"HGLG11.SA\"]])\n",
    "df['Ticker'] = [\"HGLG11.SA\"] * len(df)"
   ]
  },
  {
   "cell_type": "code",
   "execution_count": 83,
   "metadata": {},
   "outputs": [
    {
     "output_type": "execute_result",
     "data": {
      "text/plain": [
       "   maxAge  priceHint  previousClose   open  dayLow  dayHigh  \\\n",
       "0       1          2          178.3  178.3   178.0    178.8   \n",
       "\n",
       "   regularMarketPreviousClose  regularMarketOpen  regularMarketDayLow  \\\n",
       "0                       178.3              178.3                178.0   \n",
       "\n",
       "   regularMarketDayHigh  ...  priceToSalesTrailing12Months  fiftyDayAverage  \\\n",
       "0                 178.8  ...                     15.234007        179.96584   \n",
       "\n",
       "  twoHundredDayAverage  currency  fromCurrency  toCurrency  lastMarket  \\\n",
       "0             174.3225       BRL          None        None        None   \n",
       "\n",
       "   algorithm  tradeable     Ticker  \n",
       "0       None      False  HGLG11.SA  \n",
       "\n",
       "[1 rows x 37 columns]"
      ],
      "text/html": "<div>\n<style scoped>\n    .dataframe tbody tr th:only-of-type {\n        vertical-align: middle;\n    }\n\n    .dataframe tbody tr th {\n        vertical-align: top;\n    }\n\n    .dataframe thead th {\n        text-align: right;\n    }\n</style>\n<table border=\"1\" class=\"dataframe\">\n  <thead>\n    <tr style=\"text-align: right;\">\n      <th></th>\n      <th>maxAge</th>\n      <th>priceHint</th>\n      <th>previousClose</th>\n      <th>open</th>\n      <th>dayLow</th>\n      <th>dayHigh</th>\n      <th>regularMarketPreviousClose</th>\n      <th>regularMarketOpen</th>\n      <th>regularMarketDayLow</th>\n      <th>regularMarketDayHigh</th>\n      <th>...</th>\n      <th>priceToSalesTrailing12Months</th>\n      <th>fiftyDayAverage</th>\n      <th>twoHundredDayAverage</th>\n      <th>currency</th>\n      <th>fromCurrency</th>\n      <th>toCurrency</th>\n      <th>lastMarket</th>\n      <th>algorithm</th>\n      <th>tradeable</th>\n      <th>Ticker</th>\n    </tr>\n  </thead>\n  <tbody>\n    <tr>\n      <th>0</th>\n      <td>1</td>\n      <td>2</td>\n      <td>178.3</td>\n      <td>178.3</td>\n      <td>178.0</td>\n      <td>178.8</td>\n      <td>178.3</td>\n      <td>178.3</td>\n      <td>178.0</td>\n      <td>178.8</td>\n      <td>...</td>\n      <td>15.234007</td>\n      <td>179.96584</td>\n      <td>174.3225</td>\n      <td>BRL</td>\n      <td>None</td>\n      <td>None</td>\n      <td>None</td>\n      <td>None</td>\n      <td>False</td>\n      <td>HGLG11.SA</td>\n    </tr>\n  </tbody>\n</table>\n<p>1 rows × 37 columns</p>\n</div>"
     },
     "metadata": {},
     "execution_count": 83
    }
   ],
   "source": [
    "df"
   ]
  },
  {
   "cell_type": "code",
   "execution_count": 14,
   "metadata": {},
   "outputs": [],
   "source": [
    "from datetime import datetime"
   ]
  },
  {
   "cell_type": "code",
   "execution_count": 30,
   "metadata": {},
   "outputs": [
    {
     "output_type": "execute_result",
     "data": {
      "text/plain": [
       "datetime.datetime(2020, 5, 1, 0, 0)"
      ]
     },
     "metadata": {},
     "execution_count": 30
    }
   ],
   "source": [
    "datetime.strptime(\"202005\", \"%Y%m\")"
   ]
  },
  {
   "cell_type": "code",
   "execution_count": 25,
   "metadata": {},
   "outputs": [
    {
     "output_type": "execute_result",
     "data": {
      "text/plain": [
       "'202107'"
      ]
     },
     "metadata": {},
     "execution_count": 25
    }
   ],
   "source": [
    "datetime.now().strftime(\"%Y%W\")"
   ]
  },
  {
   "cell_type": "code",
   "execution_count": 31,
   "metadata": {},
   "outputs": [],
   "source": [
    "a = [1, 2 ,3]"
   ]
  },
  {
   "cell_type": "code",
   "execution_count": null,
   "metadata": {},
   "outputs": [],
   "source": []
  },
  {
   "cell_type": "code",
   "execution_count": 40,
   "metadata": {},
   "outputs": [
    {
     "output_type": "execute_result",
     "data": {
      "text/plain": [
       "                          volume         close          high           low  \\\n",
       "symbol  date                                                                 \n",
       "BTC-USD 2021-01-23   48354737975  32067.642578  33360.976562  31493.160156   \n",
       "        2021-01-24   48643830599  32289.378906  32944.007812  31106.685547   \n",
       "        2021-01-25   59897054838  32366.392578  34802.742188  32087.787109   \n",
       "        2021-01-26   60255421470  32569.849609  32794.550781  31030.265625   \n",
       "        2021-01-27   62576762015  30432.546875  32564.029297  29367.138672   \n",
       "        2021-01-28   78948162368  31649.605469  31891.300781  30023.207031   \n",
       "        2021-01-29  117894572511  34316.386719  38406.261719  32064.814453   \n",
       "        2021-01-30   65141828798  34269.523438  34834.707031  32940.187500   \n",
       "        2021-01-31   52754542671  33114.359375  34288.332031  32270.175781   \n",
       "        2021-02-01   61400400660  33537.175781  34638.214844  32384.228516   \n",
       "        2021-02-02   63088585433  35510.289062  35896.882812  33489.218750   \n",
       "        2021-02-03   61166818159  37472.089844  37480.187500  35443.984375   \n",
       "        2021-02-04   68838074392  36926.066406  38592.175781  36317.500000   \n",
       "        2021-02-05   58598066402  38144.308594  38225.906250  36658.761719   \n",
       "        2021-02-06   71326033653  39266.011719  40846.546875  38138.386719   \n",
       "        2021-02-07   65500641143  38903.441406  39621.835938  37446.152344   \n",
       "        2021-02-08  101467222687  46196.464844  46203.929688  38076.324219   \n",
       "        2021-02-09   91809846886  46481.105469  48003.722656  45166.960938   \n",
       "        2021-02-10   87301089896  44918.183594  47145.566406  43881.152344   \n",
       "        2021-02-11   81388911810  47909.332031  48463.468750  44187.761719   \n",
       "        2021-02-12   76555041196  47504.851562  48745.734375  46424.976562   \n",
       "        2021-02-13   70250456155  47105.515625  48047.746094  46392.281250   \n",
       "        2021-02-14   71248675228  48717.289062  49487.640625  47114.507812   \n",
       "        2021-02-15   77069903166  47945.058594  48875.570312  46347.476562   \n",
       "        2021-02-16   77049582886  49199.871094  50341.101562  47201.304688   \n",
       "        2021-02-17   80820545404  52149.007812  52533.914062  49072.378906   \n",
       "        2021-02-18   52054723579  51679.796875  52474.105469  51015.765625   \n",
       "        2021-02-19   63495496918  55888.132812  56113.652344  50937.277344   \n",
       "        2021-02-20   68145460026  56099.519531  57505.226562  54626.558594   \n",
       "        2021-02-21   61896908800  57168.714844  57681.593750  55721.371094   \n",
       "\n",
       "                            open      adjclose  \n",
       "symbol  date                                    \n",
       "BTC-USD 2021-01-23  32985.757812  32067.642578  \n",
       "        2021-01-24  32064.376953  32289.378906  \n",
       "        2021-01-25  32285.798828  32366.392578  \n",
       "        2021-01-26  32358.613281  32569.849609  \n",
       "        2021-01-27  32564.029297  30432.546875  \n",
       "        2021-01-28  30441.041016  31649.605469  \n",
       "        2021-01-29  34318.671875  34316.386719  \n",
       "        2021-01-30  34295.933594  34269.523438  \n",
       "        2021-01-31  34270.878906  33114.359375  \n",
       "        2021-02-01  33114.578125  33537.175781  \n",
       "        2021-02-02  33533.199219  35510.289062  \n",
       "        2021-02-03  35510.820312  37472.089844  \n",
       "        2021-02-04  37475.105469  36926.066406  \n",
       "        2021-02-05  36931.546875  38144.308594  \n",
       "        2021-02-06  38138.386719  39266.011719  \n",
       "        2021-02-07  39250.191406  38903.441406  \n",
       "        2021-02-08  38886.828125  46196.464844  \n",
       "        2021-02-09  46184.992188  46481.105469  \n",
       "        2021-02-10  46469.761719  44918.183594  \n",
       "        2021-02-11  44898.710938  47909.332031  \n",
       "        2021-02-12  47877.035156  47504.851562  \n",
       "        2021-02-13  47491.203125  47105.515625  \n",
       "        2021-02-14  47114.507812  48717.289062  \n",
       "        2021-02-15  48696.535156  47945.058594  \n",
       "        2021-02-16  47944.457031  49199.871094  \n",
       "        2021-02-17  49207.277344  52149.007812  \n",
       "        2021-02-18  52140.972656  51679.796875  \n",
       "        2021-02-19  51675.980469  55888.132812  \n",
       "        2021-02-20  55887.335938  56099.519531  \n",
       "        2021-02-21  57305.164062  57168.714844  "
      ],
      "text/html": "<div>\n<style scoped>\n    .dataframe tbody tr th:only-of-type {\n        vertical-align: middle;\n    }\n\n    .dataframe tbody tr th {\n        vertical-align: top;\n    }\n\n    .dataframe thead th {\n        text-align: right;\n    }\n</style>\n<table border=\"1\" class=\"dataframe\">\n  <thead>\n    <tr style=\"text-align: right;\">\n      <th></th>\n      <th></th>\n      <th>volume</th>\n      <th>close</th>\n      <th>high</th>\n      <th>low</th>\n      <th>open</th>\n      <th>adjclose</th>\n    </tr>\n    <tr>\n      <th>symbol</th>\n      <th>date</th>\n      <th></th>\n      <th></th>\n      <th></th>\n      <th></th>\n      <th></th>\n      <th></th>\n    </tr>\n  </thead>\n  <tbody>\n    <tr>\n      <th rowspan=\"30\" valign=\"top\">BTC-USD</th>\n      <th>2021-01-23</th>\n      <td>48354737975</td>\n      <td>32067.642578</td>\n      <td>33360.976562</td>\n      <td>31493.160156</td>\n      <td>32985.757812</td>\n      <td>32067.642578</td>\n    </tr>\n    <tr>\n      <th>2021-01-24</th>\n      <td>48643830599</td>\n      <td>32289.378906</td>\n      <td>32944.007812</td>\n      <td>31106.685547</td>\n      <td>32064.376953</td>\n      <td>32289.378906</td>\n    </tr>\n    <tr>\n      <th>2021-01-25</th>\n      <td>59897054838</td>\n      <td>32366.392578</td>\n      <td>34802.742188</td>\n      <td>32087.787109</td>\n      <td>32285.798828</td>\n      <td>32366.392578</td>\n    </tr>\n    <tr>\n      <th>2021-01-26</th>\n      <td>60255421470</td>\n      <td>32569.849609</td>\n      <td>32794.550781</td>\n      <td>31030.265625</td>\n      <td>32358.613281</td>\n      <td>32569.849609</td>\n    </tr>\n    <tr>\n      <th>2021-01-27</th>\n      <td>62576762015</td>\n      <td>30432.546875</td>\n      <td>32564.029297</td>\n      <td>29367.138672</td>\n      <td>32564.029297</td>\n      <td>30432.546875</td>\n    </tr>\n    <tr>\n      <th>2021-01-28</th>\n      <td>78948162368</td>\n      <td>31649.605469</td>\n      <td>31891.300781</td>\n      <td>30023.207031</td>\n      <td>30441.041016</td>\n      <td>31649.605469</td>\n    </tr>\n    <tr>\n      <th>2021-01-29</th>\n      <td>117894572511</td>\n      <td>34316.386719</td>\n      <td>38406.261719</td>\n      <td>32064.814453</td>\n      <td>34318.671875</td>\n      <td>34316.386719</td>\n    </tr>\n    <tr>\n      <th>2021-01-30</th>\n      <td>65141828798</td>\n      <td>34269.523438</td>\n      <td>34834.707031</td>\n      <td>32940.187500</td>\n      <td>34295.933594</td>\n      <td>34269.523438</td>\n    </tr>\n    <tr>\n      <th>2021-01-31</th>\n      <td>52754542671</td>\n      <td>33114.359375</td>\n      <td>34288.332031</td>\n      <td>32270.175781</td>\n      <td>34270.878906</td>\n      <td>33114.359375</td>\n    </tr>\n    <tr>\n      <th>2021-02-01</th>\n      <td>61400400660</td>\n      <td>33537.175781</td>\n      <td>34638.214844</td>\n      <td>32384.228516</td>\n      <td>33114.578125</td>\n      <td>33537.175781</td>\n    </tr>\n    <tr>\n      <th>2021-02-02</th>\n      <td>63088585433</td>\n      <td>35510.289062</td>\n      <td>35896.882812</td>\n      <td>33489.218750</td>\n      <td>33533.199219</td>\n      <td>35510.289062</td>\n    </tr>\n    <tr>\n      <th>2021-02-03</th>\n      <td>61166818159</td>\n      <td>37472.089844</td>\n      <td>37480.187500</td>\n      <td>35443.984375</td>\n      <td>35510.820312</td>\n      <td>37472.089844</td>\n    </tr>\n    <tr>\n      <th>2021-02-04</th>\n      <td>68838074392</td>\n      <td>36926.066406</td>\n      <td>38592.175781</td>\n      <td>36317.500000</td>\n      <td>37475.105469</td>\n      <td>36926.066406</td>\n    </tr>\n    <tr>\n      <th>2021-02-05</th>\n      <td>58598066402</td>\n      <td>38144.308594</td>\n      <td>38225.906250</td>\n      <td>36658.761719</td>\n      <td>36931.546875</td>\n      <td>38144.308594</td>\n    </tr>\n    <tr>\n      <th>2021-02-06</th>\n      <td>71326033653</td>\n      <td>39266.011719</td>\n      <td>40846.546875</td>\n      <td>38138.386719</td>\n      <td>38138.386719</td>\n      <td>39266.011719</td>\n    </tr>\n    <tr>\n      <th>2021-02-07</th>\n      <td>65500641143</td>\n      <td>38903.441406</td>\n      <td>39621.835938</td>\n      <td>37446.152344</td>\n      <td>39250.191406</td>\n      <td>38903.441406</td>\n    </tr>\n    <tr>\n      <th>2021-02-08</th>\n      <td>101467222687</td>\n      <td>46196.464844</td>\n      <td>46203.929688</td>\n      <td>38076.324219</td>\n      <td>38886.828125</td>\n      <td>46196.464844</td>\n    </tr>\n    <tr>\n      <th>2021-02-09</th>\n      <td>91809846886</td>\n      <td>46481.105469</td>\n      <td>48003.722656</td>\n      <td>45166.960938</td>\n      <td>46184.992188</td>\n      <td>46481.105469</td>\n    </tr>\n    <tr>\n      <th>2021-02-10</th>\n      <td>87301089896</td>\n      <td>44918.183594</td>\n      <td>47145.566406</td>\n      <td>43881.152344</td>\n      <td>46469.761719</td>\n      <td>44918.183594</td>\n    </tr>\n    <tr>\n      <th>2021-02-11</th>\n      <td>81388911810</td>\n      <td>47909.332031</td>\n      <td>48463.468750</td>\n      <td>44187.761719</td>\n      <td>44898.710938</td>\n      <td>47909.332031</td>\n    </tr>\n    <tr>\n      <th>2021-02-12</th>\n      <td>76555041196</td>\n      <td>47504.851562</td>\n      <td>48745.734375</td>\n      <td>46424.976562</td>\n      <td>47877.035156</td>\n      <td>47504.851562</td>\n    </tr>\n    <tr>\n      <th>2021-02-13</th>\n      <td>70250456155</td>\n      <td>47105.515625</td>\n      <td>48047.746094</td>\n      <td>46392.281250</td>\n      <td>47491.203125</td>\n      <td>47105.515625</td>\n    </tr>\n    <tr>\n      <th>2021-02-14</th>\n      <td>71248675228</td>\n      <td>48717.289062</td>\n      <td>49487.640625</td>\n      <td>47114.507812</td>\n      <td>47114.507812</td>\n      <td>48717.289062</td>\n    </tr>\n    <tr>\n      <th>2021-02-15</th>\n      <td>77069903166</td>\n      <td>47945.058594</td>\n      <td>48875.570312</td>\n      <td>46347.476562</td>\n      <td>48696.535156</td>\n      <td>47945.058594</td>\n    </tr>\n    <tr>\n      <th>2021-02-16</th>\n      <td>77049582886</td>\n      <td>49199.871094</td>\n      <td>50341.101562</td>\n      <td>47201.304688</td>\n      <td>47944.457031</td>\n      <td>49199.871094</td>\n    </tr>\n    <tr>\n      <th>2021-02-17</th>\n      <td>80820545404</td>\n      <td>52149.007812</td>\n      <td>52533.914062</td>\n      <td>49072.378906</td>\n      <td>49207.277344</td>\n      <td>52149.007812</td>\n    </tr>\n    <tr>\n      <th>2021-02-18</th>\n      <td>52054723579</td>\n      <td>51679.796875</td>\n      <td>52474.105469</td>\n      <td>51015.765625</td>\n      <td>52140.972656</td>\n      <td>51679.796875</td>\n    </tr>\n    <tr>\n      <th>2021-02-19</th>\n      <td>63495496918</td>\n      <td>55888.132812</td>\n      <td>56113.652344</td>\n      <td>50937.277344</td>\n      <td>51675.980469</td>\n      <td>55888.132812</td>\n    </tr>\n    <tr>\n      <th>2021-02-20</th>\n      <td>68145460026</td>\n      <td>56099.519531</td>\n      <td>57505.226562</td>\n      <td>54626.558594</td>\n      <td>55887.335938</td>\n      <td>56099.519531</td>\n    </tr>\n    <tr>\n      <th>2021-02-21</th>\n      <td>61896908800</td>\n      <td>57168.714844</td>\n      <td>57681.593750</td>\n      <td>55721.371094</td>\n      <td>57305.164062</td>\n      <td>57168.714844</td>\n    </tr>\n  </tbody>\n</table>\n</div>"
     },
     "metadata": {},
     "execution_count": 40
    }
   ],
   "source": [
    "api.Extract_Data(\"BTC-USD\", start = \"2021-01-23\", end = \"2021-02-23\", interval = \"1d\")"
   ]
  }
 ]
}