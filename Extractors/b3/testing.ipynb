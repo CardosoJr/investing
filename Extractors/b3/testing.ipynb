{
 "metadata": {
  "language_info": {
   "codemirror_mode": {
    "name": "ipython",
    "version": 3
   },
   "file_extension": ".py",
   "mimetype": "text/x-python",
   "name": "python",
   "nbconvert_exporter": "python",
   "pygments_lexer": "ipython3",
   "version": "3.8.5"
  },
  "orig_nbformat": 2,
  "kernelspec": {
   "name": "python3",
   "display_name": "Python 3.8.5 64-bit ('base': conda)"
  },
  "interpreter": {
   "hash": "b3ba2566441a7c06988d0923437866b63cedc61552a5af99d1f4fb67d367b25f"
  }
 },
 "nbformat": 4,
 "nbformat_minor": 2,
 "cells": [
  {
   "cell_type": "code",
   "execution_count": 1,
   "metadata": {},
   "outputs": [],
   "source": [
    "import pandas as pd \n",
    "import b3\n",
    "import yfinance as yf\n",
    "from yahooquery import Ticker"
   ]
  },
  {
   "cell_type": "code",
   "execution_count": 2,
   "metadata": {},
   "outputs": [],
   "source": [
    "b3 = b3.B3()"
   ]
  },
  {
   "cell_type": "code",
   "execution_count": 10,
   "metadata": {},
   "outputs": [],
   "source": [
    "def get_ticker_info(ticker):\n",
    "    info = yf.Ticker(ticker).info\n",
    "    return info['sector'], info['industry'], info['shortName'], info['longName'], "
   ]
  },
  {
   "cell_type": "code",
   "execution_count": 11,
   "metadata": {},
   "outputs": [
    {
     "output_type": "error",
     "ename": "TypeError",
     "evalue": "unhashable type: 'list'",
     "traceback": [
      "\u001b[1;31m---------------------------------------------------------------------------\u001b[0m",
      "\u001b[1;31mTypeError\u001b[0m                                 Traceback (most recent call last)",
      "\u001b[1;32m<ipython-input-11-2b862a4d117f>\u001b[0m in \u001b[0;36m<module>\u001b[1;34m\u001b[0m\n\u001b[1;32m----> 1\u001b[1;33m \u001b[0mget_ticker_info\u001b[0m\u001b[1;33m(\u001b[0m\u001b[1;34m\"WEGE3.SA\"\u001b[0m\u001b[1;33m)\u001b[0m\u001b[1;33m\u001b[0m\u001b[1;33m\u001b[0m\u001b[0m\n\u001b[0m",
      "\u001b[1;32m<ipython-input-10-08e1d74cb253>\u001b[0m in \u001b[0;36mget_ticker_info\u001b[1;34m(ticker)\u001b[0m\n\u001b[0;32m      1\u001b[0m \u001b[1;32mdef\u001b[0m \u001b[0mget_ticker_info\u001b[0m\u001b[1;33m(\u001b[0m\u001b[0mticker\u001b[0m\u001b[1;33m)\u001b[0m\u001b[1;33m:\u001b[0m\u001b[1;33m\u001b[0m\u001b[1;33m\u001b[0m\u001b[0m\n\u001b[1;32m----> 2\u001b[1;33m     \u001b[0myf\u001b[0m\u001b[1;33m.\u001b[0m\u001b[0mTicker\u001b[0m\u001b[1;33m(\u001b[0m\u001b[0mticker\u001b[0m\u001b[1;33m)\u001b[0m\u001b[1;33m.\u001b[0m\u001b[0minfo\u001b[0m\u001b[1;33m[\u001b[0m\u001b[1;33m[\u001b[0m\u001b[1;34m'sector'\u001b[0m\u001b[1;33m,\u001b[0m \u001b[1;34m'industry'\u001b[0m\u001b[1;33m,\u001b[0m \u001b[1;34m'shortName'\u001b[0m\u001b[1;33m,\u001b[0m \u001b[1;34m'longName'\u001b[0m\u001b[1;33m]\u001b[0m\u001b[1;33m]\u001b[0m\u001b[1;33m\u001b[0m\u001b[1;33m\u001b[0m\u001b[0m\n\u001b[0m",
      "\u001b[1;31mTypeError\u001b[0m: unhashable type: 'list'"
     ]
    }
   ],
   "source": [
    "get_ticker_info(\"WEGE3.SA\")"
   ]
  },
  {
   "cell_type": "code",
   "execution_count": 7,
   "metadata": {},
   "outputs": [],
   "source": [
    "a = yf.Ticker(\"ITSA4.SA\")"
   ]
  },
  {
   "cell_type": "code",
   "execution_count": 9,
   "metadata": {},
   "outputs": [
    {
     "output_type": "execute_result",
     "data": {
      "text/plain": [
       "{'zip': '01310-200',\n",
       " 'sector': 'Financial Services',\n",
       " 'fullTimeEmployees': 128000,\n",
       " 'longBusinessSummary': 'ItaÃºsa S.A., through its subsidiaries, operates in the financial and industrial markets in Brazil and internationally. The company offers credit and other financial services to individuals and corporates. It also manufactures and sells footwear, apparel, and textile items and related components, as well as leather, resin and natural or artificial rubber, and sports articles. In addition, the company offers bathroom porcelain and metals, showers, and electric taps; ceramic tiles, including floor and wall coatings, under the Deca, Ceusa, Cecrisa, Hydra, and Portinari brands; and pine and eucalyptus wood panels primarily used in the manufacture of medium, high, and super-density fiberboards, as well as chipboards under the Durafloor brand. Further, it engages in the transportation of gas through gas pipelines to distribution companies. ItaÃºsa S.A. was founded in 1966 and is headquartered in SÃ£o Paulo, Brazil.',\n",
       " 'city': 'SÃ£o Paulo',\n",
       " 'state': 'SP',\n",
       " 'country': 'Brazil',\n",
       " 'companyOfficers': [],\n",
       " 'website': 'http://www.itausa.com.br',\n",
       " 'maxAge': 1,\n",
       " 'address1': 'Av. Paulista, 1938',\n",
       " 'industry': 'Banks—Regional',\n",
       " 'address2': '5Âº andar Bela Vista',\n",
       " 'ebitdaMargins': 0.22294001,\n",
       " 'profitMargins': 1.27212,\n",
       " 'grossMargins': 0.31899,\n",
       " 'operatingCashflow': 1636999936,\n",
       " 'revenueGrowth': 0.522,\n",
       " 'operatingMargins': 0.12689,\n",
       " 'ebitda': 1446000000,\n",
       " 'targetLowPrice': 11.1,\n",
       " 'recommendationKey': 'none',\n",
       " 'grossProfits': 1852000000,\n",
       " 'freeCashflow': 1105500032,\n",
       " 'targetMedianPrice': 14.15,\n",
       " 'currentPrice': 11.08,\n",
       " 'earningsGrowth': 1.181,\n",
       " 'currentRatio': 2.282,\n",
       " 'returnOnAssets': 0.0074699996,\n",
       " 'numberOfAnalystOpinions': 10,\n",
       " 'targetMeanPrice': 13.75,\n",
       " 'debtToEquity': 9.733,\n",
       " 'returnOnEquity': 0.14744,\n",
       " 'targetHighPrice': 16.2,\n",
       " 'totalCash': 3993999872,\n",
       " 'totalDebt': 6022000128,\n",
       " 'totalRevenue': 6486000128,\n",
       " 'totalCashPerShare': 0.475,\n",
       " 'financialCurrency': 'BRL',\n",
       " 'revenuePerShare': 0.771,\n",
       " 'quickRatio': 1.756,\n",
       " 'recommendationMean': None,\n",
       " 'exchange': 'SAO',\n",
       " 'shortName': 'ITAUSA      PN      N1',\n",
       " 'longName': 'Itaúsa - Investimentos Itaú SA',\n",
       " 'exchangeTimezoneName': 'America/Sao_Paulo',\n",
       " 'exchangeTimezoneShortName': 'BRT',\n",
       " 'isEsgPopulated': False,\n",
       " 'gmtOffSetMilliseconds': '-10800000',\n",
       " 'quoteType': 'EQUITY',\n",
       " 'symbol': 'ITSA4.SA',\n",
       " 'messageBoardId': 'finmb_875352',\n",
       " 'market': 'br_market',\n",
       " 'annualHoldingsTurnover': None,\n",
       " 'enterpriseToRevenue': 15.417,\n",
       " 'beta3Year': None,\n",
       " 'enterpriseToEbitda': 69.153,\n",
       " '52WeekChange': 0.09737098,\n",
       " 'morningStarRiskRating': None,\n",
       " 'forwardEps': 1.34,\n",
       " 'revenueQuarterlyGrowth': None,\n",
       " 'sharesOutstanding': 5520979968,\n",
       " 'fundInceptionDate': None,\n",
       " 'annualReportExpenseRatio': None,\n",
       " 'totalAssets': None,\n",
       " 'bookValue': 6.979,\n",
       " 'sharesShort': None,\n",
       " 'sharesPercentSharesOut': None,\n",
       " 'fundFamily': None,\n",
       " 'lastFiscalYearEnd': 1609372800,\n",
       " 'heldPercentInstitutions': 0.24311,\n",
       " 'netIncomeToCommon': 8250999808,\n",
       " 'trailingEps': 0.981,\n",
       " 'lastDividendValue': 0.02,\n",
       " 'SandP52WeekChange': 0.35206044,\n",
       " 'priceToBook': 1.58762,\n",
       " 'heldPercentInsiders': 0.20538999,\n",
       " 'nextFiscalYearEnd': 1672444800,\n",
       " 'yield': None,\n",
       " 'mostRecentQuarter': 1617148800,\n",
       " 'shortRatio': None,\n",
       " 'sharesShortPreviousMonthDate': None,\n",
       " 'floatShares': 5192332489,\n",
       " 'beta': 1.115813,\n",
       " 'enterpriseValue': 99994886144,\n",
       " 'priceHint': 2,\n",
       " 'threeYearAverageReturn': None,\n",
       " 'lastSplitDate': 1527811200,\n",
       " 'lastSplitFactor': '11:10',\n",
       " 'legalType': None,\n",
       " 'lastDividendDate': 1622505600,\n",
       " 'morningStarOverallRating': None,\n",
       " 'earningsQuarterlyGrowth': 1.181,\n",
       " 'priceToSalesTrailing12Months': 14.530226,\n",
       " 'dateShortInterest': None,\n",
       " 'pegRatio': None,\n",
       " 'ytdReturn': None,\n",
       " 'forwardPE': 8.268657,\n",
       " 'lastCapGain': None,\n",
       " 'shortPercentOfFloat': None,\n",
       " 'sharesShortPriorMonth': None,\n",
       " 'impliedSharesOutstanding': 8410809856,\n",
       " 'category': None,\n",
       " 'fiveYearAverageReturn': None,\n",
       " 'previousClose': 11.27,\n",
       " 'regularMarketOpen': 11.28,\n",
       " 'twoHundredDayAverage': 10.8275,\n",
       " 'trailingAnnualDividendYield': 0.019254657,\n",
       " 'payoutRatio': 0.24159999,\n",
       " 'volume24Hr': None,\n",
       " 'regularMarketDayHigh': 11.31,\n",
       " 'navPrice': None,\n",
       " 'averageDailyVolume10Day': 28436287,\n",
       " 'regularMarketPreviousClose': 11.27,\n",
       " 'fiftyDayAverage': 11.483889,\n",
       " 'trailingAnnualDividendRate': 0.217,\n",
       " 'open': 11.28,\n",
       " 'toCurrency': None,\n",
       " 'averageVolume10days': 28436287,\n",
       " 'expireDate': None,\n",
       " 'algorithm': None,\n",
       " 'dividendRate': 0.08,\n",
       " 'exDividendDate': 1630454400,\n",
       " 'circulatingSupply': None,\n",
       " 'startDate': None,\n",
       " 'regularMarketDayLow': 11.07,\n",
       " 'currency': 'BRL',\n",
       " 'trailingPE': 11.294598,\n",
       " 'regularMarketVolume': 16802000,\n",
       " 'lastMarket': None,\n",
       " 'maxSupply': None,\n",
       " 'openInterest': None,\n",
       " 'marketCap': 94243045376,\n",
       " 'volumeAllCurrencies': None,\n",
       " 'strikePrice': None,\n",
       " 'averageVolume': 31499377,\n",
       " 'dayLow': 11.07,\n",
       " 'ask': 11.09,\n",
       " 'askSize': 0,\n",
       " 'volume': 16802000,\n",
       " 'fiftyTwoWeekHigh': 12.35,\n",
       " 'fromCurrency': None,\n",
       " 'fiveYearAvgDividendYield': 4.46,\n",
       " 'fiftyTwoWeekLow': 8.76,\n",
       " 'bid': 11.08,\n",
       " 'tradeable': False,\n",
       " 'dividendYield': 0.0070999996,\n",
       " 'bidSize': 0,\n",
       " 'dayHigh': 11.31,\n",
       " 'regularMarketPrice': 11.08,\n",
       " 'logo_url': 'https://logo.clearbit.com/itausa.com.br'}"
      ]
     },
     "metadata": {},
     "execution_count": 9
    }
   ],
   "source": [
    "a.info"
   ]
  },
  {
   "cell_type": "code",
   "execution_count": 11,
   "metadata": {},
   "outputs": [
    {
     "output_type": "stream",
     "name": "stdout",
     "text": [
      "- ATSA11.SA: No data found for this date range, symbol may be delisted\n"
     ]
    },
    {
     "output_type": "execute_result",
     "data": {
      "text/plain": [
       "Empty DataFrame\n",
       "Columns: [Open, High, Low, Close, Adj Close, Volume]\n",
       "Index: []"
      ],
      "text/html": "<div>\n<style scoped>\n    .dataframe tbody tr th:only-of-type {\n        vertical-align: middle;\n    }\n\n    .dataframe tbody tr th {\n        vertical-align: top;\n    }\n\n    .dataframe thead th {\n        text-align: right;\n    }\n</style>\n<table border=\"1\" class=\"dataframe\">\n  <thead>\n    <tr style=\"text-align: right;\">\n      <th></th>\n      <th>Open</th>\n      <th>High</th>\n      <th>Low</th>\n      <th>Close</th>\n      <th>Adj Close</th>\n      <th>Volume</th>\n    </tr>\n    <tr>\n      <th>Date</th>\n      <th></th>\n      <th></th>\n      <th></th>\n      <th></th>\n      <th></th>\n      <th></th>\n    </tr>\n  </thead>\n  <tbody>\n  </tbody>\n</table>\n</div>"
     },
     "metadata": {},
     "execution_count": 11
    }
   ],
   "source": [
    "yf.Ticker(\"ATSA11.SA\").history(start = \"2021-07-12\", end = \"2021-07-13\", interval = '1d', auto_adjust = False)"
   ]
  },
  {
   "cell_type": "code",
   "execution_count": 18,
   "metadata": {},
   "outputs": [
    {
     "output_type": "execute_result",
     "data": {
      "text/plain": [
       "[106.98999786376953, 107.0]"
      ]
     },
     "metadata": {},
     "execution_count": 18
    }
   ],
   "source": [
    "b3.Extract_Data(\"ATSA11.SA\", start = \"2021-07-12\", end = \"2021-07-13\", interval = '1m').reset_index()['close'].unique().tolist()"
   ]
  },
  {
   "cell_type": "code",
   "execution_count": null,
   "metadata": {},
   "outputs": [],
   "source": []
  },
  {
   "cell_type": "code",
   "execution_count": 89,
   "metadata": {},
   "outputs": [
    {
     "output_type": "execute_result",
     "data": {
      "text/plain": [
       "Timestamp('2021-07-13 11:48:00')"
      ]
     },
     "metadata": {},
     "execution_count": 89
    }
   ],
   "source": [
    "Ticker(\"BDLL4.SA\").history(start = \"2021-07-12\", end = \"2021-07-14\", interval = '1m').reset_index()['date'].min()\n"
   ]
  },
  {
   "cell_type": "code",
   "execution_count": 16,
   "metadata": {},
   "outputs": [
    {
     "output_type": "execute_result",
     "data": {
      "text/plain": [
       "Timestamp('2021-07-12 10:18:00')"
      ]
     },
     "metadata": {},
     "execution_count": 16
    }
   ],
   "source": [
    "b3.Extract_Data(\"JRDM11.SA\", start = \"2021-07-12\", end = \"2021-07-14\", interval = '1m').reset_index()['date'].min()"
   ]
  },
  {
   "cell_type": "code",
   "execution_count": 101,
   "metadata": {},
   "outputs": [
    {
     "output_type": "execute_result",
     "data": {
      "text/plain": [
       "{'JRDM11.SA': {'meta': {'currency': 'BRL',\n",
       "   'symbol': 'JRDM11.SA',\n",
       "   'exchangeName': 'SAO',\n",
       "   'instrumentType': 'EQUITY',\n",
       "   'firstTradeDate': 1407330000,\n",
       "   'regularMarketTime': 1626293100,\n",
       "   'gmtoffset': -10800,\n",
       "   'timezone': 'BRT',\n",
       "   'exchangeTimezoneName': 'America/Sao_Paulo',\n",
       "   'regularMarketPrice': 64.25,\n",
       "   'chartPreviousClose': 64.0,\n",
       "   'priceHint': 2,\n",
       "   'currentTradingPeriod': {'pre': {'timezone': 'BRT',\n",
       "     'start': 1626266700,\n",
       "     'end': 1626267600,\n",
       "     'gmtoffset': -10800},\n",
       "    'regular': {'timezone': 'BRT',\n",
       "     'start': 1626267600,\n",
       "     'end': 1626292800,\n",
       "     'gmtoffset': -10800},\n",
       "    'post': {'timezone': 'BRT',\n",
       "     'start': 1626292800,\n",
       "     'end': 1626296400,\n",
       "     'gmtoffset': -10800}},\n",
       "   'dataGranularity': '1d',\n",
       "   'range': '',\n",
       "   'validRanges': ['1d',\n",
       "    '5d',\n",
       "    '1mo',\n",
       "    '3mo',\n",
       "    '6mo',\n",
       "    '1y',\n",
       "    '2y',\n",
       "    '5y',\n",
       "    '10y',\n",
       "    'ytd',\n",
       "    'max']},\n",
       "  'indicators': {'quote': [{}], 'adjclose': [{}]}}}"
      ]
     },
     "metadata": {},
     "execution_count": 101
    }
   ],
   "source": [
    "b3.Extract_Data(\"JRDM11.SA\", start = \"2021-07-12\", end = \"2021-07-14\", interval = '1d')"
   ]
  },
  {
   "cell_type": "code",
   "execution_count": 2,
   "metadata": {},
   "outputs": [
    {
     "output_type": "execute_result",
     "data": {
      "text/plain": [
       "                High       Low      Open     Close   Volume  Adj Close\n",
       "Date                                                                  \n",
       "2000-01-03  2.318106  2.318106  2.318106  2.318106  65225.0   1.356192\n",
       "2000-01-04  2.301548  2.235316  2.301548  2.235316  25365.0   1.307758\n",
       "2000-01-05  2.235316  2.218758  2.235316  2.218758  15702.0   1.298070\n",
       "2000-01-06  2.169085  2.152527  2.152527  2.152527  85759.0   1.259322\n",
       "2000-01-07  2.334664  2.318106  2.334664  2.318106  31404.0   1.356192"
      ],
      "text/html": "<div>\n<style scoped>\n    .dataframe tbody tr th:only-of-type {\n        vertical-align: middle;\n    }\n\n    .dataframe tbody tr th {\n        vertical-align: top;\n    }\n\n    .dataframe thead th {\n        text-align: right;\n    }\n</style>\n<table border=\"1\" class=\"dataframe\">\n  <thead>\n    <tr style=\"text-align: right;\">\n      <th></th>\n      <th>High</th>\n      <th>Low</th>\n      <th>Open</th>\n      <th>Close</th>\n      <th>Volume</th>\n      <th>Adj Close</th>\n    </tr>\n    <tr>\n      <th>Date</th>\n      <th></th>\n      <th></th>\n      <th></th>\n      <th></th>\n      <th></th>\n      <th></th>\n    </tr>\n  </thead>\n  <tbody>\n    <tr>\n      <th>2000-01-03</th>\n      <td>2.318106</td>\n      <td>2.318106</td>\n      <td>2.318106</td>\n      <td>2.318106</td>\n      <td>65225.0</td>\n      <td>1.356192</td>\n    </tr>\n    <tr>\n      <th>2000-01-04</th>\n      <td>2.301548</td>\n      <td>2.235316</td>\n      <td>2.301548</td>\n      <td>2.235316</td>\n      <td>25365.0</td>\n      <td>1.307758</td>\n    </tr>\n    <tr>\n      <th>2000-01-05</th>\n      <td>2.235316</td>\n      <td>2.218758</td>\n      <td>2.235316</td>\n      <td>2.218758</td>\n      <td>15702.0</td>\n      <td>1.298070</td>\n    </tr>\n    <tr>\n      <th>2000-01-06</th>\n      <td>2.169085</td>\n      <td>2.152527</td>\n      <td>2.152527</td>\n      <td>2.152527</td>\n      <td>85759.0</td>\n      <td>1.259322</td>\n    </tr>\n    <tr>\n      <th>2000-01-07</th>\n      <td>2.334664</td>\n      <td>2.318106</td>\n      <td>2.334664</td>\n      <td>2.318106</td>\n      <td>31404.0</td>\n      <td>1.356192</td>\n    </tr>\n  </tbody>\n</table>\n</div>"
     },
     "metadata": {},
     "execution_count": 2
    }
   ],
   "source": [
    "# escolher a ação desejada\n",
    "acao = 'ITUB3.SA'\n",
    " \n",
    "# importar dados para o DataFrame\n",
    "df = web.DataReader(acao, data_source='yahoo', start='01-01-2000')\n",
    " \n",
    "# ver as 5 primeiras entradas\n",
    "df.head()"
   ]
  },
  {
   "cell_type": "code",
   "execution_count": 2,
   "metadata": {},
   "outputs": [],
   "source": [
    "import b3"
   ]
  },
  {
   "cell_type": "code",
   "execution_count": 3,
   "metadata": {},
   "outputs": [],
   "source": [
    "api = b3.B3()"
   ]
  },
  {
   "cell_type": "code",
   "execution_count": 23,
   "metadata": {},
   "outputs": [
    {
     "output_type": "execute_result",
     "data": {
      "text/plain": [
       "{'MMXM3.SA': {'meta': {'currency': 'BRL',\n",
       "   'symbol': 'MMXM3.SA',\n",
       "   'exchangeName': 'SAO',\n",
       "   'instrumentType': 'EQUITY',\n",
       "   'firstTradeDate': 1145019600,\n",
       "   'regularMarketTime': 1621455191,\n",
       "   'gmtoffset': -10800,\n",
       "   'timezone': 'BRT',\n",
       "   'exchangeTimezoneName': 'America/Sao_Paulo',\n",
       "   'regularMarketPrice': 14.0,\n",
       "   'chartPreviousClose': 14.0,\n",
       "   'previousClose': 14.0,\n",
       "   'scale': 3,\n",
       "   'priceHint': 2,\n",
       "   'currentTradingPeriod': {'pre': {'timezone': 'BRT',\n",
       "     'start': 1624625100,\n",
       "     'end': 1624626000,\n",
       "     'gmtoffset': -10800},\n",
       "    'regular': {'timezone': 'BRT',\n",
       "     'start': 1624626000,\n",
       "     'end': 1624651200,\n",
       "     'gmtoffset': -10800},\n",
       "    'post': {'timezone': 'BRT',\n",
       "     'start': 1624651200,\n",
       "     'end': 1624654800,\n",
       "     'gmtoffset': -10800}},\n",
       "   'dataGranularity': '1m',\n",
       "   'range': '',\n",
       "   'validRanges': ['1d',\n",
       "    '5d',\n",
       "    '1mo',\n",
       "    '3mo',\n",
       "    '6mo',\n",
       "    '1y',\n",
       "    '2y',\n",
       "    '5y',\n",
       "    '10y',\n",
       "    'ytd',\n",
       "    'max']},\n",
       "  'indicators': {'quote': [{}]}}}"
      ]
     },
     "metadata": {},
     "execution_count": 23
    }
   ],
   "source": [
    "a = api.Extract_Data('MMXM3.SA', \"2021-06-20\", \"2021-06-25\", '1m')\n",
    "a"
   ]
  },
  {
   "cell_type": "code",
   "execution_count": 20,
   "metadata": {},
   "outputs": [
    {
     "output_type": "execute_result",
     "data": {
      "text/plain": [
       "'{\"PETR4.SA\": \"1m data not available for startTime=1621479600 and endTime=1621911600. The requested range must be within the last 30 days.\"}'"
      ]
     },
     "metadata": {},
     "execution_count": 20
    }
   ],
   "source": [
    "import json\n",
    "json.dumps(a)"
   ]
  },
  {
   "cell_type": "code",
   "execution_count": null,
   "metadata": {},
   "outputs": [],
   "source": []
  },
  {
   "cell_type": "code",
   "execution_count": 11,
   "metadata": {},
   "outputs": [],
   "source": [
    "df = api.Extract_History(\"^BVSP\")"
   ]
  },
  {
   "cell_type": "code",
   "execution_count": 9,
   "metadata": {},
   "outputs": [],
   "source": [
    "df = df.reset_index()"
   ]
  },
  {
   "cell_type": "code",
   "execution_count": 12,
   "metadata": {},
   "outputs": [
    {
     "output_type": "execute_result",
     "data": {
      "text/plain": [
       "                           close           open      volume            low  \\\n",
       "symbol date                                                                  \n",
       "^BVSP  1993-04-27      24.500000      24.799999         0.0      24.500000   \n",
       "       1993-04-28      24.299999      24.500000         0.0      23.700001   \n",
       "       1993-04-29      23.700001      24.299999         0.0      23.700001   \n",
       "       1993-04-30      24.100000      23.700001         0.0      23.700001   \n",
       "       1993-05-03      24.100000      24.100000         0.0      23.799999   \n",
       "...                          ...            ...         ...            ...   \n",
       "       2021-02-22  112668.000000  118388.000000  21768700.0  111650.000000   \n",
       "       2021-02-23  115227.000000  112676.000000  15174900.0  112667.000000   \n",
       "       2021-02-24  115668.000000  115229.000000  11399300.0  114668.000000   \n",
       "       2021-02-25  112256.000000  115668.000000  12466500.0  111764.000000   \n",
       "       2021-02-26  110035.000000  112260.000000  14618500.0  109827.000000   \n",
       "\n",
       "                            high       adjclose  \n",
       "symbol date                                      \n",
       "^BVSP  1993-04-27      25.400000      24.500000  \n",
       "       1993-04-28      24.600000      24.299999  \n",
       "       1993-04-29      24.799999      23.700001  \n",
       "       1993-04-30      24.200001      24.100000  \n",
       "       1993-05-03      24.400000      24.100000  \n",
       "...                          ...            ...  \n",
       "       2021-02-22  118388.000000  112668.000000  \n",
       "       2021-02-23  115380.000000  115227.000000  \n",
       "       2021-02-24  116208.000000  115668.000000  \n",
       "       2021-02-25  116506.000000  112256.000000  \n",
       "       2021-02-26  113466.000000  110035.000000  \n",
       "\n",
       "[6883 rows x 6 columns]"
      ],
      "text/html": "<div>\n<style scoped>\n    .dataframe tbody tr th:only-of-type {\n        vertical-align: middle;\n    }\n\n    .dataframe tbody tr th {\n        vertical-align: top;\n    }\n\n    .dataframe thead th {\n        text-align: right;\n    }\n</style>\n<table border=\"1\" class=\"dataframe\">\n  <thead>\n    <tr style=\"text-align: right;\">\n      <th></th>\n      <th></th>\n      <th>close</th>\n      <th>open</th>\n      <th>volume</th>\n      <th>low</th>\n      <th>high</th>\n      <th>adjclose</th>\n    </tr>\n    <tr>\n      <th>symbol</th>\n      <th>date</th>\n      <th></th>\n      <th></th>\n      <th></th>\n      <th></th>\n      <th></th>\n      <th></th>\n    </tr>\n  </thead>\n  <tbody>\n    <tr>\n      <th rowspan=\"11\" valign=\"top\">^BVSP</th>\n      <th>1993-04-27</th>\n      <td>24.500000</td>\n      <td>24.799999</td>\n      <td>0.0</td>\n      <td>24.500000</td>\n      <td>25.400000</td>\n      <td>24.500000</td>\n    </tr>\n    <tr>\n      <th>1993-04-28</th>\n      <td>24.299999</td>\n      <td>24.500000</td>\n      <td>0.0</td>\n      <td>23.700001</td>\n      <td>24.600000</td>\n      <td>24.299999</td>\n    </tr>\n    <tr>\n      <th>1993-04-29</th>\n      <td>23.700001</td>\n      <td>24.299999</td>\n      <td>0.0</td>\n      <td>23.700001</td>\n      <td>24.799999</td>\n      <td>23.700001</td>\n    </tr>\n    <tr>\n      <th>1993-04-30</th>\n      <td>24.100000</td>\n      <td>23.700001</td>\n      <td>0.0</td>\n      <td>23.700001</td>\n      <td>24.200001</td>\n      <td>24.100000</td>\n    </tr>\n    <tr>\n      <th>1993-05-03</th>\n      <td>24.100000</td>\n      <td>24.100000</td>\n      <td>0.0</td>\n      <td>23.799999</td>\n      <td>24.400000</td>\n      <td>24.100000</td>\n    </tr>\n    <tr>\n      <th>...</th>\n      <td>...</td>\n      <td>...</td>\n      <td>...</td>\n      <td>...</td>\n      <td>...</td>\n      <td>...</td>\n    </tr>\n    <tr>\n      <th>2021-02-22</th>\n      <td>112668.000000</td>\n      <td>118388.000000</td>\n      <td>21768700.0</td>\n      <td>111650.000000</td>\n      <td>118388.000000</td>\n      <td>112668.000000</td>\n    </tr>\n    <tr>\n      <th>2021-02-23</th>\n      <td>115227.000000</td>\n      <td>112676.000000</td>\n      <td>15174900.0</td>\n      <td>112667.000000</td>\n      <td>115380.000000</td>\n      <td>115227.000000</td>\n    </tr>\n    <tr>\n      <th>2021-02-24</th>\n      <td>115668.000000</td>\n      <td>115229.000000</td>\n      <td>11399300.0</td>\n      <td>114668.000000</td>\n      <td>116208.000000</td>\n      <td>115668.000000</td>\n    </tr>\n    <tr>\n      <th>2021-02-25</th>\n      <td>112256.000000</td>\n      <td>115668.000000</td>\n      <td>12466500.0</td>\n      <td>111764.000000</td>\n      <td>116506.000000</td>\n      <td>112256.000000</td>\n    </tr>\n    <tr>\n      <th>2021-02-26</th>\n      <td>110035.000000</td>\n      <td>112260.000000</td>\n      <td>14618500.0</td>\n      <td>109827.000000</td>\n      <td>113466.000000</td>\n      <td>110035.000000</td>\n    </tr>\n  </tbody>\n</table>\n<p>6883 rows × 6 columns</p>\n</div>"
     },
     "metadata": {},
     "execution_count": 12
    }
   ],
   "source": [
    "df"
   ]
  },
  {
   "cell_type": "code",
   "execution_count": 14,
   "metadata": {},
   "outputs": [],
   "source": [
    "import pandas as pd\n",
    "df['date'] = pd.to_datetime(df['date'])"
   ]
  },
  {
   "cell_type": "code",
   "execution_count": 1,
   "metadata": {},
   "outputs": [],
   "source": [
    "from yahooquery import Ticker\n",
    "import pandas as pd"
   ]
  },
  {
   "cell_type": "code",
   "execution_count": 3,
   "metadata": {},
   "outputs": [],
   "source": [
    "itau = Ticker(\"ITSA4.SA\")"
   ]
  },
  {
   "cell_type": "code",
   "execution_count": 7,
   "metadata": {},
   "outputs": [
    {
     "output_type": "execute_result",
     "data": {
      "text/plain": [
       "{'ITSA4.SA': {'language': 'en-US',\n",
       "  'region': 'US',\n",
       "  'quoteType': 'EQUITY',\n",
       "  'quoteSourceName': 'Delayed Quote',\n",
       "  'triggerable': False,\n",
       "  'currency': 'BRL',\n",
       "  'regularMarketChange': 0.7400007,\n",
       "  'regularMarketChangePercent': 7.56647,\n",
       "  'regularMarketTime': 1614114502,\n",
       "  'regularMarketPrice': 10.52,\n",
       "  'regularMarketDayHigh': 0.0,\n",
       "  'regularMarketDayRange': '0.0 - 0.0',\n",
       "  'regularMarketDayLow': 0.0,\n",
       "  'regularMarketVolume': 0,\n",
       "  'regularMarketPreviousClose': 9.78,\n",
       "  'bid': 10.52,\n",
       "  'ask': 10.45,\n",
       "  'bidSize': 0,\n",
       "  'askSize': 0,\n",
       "  'fullExchangeName': 'Sao Paolo',\n",
       "  'financialCurrency': 'BRL',\n",
       "  'regularMarketOpen': 0.0,\n",
       "  'averageDailyVolume3Month': 25691780,\n",
       "  'averageDailyVolume10Day': 28910983,\n",
       "  'fiftyTwoWeekLowChange': 10.52,\n",
       "  'fiftyTwoWeekRange': '0.0 - 12.81',\n",
       "  'fiftyTwoWeekHighChange': -2.29,\n",
       "  'fiftyTwoWeekHighChangePercent': -0.17876658,\n",
       "  'fiftyTwoWeekLow': 0.0,\n",
       "  'fiftyTwoWeekHigh': 12.81,\n",
       "  'earningsTimestamp': 1614072600,\n",
       "  'earningsTimestampStart': 1614072600,\n",
       "  'earningsTimestampEnd': 1614072600,\n",
       "  'trailingAnnualDividendRate': 0.549,\n",
       "  'trailingPE': 12.923833,\n",
       "  'trailingAnnualDividendYield': 0.056134973,\n",
       "  'epsTrailingTwelveMonths': 0.814,\n",
       "  'epsForward': 1.34,\n",
       "  'tradeable': False,\n",
       "  'firstTradeDateMilliseconds': 946900800000,\n",
       "  'priceHint': 2,\n",
       "  'marketState': 'PREPRE',\n",
       "  'sharesOutstanding': 5520979968,\n",
       "  'bookValue': 6.479,\n",
       "  'fiftyDayAverage': 11.044723,\n",
       "  'fiftyDayAverageChange': -0.5247221,\n",
       "  'fiftyDayAverageChangePercent': -0.047508854,\n",
       "  'twoHundredDayAverage': 10.328723,\n",
       "  'twoHundredDayAverageChange': 0.1912775,\n",
       "  'twoHundredDayAverageChangePercent': 0.018518988,\n",
       "  'marketCap': 92740435968,\n",
       "  'forwardPE': 7.8507466,\n",
       "  'priceToBook': 1.6237074,\n",
       "  'sourceInterval': 15,\n",
       "  'exchangeDataDelayedBy': 0,\n",
       "  'exchange': 'SAO',\n",
       "  'shortName': 'ITAUSA      PN      N1',\n",
       "  'longName': 'Itaúsa - Investimentos Itaú SA',\n",
       "  'messageBoardId': 'finmb_875352',\n",
       "  'exchangeTimezoneName': 'America/Sao_Paulo',\n",
       "  'exchangeTimezoneShortName': 'BRT',\n",
       "  'gmtOffSetMilliseconds': -10800000,\n",
       "  'market': 'br_market',\n",
       "  'esgPopulated': False}}"
      ]
     },
     "metadata": {},
     "execution_count": 7
    }
   ],
   "source": [
    "itau.quotes"
   ]
  },
  {
   "cell_type": "code",
   "execution_count": 13,
   "metadata": {},
   "outputs": [
    {
     "output_type": "execute_result",
     "data": {
      "text/plain": [
       "     symbol                date      close       high        low  volume  \\\n",
       "0  ITUB3.SA 2021-02-19 10:00:00  25.139999  25.260000  25.110001   24200   \n",
       "1  ITUB3.SA 2021-02-19 11:00:00  25.160000  25.340000  25.100000   29100   \n",
       "2  ITUB3.SA 2021-02-19 12:00:00  25.280001  25.360001  25.160000   41800   \n",
       "3  ITUB3.SA 2021-02-19 13:00:00  25.250000  25.330000  25.230000   16900   \n",
       "4  ITUB3.SA 2021-02-19 14:00:00  24.980000  25.260000  24.930000   77600   \n",
       "5  ITUB3.SA 2021-02-19 15:00:00  25.020000  25.030001  24.840000   63700   \n",
       "\n",
       "        open  \n",
       "0  25.160000  \n",
       "1  25.129999  \n",
       "2  25.160000  \n",
       "3  25.270000  \n",
       "4  25.250000  \n",
       "5  24.969999  "
      ],
      "text/html": "<div>\n<style scoped>\n    .dataframe tbody tr th:only-of-type {\n        vertical-align: middle;\n    }\n\n    .dataframe tbody tr th {\n        vertical-align: top;\n    }\n\n    .dataframe thead th {\n        text-align: right;\n    }\n</style>\n<table border=\"1\" class=\"dataframe\">\n  <thead>\n    <tr style=\"text-align: right;\">\n      <th></th>\n      <th>symbol</th>\n      <th>date</th>\n      <th>close</th>\n      <th>high</th>\n      <th>low</th>\n      <th>volume</th>\n      <th>open</th>\n    </tr>\n  </thead>\n  <tbody>\n    <tr>\n      <th>0</th>\n      <td>ITUB3.SA</td>\n      <td>2021-02-19 10:00:00</td>\n      <td>25.139999</td>\n      <td>25.260000</td>\n      <td>25.110001</td>\n      <td>24200</td>\n      <td>25.160000</td>\n    </tr>\n    <tr>\n      <th>1</th>\n      <td>ITUB3.SA</td>\n      <td>2021-02-19 11:00:00</td>\n      <td>25.160000</td>\n      <td>25.340000</td>\n      <td>25.100000</td>\n      <td>29100</td>\n      <td>25.129999</td>\n    </tr>\n    <tr>\n      <th>2</th>\n      <td>ITUB3.SA</td>\n      <td>2021-02-19 12:00:00</td>\n      <td>25.280001</td>\n      <td>25.360001</td>\n      <td>25.160000</td>\n      <td>41800</td>\n      <td>25.160000</td>\n    </tr>\n    <tr>\n      <th>3</th>\n      <td>ITUB3.SA</td>\n      <td>2021-02-19 13:00:00</td>\n      <td>25.250000</td>\n      <td>25.330000</td>\n      <td>25.230000</td>\n      <td>16900</td>\n      <td>25.270000</td>\n    </tr>\n    <tr>\n      <th>4</th>\n      <td>ITUB3.SA</td>\n      <td>2021-02-19 14:00:00</td>\n      <td>24.980000</td>\n      <td>25.260000</td>\n      <td>24.930000</td>\n      <td>77600</td>\n      <td>25.250000</td>\n    </tr>\n    <tr>\n      <th>5</th>\n      <td>ITUB3.SA</td>\n      <td>2021-02-19 15:00:00</td>\n      <td>25.020000</td>\n      <td>25.030001</td>\n      <td>24.840000</td>\n      <td>63700</td>\n      <td>24.969999</td>\n    </tr>\n  </tbody>\n</table>\n</div>"
     },
     "metadata": {},
     "execution_count": 13
    }
   ],
   "source": [
    "itau.history(period = \"1d\", interval =\"1h\").reset_index()"
   ]
  },
  {
   "cell_type": "code",
   "execution_count": 41,
   "metadata": {},
   "outputs": [
    {
     "output_type": "execute_result",
     "data": {
      "text/plain": [
       "{'ITUB3.SA': {'symbol': 'ITUB3.SA',\n",
       "  'sigDevs': [{'headline': \"Brazil's Itau Unibanco CEO Maluhy says bank unlikely to close branches this year\",\n",
       "    'date': '2021-02-02'}]}}"
      ]
     },
     "metadata": {},
     "execution_count": 41
    }
   ],
   "source": [
    "itau.technical_insights"
   ]
  },
  {
   "cell_type": "code",
   "execution_count": 71,
   "metadata": {},
   "outputs": [],
   "source": [
    "fii = Ticker(\"HGLG11.SA\")"
   ]
  },
  {
   "cell_type": "code",
   "execution_count": 76,
   "metadata": {},
   "outputs": [],
   "source": [
    "aa = fii.summary_detail"
   ]
  },
  {
   "cell_type": "code",
   "execution_count": 82,
   "metadata": {},
   "outputs": [],
   "source": [
    "df = pd.DataFrame([aa[\"HGLG11.SA\"]])\n",
    "df['Ticker'] = [\"HGLG11.SA\"] * len(df)"
   ]
  },
  {
   "cell_type": "code",
   "execution_count": 83,
   "metadata": {},
   "outputs": [
    {
     "output_type": "execute_result",
     "data": {
      "text/plain": [
       "   maxAge  priceHint  previousClose   open  dayLow  dayHigh  \\\n",
       "0       1          2          178.3  178.3   178.0    178.8   \n",
       "\n",
       "   regularMarketPreviousClose  regularMarketOpen  regularMarketDayLow  \\\n",
       "0                       178.3              178.3                178.0   \n",
       "\n",
       "   regularMarketDayHigh  ...  priceToSalesTrailing12Months  fiftyDayAverage  \\\n",
       "0                 178.8  ...                     15.234007        179.96584   \n",
       "\n",
       "  twoHundredDayAverage  currency  fromCurrency  toCurrency  lastMarket  \\\n",
       "0             174.3225       BRL          None        None        None   \n",
       "\n",
       "   algorithm  tradeable     Ticker  \n",
       "0       None      False  HGLG11.SA  \n",
       "\n",
       "[1 rows x 37 columns]"
      ],
      "text/html": "<div>\n<style scoped>\n    .dataframe tbody tr th:only-of-type {\n        vertical-align: middle;\n    }\n\n    .dataframe tbody tr th {\n        vertical-align: top;\n    }\n\n    .dataframe thead th {\n        text-align: right;\n    }\n</style>\n<table border=\"1\" class=\"dataframe\">\n  <thead>\n    <tr style=\"text-align: right;\">\n      <th></th>\n      <th>maxAge</th>\n      <th>priceHint</th>\n      <th>previousClose</th>\n      <th>open</th>\n      <th>dayLow</th>\n      <th>dayHigh</th>\n      <th>regularMarketPreviousClose</th>\n      <th>regularMarketOpen</th>\n      <th>regularMarketDayLow</th>\n      <th>regularMarketDayHigh</th>\n      <th>...</th>\n      <th>priceToSalesTrailing12Months</th>\n      <th>fiftyDayAverage</th>\n      <th>twoHundredDayAverage</th>\n      <th>currency</th>\n      <th>fromCurrency</th>\n      <th>toCurrency</th>\n      <th>lastMarket</th>\n      <th>algorithm</th>\n      <th>tradeable</th>\n      <th>Ticker</th>\n    </tr>\n  </thead>\n  <tbody>\n    <tr>\n      <th>0</th>\n      <td>1</td>\n      <td>2</td>\n      <td>178.3</td>\n      <td>178.3</td>\n      <td>178.0</td>\n      <td>178.8</td>\n      <td>178.3</td>\n      <td>178.3</td>\n      <td>178.0</td>\n      <td>178.8</td>\n      <td>...</td>\n      <td>15.234007</td>\n      <td>179.96584</td>\n      <td>174.3225</td>\n      <td>BRL</td>\n      <td>None</td>\n      <td>None</td>\n      <td>None</td>\n      <td>None</td>\n      <td>False</td>\n      <td>HGLG11.SA</td>\n    </tr>\n  </tbody>\n</table>\n<p>1 rows × 37 columns</p>\n</div>"
     },
     "metadata": {},
     "execution_count": 83
    }
   ],
   "source": [
    "df"
   ]
  },
  {
   "cell_type": "code",
   "execution_count": 14,
   "metadata": {},
   "outputs": [],
   "source": [
    "from datetime import datetime"
   ]
  },
  {
   "cell_type": "code",
   "execution_count": 30,
   "metadata": {},
   "outputs": [
    {
     "output_type": "execute_result",
     "data": {
      "text/plain": [
       "datetime.datetime(2020, 5, 1, 0, 0)"
      ]
     },
     "metadata": {},
     "execution_count": 30
    }
   ],
   "source": [
    "datetime.strptime(\"202005\", \"%Y%m\")"
   ]
  },
  {
   "cell_type": "code",
   "execution_count": 25,
   "metadata": {},
   "outputs": [
    {
     "output_type": "execute_result",
     "data": {
      "text/plain": [
       "'202107'"
      ]
     },
     "metadata": {},
     "execution_count": 25
    }
   ],
   "source": [
    "datetime.now().strftime(\"%Y%W\")"
   ]
  },
  {
   "cell_type": "code",
   "execution_count": 31,
   "metadata": {},
   "outputs": [],
   "source": [
    "a = [1, 2 ,3]"
   ]
  },
  {
   "cell_type": "code",
   "execution_count": 2,
   "metadata": {},
   "outputs": [
    {
     "output_type": "error",
     "ename": "SyntaxError",
     "evalue": "invalid syntax (<ipython-input-2-13e5a4df945d>, line 1)",
     "traceback": [
      "\u001b[1;36m  File \u001b[1;32m\"<ipython-input-2-13e5a4df945d>\"\u001b[1;36m, line \u001b[1;32m1\u001b[0m\n\u001b[1;33m    a = [-1, -2, 3, 4 0, 1, -4, 10]\u001b[0m\n\u001b[1;37m                      ^\u001b[0m\n\u001b[1;31mSyntaxError\u001b[0m\u001b[1;31m:\u001b[0m invalid syntax\n"
     ]
    }
   ],
   "source": [
    "a = [-1, -2, 3, 4 0, 1, -4, 10]"
   ]
  },
  {
   "cell_type": "code",
   "execution_count": 3,
   "metadata": {},
   "outputs": [
    {
     "output_type": "error",
     "ename": "NameError",
     "evalue": "name 'norm' is not defined",
     "traceback": [
      "\u001b[1;31m---------------------------------------------------------------------------\u001b[0m",
      "\u001b[1;31mNameError\u001b[0m                                 Traceback (most recent call last)",
      "\u001b[1;32m<ipython-input-3-3553f6a1208c>\u001b[0m in \u001b[0;36m<module>\u001b[1;34m\u001b[0m\n\u001b[1;32m----> 1\u001b[1;33m \u001b[0mnorm\u001b[0m\u001b[1;33m(\u001b[0m\u001b[0ma\u001b[0m\u001b[1;33m)\u001b[0m\u001b[1;33m\u001b[0m\u001b[1;33m\u001b[0m\u001b[0m\n\u001b[0m",
      "\u001b[1;31mNameError\u001b[0m: name 'norm' is not defined"
     ]
    }
   ],
   "source": [
    "norm(a)"
   ]
  },
  {
   "cell_type": "code",
   "execution_count": 1,
   "metadata": {},
   "outputs": [],
   "source": [
    "from yahooquery import Ticker\n"
   ]
  },
  {
   "cell_type": "code",
   "execution_count": 2,
   "metadata": {},
   "outputs": [],
   "source": [
    "a = Ticker(\"WEGE3.SA\")"
   ]
  },
  {
   "cell_type": "code",
   "execution_count": 1,
   "metadata": {},
   "outputs": [
    {
     "output_type": "execute_result",
     "data": {
      "text/plain": [
       "{'zip': '89256-900',\n",
       " 'sector': 'Industrials',\n",
       " 'fullTimeEmployees': 33342,\n",
       " 'longBusinessSummary': 'WEG S.A. engages in the production and trade of capital goods in Brazil and internationally. The company offers electric motors, generators, and transformers; gear units and geared motors; hydraulic and steam turbines; frequency converters; motor starters and maneuver devices; control and protection of electric circuits and industrial automation; power sockets and switches; and electric traction solutions for heavy vehicles, utility vehicles and locomotives, and urban and sea transportation. It also provides solutions for the generation of renewable and distributed energy through hydro, thermal biomass, wind, and solar energy power plants; no-breaks and alternators for groups of generators; conventional and movable electric substations; industrial electro electronic equipment systems; industrial paint and varnish; and paints for automotive repainting. WEG S.A. was founded in 1961 and is headquartered in Jaragua do Sul, Brazil.',\n",
       " 'city': 'JaraguÃ¡ do Sul',\n",
       " 'phone': '55 47 3276 4000',\n",
       " 'state': 'SC',\n",
       " 'country': 'Brazil',\n",
       " 'companyOfficers': [],\n",
       " 'website': 'http://www.weg.net/institutional/BR/en/',\n",
       " 'maxAge': 1,\n",
       " 'address1': 'Avenida Prefeito Waldemar Grubba, 3300',\n",
       " 'industry': 'Specialty Industrial Machinery',\n",
       " 'previousClose': 33.5425,\n",
       " 'regularMarketOpen': 33.56,\n",
       " 'twoHundredDayAverage': 37.633488,\n",
       " 'trailingAnnualDividendYield': 0.008914065,\n",
       " 'payoutRatio': 0.21280001,\n",
       " 'volume24Hr': None,\n",
       " 'regularMarketDayHigh': 34.14,\n",
       " 'navPrice': None,\n",
       " 'averageDailyVolume10Day': 7492766,\n",
       " 'totalAssets': None,\n",
       " 'regularMarketPreviousClose': 33.5425,\n",
       " 'fiftyDayAverage': 33.462856,\n",
       " 'trailingAnnualDividendRate': 0.299,\n",
       " 'open': 33.56,\n",
       " 'toCurrency': None,\n",
       " 'averageVolume10days': 7492766,\n",
       " 'expireDate': None,\n",
       " 'yield': None,\n",
       " 'algorithm': None,\n",
       " 'dividendRate': 0.08,\n",
       " 'exDividendDate': 1624838400,\n",
       " 'beta': 0.989337,\n",
       " 'circulatingSupply': None,\n",
       " 'startDate': None,\n",
       " 'regularMarketDayLow': 32.85,\n",
       " 'priceHint': 2,\n",
       " 'currency': 'BRL',\n",
       " 'trailingPE': 53.03937,\n",
       " 'regularMarketVolume': 2038800,\n",
       " 'lastMarket': None,\n",
       " 'maxSupply': None,\n",
       " 'openInterest': None,\n",
       " 'marketCap': 141741277184,\n",
       " 'volumeAllCurrencies': None,\n",
       " 'strikePrice': None,\n",
       " 'averageVolume': 9184082,\n",
       " 'priceToSalesTrailing12Months': 7.526619,\n",
       " 'dayLow': 32.85,\n",
       " 'ask': 33.68,\n",
       " 'ytdReturn': None,\n",
       " 'askSize': 0,\n",
       " 'volume': 2038800,\n",
       " 'fiftyTwoWeekHigh': 46.93,\n",
       " 'forwardPE': 45.51351,\n",
       " 'fromCurrency': None,\n",
       " 'fiveYearAvgDividendYield': 1.18,\n",
       " 'fiftyTwoWeekLow': 24.605,\n",
       " 'bid': 33.66,\n",
       " 'tradeable': False,\n",
       " 'dividendYield': 0.0023999999,\n",
       " 'bidSize': 0,\n",
       " 'dayHigh': 34.14,\n",
       " 'exchange': 'SAO',\n",
       " 'shortName': 'WEG         ON      NM',\n",
       " 'longName': 'WEG S.A.',\n",
       " 'exchangeTimezoneName': 'America/Sao_Paulo',\n",
       " 'exchangeTimezoneShortName': 'BRT',\n",
       " 'isEsgPopulated': False,\n",
       " 'gmtOffSetMilliseconds': '-10800000',\n",
       " 'quoteType': 'EQUITY',\n",
       " 'symbol': 'WEGE3.SA',\n",
       " 'messageBoardId': 'finmb_879809',\n",
       " 'market': 'br_market',\n",
       " 'annualHoldingsTurnover': None,\n",
       " 'enterpriseToRevenue': 7.406,\n",
       " 'beta3Year': None,\n",
       " 'profitMargins': 0.14152001,\n",
       " 'enterpriseToEbitda': 39.463,\n",
       " '52WeekChange': 0.34054482,\n",
       " 'morningStarRiskRating': None,\n",
       " 'forwardEps': 0.74,\n",
       " 'revenueQuarterlyGrowth': None,\n",
       " 'sharesOutstanding': 4195930112,\n",
       " 'fundInceptionDate': None,\n",
       " 'annualReportExpenseRatio': None,\n",
       " 'bookValue': 2.854,\n",
       " 'sharesShort': None,\n",
       " 'sharesPercentSharesOut': None,\n",
       " 'fundFamily': None,\n",
       " 'lastFiscalYearEnd': 1609372800,\n",
       " 'heldPercentInstitutions': 0.10069,\n",
       " 'netIncomeToCommon': 2665107968,\n",
       " 'trailingEps': 0.635,\n",
       " 'lastDividendValue': 0.016912,\n",
       " 'SandP52WeekChange': 0.4020188,\n",
       " 'priceToBook': 11.800981,\n",
       " 'heldPercentInsiders': 0.64816004,\n",
       " 'nextFiscalYearEnd': 1672444800,\n",
       " 'mostRecentQuarter': 1617148800,\n",
       " 'shortRatio': None,\n",
       " 'sharesShortPreviousMonthDate': None,\n",
       " 'floatShares': 1487709096,\n",
       " 'enterpriseValue': 139478695936,\n",
       " 'threeYearAverageReturn': None,\n",
       " 'lastSplitDate': 1619568000,\n",
       " 'lastSplitFactor': '2:1',\n",
       " 'legalType': None,\n",
       " 'lastDividendDate': 1616976000,\n",
       " 'morningStarOverallRating': None,\n",
       " 'earningsQuarterlyGrowth': 0.737,\n",
       " 'dateShortInterest': None,\n",
       " 'pegRatio': None,\n",
       " 'lastCapGain': None,\n",
       " 'shortPercentOfFloat': None,\n",
       " 'sharesShortPriorMonth': None,\n",
       " 'impliedSharesOutstanding': None,\n",
       " 'category': None,\n",
       " 'fiveYearAverageReturn': None,\n",
       " 'regularMarketPrice': 33.68,\n",
       " 'logo_url': 'https://logo.clearbit.com/weg.net'}"
      ]
     },
     "metadata": {},
     "execution_count": 1
    }
   ],
   "source": [
    "import yfinance as yf\n",
    "\n",
    "msft = yf.Ticker(\"WEGE3.SA\")\n",
    "\n",
    "# get stock info\n",
    "msft.info\n"
   ]
  },
  {
   "cell_type": "code",
   "execution_count": 3,
   "metadata": {},
   "outputs": [
    {
     "output_type": "execute_result",
     "data": {
      "text/plain": [
       "            Dividends  Stock Splits\n",
       "Date                               \n",
       "2009-04-29   1.646989          0.00\n",
       "2009-07-20   0.000000         20.00\n",
       "2012-08-16   0.000000          3.00\n",
       "2016-05-12   0.000000          0.01\n",
       "2021-03-12   0.000000          4.00"
      ],
      "text/html": "<div>\n<style scoped>\n    .dataframe tbody tr th:only-of-type {\n        vertical-align: middle;\n    }\n\n    .dataframe tbody tr th {\n        vertical-align: top;\n    }\n\n    .dataframe thead th {\n        text-align: right;\n    }\n</style>\n<table border=\"1\" class=\"dataframe\">\n  <thead>\n    <tr style=\"text-align: right;\">\n      <th></th>\n      <th>Dividends</th>\n      <th>Stock Splits</th>\n    </tr>\n    <tr>\n      <th>Date</th>\n      <th></th>\n      <th></th>\n    </tr>\n  </thead>\n  <tbody>\n    <tr>\n      <th>2009-04-29</th>\n      <td>1.646989</td>\n      <td>0.00</td>\n    </tr>\n    <tr>\n      <th>2009-07-20</th>\n      <td>0.000000</td>\n      <td>20.00</td>\n    </tr>\n    <tr>\n      <th>2012-08-16</th>\n      <td>0.000000</td>\n      <td>3.00</td>\n    </tr>\n    <tr>\n      <th>2016-05-12</th>\n      <td>0.000000</td>\n      <td>0.01</td>\n    </tr>\n    <tr>\n      <th>2021-03-12</th>\n      <td>0.000000</td>\n      <td>4.00</td>\n    </tr>\n  </tbody>\n</table>\n</div>"
     },
     "metadata": {},
     "execution_count": 3
    }
   ],
   "source": [
    "yf.Ticker(\"ENEV3.SA\").actions\n"
   ]
  }
 ]
}