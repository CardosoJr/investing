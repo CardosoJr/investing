{
 "metadata": {
  "language_info": {
   "codemirror_mode": {
    "name": "ipython",
    "version": 3
   },
   "file_extension": ".py",
   "mimetype": "text/x-python",
   "name": "python",
   "nbconvert_exporter": "python",
   "pygments_lexer": "ipython3",
   "version": "3.8.5"
  },
  "orig_nbformat": 4,
  "kernelspec": {
   "name": "python3",
   "display_name": "Python 3.8.5 64-bit ('base': conda)"
  },
  "interpreter": {
   "hash": "b3ba2566441a7c06988d0923437866b63cedc61552a5af99d1f4fb67d367b25f"
  }
 },
 "nbformat": 4,
 "nbformat_minor": 2,
 "cells": [
  {
   "cell_type": "code",
   "execution_count": 2,
   "metadata": {},
   "outputs": [],
   "source": [
    "import praw\n",
    "import matplotlib.pyplot as plt\n",
    "import math\n",
    "import datetime as dt\n",
    "import pandas as pd\n",
    "import numpy as np\n",
    "from pathlib import Path\n",
    "import yaml\n",
    "from praw.models import MoreComments\n",
    "\n"
   ]
  },
  {
   "cell_type": "code",
   "execution_count": 3,
   "metadata": {},
   "outputs": [
    {
     "output_type": "stream",
     "name": "stderr",
     "text": [
      "<ipython-input-3-739cb11b22bf>:2: YAMLLoadWarning: calling yaml.load() without Loader=... is deprecated, as the default Loader is unsafe. Please read https://msg.pyyaml.org/load for full details.\n  config = yaml.load(f)\n"
     ]
    }
   ],
   "source": [
    "with open(Path(\"config.yaml\"), 'r') as f: \n",
    "    config = yaml.safe_load(f)"
   ]
  },
  {
   "cell_type": "code",
   "execution_count": 6,
   "metadata": {},
   "outputs": [
    {
     "output_type": "stream",
     "name": "stderr",
     "text": [
      "Version 7.0.0 of praw is outdated. Version 7.3.0 was released Thursday June 17, 2021.\n"
     ]
    }
   ],
   "source": [
    "reddit = praw.Reddit(client_id = config['client_id'],\n",
    "                    client_secret = config['secret'],\n",
    "                    user_agent = config['user_agent'])\n",
    "\n"
   ]
  },
  {
   "cell_type": "code",
   "execution_count": 7,
   "metadata": {},
   "outputs": [],
   "source": [
    "sub_reddits = reddit.subreddit('wallstreetbets')\n",
    "stocks = [\"GME\", \"AMC\"] "
   ]
  },
  {
   "cell_type": "code",
   "execution_count": 8,
   "metadata": {},
   "outputs": [],
   "source": [
    "posts = reddit.subreddit('wallstreetbets').search(\"GME\", limit = 10)"
   ]
  },
  {
   "cell_type": "code",
   "execution_count": 10,
   "metadata": {},
   "outputs": [],
   "source": [
    "posts = [x for x in posts]"
   ]
  },
  {
   "cell_type": "code",
   "execution_count": 12,
   "metadata": {},
   "outputs": [
    {
     "output_type": "execute_result",
     "data": {
      "text/plain": [
       "'self.wallstreetbets'"
      ]
     },
     "metadata": {},
     "execution_count": 12
    }
   ],
   "source": [
    "posts[0].domain"
   ]
  },
  {
   "cell_type": "code",
   "execution_count": 14,
   "metadata": {},
   "outputs": [
    {
     "output_type": "execute_result",
     "data": {
      "text/plain": [
       "12478"
      ]
     },
     "metadata": {},
     "execution_count": 14
    }
   ],
   "source": [
    "posts[0].num_comments"
   ]
  },
  {
   "cell_type": "code",
   "execution_count": 16,
   "metadata": {},
   "outputs": [],
   "source": [
    "post = reddit.submission(url=posts[0].url)"
   ]
  },
  {
   "cell_type": "code",
   "execution_count": 34,
   "metadata": {},
   "outputs": [],
   "source": [
    "body = []\n",
    "scores = []\n",
    "post.comments.replace_more(limit=0)\n",
    "for c in post.comments:\n",
    "    scores.append(c.score)\n",
    "    body.append(c.body)"
   ]
  },
  {
   "cell_type": "code",
   "execution_count": 36,
   "metadata": {},
   "outputs": [
    {
     "output_type": "execute_result",
     "data": {
      "text/plain": [
       "1"
      ]
     },
     "metadata": {},
     "execution_count": 36
    }
   ],
   "source": [
    "c."
   ]
  },
  {
   "cell_type": "code",
   "execution_count": 21,
   "metadata": {},
   "outputs": [
    {
     "output_type": "execute_result",
     "data": {
      "text/plain": [
       "[\"**Again, please beware of misinformation, some of which has come from very well-known users.**\\n\\n**Trust only what you read on [GameStop's Investor](https://investor.gamestop.com/home) platform**\\n\\n---\\n\\nThank you all for hanging out here during the GameStop earnings call. \\n\\nBull or bear, please enjoy your time in this thread and treat everyone with respect.\\n\\nStay informed, keep doing your own research, and good luck!\",\n",
       " 'Ryan Cohen Gives Shoutout to Reddit Crowd at Annual Meeting (1)\\nWednesday, June 9, 2021 05:41 PM \\nBy Olga Kharif\\n\\nCohen was elected the retailer’s chairman at the meeting\\nCohen said he doesn’t plan to telegraph his strategy to rivals\\n(Bloomberg) --Ryan Cohen, the GameStop Corp. activist investor who became its chairman on Wednesday, said he isn’t going to unveil a new strategy yet. But he gave some hints during a talk at the retailer’s annual meeting.\\n“We are trying to do something that nobody in the retail space has ever done,” Cohen said at the gathering, held in GameStop’s hometown of Grapevine, Texas. “But we believe we’re putting the right pieces in place and we have clear goals: delighting customers and driving shareholder value for the long term.”\\n\\nCohen is trying to turn the brick-and-mortar retailer into an e-commerce competitor to Amazon.com Inc., in part by increasing the number of products and services it offers. He’s already shaken up the company’s management team, and is working to improve customer service and delivery. GameStop, slated to release its quarterly results later on Wednesday, is currently seeking a new chief executive officer.\\n\\nThe company is still struggling, but it has won the faith of the Reddit crowd, which has helped propel the stock more than 1,500% in 2021. GameStop has been one of this year’s top meme stocks, which trade off of social-media buzz rather than business fundamentals. The shares gained as much as 6.7% to $320 on Wednesday.\\n\\nWhile some investors had hoped Cohen would lay out a detailed plan for turning GameStop around, “that’s not going to happen,” he said. “You won’t find us talking a big game, making a bunch of lofty promises or telegraphing our strategy to the competition.”\\n\\nHis previous company, pet supplier Chewy, had the same philosophy, he said.\\n\\nCohen announced a stake in GameStop last year and began pushing for changes at the video-game retailer. He now owns 13% of the company and has three seats on its board. On Wednesday, Cohen also made a shoutout to the Reddit fans behind GameStop’s rally.\\n\\n“We’re fortunate to have such a special group of investors holding the company’s shares,” he said. “You guys inspire us to think bigger, fight harder and work longer each day.”',\n",
       " 'I missed GME daycare',\n",
       " 'Holy shit. A GME mega thread. Is this heaven?',\n",
       " 'If GME reaches $348.4848 today, DFVs 200k shares will be worth $69,696,969.69 on 6/9...',\n",
       " 'People freaking out about price drop after earnings. \\n\\nGME longs: First time huh?',\n",
       " 'GME thread on WSB?\\n\\nAIGHT THEN LFG 💎🤚🦍🚀🌕',\n",
       " 'GME Mega is back?... Bullish AF. I like the stock.',\n",
       " 'Holy shit I missed the GME thread. ITS GOOD TO BE BACK BOYS AND GIRLS',\n",
       " 'Dear random Redditor who made fun of me for asking why we were tanking back in February and then for holding at 40, I’m still here. I didn’t forget you, and I’m still holding.',\n",
       " \"About the share offering, they're debt free.\\n\\nThis isn't AMC diluting to pay its initial $11bn of debts.\\n\\nGME has zero debts.\",\n",
       " 'Only reason why I’m still in this sub, was waiting for this threads revival',\n",
       " \"Lol, they're really trying to shake people off after hours\",\n",
       " 'Many of us have been holding for many months now, I’m not sure why today would make anyone panic after everything else that has happened...',\n",
       " \"What's the point of them resisting any more? There is no one left who will sell on a 2% dip The longer they drag this out, the more fucked they are going to be. The people still holding shares are only going to be come more and more resolved to hold.\\n\\nI bet if, back in January, they let the stock moon to about $1k most people would have sold and bounced and this whole thing could have been avoided. The DD wasn't that widespread then, and going from ~$5 up to ~$1000 would have blown our hair back and convinced us THAT was the squeeze. \\n\\nBut no, they got fucky and did their manipulative shit and we've gotten wise, now we've been wrestling with the price for almost six months now. we've read the DD. we've seen the media manipulating the narrative. We KNOW that a price floor in the hundreds of thousands or even millions isn't impossible. Anyone who hasn't paper handed yet will never paper hand. Which means these little baby dips are just a fucking waste of time and money for them, so what's the point?\",\n",
       " '#NO STOP LOSSES',\n",
       " 'proud owner of 1 whole share',\n",
       " 'When DFV randomly decides to post another yolo update this place is gonna explode',\n",
       " 'Feeling nostalgic, reminds me of the good ole GME MEGATHREAD days',\n",
       " 'Here is Cohens speech for those that missed it. \\n\\n\"We ushered in a whole new era of GameStop. On a personal note, I want you to know I’m humbled to be elected to your board and serve as your Chairman.\\xa0We have a lot of work in front of us, and it will take time.\\nWe’re trying to do something that nobody in the retail space has ever done\\xa0but we believe we’re putting the right pieces in place and we have clear goals: delighting customers and driving shareholder value for the longterm. The management team and refreshed board will remain totally focused on\\nthese goals at all times.\\nWe know some people want us to lay out a whole detailed plan today,\\xa0but that’s not gonna happen.\\xa0You won’t find us talking a big game, making a bunch of lofty promises, or telegraphing our strategy to the competition. That’s the philosophy we adopted at Chewy.\\nHere are a few things we’ve done so far:\\xa0refresh the board, added technology and retail experience to the leadership team, paid off all our long term debt and strengthened the balance sheet, and begun laying the foundation for long term growth.\\nMoving forward, we want you to judge GameStop based on our actions,\\xa0not our words.\\xa0Thank you everyone, and as my dad would say, “buckle up.”\\n#Papa Ryan \"Buckle up\" Cohen',\n",
       " \"OH NO! NOT THE 280'S!!! HAVENT SEEN THAT NUMBER SINCE.... Yesterday....\",\n",
       " 'GME Megathread….on WSB?! oh we 100% mooning today',\n",
       " \"Never forget that paper boy Portnoy sold GME/AMC on February 2nd at a 700k loss ![gif](emote|free_emotes_pack|joy)\\n\\nShit's cracking me up to this day\",\n",
       " 'Oh no! GME slips after earnings report to level not seen since...Monday 🤡',\n",
       " 'Where’s all the people who were calling me a retard for yoloing my account into Gme last month..',\n",
       " \"And we're back. Think of the hard times when everyone in this place was telling you it was over, and you were bagholding and stupid. Think about that all day long, and count your tendies.\",\n",
       " 'I watched this go from $483 to $40 this is nothing to me',\n",
       " 'I think GME is gonna fly tomorrow, despite AH action. Earnings were good and outlook is much better than last year´s.',\n",
       " 'We are coming for you people at 350, 400, 420… 🚀📈',\n",
       " 'Boomer news be like “rEdDiT sEts itS eYes oN tHe NeXt nEw mEMe sToCk”.',\n",
       " 'WOW! This gives me January vibes LOL',\n",
       " \"Oh the GME thread right as i'am unbanned, I  promise mods I will never eat shit for any bet I repent\",\n",
       " 'Euroape here:\\n\\nIf you are a US-based shareholder and didnt vote, your moms a hoe',\n",
       " '[deleted]',\n",
       " 'naked shorting confirmed. Ryan Cohen confirmed. BUCKLE UP!!!!!!!! 🚀🚀🚀🚀🚀🚀🚀🚀🚀',\n",
       " 'The lack of eye contact on the moon is gonna be awkward af. Retarded ape autists only know how to stare at charts not speak and look at other apes.',\n",
       " 'Tbh Deepfuckingvalue said it best \"unsurprisingly GME is down after earnings\" \\n\\nI hope we see positive price action AH. If not, who fucking cares, I ain\\'t selling\\n\\nGME might end up the first thing in my portfolio classified as a long-term investment 😂',\n",
       " 'Sold CLOV bought more GME 🚀 🌕',\n",
       " \"$15 is not a dip.  15% is a dip.  I haven't been this bullish on GME since pre purchasing halt in January.\",\n",
       " \"WSB GME megathread??\\n\\nPress F to pay respect to the Hedgie Interns who'll need to work double shifts today.\",\n",
       " 'FUN FACTS ABOUT GME.\\n\\nOBV is 30% higher than in January. The price is wrong, BITCH.\\n\\nThere are 6.5m hodlers of GME, with a mean cost basis of 155 a share. 95% of shareholders are IN PROFIT.\\n\\nBut apparently according to Bloomberg terminal, GME only has <5% retail ownership.\\n\\nNobody is fucking selling.\\n\\nThe average retailer has around 3k in their portfolio. At 5 shares, retail holds 32.5m shares. At 10, they hold 65m shares. At 15, they hold 97.5m shares. At 20 (100% utilisation of average) they hold 130m shares.\\n\\nThe float is only 70m. The free float is estimated between 30-50m.\\n\\nBUY. HODL.',\n",
       " 'So you guys have finally realised GME was the real play all along. I’m glad. Expect fuckery today 🚀',\n",
       " 'GME to the moon. \\n\\nFuck citadel',\n",
       " 'My GME is my favorite stock.  Makes me warm inside and hard penis outside',\n",
       " 'Ryan is confirmed at the meeting',\n",
       " '# OUTSTANDING SHARES CONFIRMED',\n",
       " '##GONNA TELL MY KIDS\\n\\n##DFV WAS CAPTAIN AMERICA\\n\\n🚀🚀🚀',\n",
       " 'Called Lamborghini to Pre-Order my Lambo and they asked for Payment and I said I Got GME Shares, needless to say I ordered 2! 🏎🏎\\n\\nPlot Twist I now own Lamborghini 🚀🏎',\n",
       " 'Tbh I hate being in the 300’s. Too much PTSD. Can we just jump to 350-400 please',\n",
       " 'GME still up from Monday and people trying to say \"it\\'s over\".  Yall been saying it\\'s over since February, but the price just keeps going up.  \\n\\nAdditionally, we saw this exact same thing play out during last earnings.  Buy the fucking dip and buckle up.',\n",
       " 'So they beat estimated earnings by 46% and the stock price dropped? I need a banana.',\n",
       " '$GME departs 9:30am. ALL ABOARD. 🚂💰🚃💰🚃',\n",
       " 'I wish people would realize what a pump and dump these other stocks are for citadel towards GME are.  I get it.  Easy money.  But GME is in a unique once in a ever (see 2008) opportunity. Citadel owns 🍀shares so expect a dump from them there too.',\n",
       " 'WSB Mods posting about $GME? The world must be falling...\\n\\n#TO THE MOON',\n",
       " 'New folks: don’t get too excited about the earnings call, it could very well be straightforward with no major news. Ryan Cohen tends not to lay out big plans publicly ahead of time, he just *executes* and we find out about it when it’s already done. Huge hires, new initiatives, better customer service - it’s all happening in realtime. \\n\\nCheck out GMEDD.com and scroll through some of the publicly available breadcrumbs that show the magnitude of what they’re working on. I really would not put too much weight on the earnings call or get scared if it doesn’t start mooning immediately.',\n",
       " 'Today it could be that 800 crazy number in options we all been hearing about.',\n",
       " 'GME mega thread? Bullish!',\n",
       " 'Sold $12k of TSLA and bought more GME.   \\n\\n\\nI like the stock',\n",
       " 'I’m here at the meeting.',\n",
       " 'GAMESTOP CONFIRMED THERE ARE MORE VOTES THAN OUTSTANDING SHARES',\n",
       " 'Oh fuck GME is about to absolutely lift off',\n",
       " 'Taking a break. I am not going to look at GME’s ticker for another 5 min…. 1 minute later… checks it.',\n",
       " '$GME SAYS SHAREHOLDERS ELECTED RYAN COHEN AS CHAIRMAN OF THE BOARD',\n",
       " 'Just bought 19 shares!! To the moooon',\n",
       " 'Papa Cohen is the new chairman of the board',\n",
       " \"We've waited months for this bois, some of you a year. The day/week is finally here. Its going to be sad when this is all over. DFV could retire, gme will be a floating fortress, and we will all be millionaires. I wish there was a way to know you're in the good old days before you've actually left them\",\n",
       " 'Coming back to this sub is like revisiting my childhood home.',\n",
       " \"At this point I'm just making extra money with different stocks to put it all in GME\",\n",
       " 'YO GME, GIVE EM THE OLE DICK TWIST!!!',\n",
       " \"Why is anyone even panicking? GME share price has went down after ever earnings report. People that have held onto the stock for months now shouldn't even be phased by this price action. Must be daytraders that are pissed off 🤣\",\n",
       " '#APES OWN THE FLOAT',\n",
       " 'Expect shenanigans today, people. Probably going to see hedgies try to drive the price down and create FUD. Don’t expect moon. Buy and hold.',\n",
       " 'GME to $420 on 6/9',\n",
       " 'Fuck it, if GME closes above 1000 I’ll shove my friends Xbox one S up my ass\\n\\nEDIT: TODAY\\n\\nPlz don’t ban me I love you guys\\n\\nEdit 2: this is inevitable, when the glorious day arrives I will do my best\\n\\nEdit 3: praying for a 100:1 split',\n",
       " '*\"Thank you for calling GameStop...Please Hold.\"*',\n",
       " 'DFV, Keith Gill, and Roaring Kitty all meet at the share holders meeting...\\n\\nhttps://imgur.com/3tydpmM',\n",
       " 'I had a dream we shot up past 500 today',\n",
       " \"I still have one share I bought at $70. I'm helping!\",\n",
       " '[deleted]',\n",
       " 'Holyy fuck, its confirmed more votes than shares ohhh fuckkkk more then aoutsanding',\n",
       " 'Ryan Cohen ended the meeting by saying “as my dad would say, buckle up” oh my god my tits are beyond jacked',\n",
       " 'I will not rest until we rescue our 350+ brothers and sisters 🚀',\n",
       " 'RC you son of a bitch you did it 🚀🚀🚀',\n",
       " 'It’s funny how we are really a small segment of the general population. Most people I discuss this with have either no idea what I’m talking g about or are only following very tangentially. I find this is a good thing, but the amount of time I spend on this chat makes me feel like the apes are everywhere lol.',\n",
       " 'How does the price drop from $309.51 to $300.51 in one minute with only 13k volume?',\n",
       " \"I'm staring at a -99% 6/11 GME calls and I broke my 2 personal rules:\\n\\nRule #1: never fuck with options during earnings unless you know earnings with destroy expectations and even then thr prices could still tank\\n\\nRule #2: never fuck with meme options, you're not smart enough, fast enough, and have great bid/ask prices to compete with algos\",\n",
       " 'Hey guys, bought GME today at 318. AMA',\n",
       " 'THERE ONCE WAS A STOCK SENT OUT TO SEA',\n",
       " 'I just ate 4 edibles to knock me out as the anticipation of tomorrows trading is overwhelming',\n",
       " 'Way I see it… if it dips hard its a gift.  If it goes up its a party.  Win Win.',\n",
       " 'Hitting $420.69 today at close 🚀',\n",
       " 'Anybody else surprised AF that this thread even exists. Nevertheless let’s gooooooo!!!',\n",
       " 'Just deposited $1400 into my account. Shall I yeet it on GME?',\n",
       " 'Bottom was 263 AH. Such unimaginable lows not seen since...\\n\\n*checks notes*\\n\\n11 a.m. on Monday.\\n\\nChill. BTFD. Hold.',\n",
       " '[deleted]',\n",
       " 'Is it crazy to think GME 4200 in 2 weeks',\n",
       " 'Just had a random thought - what if all the recent crazy meme stonks rocketing is the hedgies trying to distract from GME?\\n\\nEither way, end of today I’m closing every position and putting it all on GME',\n",
       " 'We back on our own thread! Guess Citadels money is running out! We were right all along apes!',\n",
       " 'Just like the old January days',\n",
       " 'Gme mega just to piss off the haters',\n",
       " 'To those of you who are real people here- finessing the HF sponsored pump and dumps promoted on this sub and ACTUALLY stealing their money to put into GME... I salute you.',\n",
       " 'Ryan Cohen fucks',\n",
       " 'THE ONLY TIME IVE BEEN BACK TO WSB SINCE THEY NUKED THE DAILY GME THREAD.  LETS GOOOOOOOOOOOO',\n",
       " 'So it turns out Shitadel is long on CLOV. What a fucking surprise. \\n\\nGME is the only way my apes 🚀🚀',\n",
       " 'Nice to see a GME thread on WSB again.\\n\\nOnly took 300$ price and a major event\\n\\nOn the second holiest of days *6/9*',\n",
       " \"If GME hits $500 This week I'll run a marathon this month\",\n",
       " 'Deep fucking value is probably about to have $100 million in his account of all goes really well. \\n\\nAssuming GME rises to over $550-600 a share\\nAlso assuming he still has 200,000 shares.',\n",
       " 'DFV signaling the $GME coin in his latest tweet 🧐',\n",
       " 'More shares were voted than outstanding 😂😂😂🚀🚀🚀',\n",
       " 'RYAN COHEN IS OFFICIALLY THE CHAIRMAN OF THE BOARD\\n\\nHE THANKED THE APES',\n",
       " 'CONGRATS ALL OF U RETARDS.\\n\\nMORE VOTES THAN SHARES.',\n",
       " '100% GME portfolio reporting in. See you on the moon.',\n",
       " 'When can I start throwing my poo at my coworkers that I plan on never seeing again?',\n",
       " 'Omg, they actually named RC as Chairman, The moon comes closer and closer apes. Damn..',\n",
       " \"Next on the radar: Q1 Earnings, 8-K Form release and CEO announcement.   \\n\\n\\nIt's really hard to convince me to not be bullish on this stock.\",\n",
       " \"Liquidated my other assets to go all in on GME, let's gooooo!\",\n",
       " 'mega thread is back?! Idk wether this is a good sign or bad! But I missed you fucking apes!',\n",
       " 'When GME breaks that resistance oh boy.',\n",
       " '💯 short sellers will try to dump the stock for tomorrow morning to make it seems like everyone is selling after earnings.\\n\\nHow can we do some DD to see that it’s being shorted? Is it possible to see real-time shorting. I don’t want HF’s to get into apes 🦍 heads to try to start a panic sell.',\n",
       " 'All other distractions are out of the way. The only one left that appears from the shadows is GME. We are the last survivors',\n",
       " '\\\\*Walter Bloomberg Twitter...   \\nu/DeItaone  \\n$GME SAYS SHAREHOLDERS ELECTED RYAN COHEN AS CHAIRMAN OF THE BOARD',\n",
       " 'Well looks like I’m all in boys! 10 shares',\n",
       " 'Low number of comments on this thread just like the low volume for GME…bullish',\n",
       " 'Still Holding 180@30€....for the family 💎🤚🚀',\n",
       " '\"We\\'re trying to do something that no one in the retail space has ever done but we believe we are putting the right pieces in place and have clear goals: delighting customers and driving shareholder value for the long term.\"\\n\\n\\\\-Ryan Cohen today',\n",
       " \"There's absolutely no liquidity left in GME. It's like the shitty hedge funds are in the middle of field trying to avoid stepping on land mines but the entire field is completely covered in land mines.\",\n",
       " '#FOMO is a normal feeling. \\n\\nBuy a share it will help.',\n",
       " 'GME will be worth more than Amazon in less then a month.',\n",
       " 'Whats with all this fud, trust the DD. If u weren’t there when it dropped from $500 - $40 I don’t wanna hear it',\n",
       " \"You can really tell the old from the new here lmao y'all mfs need to close ur Robinhood and chill\",\n",
       " 'It’s my birthday and this ape lost 8 grand to gme today🚀',\n",
       " 'Tomorrow is either going to suck, or be amazing. Either way I’m in.',\n",
       " 'Idgaf about the current price. This shit is far from over. My boy Papa Cohen is officially Seated at the throne and big changes will continue to come and the price will continue to rise in the months to come. I see 500$ in the near future.',\n",
       " \"HOLDING STRONG FOR YOU BROTHERS. Haven't traded a single share of GME since the start. Still up 500%. LFG!!!\",\n",
       " 'Just occurred to me that amc diluted shares and were met with a dip right before they blasted off.... Cohen said buckle up... Amazon execs... holy shit?',\n",
       " 'Remember when their attacks would tank they price by over $100. Now they barely make a dent. Whasssgoingon??',\n",
       " 'WE OWN THE FLOAT',\n",
       " 'OH NO we down 5 % in after hours. Nice try Shitadel, thanks for the discount tomorrow.',\n",
       " 'Gonna shoot up premarket',\n",
       " \"GME on WSB? Looks like we're getting the band back together.\",\n",
       " 'Reading thread after thread of people arguing over CLOV CLF CLNE etc pumping and dumping. It’s good to be back with my fellow apes who’ve been 💎🙌for 6+ months',\n",
       " '**Some of you have never seen GME dip from 480$ to 40$ in 3 trading sessions and it shows**\\n\\nRelax',\n",
       " 'GME to 350$ EOD!! 🚀🚀🚀🚀💎💎💎💎💎💸💸💸💸💸🦧🦧🦧🦧🦧',\n",
       " 'ITS HERE!!! The GME mega thread ohhh how I missed you all you dirty bag holders.',\n",
       " 'OG Ape Gang. Still here. Still holding.',\n",
       " \"10 m ain't even a meme\",\n",
       " \"I've missed you guys x\",\n",
       " 'GME got their thread back! Happy 6/9!',\n",
       " 'GME TO THE FUCKING MOON! PREPARE YOUR ANUS KENNY',\n",
       " 'GME has been the main mission all along, everything else has been side missions.',\n",
       " 'Feels good to see a GME mega thread again.',\n",
       " 'IT HAS ALWAYS BEEN GME!!! 💎🙌🏼💎🙌🏼💎🙌🏼💎🙌🏼💎🙌🏼💎🙌🏼💎🙌🏼🚀🚀🚀🚀🚀🚀🚀🚀🚀🚀🚀🚀🚀🚀🚀🚀🚀🚀🚀🚀🚀🚀🚀🚀🚀😏😏😏😏😏😏😏😏😏😏😏😏😏😏😏😏😏😏😏😏😏',\n",
       " \"I couldn't resist any longer and hopped on the GME train. Better late than never I guess.\",\n",
       " 'Sold all my positions in gourd futures to go all in on GME',\n",
       " 'Bring back the GME mega thread!',\n",
       " 'Can we get another guy high on drugs to stand outside gamestop and yell gamestonk all night long? That incantation seemed to be effective. Need that energy.',\n",
       " 'Never should’ve lost the mega thread 🌎🔫👨🏼\\u200d🚀',\n",
       " \"This has been an incredible ride so far. Traded meme stocks all year and rolled all profits into GME for long term holding. Never sold a single share of GME but traded everything else. Fucking jacked for this week, next week, and the week after. Most fun I've ever had holding this with fellow retard brothers. LFG\",\n",
       " '😴 wake me up at $1000',\n",
       " \"We're almost at my girlfriends weight.\",\n",
       " 'Nice to know that despite other distractions, this sub still is focused on the one true play;\\n\\nGME 🚀🚀🚀👩\\u200d🚀👩\\u200d🚀👨\\u200d🚀👨\\u200d🚀👨\\u200d🚀',\n",
       " 'My anxiety is out the roof, so i smoked a lil bit of weed to try to calm down. Now im just high and anxious. Wtf',\n",
       " 'I didn’t sell @40 so why would I sell now? Give me 1000% profits or give me death!!!! 🦍🦍🦍',\n",
       " 'Just said more shares voted than could exist. That’s the current candle spike news.',\n",
       " '[deleted]',\n",
       " '**COHEN JUST THANKED INVESTORS OFFICIALLY THE CHAIRMAN**',\n",
       " 'You sick fucks actually picked me up at 317 oh my gourd',\n",
       " '\"As my dad would say, buckle up\" - Ryan Cohen',\n",
       " 'Never doubt yourselves, we were right about everything!! THE SHORTS NEVER COVERED',\n",
       " 'I’m selling my share at a discount. 69 million. Take it or leave it',\n",
       " 'Chairman! Ahhhh, fighter of the shortman! Ahhhh, champion of the stonk!',\n",
       " \"45 shares since January @ 270/share.  Still 💎🤲  \\n\\n\\nAll these other meme stocks are just distractions from the OG of meme stocks.  \\n\\n\\nGME 🚀🚀🚀🚀🚀🚀🚀🚀🚀🚀🚀🌜  \\n\\n\\nIt's as sure a thing as you dweebs prematurely ejaculating on my wife's tits.\",\n",
       " 'I had six shares of AMC that I got around eight dollars I just sold it for $318 and bought one more gme',\n",
       " 'Vote count > Float (maybe outstanding?). GG ez clap',\n",
       " 'THANKS FOR EVERYONE THAT VOTED AND REMEMBER. MANY APES FROM EUROPE ETC COULDN‘T AND WE STILL OWN THE FLOAT',\n",
       " 'Just liquidated BB to pour more in to GME. Been in GME since the start of the year so I’m not a glory hunter. I believe.\\n\\nIt’s always been GME.',\n",
       " 'DID WE FUCKIN DO IT?!',\n",
       " 'Ryan \"Buckle Up\" Cohen.\\n\\nHold me. Someone, please hold me.',\n",
       " '\"there are present at this meeting in person or by proxy more than the majority of all shares that are entitled to cast votes\"\\n\\n**Wait for the 8-K**',\n",
       " 'We own the float!',\n",
       " '#BUCKLE UP BUCKAROOS',\n",
       " 'While GameStop corporate did not confirm that the vote total exceeded the total number of shares, they also didn\\'t confirm that the vote total *didn\\'t* exceed the total number of shares.\\n\\nActual language of the \"vote count\" quote: \"There are present at this meeting, in person or by proxy, more than the majority of all shares that are entitled to cast votes.\"\\n\\nChill. Buy. Hodl. Not financial advice.',\n",
       " 'Transcript from meeting “There are present at this meeting or by proxy more than the majority of all shares that are entitled to cast votes.”',\n",
       " '$GME SAYS SHAREHOLDERS ELECTED RYAN COHEN AS CHAIRMAN OF THE BOARD',\n",
       " 'stop teasing us GME just bust through',\n",
       " 'I\\'ve been repositioning my investments over the past 2 days and grabbed another 40 gme. I still want more but they keep asking me for \"money.\" Damnit.',\n",
       " 'I don’t know why, but I just can’t let go of gme .',\n",
       " \"All the other meme stocks were just the trailers. AMC proudly presents today's feature film, GME.\",\n",
       " '“We are trying to do something that nobody in the retail space has ever done,” Cohen said\\n\\nI ❤️ u ryan',\n",
       " 'SEC chair says looking into “Gameification” of stocks.',\n",
       " 'If you mention on the CLOV mega thread how it’s a pump and dump they’ll downvote you to oblivion 🤣 Fuck them , GME 🚀🚀🚀',\n",
       " \"No matter what the results will be, we will be bombarded with 'analysts' telling us to get out because the market cap of GME is not justified according to 'fundamentals'. Not selling.\",\n",
       " 'Pick me up at $329!',\n",
       " 'Gme megathread should stay. 8 million people came to this sub due to GME',\n",
       " 'I bought 1 share. Just so I can say I was there. Either way it goes',\n",
       " '# As of May 1, 2021, the Company had $770.8 million in cash and restricted cash, compared to $583.9 million in cash and restricted cash in the prior year. The Company had no borrowings under its asset-based revolving credit facility and no long-term debt.',\n",
       " 'GME OPEN at 500 tmrw',\n",
       " 'CNBC: Shows GME down after earnings. \"People are going to lose money.\"\\n\\nCNBC cuts away: GME starts climbing again. \\n\\nCoincidence?',\n",
       " 'https://www.cnbc.com/2021/06/09/gamestop-gme-earnings-q1-2021.html?utm\\\\_term=Autofeed&utm\\\\_medium=Social&utm\\\\_content=Main&utm\\\\_source=Twitter#Echobox=1623270351  \\nGameStop sales rise 25% as the company chases e-commerce growth, embarks on a turnaround',\n",
       " 'Nothing makes me more confident than when the cockroaches come out',\n",
       " 'You mean my volatile stock might also go down sometimes? 😡',\n",
       " 'Im disappointed in yall. How am i the only retard tailgating gamestop hq right now',\n",
       " '#THE EARNINGS CALL HAS BEGUN. \\n\\n#LISTEN IN [ON YOUTUBE](https://www.youtube.com/watch?v=g2eBhTtxeu4)\\n\\n#OR THE OFFICIAL WEBCAST IN THE POST ABOVE\\n\\n---\\n\\nI encourage you all to stay as informed and well researched as possible! \\n\\nThank you, and good luck!',\n",
       " 'Back to actively holding this stock for the rest of my life',\n",
       " 'Hi GameStop if you can hear me I’m really gonna need a free copy of Bubsy 3D if I’m gonna keep buying your shares at 300 a piece',\n",
       " 'Where lambo',\n",
       " 'All meme stonks are dropping in tandem. When in doubt zoom out',\n",
       " 'Who bought at $320? Raise your hand 😁',\n",
       " 'You can tell the new peeps who weren’t here for the last earnings call in March. Almost exactly the same.',\n",
       " 'Already halfway back in AH? Okay okay',\n",
       " 'Makes me happy remembering old dude crying and another from Interactive Brokers talking about 1000’s per share.\\n\\nSure they stopped trading for other stocks but the one they cried about was GME.',\n",
       " 'Every time they crash - Diamond hands get more diamondy',\n",
       " 'Gonna pop off tomorrow',\n",
       " 'How much you wanna bet that when we get todays data on Friday we will see short interest has jumped thanks to them doubling down today after-hours trying to create FUD?',\n",
       " 'Meanwhile DFV trolling on Twitter 🙃',\n",
       " 'Tendies be back on the menu boys . Get that dipping sauce ready',\n",
       " 'Only 20 shares here but they are trophies.',\n",
       " 'Just bought two more shares of GME',\n",
       " 'I\\'m utterly shocked that the GME thread is 93% upvoted while the \"popular tickers\" thread is only 77%! /s',\n",
       " '$GME is THE ONE AND ONLY GODSTONK 🚀',\n",
       " 'Watching red candle sticks on GME at this point has literally turned into watching somebody pulling back a bungee cord too far…',\n",
       " 'if short interest is still high and fundamentals good, that seems like it could put a whole lot of new pressure on the shorts',\n",
       " 'Moon soon 💎👐🚀🚀🚀🛰',\n",
       " 'They talked about GME a little bit on CNBC but it was mostly just Cramer giving Ryan Cohen shitty advice',\n",
       " '550 EOW ‼️‼️‼️‼️',\n",
       " 'Have a Megathread on $GME everyday!',\n",
       " \"Squeeze aside, I'm def holding some GME longterm\",\n",
       " 'This thing wants to break out so fuckin bad',\n",
       " 'I have 1k available for a good dip but this shit is looking stable so I won’t complain',\n",
       " \"Buy, Hodl & Shop. \\nNow's a great time to start averaging up.\\nThey offer moontickets for $~300\",\n",
       " 'Looks like GME threads back on the menu boys!',\n",
       " 'George thanked me personally !!!',\n",
       " 'Shareholder call ends at 11:15, which means of course I expect a very natural red dildo touching like $250 around 11:16 in light of all the positive news the board will present',\n",
       " '6 months in and i’m still jacked to my fucking tits',\n",
       " 'When I say GME you say Moon',\n",
       " 'I just wanted to thank gme for helping me not lose my house this year.',\n",
       " 'Y’all really came through to save those of us who bought GME in the $300s back in January! Glad I was 💎 🙌🏽 GME to the 🌙 🚀',\n",
       " 'RC. “As my dad used to say, buckle up”. Bullish AF!!!! 🚀🚀🦍',\n",
       " '# MY 7 SHARES ARE READY FOR 🚀🚀🚀🚀🚀',\n",
       " 'WE OWN THE FLOAT',\n",
       " 'ABOUT TIME THE GME THREAD IS BACK',\n",
       " 'There must be at least 2x or 3x the float share out there, probably a lot more\\n\\n\\nBullish AF',\n",
       " 'Any idea how much GME is still shorted?',\n",
       " 'BUCKLE UP LADS',\n",
       " 'What’s behind 350 Ken ? \\n\\nI want to know \\n\\n🦍🚀 buckle up and let’s find out!',\n",
       " '\"Ryan Cohen Gives Shoutout to Reddit Crowd at Annual Meeting\"\\n\\nhttps://www.bloomberg.com/news/articles/2021-06-09/ryan-cohen-rallies-gamestop-reddit-crowd-at-annual-meeting',\n",
       " '\"OH NOES GME IS ONLY UP $8 A SHARE FROM TODAY\\'S OPEN!!! TIME TO PANIC SELL!!!\"',\n",
       " \"Account values are swinging up and down in 10,000's of $$$\",\n",
       " 'Closing above the low of yesterday even with all that, bullish',\n",
       " 'January ape reporting',\n",
       " 'Ooo fuck I’m gonna buy more 💦💦',\n",
       " 'This mega thread is too little too late. We haven’t forgotten wsb unceremoniously fucking GME off out of here when DFV exercised. They should rename this sub ‘Citadel’s useful idiots’.',\n",
       " 'Shareholder meeting, earnings call, rocket preparing for liftoff, AND a cake day? Bless the heavens.',\n",
       " 'Ready for Ryan Cohen to ride in on a unicorn and announce something mad',\n",
       " 'Today will be assfuck because they do it every time on important days.',\n",
       " 'Y’all ready for this fake ass dip? Finishing at a perfect 300 yesterday has got my gut feeling like they’re going to try a whole lot of fuckery today. Good thing we know what to do.',\n",
       " \"For the sake of the thread I will finally comment in WSB. Let's fucking go GME\",\n",
       " 'if gme doesnt hit 1k i hodl \\n\\nif it hits 1k i hodl',\n",
       " 'Cute dip, do they make it for men?',\n",
       " 'DFV just post a single update please, let’s go parabolic',\n",
       " 'You want these stonks? You’ll have to come take them from my cold, diamondy, hairy and dead hands!',\n",
       " 'MORE VOTES THAN SHARES!!',\n",
       " 'Just when I thought I was done buying..they pull me back in. Votes > shares - big news!',\n",
       " 'what does more votes than shares mean for GME?',\n",
       " 'Come one guys, 330 is base camp ⛺️',\n",
       " 'Buckle up for the ride. GME all the way.',\n",
       " 'Averaged up buying a few here and there.  Hodling about 460 shares.  GME 🚀🚀🚀🛰',\n",
       " 'I wanna buy GME but straight up could only get like 5 shares and have no more buying power',\n",
       " '[deleted]',\n",
       " \"This ain't like the jan run up, this bitch is steadily climbing and not dropping back much at all\\n\\nAbout as bullish a graph as you could think of tbh\",\n",
       " \"Ain't got no play in GME but congrats to yall who held. Shit gonna rip through the atmosphere, it's inevitable\",\n",
       " \"Alright homeboys/girls, \\n\\nI feel like that $218 gap on the daily was left open purposefully.\\n\\nIf mass media reacts with fud to earnings and the price drops more than $100 be prepared and know it's just the gap fill.\\n\\nWe've been here before – activate gravity-lock boots and don't lose yourself.\",\n",
       " 'Just rolled 6/11c profits (58k) into next Friday options. Either lambos or food stamps tomorrow I suppose\\nEdit: got me feeling a little nervous can’t lie',\n",
       " \"Tell me a stock that doesn't go down after even greater than expected earnings.. it always rebounds quickly.\\n\\nConsider it....le dip.  and you better get it ASAP. like before tomorrow at noon. \\n\\n&#x200B;\\n\\nI't our time now.\\n\\n&#x200B;\\n\\nB i and  HODL\",\n",
       " 'Bought in Jan 29 at $350. \\nAveraged down to $175 in Feb. \\nI didn’t hear no bell.',\n",
       " 'NO ONE IS FUCKING SELLING A STOCK UP 54% IN THE LAST MONTH\\n\\nFUCK THESE CLOWNS\\n\\nTHE PRICE IS WRONG, BITCH.',\n",
       " 'Jim Cramer microwaves fish at work',\n",
       " 'The lack of volume here is actually astonishing, almost like there’s no… more… shares…',\n",
       " \"Oh yeah, GME megathread, it's all fucking coming together\",\n",
       " 'GME mega thread! Hello my old friend.',\n",
       " 'A megathread and a premarket above $300, the halcyon days have returned!',\n",
       " 'STILL HERE, STILL BUYING!\\n\\nSUCK MY DICK! \\n\\nTHE SEC IS A FRAUD DOMESTIC TERRORIST NETWORK!\\n\\n💎🤲💎🍆💎🥜',\n",
       " 'Check out the fake crash on GME. THE PRICE IS WRONG BITCH',\n",
       " \"The exponential floor keeps rising every day. It's well over $200 now. Will be $350 end of month.\\n\\nGME have tanked on earnings every time the past year, no matter how good the numbers are. So it might be a good opportunity to buy more in case of a fire sale. Not financial advice.\",\n",
       " 'Ah, yes. I love the smell of GME megathread in the morning. My sweet little oasis of sanity amidst the screeching horde of shitbirds that WSB has become.',\n",
       " 'There are more shares than existing confirmeeeeed',\n",
       " 'More votes than shares...anyone surprised?',\n",
       " 'For people asking: More votes than shares means there’s a lot of artificial shares via failed to deliver and that it’s still heavily shorted.\\n\\nThe last step for a squeeze would be to recall those shares, forcing the shorts to buy them back.',\n",
       " \"I'm so fucking excited to wait longer! I'm not even being sarcastic. This is LITERALLY all fun and GMES.\",\n",
       " \"Hey im looking for the FUD that's supposedly being spread rn? Anyone got any FUD? ANYONE?\",\n",
       " '**When** GameStop passes it’s ATH from January I’m gonna **g**ive **m**y dog chick**e**n tendies for dinner instead of kibble\\n\\n 🚀 🚀 🚀 🚀 🚀 🚀 🚀',\n",
       " '$337 APE checking in',\n",
       " 'Just a reminder that it’s been 15 days since Cramer told everyone to “be a man and sell”.',\n",
       " 'I was dumb ape and bought bananas not named GME and didn’t make money. Don’t be dumb like me, be smart ape and buy more GME',\n",
       " '14k upvotes here and 1.6 on the daily lol.',\n",
       " 'GME Bag holder: One who holds bags of money',\n",
       " 'That 280 dip was the most pathetic thing iv seen in a while',\n",
       " 'Oops I panic bought more',\n",
       " 'All the FUD giving me even more confidence',\n",
       " \"This is nothing to worry about, just watch the Cramers of the world to know you got something they want but they can't get. They are getting so desperate with their tweets,  it's pathetic. Stay strong boys and girls. We like the stonk, we are not selling, what's an exit strategy?\",\n",
       " 'Guess who bought at 342 yesterday :)',\n",
       " 'Petition to rename gme mega threads to “GME SHAREHOLDER MEETING THREAD”',\n",
       " 'Theyre attacking too hard & too soon, lets see how long they can continue digging their graves.',\n",
       " 'Coming back for this guy at 342? Oh you guys <33',\n",
       " '350 EOD and I adopt another ape',\n",
       " 'HOLY MOLY, MORE SHARES THAN THE ACTUAL OUTSTANDING SHARES',\n",
       " 'So more votes than share exist in the float. Please tell me again how all shorts covered lol',\n",
       " 'MORE VOLUME! HIT THAT BUY BUTTON!!',\n",
       " 'SHF are desperate to keep the lid down on this to prevent it from exploding. \\n\\n350 is the number they feel real pain. Flash crashed at 350 in March, and again yesterday. This isn’t a coincidence boys',\n",
       " \"I'm lost.  Is this the GME mega thread?\",\n",
       " 'One meme stock to rule them all.',\n",
       " 'And financial institutions don’t care to vote. Whoa',\n",
       " 'WE\\n\\nOWN\\n\\nTHE\\n\\nFLOAT',\n",
       " 'Ken can buy my shares from the moon. He pays for shipping',\n",
       " 'My eyes are straight glued to this ticker smh this really is a casino',\n",
       " '[deleted]',\n",
       " 'GME form 8k next week will have more accurate numbers. Bullish!',\n",
       " '\\\\*kisses GME on the PP\\\\*',\n",
       " 'Based on options market - looking like a 20%-25% move in either direction. Either lambo or more dip EITHER WAY IM PUMPED !!!!',\n",
       " 'Wild prediction, price ends at exactly $300.00 again before it takes off to infinity AH',\n",
       " \"Sold my 2k profit from AMC and dumped it into GME, let's go!\",\n",
       " 'GME IS INEVITABLE',\n",
       " \"With GME's movement, every small move is 1 Lambo up or down for DFV\",\n",
       " '##ALL THAT FOR A DROP OF CUM?\\n\\n##WE FUCKING GREEN BITCHES\\n\\n😂🚀🚀',\n",
       " \"Everyone who's scared do yourself a favor and stop checking the ticker Tonight.  Wait till pm tomorrow when its 500.  Nothing but good news from earnings.  CEO and CFO from Amazon?  Yes please.\",\n",
       " \"heres what i'm doing tonight.  Livin' large.\\n\\ngonna grab my box o crayolas.\\n\\ngonna pick out my favorite 3 crayons - that's right shamrock, mountain meadow, and fern.\\n\\nRecipe:\\n\\nThrow em in a pot.  A big one.\\n\\nHeat on Extreme.  Get some tortilla chips.\\n\\nPour mixture into bowl.\\n\\nThat's right, it's crayola de verde for dinner here.\\n\\nHow many of you tards should I expect'?\",\n",
       " 'the stock is simply exquisite.',\n",
       " \"We are seeing high levels of misinformation around what happened during the shareholders meeting.\\n\\nPlease be careful with information that doesn't come directly from https://investor.gamestop.com/\",\n",
       " 'Cohen literally dropped the microphone after saying buckle up. Secretary confirmed more votes than shares that exist. Official count in 4 days. 🚀🚀🚀🚀\\n\\n**within 4 days',\n",
       " 'GME is, was, and will always be *the* play',\n",
       " 'GME currently holds top 4 spots on the sub\\n\\nThis thread currently on track to reach #1 on r/all \\n\\nNot bad guys. Never underestimate the GME crew',\n",
       " '#BUY SHARES - FUCK OPTIONS',\n",
       " \"It's my birthday and I would like to visit the moon, thank you\",\n",
       " 'Guess who’s back? Back again\\n\\nGME is back, go tell your friends\\n\\nGuess who’s back. Guess who’s back. Guess who’s back',\n",
       " 'Gme go brrrrr',\n",
       " 'I for one would like to see $420 on 6/9',\n",
       " 'AS IF *ANYONE* is selling GME before the earnings meeting, fuck off hedgies',\n",
       " 'Reached my goal of 420 shares by 6/9!',\n",
       " 'And that concludes our morning dip',\n",
       " '\"Kenny? You have an incoming call. She said her name is Marge N.\"',\n",
       " 'I’m been holding GME since 120 and AMC since 9. Let’s get to the moon apes!!! 💎🙌🚀🌙🦍',\n",
       " 'GME coming for folks at 400$ 💎💎💎',\n",
       " 'Fuck Citadel!',\n",
       " 'GME 🚀🚀🚀🚀 buy big🛳 move to🏝😁',\n",
       " '[deleted]',\n",
       " 'Buckle up- Ryan Cohen!',\n",
       " 'My tits, please, somebody call a doctor',\n",
       " 'holding my shares for my grandkids, I’ll take $27m for them now tho if ya REALLY need em',\n",
       " 'This thing is literally setting up for a breakout',\n",
       " 'Guacamole is back on the menu boys',\n",
       " 'Big longshot here: if DFV posts his status, this shit would e x p l o d e',\n",
       " 'Wait for that 8k to drop, confirm votes > shares, 🚀',\n",
       " 'My 430 shares are ready to fuck',\n",
       " 'RC 🪑 + 🦍💎 + 🐱\\u200d👤📱 = 😳📈👍',\n",
       " 'BUCKLE UP Apes 🦍🦍🦍. We’re gonna 🚀🚀🚀🚀🚀🚀',\n",
       " 'GME IS FLYING LETS GO!!!',\n",
       " \"If I were the CEO of whatever bank eventually margin calls Shitadel, I'd auction off the opportunity to place an actual margin phone call. \\n\\nInstant tendies. \\n\\nHow am I not this bank's CEO already? I submit this comment and previous as my resume.\",\n",
       " 'What happened to the guy in meltdown buying GME puts?',\n",
       " 'GME is to the meme stock market what AAPL/MSFT is to Nasdaq.\\n\\nVery big day for apes, kinda nervous.',\n",
       " 'Already back to $300 lol FUCK your FUD! GME til the end! 💎🙌🚀🦍',\n",
       " 'I ain’t seen volatility like this since Jan 2021',\n",
       " 'Watching the volatility is hilarious, +- 10 change in a second',\n",
       " 'Really the only thing to do is panic and make a sudden decision',\n",
       " 'Feels kinda like when you pick up a hot girl and bring her back to your place, only to find out her wiener is bigger than yours.',\n",
       " 'I never sell stocks, I hoard em 🙃',\n",
       " 'Are we living in a simulation? Cause it feels like it.',\n",
       " 'Lets start the rocket today 🚀🚀🚀',\n",
       " \"I beleive in the rocket and to DFV's DD!\\nLet's freaking go\",\n",
       " \"Can't wait to see that afterhours jump into hyperspace 🚀🚀\",\n",
       " \"Earnings AND a GME megathread? Definitely not getting any work done today. Won't need a job on the moon! 🦍🚀🚀🚀🚀\",\n",
       " 'Best of luck you apes. I hope we all get what we want today 💎🙌🦍',\n",
       " \"Reminder to get the fuck off Robinhood if for some reason you're still on that piece of shit app.\",\n",
       " \"I'm both surprised and not surprised that there's not much talk about GME almost reaching ATH yesterday\",\n",
       " 'Love all meme stocks but there can only be one MOASS',\n",
       " \"Oh I've missed the wsb gme mega thread!! Hello everyone, I've missed you all.\",\n",
       " 'There was never another play!! It was always GME! 🚀🚀🚀',\n",
       " 'WSB was the cradle of the GME \"movement\" - those pro-GME should always have a voice here, and newer holders should also be aware of just how much support and access to due diligence GME holders have - since there really is such an effort to suppress awareness outside of Reddit.',\n",
       " 'Yawn just give us billions already',\n",
       " 'Here comes the FOMO',\n",
       " 'Congratulations to all I never thought I would see a gme thread in here again',\n",
       " 'naked shorts confirmed!!!!',\n",
       " 'Yes a Megathread for GME tomorrow please!!',\n",
       " 'BUCKLE UP BUCKAROOOOOOOS',\n",
       " 'BUCKLE UP YOU FUCKIN RETARDS',\n",
       " 'Well, picked up 6 shares...',\n",
       " 'HOLY MOLY GME the one and ONLY 🚀🚀🚀🚀',\n",
       " 'So can they get margin called now orrrrrr',\n",
       " 'Picked up a bit more to bring my GME to 3 full shares. 💎🙌 🚀',\n",
       " \"It won't be until the form gets released and the actual vote percentage is released will the market react in my opinion.  \\n\\n\\nEDIT: If you're bullish on GME then the current price target is still a bargain. Plenty of time to jump on the ship before then.\",\n",
       " 'Do not focus on their being naked shorts--there probably is. \\n\\nbut even with a 20% si, and numerous FDs, we will fucking moon. \\n\\nhold and add if you want. \\n\\nbut even with a 20% si, and numerous FD, we will fucking moon.',\n",
       " 'CNBC tomorrow: Ryan Cohen barely pulls off chairmen of the board with a narrow margin of 766% of the vote',\n",
       " 'Glad to have you apes as my family 🦧 🦍',\n",
       " 'Come on GME $350 EOD',\n",
       " \"Slow and steady GME, but not too slow. I'm gonna need a vertical line AH.\",\n",
       " 'Holding for long term, GME❤💎🙌',\n",
       " 'I just wanna quote a line from The Dark Knight Rises, which apparently had GME figured out way before we did.....:\\n\\n***\"*****RISE!*****\"***',\n",
       " 'APES: May the odds be ever in your favor !',\n",
       " '301 bitches. HOW ABOUT WE DON’T END RED WHILE YOU TANK GME.',\n",
       " 'Lol ok now I know gme is OK.  Dumping on no news. Classic.',\n",
       " '[deleted]',\n",
       " 'This happened last earnings, nothing new here. Stop worrying, go jack off and wait for the rise',\n",
       " 'Last earnings we went 30%- that was under 200$ look where we are now\\nChill',\n",
       " 'I go to dinner, and when I come back I see this...\\n\\nSHARES ON SALE? YES PLS.',\n",
       " 'Hold and buy dips. We have seen far worse.',\n",
       " 'GME sparks joy in my pants',\n",
       " 'Sold my AMD was way too boring to watch and I pump it into more GME. It was more fun to average down at 38 than averaging up at 290 👀',\n",
       " \"A megathread for GME on r/wallstreetbets. I'm gonna cry.\",\n",
       " 'Clov was a citadel pump and dump to stave off margin calls. Watch me get ban hammered',\n",
       " 'THEYRE HANDING OUT DIAMOND HAND BADGES AT THE MEETING',\n",
       " '[deleted]',\n",
       " '[deleted]',\n",
       " 'Look at all the retards with their other tickers crashing. It’s not too late to join the GME party. I’ve been drunk for six months.',\n",
       " 'Dude look at the 1 month view. GME is the most stable investment of all fucking time',\n",
       " \"My dad died in March. We started playing about with stocks in September last year as a bit of fun and to keep his mind off the cancer. He loved what was happening with GME, the rebellion of it all. I'm diamond-handing this for my old man. Moon or bust Padre.\",\n",
       " 'Long time hodler and lurker I don’t comment in here but after yesterday I’m very disturbed at how bi polar this chat is. Once one little thing happens people start crying like it’s all over. Get a grip people this thing is going to explode soon, don’t put all your emotions into dates just be patient and wait. I love this stock and I love apes. Just chill out and be positive. If you notice when ever apes are happy in here that’s when things happen, Hedgies hate positive vibes. So turn that banana frown upside down and be fucking happy🍌💎✋🦍🚀',\n",
       " \"I had to double check to make sure this was an actual GME thread in wsb.  Citadel's weekly payoff to the mods must have bounced.\",\n",
       " 'u/natetrillo:\\n\\n🚨🚨🚨I’M AT THE SHAREHOLDERS. MEETING GIVING LIVE UPDATES:🚨🚨🚨\\n\\n#Secretary just CONFIRMED THERE ARE MORE SHARES VOTED THAN POSSIBLE',\n",
       " 'WELCOME TO THE SHOW RETARDS\\n\\nGAMECOCK TO URANAUS',\n",
       " 'Good Morning Everyone 🚀🚀🚀',\n",
       " '🚀🚀🚀GME DAILY🚀🚀🚀',\n",
       " '95% of holders are in profit, nobody is selling!!!',\n",
       " 'I already feel nostalgia from Jan/Feb.\\n\\nIt is a pleasure to dimond hand with you retards as always.\\n\\n🚀🚀🚀',\n",
       " 'I want to see 500 today',\n",
       " 'The original mega thread is back, but at what cost',\n",
       " \"One day, when I'm camping on one of the islands I buy, I will be telling these war stories to my grandchildren about the battles we underwent and my fellow apes \\n\\nWe apes strong together 🦍💎✊🏽\",\n",
       " 'Deep fucking earnings',\n",
       " \"I have no clue what's going on, but I bought some AMC at 9$, which has been doing great.\\nGetting a feeling that some are getting hopeful for GME today. So I'll YOLO it.\\n-Newly become retard\",\n",
       " 'I haven’t slept all night because of today',\n",
       " \"We've come full circle and I couldn't get any more erect.\",\n",
       " \"So, this megathread already has more updoots than just about any of the combo-megathread I've seen here..... It almost seems like the gme guys have wanted their megathread back this whole time\",\n",
       " 'GME is the one true super stonk',\n",
       " 'Feels good to be back on a WSB thread for GME.',\n",
       " 'Lfg gme thread is back on wsb boys',\n",
       " 'oh shit downvote bots. HODL',\n",
       " 'I guess we won’t see the results til the next week or so so don’t get super pumped over today. They’ll try to bring down the price bc we hyped this date so much.\\n\\nHowever what they don’t know is that we buy more and more with each dip they give us. Diamond fucking 🙌 🚀🚀',\n",
       " 'IT.....HAS......BEGUN!!!!',\n",
       " 'GME price = uncontainable. UNCONTAINABLE you hear?',\n",
       " 'OHHH SAYYY CAN YOU SEEEEEE',\n",
       " 'GME @ 1K EOD',\n",
       " 'They’re handing out diamond hand pins at shareholder meeting',\n",
       " 'Oh my god did they just confirm more votes than shares?!?!',\n",
       " \"I'm so hard right now\",\n",
       " \"I've got my 5 shares and all I have to say is that my TITS are JACKED\",\n",
       " \"It's official! Ryan Cohen is Gamestops daddy now! Better known as #PapaCohen LFG!!!! 🚀💎🚀💎🚀💎🚀💎🚀💎🚀💎🌕🌕🌕🌕🌕🌕\",\n",
       " 'HOLY SHIT RYAN COHEN JUST SAID BUCKLE UP',\n",
       " \"Only reason I'm visiting this sub in months is for this thread!\",\n",
       " 'Papa said “LIKE MY DAD WOULD SAY, BUCKLE UP!”',\n",
       " 'TITS - BUCKLED',\n",
       " 'RC GOT CONFIRMED',\n",
       " 'If this *does* go vertical, J G Wentworth will be calling and asking for money - fair warning.',\n",
       " 'Ryan Cohen said \"Buckle up (Retards)\" tell me what that means... munnie!']"
      ]
     },
     "metadata": {},
     "execution_count": 21
    }
   ],
   "source": [
    "body"
   ]
  },
  {
   "cell_type": "code",
   "execution_count": 23,
   "metadata": {},
   "outputs": [
    {
     "output_type": "execute_result",
     "data": {
      "text/plain": [
       "16841"
      ]
     },
     "metadata": {},
     "execution_count": 23
    }
   ],
   "source": [
    "post.score"
   ]
  },
  {
   "cell_type": "code",
   "execution_count": 39,
   "metadata": {},
   "outputs": [
    {
     "output_type": "execute_result",
     "data": {
      "text/plain": [
       "0.86"
      ]
     },
     "metadata": {},
     "execution_count": 39
    }
   ],
   "source": [
    "post.upvote_ratio"
   ]
  },
  {
   "cell_type": "code",
   "execution_count": 24,
   "metadata": {},
   "outputs": [
    {
     "output_type": "execute_result",
     "data": {
      "text/plain": [
       "1623232819.0"
      ]
     },
     "metadata": {},
     "execution_count": 24
    }
   ],
   "source": [
    "post.created_utc"
   ]
  },
  {
   "cell_type": "code",
   "execution_count": 26,
   "metadata": {},
   "outputs": [
    {
     "output_type": "execute_result",
     "data": {
      "text/plain": [
       "4"
      ]
     },
     "metadata": {},
     "execution_count": 26
    }
   ],
   "source": [
    "post.num_crossposts"
   ]
  },
  {
   "cell_type": "code",
   "execution_count": 28,
   "metadata": {},
   "outputs": [
    {
     "output_type": "execute_result",
     "data": {
      "text/plain": [
       "'🚀 GME Q1 Earnings Megathread 💎🙌 🚀'"
      ]
     },
     "metadata": {},
     "execution_count": 28
    }
   ],
   "source": [
    "post.title"
   ]
  },
  {
   "cell_type": "code",
   "execution_count": 37,
   "metadata": {},
   "outputs": [
    {
     "output_type": "execute_result",
     "data": {
      "text/plain": [
       "'nvs3c6'"
      ]
     },
     "metadata": {},
     "execution_count": 37
    }
   ],
   "source": [
    "post.id"
   ]
  },
  {
   "cell_type": "code",
   "execution_count": 38,
   "metadata": {},
   "outputs": [
    {
     "output_type": "execute_result",
     "data": {
      "text/plain": [
       "'Recent announcements:\\n\\n#[GameStop Releases First Quarter 2021 Financial Results](https://investor.gamestop.com/news-releases/news-release-details/gamestop-releases-first-quarter-2021-financial-results)\\n\\n[GameStop Announces Appointments of Chief Executive Officer and Chief Financial Officer](https://investor.gamestop.com/news-releases/news-release-details/gamestop-announces-appointments-chief-executive-officer-and)\\n\\n#[8-K](https://investor.gamestop.com/node/18941/html)\\n\\n#[8-K](https://investor.gamestop.com/node/18946/html)\\n\\n#[10-Q](https://investor.gamestop.com/node/18951/html)\\n\\n#[8-K](https://investor.gamestop.com/node/18956/html)\\n\\n---\\n\\n#HOW TO LISTEN IN ON THE GAMESTOP WEBCAST:\\n\\n#[WATCH ON GAMESTOP\\'S OFFICIAL YT CHANNEL](https://youtu.be/g2eBhTtxeu4)\\n\\n***or***\\n\\n#Visit https://investor.gamestop.com/home\\n\\n#Click \"Listen to Webcast\"\\n\\n#HIGHLY LIKELY TO FILL UP BEFORE 5PM'"
      ]
     },
     "metadata": {},
     "execution_count": 38
    }
   ],
   "source": [
    "post.selftext"
   ]
  }
 ]
}