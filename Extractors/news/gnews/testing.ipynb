{
 "metadata": {
  "language_info": {
   "codemirror_mode": {
    "name": "ipython",
    "version": 3
   },
   "file_extension": ".py",
   "mimetype": "text/x-python",
   "name": "python",
   "nbconvert_exporter": "python",
   "pygments_lexer": "ipython3",
   "version": "3.8.5"
  },
  "orig_nbformat": 4,
  "kernelspec": {
   "name": "python3",
   "display_name": "Python 3.8.5 64-bit ('base': conda)"
  },
  "interpreter": {
   "hash": "b3ba2566441a7c06988d0923437866b63cedc61552a5af99d1f4fb67d367b25f"
  }
 },
 "nbformat": 4,
 "nbformat_minor": 2,
 "cells": [
  {
   "cell_type": "code",
   "execution_count": 53,
   "metadata": {},
   "outputs": [],
   "source": [
    "from gnews import GNews\n",
    "google_news = GNews(language='pt', country='BR', period='7d')"
   ]
  },
  {
   "cell_type": "code",
   "execution_count": 2,
   "metadata": {},
   "outputs": [],
   "source": [
    "import pandas as pd \n",
    "import numpy as np "
   ]
  },
  {
   "cell_type": "code",
   "execution_count": 3,
   "metadata": {},
   "outputs": [
    {
     "output_type": "execute_result",
     "data": {
      "text/plain": [
       "array([0.7163939 , 0.49969471, 0.55727386, 0.45270352, 0.69659658,\n",
       "       0.43808905, 0.60359355, 0.05336337, 0.5048006 , 0.1035172 ])"
      ]
     },
     "metadata": {},
     "execution_count": 3
    }
   ],
   "source": [
    "np.random.random(10)"
   ]
  },
  {
   "cell_type": "code",
   "execution_count": 33,
   "metadata": {},
   "outputs": [],
   "source": [
    "df = pd.DataFrame(\n",
    "    {\n",
    "        \"a\" : np.random.random(20),\n",
    "        'b' : np.random.random(20),\n",
    "    }\n",
    ")"
   ]
  },
  {
   "cell_type": "code",
   "execution_count": 34,
   "metadata": {},
   "outputs": [
    {
     "output_type": "execute_result",
     "data": {
      "text/plain": [
       "           a         b\n",
       "0   0.141350  0.403841\n",
       "1   0.606548  0.644671\n",
       "2   0.930208  0.169688\n",
       "3   0.256564  0.270767\n",
       "4   0.472494  0.027385\n",
       "5   0.807599  0.981243\n",
       "6   0.323036  0.447156\n",
       "7   0.639593  0.035664\n",
       "8   0.900670  0.121995\n",
       "9   0.041139  0.677832\n",
       "10  0.840229  0.962064\n",
       "11  0.961654  0.519626\n",
       "12  0.736007  0.896639\n",
       "13  0.062211  0.710452\n",
       "14  0.190086  0.911481\n",
       "15  0.703241  0.478173\n",
       "16  0.934495  0.697603\n",
       "17  0.066058  0.831390\n",
       "18  0.992360  0.727600\n",
       "19  0.355445  0.643507"
      ],
      "text/html": "<div>\n<style scoped>\n    .dataframe tbody tr th:only-of-type {\n        vertical-align: middle;\n    }\n\n    .dataframe tbody tr th {\n        vertical-align: top;\n    }\n\n    .dataframe thead th {\n        text-align: right;\n    }\n</style>\n<table border=\"1\" class=\"dataframe\">\n  <thead>\n    <tr style=\"text-align: right;\">\n      <th></th>\n      <th>a</th>\n      <th>b</th>\n    </tr>\n  </thead>\n  <tbody>\n    <tr>\n      <th>0</th>\n      <td>0.141350</td>\n      <td>0.403841</td>\n    </tr>\n    <tr>\n      <th>1</th>\n      <td>0.606548</td>\n      <td>0.644671</td>\n    </tr>\n    <tr>\n      <th>2</th>\n      <td>0.930208</td>\n      <td>0.169688</td>\n    </tr>\n    <tr>\n      <th>3</th>\n      <td>0.256564</td>\n      <td>0.270767</td>\n    </tr>\n    <tr>\n      <th>4</th>\n      <td>0.472494</td>\n      <td>0.027385</td>\n    </tr>\n    <tr>\n      <th>5</th>\n      <td>0.807599</td>\n      <td>0.981243</td>\n    </tr>\n    <tr>\n      <th>6</th>\n      <td>0.323036</td>\n      <td>0.447156</td>\n    </tr>\n    <tr>\n      <th>7</th>\n      <td>0.639593</td>\n      <td>0.035664</td>\n    </tr>\n    <tr>\n      <th>8</th>\n      <td>0.900670</td>\n      <td>0.121995</td>\n    </tr>\n    <tr>\n      <th>9</th>\n      <td>0.041139</td>\n      <td>0.677832</td>\n    </tr>\n    <tr>\n      <th>10</th>\n      <td>0.840229</td>\n      <td>0.962064</td>\n    </tr>\n    <tr>\n      <th>11</th>\n      <td>0.961654</td>\n      <td>0.519626</td>\n    </tr>\n    <tr>\n      <th>12</th>\n      <td>0.736007</td>\n      <td>0.896639</td>\n    </tr>\n    <tr>\n      <th>13</th>\n      <td>0.062211</td>\n      <td>0.710452</td>\n    </tr>\n    <tr>\n      <th>14</th>\n      <td>0.190086</td>\n      <td>0.911481</td>\n    </tr>\n    <tr>\n      <th>15</th>\n      <td>0.703241</td>\n      <td>0.478173</td>\n    </tr>\n    <tr>\n      <th>16</th>\n      <td>0.934495</td>\n      <td>0.697603</td>\n    </tr>\n    <tr>\n      <th>17</th>\n      <td>0.066058</td>\n      <td>0.831390</td>\n    </tr>\n    <tr>\n      <th>18</th>\n      <td>0.992360</td>\n      <td>0.727600</td>\n    </tr>\n    <tr>\n      <th>19</th>\n      <td>0.355445</td>\n      <td>0.643507</td>\n    </tr>\n  </tbody>\n</table>\n</div>"
     },
     "metadata": {},
     "execution_count": 34
    }
   ],
   "source": [
    "df"
   ]
  },
  {
   "cell_type": "code",
   "execution_count": 35,
   "metadata": {},
   "outputs": [],
   "source": [
    "for group, df_g in df.groupby(np.arange(len(df)) // 4):\n",
    "    df.loc[df_g.index, 'group'] = [group] * len(df_g)"
   ]
  },
  {
   "cell_type": "code",
   "execution_count": 43,
   "metadata": {},
   "outputs": [
    {
     "output_type": "execute_result",
     "data": {
      "text/plain": [
       "2"
      ]
     },
     "metadata": {},
     "execution_count": 43
    }
   ],
   "source": [
    "7 % 5"
   ]
  },
  {
   "cell_type": "code",
   "execution_count": 27,
   "metadata": {},
   "outputs": [
    {
     "output_type": "execute_result",
     "data": {
      "text/plain": [
       "           a         b\n",
       "0   0.564150  0.379517\n",
       "1   0.690430  0.115461\n",
       "2   0.359928  0.827542\n",
       "3   0.428115  0.888866\n",
       "4   0.646539  0.445733\n",
       "5   0.973383  0.096609\n",
       "6   0.337658  0.600195\n",
       "7   0.351242  0.084847\n",
       "8   0.848420  0.588833\n",
       "9   0.367584  0.419625\n",
       "10  0.054287  0.664888\n",
       "11  0.202354  0.783312\n",
       "12  0.249091  0.144704\n",
       "13  0.474979  0.226675\n",
       "14  0.172415  0.669154\n",
       "15  0.252604  0.557619\n",
       "16  0.713730  0.582163\n",
       "17  0.932759  0.445657\n",
       "18  0.508296  0.164950\n",
       "19  0.701429  0.732093"
      ],
      "text/html": "<div>\n<style scoped>\n    .dataframe tbody tr th:only-of-type {\n        vertical-align: middle;\n    }\n\n    .dataframe tbody tr th {\n        vertical-align: top;\n    }\n\n    .dataframe thead th {\n        text-align: right;\n    }\n</style>\n<table border=\"1\" class=\"dataframe\">\n  <thead>\n    <tr style=\"text-align: right;\">\n      <th></th>\n      <th>a</th>\n      <th>b</th>\n    </tr>\n  </thead>\n  <tbody>\n    <tr>\n      <th>0</th>\n      <td>0.564150</td>\n      <td>0.379517</td>\n    </tr>\n    <tr>\n      <th>1</th>\n      <td>0.690430</td>\n      <td>0.115461</td>\n    </tr>\n    <tr>\n      <th>2</th>\n      <td>0.359928</td>\n      <td>0.827542</td>\n    </tr>\n    <tr>\n      <th>3</th>\n      <td>0.428115</td>\n      <td>0.888866</td>\n    </tr>\n    <tr>\n      <th>4</th>\n      <td>0.646539</td>\n      <td>0.445733</td>\n    </tr>\n    <tr>\n      <th>5</th>\n      <td>0.973383</td>\n      <td>0.096609</td>\n    </tr>\n    <tr>\n      <th>6</th>\n      <td>0.337658</td>\n      <td>0.600195</td>\n    </tr>\n    <tr>\n      <th>7</th>\n      <td>0.351242</td>\n      <td>0.084847</td>\n    </tr>\n    <tr>\n      <th>8</th>\n      <td>0.848420</td>\n      <td>0.588833</td>\n    </tr>\n    <tr>\n      <th>9</th>\n      <td>0.367584</td>\n      <td>0.419625</td>\n    </tr>\n    <tr>\n      <th>10</th>\n      <td>0.054287</td>\n      <td>0.664888</td>\n    </tr>\n    <tr>\n      <th>11</th>\n      <td>0.202354</td>\n      <td>0.783312</td>\n    </tr>\n    <tr>\n      <th>12</th>\n      <td>0.249091</td>\n      <td>0.144704</td>\n    </tr>\n    <tr>\n      <th>13</th>\n      <td>0.474979</td>\n      <td>0.226675</td>\n    </tr>\n    <tr>\n      <th>14</th>\n      <td>0.172415</td>\n      <td>0.669154</td>\n    </tr>\n    <tr>\n      <th>15</th>\n      <td>0.252604</td>\n      <td>0.557619</td>\n    </tr>\n    <tr>\n      <th>16</th>\n      <td>0.713730</td>\n      <td>0.582163</td>\n    </tr>\n    <tr>\n      <th>17</th>\n      <td>0.932759</td>\n      <td>0.445657</td>\n    </tr>\n    <tr>\n      <th>18</th>\n      <td>0.508296</td>\n      <td>0.164950</td>\n    </tr>\n    <tr>\n      <th>19</th>\n      <td>0.701429</td>\n      <td>0.732093</td>\n    </tr>\n  </tbody>\n</table>\n</div>"
     },
     "metadata": {},
     "execution_count": 27
    }
   ],
   "source": [
    "df"
   ]
  },
  {
   "cell_type": "code",
   "execution_count": 9,
   "metadata": {},
   "outputs": [
    {
     "output_type": "execute_result",
     "data": {
      "text/plain": [
       "RangeIndex(start=0, stop=20, step=1)"
      ]
     },
     "metadata": {},
     "execution_count": 9
    }
   ],
   "source": [
    "df.index"
   ]
  },
  {
   "cell_type": "code",
   "execution_count": 54,
   "metadata": {},
   "outputs": [],
   "source": [
    "result =google_news.get_news(\"ITSA4\")"
   ]
  },
  {
   "cell_type": "code",
   "execution_count": 55,
   "metadata": {},
   "outputs": [
    {
     "output_type": "execute_result",
     "data": {
      "text/plain": [
       "[{'title': 'Dividendos: Vale a Pena Comprar as Ações da Itaúsa (ITSA4)? - Investing.com Brasil',\n",
       "  'description': 'Dividendos: Vale a Pena Comprar as Ações da Itaúsa (ITSA4)?  Investing.com Brasil',\n",
       "  'published date': 'Tue, 13 Jul 2021 17:25:00 GMT',\n",
       "  'url': 'https://br.investing.com/analysis/dividendos-vale-a-pena-comprar-as-acoes-da-itausa-itsa4-200443280',\n",
       "  'publisher': {'href': 'https://br.investing.com',\n",
       "   'title': 'Investing.com Brasil'}},\n",
       " {'title': 'Ações da Itaúsa (ITSA4) podem ter upside de 34%? – Fabrizio Gueratto – E-Investidor - E-Investidor',\n",
       "  'description': 'Ações da Itaúsa (ITSA4) podem ter upside de 34%? – Fabrizio Gueratto – E-Investidor  E-Investidor',\n",
       "  'published date': 'Thu, 08 Jul 2021 11:09:20 GMT',\n",
       "  'url': 'https://einvestidor.estadao.com.br/colunas/fabrizio-gueratto/acoes-da-itausa-itsa4-podem-ter-upside/',\n",
       "  'publisher': {'href': 'https://einvestidor.estadao.com.br',\n",
       "   'title': 'E-Investidor'}},\n",
       " {'title': 'Ações Itaúsa (ITSA4): saiba qual o preço hoje (12/07) - UOL',\n",
       "  'description': 'Ações Itaúsa (ITSA4): saiba qual o preço hoje (12/07)  UOL',\n",
       "  'published date': 'Mon, 12 Jul 2021 20:39:04 GMT',\n",
       "  'url': 'https://economia.uol.com.br/mais/ultimas-noticias/2021/07/12/acao-itausa-hoje-cotacao-ibovespa.htm',\n",
       "  'publisher': {'href': 'https://economia.uol.com.br', 'title': 'UOL'}},\n",
       " {'title': 'Ações Itaúsa (ITSA4): saiba qual o preço hoje (07/07) - UOL',\n",
       "  'description': 'Ações Itaúsa (ITSA4): saiba qual o preço hoje (07/07)  UOL',\n",
       "  'published date': 'Wed, 07 Jul 2021 20:56:44 GMT',\n",
       "  'url': 'https://economia.uol.com.br/mais/ultimas-noticias/2021/07/07/acao-itausa-hoje-cotacao-ibovespa.htm',\n",
       "  'publisher': {'href': 'https://economia.uol.com.br', 'title': 'UOL'}},\n",
       " {'title': 'Easynvest traz Itaúsa na Carteira de Dividendos para Julho - Ultimoinstante',\n",
       "  'description': 'Easynvest traz Itaúsa na Carteira de Dividendos para Julho  Ultimoinstante',\n",
       "  'published date': 'Mon, 12 Jul 2021 21:09:24 GMT',\n",
       "  'url': 'https://www.ultimoinstante.com.br/corretoras/easynvest-traz-itausa-na-carteira-de-dividendos-para-julho/365179/',\n",
       "  'publisher': {'href': 'https://www.ultimoinstante.com.br',\n",
       "   'title': 'Ultimoinstante'}},\n",
       " {'title': 'IBOV Fecha em Alta de 1,73% - Investing.com Brasil',\n",
       "  'description': 'IBOV Fecha em Alta de 1,73%  Investing.com Brasil',\n",
       "  'published date': 'Mon, 12 Jul 2021 21:45:00 GMT',\n",
       "  'url': 'https://br.investing.com/analysis/ibov-fecha-em-alta-de-173-200443257',\n",
       "  'publisher': {'href': 'https://br.investing.com',\n",
       "   'title': 'Investing.com Brasil'}},\n",
       " {'title': 'Ações da Itaúsa (ITSA4) podem ter upside de 34%? – Fabrizio Gueratto – E-Investidor e Itaúsa (ITSA4)... - Diario',\n",
       "  'description': 'Ações da Itaúsa (ITSA4) podem ter upside de 34%? – Fabrizio Gueratto – E-Investidor e Itaúsa (ITSA4)...  Diario',\n",
       "  'published date': 'Mon, 12 Jul 2021 03:39:35 GMT',\n",
       "  'url': 'https://www.diarioesportes.com/pt/221426/',\n",
       "  'publisher': {'href': 'https://www.diarioesportes.com', 'title': 'Diario'}},\n",
       " {'title': 'Radar da Semana: Oportunidades de Compra em Itaúsa, Inter e Outras - Investing.com Brasil',\n",
       "  'description': 'Radar da Semana: Oportunidades de Compra em Itaúsa, Inter e Outras  Investing.com Brasil',\n",
       "  'published date': 'Mon, 12 Jul 2021 12:14:00 GMT',\n",
       "  'url': 'https://br.investing.com/analysis/radar-da-semana-oportunidades-de-compra-em-itausa-inter-e-outras-200443233',\n",
       "  'publisher': {'href': 'https://br.investing.com',\n",
       "   'title': 'Investing.com Brasil'}},\n",
       " {'title': 'Oi, Petrobras ou Magalu? Veja análise das 10 mais buscadas - Monitor do Mercado',\n",
       "  'description': 'Oi, Petrobras ou Magalu? Veja análise das 10 mais buscadas  Monitor do Mercado',\n",
       "  'published date': 'Tue, 13 Jul 2021 17:13:00 GMT',\n",
       "  'url': 'https://monitordomercado.com.br/noticias/20357-oi-petrobras-ou-magalu-veja-analise-das-',\n",
       "  'publisher': {'href': 'https://monitordomercado.com.br',\n",
       "   'title': 'Monitor do Mercado'}},\n",
       " {'title': 'É hora de comprar ações da Oi, Via ou Petrobras? Veja análise - Monitor do Mercado',\n",
       "  'description': 'É hora de comprar ações da Oi, Via ou Petrobras? Veja análise  Monitor do Mercado',\n",
       "  'published date': 'Mon, 12 Jul 2021 13:35:00 GMT',\n",
       "  'url': 'https://monitordomercado.com.br/noticias/20306-e-hora-de-comprar-acoes-da-oi-via-ou-pet',\n",
       "  'publisher': {'href': 'https://monitordomercado.com.br',\n",
       "   'title': 'Monitor do Mercado'}},\n",
       " {'title': 'Vale (VALE3) é a ação mais recomendada para a semana de 12/07 a 16/07 - SpaceMoney',\n",
       "  'description': 'Vale (VALE3) é a ação mais recomendada para a semana de 12/07 a 16/07  SpaceMoney',\n",
       "  'published date': 'Mon, 12 Jul 2021 16:34:00 GMT',\n",
       "  'url': 'https://www.spacemoney.com.br/spacedicas/vale-vale3-e-a-acao-mais-recomendada-para-a-semana-de-1207-a-1607/167766/',\n",
       "  'publisher': {'href': 'https://www.spacemoney.com.br',\n",
       "   'title': 'SpaceMoney'}},\n",
       " {'title': 'Ações Itaúsa (ITSA4): saiba qual o preço hoje (02/07) e Ações Itaúsa (ITSA4): saiba qual o preço hoj... - Diario',\n",
       "  'description': 'Ações Itaúsa (ITSA4): saiba qual o preço hoje (02/07) e Ações Itaúsa (ITSA4): saiba qual o preço hoj...  Diario',\n",
       "  'published date': 'Thu, 08 Jul 2021 02:40:30 GMT',\n",
       "  'url': 'https://www.diarioesportes.com/pt/218004/',\n",
       "  'publisher': {'href': 'https://www.diarioesportes.com', 'title': 'Diario'}},\n",
       " {'title': 'Carteira semanal da Terra supera a Bolsa e corretora \"não mexe em time que está ganhando\" - Money Times',\n",
       "  'description': 'Carteira semanal da Terra supera a Bolsa e corretora \"não mexe em time que está ganhando\"  Money Times',\n",
       "  'published date': 'Thu, 08 Jul 2021 20:35:41 GMT',\n",
       "  'url': 'https://www.moneytimes.com.br/carteira-semanal-da-terra-supera-a-bolsa-e-corretora-nao-mexe-em-time-que-esta-ganhando/',\n",
       "  'publisher': {'href': 'https://www.moneytimes.com.br',\n",
       "   'title': 'Money Times'}},\n",
       " {'title': 'O que Faz Duratex (DTEX3) e os Diferenciais da Empresa - The Capital Advisor',\n",
       "  'description': 'O que Faz Duratex (DTEX3) e os Diferenciais da Empresa  The Capital Advisor',\n",
       "  'published date': 'Thu, 08 Jul 2021 16:23:45 GMT',\n",
       "  'url': 'https://comoinvestir.thecap.com.br/o-que-faz-duratex-dtex3-e-os-diferenciais-da-empresa/',\n",
       "  'publisher': {'href': 'https://comoinvestir.thecap.com.br',\n",
       "   'title': 'The Capital Advisor'}},\n",
       " {'title': 'Ibovespa opera em queda com cenário político e aversão a risco no exterior - Eu Quero Investir',\n",
       "  'description': 'Ibovespa opera em queda com cenário político e aversão a risco no exterior  Eu Quero Investir',\n",
       "  'published date': 'Thu, 08 Jul 2021 16:44:11 GMT',\n",
       "  'url': 'https://www.euqueroinvestir.com/ibovespa-quinta-8-junho/',\n",
       "  'publisher': {'href': 'https://www.euqueroinvestir.com',\n",
       "   'title': 'Eu Quero Investir'}},\n",
       " {'title': 'VVAR3: E Aí? Ainda Posicionado em VVAR3 no Swing Trade? - Investing.com Brasil',\n",
       "  'description': 'VVAR3: E Aí? Ainda Posicionado em VVAR3 no Swing Trade?  Investing.com Brasil',\n",
       "  'published date': 'Mon, 12 Jul 2021 14:04:00 GMT',\n",
       "  'url': 'https://br.investing.com/analysis/vvar3-e-ai-ainda-posicionado-em-vvar3-no-swing-trade-200443227',\n",
       "  'publisher': {'href': 'https://br.investing.com',\n",
       "   'title': 'Investing.com Brasil'}},\n",
       " {'title': 'Ibovespa Fecha em Alta de 1,54% - Investing.com Brasil',\n",
       "  'description': 'Ibovespa Fecha em Alta de 1,54%  Investing.com Brasil',\n",
       "  'published date': 'Wed, 07 Jul 2021 22:12:00 GMT',\n",
       "  'url': 'https://br.investing.com/analysis/ibov-fecha-em-alta-de-154-200443161',\n",
       "  'publisher': {'href': 'https://br.investing.com',\n",
       "   'title': 'Investing.com Brasil'}},\n",
       " {'title': 'Intercement Brasil (ICBR3) - IPO - Análise de Daniel Nigri - Small Caps',\n",
       "  'description': 'Intercement Brasil (ICBR3) - IPO - Análise de Daniel Nigri  Small Caps',\n",
       "  'published date': 'Mon, 12 Jul 2021 20:43:04 GMT',\n",
       "  'url': 'https://www.smallcaps.com.br/intercement-brasil-icbr3-ipo-analise-de-daniel-nigri/',\n",
       "  'publisher': {'href': 'https://www.smallcaps.com.br',\n",
       "   'title': 'Small Caps'}},\n",
       " {'title': 'Análise de Fechamento (7/7): FOMC Acalma Mercados, Ibovespa Sobe! - Investing.com Brasil',\n",
       "  'description': 'Análise de Fechamento (7/7): FOMC Acalma Mercados, Ibovespa Sobe!  Investing.com Brasil',\n",
       "  'published date': 'Wed, 07 Jul 2021 20:50:00 GMT',\n",
       "  'url': 'https://br.investing.com/analysis/analise-de-fechamento--772021--fomc-acalma-mercados-ibov-sobe--200443157',\n",
       "  'publisher': {'href': 'https://br.investing.com',\n",
       "   'title': 'Investing.com Brasil'}},\n",
       " {'title': 'SEST SENAT oferece tratamentos preventivos e pós-covid-19 e Sest Senat oferece muitos cursos gratuit... - Diario',\n",
       "  'description': 'SEST SENAT oferece tratamentos preventivos e pós-covid-19 e Sest Senat oferece muitos cursos gratuit...  Diario',\n",
       "  'published date': 'Thu, 08 Jul 2021 11:18:35 GMT',\n",
       "  'url': 'https://www.diarioesportes.com/pt/218288/',\n",
       "  'publisher': {'href': 'https://www.diarioesportes.com', 'title': 'Diario'}}]"
      ]
     },
     "metadata": {},
     "execution_count": 55
    }
   ],
   "source": [
    "result"
   ]
  },
  {
   "cell_type": "code",
   "execution_count": 56,
   "metadata": {},
   "outputs": [],
   "source": [
    "new_result = []\n",
    "for x in result:\n",
    "    x['publisher'] = x['publisher']['title']\n",
    "    x['title'] = x['title'].replace(\" - \" + x['publisher'], \"\")\n",
    "    new_result.append(x)\n",
    "\n",
    "result = new_result"
   ]
  },
  {
   "cell_type": "code",
   "execution_count": 52,
   "metadata": {},
   "outputs": [
    {
     "output_type": "execute_result",
     "data": {
      "text/plain": [
       "'Dividendos: Vale a Pena Comprar as Ações da Itaúsa (ITSA4)?'"
      ]
     },
     "metadata": {},
     "execution_count": 52
    }
   ],
   "source": [
    "result[0]['title'].replace(\" - \" + result[0]['publisher'], \"\")"
   ]
  },
  {
   "cell_type": "code",
   "execution_count": 57,
   "metadata": {},
   "outputs": [
    {
     "output_type": "execute_result",
     "data": {
      "text/plain": [
       "[{'title': 'Dividendos: Vale a Pena Comprar as Ações da Itaúsa (ITSA4)? - Investing.com Brasil',\n",
       "  'description': 'Dividendos: Vale a Pena Comprar as Ações da Itaúsa (ITSA4)?  Investing.com Brasil',\n",
       "  'published date': 'Tue, 13 Jul 2021 17:25:00 GMT',\n",
       "  'url': 'https://br.investing.com/analysis/dividendos-vale-a-pena-comprar-as-acoes-da-itausa-itsa4-200443280',\n",
       "  'publisher': 'Investing.com Brasil'},\n",
       " {'title': 'Ações da Itaúsa (ITSA4) podem ter upside de 34%? – Fabrizio Gueratto – E-Investidor - E-Investidor',\n",
       "  'description': 'Ações da Itaúsa (ITSA4) podem ter upside de 34%? – Fabrizio Gueratto – E-Investidor  E-Investidor',\n",
       "  'published date': 'Thu, 08 Jul 2021 11:09:20 GMT',\n",
       "  'url': 'https://einvestidor.estadao.com.br/colunas/fabrizio-gueratto/acoes-da-itausa-itsa4-podem-ter-upside/',\n",
       "  'publisher': 'E-Investidor'},\n",
       " {'title': 'Ações Itaúsa (ITSA4): saiba qual o preço hoje (12/07) - UOL',\n",
       "  'description': 'Ações Itaúsa (ITSA4): saiba qual o preço hoje (12/07)  UOL',\n",
       "  'published date': 'Mon, 12 Jul 2021 20:39:04 GMT',\n",
       "  'url': 'https://economia.uol.com.br/mais/ultimas-noticias/2021/07/12/acao-itausa-hoje-cotacao-ibovespa.htm',\n",
       "  'publisher': 'UOL'},\n",
       " {'title': 'Ações Itaúsa (ITSA4): saiba qual o preço hoje (07/07) - UOL',\n",
       "  'description': 'Ações Itaúsa (ITSA4): saiba qual o preço hoje (07/07)  UOL',\n",
       "  'published date': 'Wed, 07 Jul 2021 20:56:44 GMT',\n",
       "  'url': 'https://economia.uol.com.br/mais/ultimas-noticias/2021/07/07/acao-itausa-hoje-cotacao-ibovespa.htm',\n",
       "  'publisher': 'UOL'},\n",
       " {'title': 'Easynvest traz Itaúsa na Carteira de Dividendos para Julho - Ultimoinstante',\n",
       "  'description': 'Easynvest traz Itaúsa na Carteira de Dividendos para Julho  Ultimoinstante',\n",
       "  'published date': 'Mon, 12 Jul 2021 21:09:24 GMT',\n",
       "  'url': 'https://www.ultimoinstante.com.br/corretoras/easynvest-traz-itausa-na-carteira-de-dividendos-para-julho/365179/',\n",
       "  'publisher': 'Ultimoinstante'},\n",
       " {'title': 'IBOV Fecha em Alta de 1,73% - Investing.com Brasil',\n",
       "  'description': 'IBOV Fecha em Alta de 1,73%  Investing.com Brasil',\n",
       "  'published date': 'Mon, 12 Jul 2021 21:45:00 GMT',\n",
       "  'url': 'https://br.investing.com/analysis/ibov-fecha-em-alta-de-173-200443257',\n",
       "  'publisher': 'Investing.com Brasil'},\n",
       " {'title': 'Ações da Itaúsa (ITSA4) podem ter upside de 34%? – Fabrizio Gueratto – E-Investidor e Itaúsa (ITSA4)... - Diario',\n",
       "  'description': 'Ações da Itaúsa (ITSA4) podem ter upside de 34%? – Fabrizio Gueratto – E-Investidor e Itaúsa (ITSA4)...  Diario',\n",
       "  'published date': 'Mon, 12 Jul 2021 03:39:35 GMT',\n",
       "  'url': 'https://www.diarioesportes.com/pt/221426/',\n",
       "  'publisher': 'Diario'},\n",
       " {'title': 'Radar da Semana: Oportunidades de Compra em Itaúsa, Inter e Outras - Investing.com Brasil',\n",
       "  'description': 'Radar da Semana: Oportunidades de Compra em Itaúsa, Inter e Outras  Investing.com Brasil',\n",
       "  'published date': 'Mon, 12 Jul 2021 12:14:00 GMT',\n",
       "  'url': 'https://br.investing.com/analysis/radar-da-semana-oportunidades-de-compra-em-itausa-inter-e-outras-200443233',\n",
       "  'publisher': 'Investing.com Brasil'},\n",
       " {'title': 'Oi, Petrobras ou Magalu? Veja análise das 10 mais buscadas - Monitor do Mercado',\n",
       "  'description': 'Oi, Petrobras ou Magalu? Veja análise das 10 mais buscadas  Monitor do Mercado',\n",
       "  'published date': 'Tue, 13 Jul 2021 17:13:00 GMT',\n",
       "  'url': 'https://monitordomercado.com.br/noticias/20357-oi-petrobras-ou-magalu-veja-analise-das-',\n",
       "  'publisher': 'Monitor do Mercado'},\n",
       " {'title': 'É hora de comprar ações da Oi, Via ou Petrobras? Veja análise - Monitor do Mercado',\n",
       "  'description': 'É hora de comprar ações da Oi, Via ou Petrobras? Veja análise  Monitor do Mercado',\n",
       "  'published date': 'Mon, 12 Jul 2021 13:35:00 GMT',\n",
       "  'url': 'https://monitordomercado.com.br/noticias/20306-e-hora-de-comprar-acoes-da-oi-via-ou-pet',\n",
       "  'publisher': 'Monitor do Mercado'},\n",
       " {'title': 'Vale (VALE3) é a ação mais recomendada para a semana de 12/07 a 16/07 - SpaceMoney',\n",
       "  'description': 'Vale (VALE3) é a ação mais recomendada para a semana de 12/07 a 16/07  SpaceMoney',\n",
       "  'published date': 'Mon, 12 Jul 2021 16:34:00 GMT',\n",
       "  'url': 'https://www.spacemoney.com.br/spacedicas/vale-vale3-e-a-acao-mais-recomendada-para-a-semana-de-1207-a-1607/167766/',\n",
       "  'publisher': 'SpaceMoney'},\n",
       " {'title': 'Ações Itaúsa (ITSA4): saiba qual o preço hoje (02/07) e Ações Itaúsa (ITSA4): saiba qual o preço hoj... - Diario',\n",
       "  'description': 'Ações Itaúsa (ITSA4): saiba qual o preço hoje (02/07) e Ações Itaúsa (ITSA4): saiba qual o preço hoj...  Diario',\n",
       "  'published date': 'Thu, 08 Jul 2021 02:40:30 GMT',\n",
       "  'url': 'https://www.diarioesportes.com/pt/218004/',\n",
       "  'publisher': 'Diario'},\n",
       " {'title': 'Carteira semanal da Terra supera a Bolsa e corretora \"não mexe em time que está ganhando\" - Money Times',\n",
       "  'description': 'Carteira semanal da Terra supera a Bolsa e corretora \"não mexe em time que está ganhando\"  Money Times',\n",
       "  'published date': 'Thu, 08 Jul 2021 20:35:41 GMT',\n",
       "  'url': 'https://www.moneytimes.com.br/carteira-semanal-da-terra-supera-a-bolsa-e-corretora-nao-mexe-em-time-que-esta-ganhando/',\n",
       "  'publisher': 'Money Times'},\n",
       " {'title': 'O que Faz Duratex (DTEX3) e os Diferenciais da Empresa - The Capital Advisor',\n",
       "  'description': 'O que Faz Duratex (DTEX3) e os Diferenciais da Empresa  The Capital Advisor',\n",
       "  'published date': 'Thu, 08 Jul 2021 16:23:45 GMT',\n",
       "  'url': 'https://comoinvestir.thecap.com.br/o-que-faz-duratex-dtex3-e-os-diferenciais-da-empresa/',\n",
       "  'publisher': 'The Capital Advisor'},\n",
       " {'title': 'Ibovespa opera em queda com cenário político e aversão a risco no exterior - Eu Quero Investir',\n",
       "  'description': 'Ibovespa opera em queda com cenário político e aversão a risco no exterior  Eu Quero Investir',\n",
       "  'published date': 'Thu, 08 Jul 2021 16:44:11 GMT',\n",
       "  'url': 'https://www.euqueroinvestir.com/ibovespa-quinta-8-junho/',\n",
       "  'publisher': 'Eu Quero Investir'},\n",
       " {'title': 'VVAR3: E Aí? Ainda Posicionado em VVAR3 no Swing Trade? - Investing.com Brasil',\n",
       "  'description': 'VVAR3: E Aí? Ainda Posicionado em VVAR3 no Swing Trade?  Investing.com Brasil',\n",
       "  'published date': 'Mon, 12 Jul 2021 14:04:00 GMT',\n",
       "  'url': 'https://br.investing.com/analysis/vvar3-e-ai-ainda-posicionado-em-vvar3-no-swing-trade-200443227',\n",
       "  'publisher': 'Investing.com Brasil'},\n",
       " {'title': 'Ibovespa Fecha em Alta de 1,54% - Investing.com Brasil',\n",
       "  'description': 'Ibovespa Fecha em Alta de 1,54%  Investing.com Brasil',\n",
       "  'published date': 'Wed, 07 Jul 2021 22:12:00 GMT',\n",
       "  'url': 'https://br.investing.com/analysis/ibov-fecha-em-alta-de-154-200443161',\n",
       "  'publisher': 'Investing.com Brasil'},\n",
       " {'title': 'Intercement Brasil (ICBR3) - IPO - Análise de Daniel Nigri - Small Caps',\n",
       "  'description': 'Intercement Brasil (ICBR3) - IPO - Análise de Daniel Nigri  Small Caps',\n",
       "  'published date': 'Mon, 12 Jul 2021 20:43:04 GMT',\n",
       "  'url': 'https://www.smallcaps.com.br/intercement-brasil-icbr3-ipo-analise-de-daniel-nigri/',\n",
       "  'publisher': 'Small Caps'},\n",
       " {'title': 'Análise de Fechamento (7/7): FOMC Acalma Mercados, Ibovespa Sobe! - Investing.com Brasil',\n",
       "  'description': 'Análise de Fechamento (7/7): FOMC Acalma Mercados, Ibovespa Sobe!  Investing.com Brasil',\n",
       "  'published date': 'Wed, 07 Jul 2021 20:50:00 GMT',\n",
       "  'url': 'https://br.investing.com/analysis/analise-de-fechamento--772021--fomc-acalma-mercados-ibov-sobe--200443157',\n",
       "  'publisher': 'Investing.com Brasil'},\n",
       " {'title': 'SEST SENAT oferece tratamentos preventivos e pós-covid-19 e Sest Senat oferece muitos cursos gratuit... - Diario',\n",
       "  'description': 'SEST SENAT oferece tratamentos preventivos e pós-covid-19 e Sest Senat oferece muitos cursos gratuit...  Diario',\n",
       "  'published date': 'Thu, 08 Jul 2021 11:18:35 GMT',\n",
       "  'url': 'https://www.diarioesportes.com/pt/218288/',\n",
       "  'publisher': 'Diario'}]"
      ]
     },
     "metadata": {},
     "execution_count": 57
    }
   ],
   "source": [
    "result"
   ]
  },
  {
   "cell_type": "code",
   "execution_count": 31,
   "metadata": {},
   "outputs": [],
   "source": [
    "import pandas as pd\n",
    "df = pd.DataFrame(result)"
   ]
  },
  {
   "cell_type": "code",
   "execution_count": 32,
   "metadata": {},
   "outputs": [
    {
     "output_type": "execute_result",
     "data": {
      "text/plain": [
       "                                               title  \\\n",
       "0  Dividendos: Vale a Pena Comprar as Ações da It...   \n",
       "1  Ações da Itaúsa (ITSA4) podem ter upside de 34...   \n",
       "2  Itaúsa (ITSA4): Por \"potencial de valorização ...   \n",
       "3  Ações Itaúsa (ITSA4): saiba qual o preço hoje ...   \n",
       "4  Itaúsa (ITSA4) concluiu investimento na Aegea ...   \n",
       "\n",
       "                                         description  \\\n",
       "0  Dividendos: Vale a Pena Comprar as Ações da It...   \n",
       "1  Ações da Itaúsa (ITSA4) podem ter upside de 34...   \n",
       "2  Itaúsa (ITSA4): Por \"potencial de valorização ...   \n",
       "3  Ações Itaúsa (ITSA4): saiba qual o preço hoje ...   \n",
       "4  Itaúsa (ITSA4) concluiu investimento na Aegea ...   \n",
       "\n",
       "                  published date  \\\n",
       "0  Tue, 13 Jul 2021 17:25:00 GMT   \n",
       "1  Thu, 08 Jul 2021 11:09:20 GMT   \n",
       "2  Wed, 23 Jun 2021 07:00:00 GMT   \n",
       "3  Mon, 12 Jul 2021 20:39:04 GMT   \n",
       "4  Thu, 01 Jul 2021 07:00:00 GMT   \n",
       "\n",
       "                                                 url  \\\n",
       "0  https://br.investing.com/analysis/dividendos-v...   \n",
       "1  https://einvestidor.estadao.com.br/colunas/fab...   \n",
       "2  https://www.suno.com.br/noticias/itausa-itsa4-...   \n",
       "3  https://economia.uol.com.br/mais/ultimas-notic...   \n",
       "4  https://www.suno.com.br/noticias/itausa-itsa4-...   \n",
       "\n",
       "                                           publisher  \n",
       "0  {'href': 'https://br.investing.com', 'title': ...  \n",
       "1  {'href': 'https://einvestidor.estadao.com.br',...  \n",
       "2  {'href': 'https://www.suno.com.br', 'title': '...  \n",
       "3  {'href': 'https://economia.uol.com.br', 'title...  \n",
       "4  {'href': 'https://www.suno.com.br', 'title': '...  "
      ],
      "text/html": "<div>\n<style scoped>\n    .dataframe tbody tr th:only-of-type {\n        vertical-align: middle;\n    }\n\n    .dataframe tbody tr th {\n        vertical-align: top;\n    }\n\n    .dataframe thead th {\n        text-align: right;\n    }\n</style>\n<table border=\"1\" class=\"dataframe\">\n  <thead>\n    <tr style=\"text-align: right;\">\n      <th></th>\n      <th>title</th>\n      <th>description</th>\n      <th>published date</th>\n      <th>url</th>\n      <th>publisher</th>\n    </tr>\n  </thead>\n  <tbody>\n    <tr>\n      <th>0</th>\n      <td>Dividendos: Vale a Pena Comprar as Ações da It...</td>\n      <td>Dividendos: Vale a Pena Comprar as Ações da It...</td>\n      <td>Tue, 13 Jul 2021 17:25:00 GMT</td>\n      <td>https://br.investing.com/analysis/dividendos-v...</td>\n      <td>{'href': 'https://br.investing.com', 'title': ...</td>\n    </tr>\n    <tr>\n      <th>1</th>\n      <td>Ações da Itaúsa (ITSA4) podem ter upside de 34...</td>\n      <td>Ações da Itaúsa (ITSA4) podem ter upside de 34...</td>\n      <td>Thu, 08 Jul 2021 11:09:20 GMT</td>\n      <td>https://einvestidor.estadao.com.br/colunas/fab...</td>\n      <td>{'href': 'https://einvestidor.estadao.com.br',...</td>\n    </tr>\n    <tr>\n      <th>2</th>\n      <td>Itaúsa (ITSA4): Por \"potencial de valorização ...</td>\n      <td>Itaúsa (ITSA4): Por \"potencial de valorização ...</td>\n      <td>Wed, 23 Jun 2021 07:00:00 GMT</td>\n      <td>https://www.suno.com.br/noticias/itausa-itsa4-...</td>\n      <td>{'href': 'https://www.suno.com.br', 'title': '...</td>\n    </tr>\n    <tr>\n      <th>3</th>\n      <td>Ações Itaúsa (ITSA4): saiba qual o preço hoje ...</td>\n      <td>Ações Itaúsa (ITSA4): saiba qual o preço hoje ...</td>\n      <td>Mon, 12 Jul 2021 20:39:04 GMT</td>\n      <td>https://economia.uol.com.br/mais/ultimas-notic...</td>\n      <td>{'href': 'https://economia.uol.com.br', 'title...</td>\n    </tr>\n    <tr>\n      <th>4</th>\n      <td>Itaúsa (ITSA4) concluiu investimento na Aegea ...</td>\n      <td>Itaúsa (ITSA4) concluiu investimento na Aegea ...</td>\n      <td>Thu, 01 Jul 2021 07:00:00 GMT</td>\n      <td>https://www.suno.com.br/noticias/itausa-itsa4-...</td>\n      <td>{'href': 'https://www.suno.com.br', 'title': '...</td>\n    </tr>\n  </tbody>\n</table>\n</div>"
     },
     "metadata": {},
     "execution_count": 32
    }
   ],
   "source": [
    "df.head()"
   ]
  },
  {
   "cell_type": "code",
   "execution_count": null,
   "metadata": {},
   "outputs": [],
   "source": []
  },
  {
   "cell_type": "code",
   "execution_count": 7,
   "metadata": {},
   "outputs": [
    {
     "output_type": "execute_result",
     "data": {
      "text/plain": [
       "-628654144946757924"
      ]
     },
     "metadata": {},
     "execution_count": 7
    }
   ],
   "source": [
    "hash(\"oiii123132131\")"
   ]
  },
  {
   "cell_type": "code",
   "execution_count": 8,
   "metadata": {},
   "outputs": [],
   "source": [
    "article = google_news.get_full_article(\"https://www.infomoney.com.br/mercados/os-setores-mais-e-menos-afetados-na-bolsa-com-dividendos-taxados-e-fim-do-jcp-e-as-possiveis-estrategias-no-novo-cenario/\")"
   ]
  },
  {
   "cell_type": "code",
   "execution_count": 13,
   "metadata": {},
   "outputs": [],
   "source": [
    "from GoogleNews import GoogleNews\n",
    "googlenews = GoogleNews(lang = 'pt', start='02/01/2017',end='02/28/2017')\n"
   ]
  },
  {
   "cell_type": "code",
   "execution_count": 14,
   "metadata": {},
   "outputs": [],
   "source": [
    "googlenews.search('Itau')"
   ]
  },
  {
   "cell_type": "code",
   "execution_count": 23,
   "metadata": {},
   "outputs": [],
   "source": [
    "googlenews.get_page(3)"
   ]
  },
  {
   "cell_type": "code",
   "execution_count": 33,
   "metadata": {},
   "outputs": [],
   "source": [
    "r = googlenews.result()"
   ]
  },
  {
   "cell_type": "code",
   "execution_count": 1,
   "metadata": {},
   "outputs": [],
   "source": [
    "import gnews_api"
   ]
  },
  {
   "cell_type": "code",
   "execution_count": 2,
   "metadata": {},
   "outputs": [],
   "source": [
    "extractor = gnews_api.NewsExtractor()"
   ]
  },
  {
   "cell_type": "code",
   "execution_count": 3,
   "metadata": {},
   "outputs": [],
   "source": [
    "results = extractor.extract_daily(from_date = \"2021-07-13\", filters = \"Itau\")"
   ]
  },
  {
   "cell_type": "code",
   "execution_count": 5,
   "metadata": {},
   "outputs": [],
   "source": [
    "from pathlib import Path"
   ]
  },
  {
   "cell_type": "code",
   "execution_count": 6,
   "metadata": {},
   "outputs": [],
   "source": [
    "file = Path(\"../../../DATA/b3_history/fundamentos.csv\")"
   ]
  },
  {
   "cell_type": "code",
   "execution_count": 7,
   "metadata": {},
   "outputs": [],
   "source": [
    "import pandas as pd"
   ]
  },
  {
   "cell_type": "code",
   "execution_count": 8,
   "metadata": {},
   "outputs": [],
   "source": [
    "df = pd.read_csv(file)"
   ]
  },
  {
   "cell_type": "code",
   "execution_count": null,
   "metadata": {},
   "outputs": [],
   "source": []
  }
 ]
}