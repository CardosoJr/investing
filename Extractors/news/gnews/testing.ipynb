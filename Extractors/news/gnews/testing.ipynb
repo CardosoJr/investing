{
 "metadata": {
  "language_info": {
   "codemirror_mode": {
    "name": "ipython",
    "version": 3
   },
   "file_extension": ".py",
   "mimetype": "text/x-python",
   "name": "python",
   "nbconvert_exporter": "python",
   "pygments_lexer": "ipython3",
   "version": "3.8.5"
  },
  "orig_nbformat": 4,
  "kernelspec": {
   "name": "python3",
   "display_name": "Python 3.8.5 64-bit ('base': conda)"
  },
  "interpreter": {
   "hash": "b3ba2566441a7c06988d0923437866b63cedc61552a5af99d1f4fb67d367b25f"
  }
 },
 "nbformat": 4,
 "nbformat_minor": 2,
 "cells": [
  {
   "cell_type": "code",
   "execution_count": 1,
   "metadata": {},
   "outputs": [],
   "source": [
    "from gnews import GNews\n",
    "google_news = GNews(language='pt', country='BR', period='7d', max_results=10)"
   ]
  },
  {
   "cell_type": "code",
   "execution_count": 2,
   "metadata": {},
   "outputs": [
    {
     "output_type": "execute_result",
     "data": {
      "text/plain": [
       "[{'title': 'Itaúsa (ITSA4): Por \"potencial de valorização atraente\", Credit Suisse reitera avaliação outperform - Suno Notícias',\n",
       "  'description': 'Itaúsa (ITSA4): Por \"potencial de valorização atraente\", Credit Suisse reitera avaliação outperform  Suno NotíciasCredit Suisse eleva preço-alvo para Itaúsa e vê ação como boa alternativa para operar case do Itaú  InfoMoneyCredit: desconto excessivo faz de Itaúsa bom player para ganhar com Itaú  Exame NotíciasComo comprar ações do Itaú com desconto de até 26% na B3  Seu DinheiroVer cobertura completa no Google Notícias',\n",
       "  'published date': 'Wed, 23 Jun 2021 18:07:39 GMT',\n",
       "  'url': 'https://www.suno.com.br/noticias/itausa-itsa4-credit-suisse-reitera-avaliacao-outperform/',\n",
       "  'publisher': {'href': 'https://www.suno.com.br', 'title': 'Suno Notícias'}},\n",
       " {'title': 'Itaúsa (ITSA4): Compra no Teto dos 12,00 ou no Piso dos 11,00? - Investing.com Brasil',\n",
       "  'description': 'Itaúsa (ITSA4): Compra no Teto dos 12,00 ou no Piso dos 11,00?  Investing.com Brasil',\n",
       "  'published date': 'Thu, 24 Jun 2021 23:10:00 GMT',\n",
       "  'url': 'https://br.investing.com/analysis/itausa-itsa4-compra-no-teto-dos-1200-ou-no-piso-dos-1100-200442870',\n",
       "  'publisher': {'href': 'https://br.investing.com',\n",
       "   'title': 'Investing.com Brasil'}},\n",
       " {'title': 'Vale (VALE3), Itaúsa (ITSA4): Veja as datas de corte e quem vai pagar dividendos na semana - Suno Notícias',\n",
       "  'description': 'Vale (VALE3), Itaúsa (ITSA4): Veja as datas de corte e quem vai pagar dividendos na semana  Suno Notícias',\n",
       "  'published date': 'Sat, 26 Jun 2021 14:20:30 GMT',\n",
       "  'url': 'https://www.suno.com.br/noticias/vale-vale3-itausa-itsa4-agenda-dividendos-266/',\n",
       "  'publisher': {'href': 'https://www.suno.com.br', 'title': 'Suno Notícias'}},\n",
       " {'title': 'Ações Itaúsa (ITSA4): saiba qual o preço hoje - UOL',\n",
       "  'description': 'Ações Itaúsa (ITSA4): saiba qual o preço hoje  UOL',\n",
       "  'published date': 'Fri, 25 Jun 2021 20:55:18 GMT',\n",
       "  'url': 'https://economia.uol.com.br/mais/ultimas-noticias/2021/06/25/acao-itausa-hoje-cotacao-ibovespa.htm',\n",
       "  'publisher': {'href': 'https://economia.uol.com.br', 'title': 'UOL'}},\n",
       " {'title': 'Destaques de Empresas: Marfrig (MRFG3), Itaúsa (ITSA4) e Azul (AZUL4) e Itaú (ITUB4) ou Itaúsa (ITSA... - Diario',\n",
       "  'description': 'Destaques de Empresas: Marfrig (MRFG3), Itaúsa (ITSA4) e Azul (AZUL4) e Itaú (ITUB4) ou Itaúsa (ITSA...  Diario',\n",
       "  'published date': 'Tue, 22 Jun 2021 03:04:25 GMT',\n",
       "  'url': 'https://www.diarioesportes.com/pt/204488/',\n",
       "  'publisher': {'href': 'https://www.diarioesportes.com', 'title': 'Diario'}},\n",
       " {'title': 'Ibovespa Fecha em Alta de 0,85% - Investing.com Brasil',\n",
       "  'description': 'Ibovespa Fecha em Alta de 0,85%  Investing.com Brasil',\n",
       "  'published date': 'Thu, 24 Jun 2021 21:43:00 GMT',\n",
       "  'url': 'https://br.investing.com/analysis/ibov-fecha-em-alta-de-085-200442876',\n",
       "  'publisher': {'href': 'https://br.investing.com',\n",
       "   'title': 'Investing.com Brasil'}},\n",
       " {'title': 'Ibovespa Fecha em Queda de 1,74% - Investing.com Brasil',\n",
       "  'description': 'Ibovespa Fecha em Queda de 1,74%  Investing.com Brasil',\n",
       "  'published date': 'Fri, 25 Jun 2021 22:05:00 GMT',\n",
       "  'url': 'https://br.investing.com/analysis/ibov-fecha-em-queda-de-174-200442900',\n",
       "  'publisher': {'href': 'https://br.investing.com',\n",
       "   'title': 'Investing.com Brasil'}},\n",
       " {'title': 'Ibovespa Fecha em Queda de 0,26% - Investing.com Brasil',\n",
       "  'description': 'Ibovespa Fecha em Queda de 0,26%  Investing.com Brasil',\n",
       "  'published date': 'Wed, 23 Jun 2021 22:06:00 GMT',\n",
       "  'url': 'https://br.investing.com/analysis/ibov-fecha-em-queda-de-026-200442847',\n",
       "  'publisher': {'href': 'https://br.investing.com',\n",
       "   'title': 'Investing.com Brasil'}},\n",
       " {'title': 'Ibovespa Fecha em Queda de 0,38% - Investing.com Brasil',\n",
       "  'description': 'Ibovespa Fecha em Queda de 0,38%  Investing.com Brasil',\n",
       "  'published date': 'Tue, 22 Jun 2021 22:17:00 GMT',\n",
       "  'url': 'https://br.investing.com/analysis/ibov-fecha-em-queda-de-038-200442820',\n",
       "  'publisher': {'href': 'https://br.investing.com',\n",
       "   'title': 'Investing.com Brasil'}},\n",
       " {'title': 'Ibovespa Fecha em Alta de 0,67% - Investing.com Brasil',\n",
       "  'description': 'Ibovespa Fecha em Alta de 0,67%  Investing.com Brasil',\n",
       "  'published date': 'Mon, 21 Jun 2021 21:47:00 GMT',\n",
       "  'url': 'https://br.investing.com/analysis/ibov-fecha-em-alta-de-067-200442793',\n",
       "  'publisher': {'href': 'https://br.investing.com',\n",
       "   'title': 'Investing.com Brasil'}}]"
      ]
     },
     "metadata": {},
     "execution_count": 2
    }
   ],
   "source": [
    "google_news.get_news(\"ITSA4\")"
   ]
  },
  {
   "cell_type": "code",
   "execution_count": null,
   "metadata": {},
   "outputs": [],
   "source": []
  }
 ]
}