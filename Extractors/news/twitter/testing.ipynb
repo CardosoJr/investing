{
 "metadata": {
  "language_info": {
   "codemirror_mode": {
    "name": "ipython",
    "version": 3
   },
   "file_extension": ".py",
   "mimetype": "text/x-python",
   "name": "python",
   "nbconvert_exporter": "python",
   "pygments_lexer": "ipython3",
   "version": "3.8.5"
  },
  "orig_nbformat": 4,
  "kernelspec": {
   "name": "python3",
   "display_name": "Python 3.8.5 64-bit ('base': conda)"
  },
  "interpreter": {
   "hash": "b3ba2566441a7c06988d0923437866b63cedc61552a5af99d1f4fb67d367b25f"
  }
 },
 "nbformat": 4,
 "nbformat_minor": 2,
 "cells": [
  {
   "cell_type": "code",
   "execution_count": 6,
   "metadata": {},
   "outputs": [],
   "source": [
    "import matplotlib.pyplot as plt\n",
    "import math\n",
    "import datetime as dt\n",
    "import pandas as pd\n",
    "import numpy as np\n",
    "from pathlib import Path\n",
    "import yaml\n",
    "import requests\n",
    "import os\n",
    "import json\n"
   ]
  },
  {
   "cell_type": "code",
   "execution_count": 10,
   "metadata": {},
   "outputs": [],
   "source": [
    "with open(Path(\"config.yaml\"), 'r') as f: \n",
    "    config = yaml.safe_load(f)"
   ]
  },
  {
   "cell_type": "code",
   "execution_count": 11,
   "metadata": {},
   "outputs": [],
   "source": [
    "bearer_token = config['token']\n",
    "# search_url = \"https://api.twitter.com/2/tweets/search/all\"\n",
    "search_url = \"https://api.twitter.com/2/tweets/search/recent\""
   ]
  },
  {
   "cell_type": "code",
   "execution_count": 12,
   "metadata": {},
   "outputs": [],
   "source": [
    "def create_headers(bearer_token):\n",
    "    headers = {\"Authorization\": \"Bearer {}\".format(bearer_token)}\n",
    "    return headers\n",
    "\n",
    "def connect_to_endpoint(url, headers, params):\n",
    "    response = requests.request(\"GET\", search_url, headers=headers, params=params)\n",
    "    print(response.status_code)\n",
    "    if response.status_code != 200:\n",
    "        raise Exception(response.status_code, response.text)\n",
    "    return response.json()"
   ]
  },
  {
   "cell_type": "code",
   "execution_count": 14,
   "metadata": {},
   "outputs": [],
   "source": [
    "s_ticker = \"GME\"\n",
    "count = 10\n",
    "start_time = None\n",
    "end_time = None\n",
    "params = {\n",
    "    \"query\": fr\"(\\${s_ticker}) (lang:en)\",\n",
    "    \"max_results\": str(count),\n",
    "    \"tweet.fields\": \"created_at,lang\",\n",
    "}\n",
    "\n",
    "if start_time:\n",
    "    # Assign from and to datetime parameters for the API\n",
    "    params[\"start_time\"] = start_time\n",
    "if end_time:\n",
    "    params[\"end_time\"] = end_timea"
   ]
  },
  {
   "cell_type": "code",
   "execution_count": 15,
   "metadata": {},
   "outputs": [
    {
     "output_type": "execute_result",
     "data": {
      "text/plain": [
       "{'query': '(\\\\$GME) (lang:en)',\n",
       " 'max_results': '10',\n",
       " 'tweet.fields': 'created_at,lang'}"
      ]
     },
     "metadata": {},
     "execution_count": 15
    }
   ],
   "source": [
    "params"
   ]
  },
  {
   "cell_type": "code",
   "execution_count": 17,
   "metadata": {},
   "outputs": [
    {
     "output_type": "stream",
     "name": "stdout",
     "text": [
      "200\n{\n    \"data\": [\n        {\n            \"created_at\": \"2021-06-29T21:07:14.000Z\",\n            \"id\": \"1409981811963445255\",\n            \"lang\": \"en\",\n            \"text\": \"RT @unusual_whales: \\ud83d\\udea8 BREAKING NEWS \\ud83d\\udea8\\n\\n@Trading212 states to users there needs to be \\\"consent\\\" to users to lend out $GME shares.\\n\\nElsewise,\\u2026\"\n        },\n        {\n            \"created_at\": \"2021-06-29T21:07:09.000Z\",\n            \"id\": \"1409981791495241729\",\n            \"lang\": \"en\",\n            \"text\": \"RT @CannabisCricket: $ALF $ALFIW 22.50 HOD $25 COMING NEXT NEXT LEG UP\\n\\nHIGH SHORT % SHORTS TRAPPED CANT WIN\\n\\nBIG SQUEEZE IS YET TO COME\\n\\nA\\u2026\"\n        },\n        {\n            \"created_at\": \"2021-06-29T21:07:07.000Z\",\n            \"id\": \"1409981781789523984\",\n            \"lang\": \"en\",\n            \"text\": \"RT @CannabisCricket: $ALF $ALFIW 22.50 HOD $25 COMING NEXT NEXT LEG UP\\n\\nHIGH SHORT % SHORTS TRAPPED CANT WIN\\n\\nBIG SQUEEZE IS YET TO COME\\n\\nA\\u2026\"\n        },\n        {\n            \"created_at\": \"2021-06-29T21:07:06.000Z\",\n            \"id\": \"1409981775007436802\",\n            \"lang\": \"en\",\n            \"text\": \"RT @masked_investor: So since 002 has been live AMC has been on the Threshold Security list twice....\\n#AMC #GME #apestogetherstrong\"\n        },\n        {\n            \"created_at\": \"2021-06-29T21:06:58.000Z\",\n            \"id\": \"1409981745471049738\",\n            \"lang\": \"en\",\n            \"text\": \"RT @GMEshortsqueeze: $GME I wonder if these are the types of \\ud83e\\udd21 with the .50-$1 lottos https://t.co/ndhMcolb3u\"\n        },\n        {\n            \"created_at\": \"2021-06-29T21:06:55.000Z\",\n            \"id\": \"1409981729335566344\",\n            \"lang\": \"en\",\n            \"text\": \"We got someone\\u2019s attention #AMC #GME https://t.co/oVgsBDuhL9\"\n        },\n        {\n            \"created_at\": \"2021-06-29T21:06:50.000Z\",\n            \"id\": \"1409981708682858502\",\n            \"lang\": \"en\",\n            \"text\": \"RT @WSB_Degenerate: $CLOV\\n\\nWhen borrow fees did this with $GME it ran from $12 to $480 in 7 weeks https://t.co/IFcbfncVAB\"\n        },\n        {\n            \"created_at\": \"2021-06-29T21:06:44.000Z\",\n            \"id\": \"1409981684703977478\",\n            \"lang\": \"en\",\n            \"text\": \"RT @cvpayne: .@Trading212 there is some confusion.  Are you demanding clients with $GME \\\"consent\\\" to lending them out or be restricted to o\\u2026\"\n        },\n        {\n            \"created_at\": \"2021-06-29T21:06:39.000Z\",\n            \"id\": \"1409981662813995011\",\n            \"lang\": \"en\",\n            \"text\": \"$XELA short squeeze for the rest of the week!! Let's get em traders!! Make the hedge funds bleed money!!! $amc $gme $aht $wish $ivr $bbig $mrin https://t.co/rFMnGMLc4U\"\n        },\n        {\n            \"created_at\": \"2021-06-29T21:06:39.000Z\",\n            \"id\": \"1409981662608363523\",\n            \"lang\": \"en\",\n            \"text\": \"RT @CannabisCricket: $BSQR $MRIN $AUUD $ALF $XELA $VERB ALL \\n\\nBREAKING OUT IN PREMARKET\\n\\n$TSLA $GME $WISH $AHT $AMC $APPL $SPCE $MRIN https\\u2026\"\n        }\n    ],\n    \"meta\": {\n        \"newest_id\": \"1409981811963445255\",\n        \"next_token\": \"b26v89c19zqg8o3fpdgaprgs9nbkgm8cpoht94m9ydldp\",\n        \"oldest_id\": \"1409981662608363523\",\n        \"result_count\": 10\n    }\n}\n"
     ]
    }
   ],
   "source": [
    "headers = create_headers(bearer_token)\n",
    "json_response = connect_to_endpoint(search_url, headers, params)\n",
    "print(json.dumps(json_response, indent=4, sort_keys=True))"
   ]
  },
  {
   "cell_type": "code",
   "execution_count": 26,
   "metadata": {},
   "outputs": [],
   "source": [
    "from datetime import datetime \n",
    "def get_data(tweet):\n",
    "    \"\"\"Gets twitter data from API request\"\"\"\n",
    "    if \"+\" in tweet[\"created_at\"]:\n",
    "        s_datetime = tweet[\"created_at\"].split(\" +\")[0]\n",
    "    else:\n",
    "        s_datetime = datetime.strptime(tweet[\"created_at\"].split(\".\")[0], \"%Y-%m-%dT%H:%M:%S\").strftime(\n",
    "            \"%Y-%m-%d %H:%M:%S\"\n",
    "        )\n",
    "\n",
    "    if \"full_text\" in tweet.keys():\n",
    "        s_text = tweet[\"full_text\"]\n",
    "    else:\n",
    "        s_text = tweet[\"text\"]\n",
    "\n",
    "    data = {\"created_at\": s_datetime, \"text\": s_text}\n",
    "    return data\n",
    "    \n",
    "def clean_tweet(tweet: str, s_ticker: str) -> str:\n",
    "    \"\"\"Cleans tweets to be fed to sentiment model\"\"\"\n",
    "    whitespace = re.compile(r\"\\s+\")\n",
    "    web_address = re.compile(r\"(?i)http(s):\\/\\/[a-z0-9.~_\\-\\/]+\")\n",
    "    ticker = re.compile(fr\"(?i)@{s_ticker}(?=\\b)\")\n",
    "    user = re.compile(r\"(?i)@[a-z0-9_]+\")\n",
    "\n",
    "    tweet = whitespace.sub(\" \", tweet)\n",
    "    tweet = web_address.sub(\"\", tweet)\n",
    "    tweet = ticker.sub(s_ticker, tweet)\n",
    "    tweet = user.sub(\"\", tweet)\n",
    "\n",
    "    return tweet"
   ]
  },
  {
   "cell_type": "code",
   "execution_count": 27,
   "metadata": {},
   "outputs": [],
   "source": [
    "df_tweets = pd.DataFrame()\n",
    "for tweet in json_response[\"data\"]:\n",
    "    row = get_data(tweet)\n",
    "    df_tweets = df_tweets.append(row, ignore_index=True)"
   ]
  },
  {
   "cell_type": "code",
   "execution_count": 28,
   "metadata": {},
   "outputs": [
    {
     "output_type": "execute_result",
     "data": {
      "text/plain": [
       "            created_at                                               text\n",
       "0  2021-06-29 21:07:14  RT @unusual_whales: 🚨 BREAKING NEWS 🚨\\n\\n@Trad...\n",
       "1  2021-06-29 21:07:09  RT @CannabisCricket: $ALF $ALFIW 22.50 HOD $25...\n",
       "2  2021-06-29 21:07:07  RT @CannabisCricket: $ALF $ALFIW 22.50 HOD $25...\n",
       "3  2021-06-29 21:07:06  RT @masked_investor: So since 002 has been liv...\n",
       "4  2021-06-29 21:06:58  RT @GMEshortsqueeze: $GME I wonder if these ar...\n",
       "5  2021-06-29 21:06:55  We got someone’s attention #AMC #GME https://t...\n",
       "6  2021-06-29 21:06:50  RT @WSB_Degenerate: $CLOV\\n\\nWhen borrow fees ...\n",
       "7  2021-06-29 21:06:44  RT @cvpayne: .@Trading212 there is some confus...\n",
       "8  2021-06-29 21:06:39  $XELA short squeeze for the rest of the week!!...\n",
       "9  2021-06-29 21:06:39  RT @CannabisCricket: $BSQR $MRIN $AUUD $ALF $X..."
      ],
      "text/html": "<div>\n<style scoped>\n    .dataframe tbody tr th:only-of-type {\n        vertical-align: middle;\n    }\n\n    .dataframe tbody tr th {\n        vertical-align: top;\n    }\n\n    .dataframe thead th {\n        text-align: right;\n    }\n</style>\n<table border=\"1\" class=\"dataframe\">\n  <thead>\n    <tr style=\"text-align: right;\">\n      <th></th>\n      <th>created_at</th>\n      <th>text</th>\n    </tr>\n  </thead>\n  <tbody>\n    <tr>\n      <th>0</th>\n      <td>2021-06-29 21:07:14</td>\n      <td>RT @unusual_whales: 🚨 BREAKING NEWS 🚨\\n\\n@Trad...</td>\n    </tr>\n    <tr>\n      <th>1</th>\n      <td>2021-06-29 21:07:09</td>\n      <td>RT @CannabisCricket: $ALF $ALFIW 22.50 HOD $25...</td>\n    </tr>\n    <tr>\n      <th>2</th>\n      <td>2021-06-29 21:07:07</td>\n      <td>RT @CannabisCricket: $ALF $ALFIW 22.50 HOD $25...</td>\n    </tr>\n    <tr>\n      <th>3</th>\n      <td>2021-06-29 21:07:06</td>\n      <td>RT @masked_investor: So since 002 has been liv...</td>\n    </tr>\n    <tr>\n      <th>4</th>\n      <td>2021-06-29 21:06:58</td>\n      <td>RT @GMEshortsqueeze: $GME I wonder if these ar...</td>\n    </tr>\n    <tr>\n      <th>5</th>\n      <td>2021-06-29 21:06:55</td>\n      <td>We got someone’s attention #AMC #GME https://t...</td>\n    </tr>\n    <tr>\n      <th>6</th>\n      <td>2021-06-29 21:06:50</td>\n      <td>RT @WSB_Degenerate: $CLOV\\n\\nWhen borrow fees ...</td>\n    </tr>\n    <tr>\n      <th>7</th>\n      <td>2021-06-29 21:06:44</td>\n      <td>RT @cvpayne: .@Trading212 there is some confus...</td>\n    </tr>\n    <tr>\n      <th>8</th>\n      <td>2021-06-29 21:06:39</td>\n      <td>$XELA short squeeze for the rest of the week!!...</td>\n    </tr>\n    <tr>\n      <th>9</th>\n      <td>2021-06-29 21:06:39</td>\n      <td>RT @CannabisCricket: $BSQR $MRIN $AUUD $ALF $X...</td>\n    </tr>\n  </tbody>\n</table>\n</div>"
     },
     "metadata": {},
     "execution_count": 28
    }
   ],
   "source": [
    "df_tweets"
   ]
  }
 ]
}