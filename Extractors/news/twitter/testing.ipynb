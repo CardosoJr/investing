{
 "metadata": {
  "language_info": {
   "codemirror_mode": {
    "name": "ipython",
    "version": 3
   },
   "file_extension": ".py",
   "mimetype": "text/x-python",
   "name": "python",
   "nbconvert_exporter": "python",
   "pygments_lexer": "ipython3",
   "version": "3.8.5"
  },
  "orig_nbformat": 4,
  "kernelspec": {
   "name": "python3",
   "display_name": "Python 3.8.5 64-bit ('base': conda)"
  },
  "interpreter": {
   "hash": "b3ba2566441a7c06988d0923437866b63cedc61552a5af99d1f4fb67d367b25f"
  }
 },
 "nbformat": 4,
 "nbformat_minor": 2,
 "cells": [
  {
   "cell_type": "code",
   "execution_count": 18,
   "metadata": {},
   "outputs": [],
   "source": [
    "import matplotlib.pyplot as plt\n",
    "import math\n",
    "import datetime as dt\n",
    "import pandas as pd\n",
    "import numpy as np\n",
    "from pathlib import Path\n",
    "import yaml\n",
    "import requests\n",
    "import os\n",
    "import json\n"
   ]
  },
  {
   "cell_type": "code",
   "execution_count": 22,
   "metadata": {},
   "outputs": [],
   "source": [
    "df = pd.read_csv(\"teste.csv\")"
   ]
  },
  {
   "cell_type": "code",
   "execution_count": 23,
   "metadata": {},
   "outputs": [
    {
     "output_type": "execute_result",
     "data": {
      "text/plain": [
       "pt    61\n",
       "in     1\n",
       "Name: language, dtype: int64"
      ]
     },
     "metadata": {},
     "execution_count": 23
    }
   ],
   "source": [
    "df['language'].value_counts()"
   ]
  },
  {
   "cell_type": "code",
   "execution_count": 25,
   "metadata": {},
   "outputs": [
    {
     "output_type": "execute_result",
     "data": {
      "text/plain": [
       "                     id      conversation_id    created_at  \\\n",
       "43  1406335881829621766  1406295030210433024  1.624132e+12   \n",
       "\n",
       "                   date  timezone  place                            tweet  \\\n",
       "43  2021-06-19 16:39:37      -300    NaN  @FelipeTadewald ALZR11 e BTLG11   \n",
       "\n",
       "   language hashtags cashtags  ...  geo  source user_rt_id user_rt  \\\n",
       "43       in       []       []  ...  NaN     NaN        NaN     NaN   \n",
       "\n",
       "    retweet_id                                           reply_to  \\\n",
       "43         NaN  [{'screen_name': 'FelipeTadewald', 'name': 'Fe...   \n",
       "\n",
       "   retweet_date translate trans_src  trans_dest  \n",
       "43          NaN       NaN       NaN         NaN  \n",
       "\n",
       "[1 rows x 38 columns]"
      ],
      "text/html": "<div>\n<style scoped>\n    .dataframe tbody tr th:only-of-type {\n        vertical-align: middle;\n    }\n\n    .dataframe tbody tr th {\n        vertical-align: top;\n    }\n\n    .dataframe thead th {\n        text-align: right;\n    }\n</style>\n<table border=\"1\" class=\"dataframe\">\n  <thead>\n    <tr style=\"text-align: right;\">\n      <th></th>\n      <th>id</th>\n      <th>conversation_id</th>\n      <th>created_at</th>\n      <th>date</th>\n      <th>timezone</th>\n      <th>place</th>\n      <th>tweet</th>\n      <th>language</th>\n      <th>hashtags</th>\n      <th>cashtags</th>\n      <th>...</th>\n      <th>geo</th>\n      <th>source</th>\n      <th>user_rt_id</th>\n      <th>user_rt</th>\n      <th>retweet_id</th>\n      <th>reply_to</th>\n      <th>retweet_date</th>\n      <th>translate</th>\n      <th>trans_src</th>\n      <th>trans_dest</th>\n    </tr>\n  </thead>\n  <tbody>\n    <tr>\n      <th>43</th>\n      <td>1406335881829621766</td>\n      <td>1406295030210433024</td>\n      <td>1.624132e+12</td>\n      <td>2021-06-19 16:39:37</td>\n      <td>-300</td>\n      <td>NaN</td>\n      <td>@FelipeTadewald ALZR11 e BTLG11</td>\n      <td>in</td>\n      <td>[]</td>\n      <td>[]</td>\n      <td>...</td>\n      <td>NaN</td>\n      <td>NaN</td>\n      <td>NaN</td>\n      <td>NaN</td>\n      <td>NaN</td>\n      <td>[{'screen_name': 'FelipeTadewald', 'name': 'Fe...</td>\n      <td>NaN</td>\n      <td>NaN</td>\n      <td>NaN</td>\n      <td>NaN</td>\n    </tr>\n  </tbody>\n</table>\n<p>1 rows × 38 columns</p>\n</div>"
     },
     "metadata": {},
     "execution_count": 25
    }
   ],
   "source": [
    "df[df['language'] == 'in']"
   ]
  },
  {
   "cell_type": "code",
   "execution_count": 12,
   "metadata": {},
   "outputs": [
    {
     "output_type": "execute_result",
     "data": {
      "text/plain": [
       "                      id                 date  timezone  \\\n",
       "0    1418186492107710465  2021-07-22 09:29:43      -300   \n",
       "1    1418186480275660803  2021-07-22 09:29:40      -300   \n",
       "2    1418186474437046274  2021-07-22 09:29:38      -300   \n",
       "3    1418186465813704711  2021-07-22 09:29:36      -300   \n",
       "4    1418186446544932866  2021-07-22 09:29:32      -300   \n",
       "..                   ...                  ...       ...   \n",
       "147  1418185788513214465  2021-07-22 09:26:55      -300   \n",
       "148  1418185787753992194  2021-07-22 09:26:55      -300   \n",
       "149  1418185786697162753  2021-07-22 09:26:54      -300   \n",
       "150  1418185785157640192  2021-07-22 09:26:54      -300   \n",
       "151  1418185784876703753  2021-07-22 09:26:54      -300   \n",
       "\n",
       "                                                 tweet language  \\\n",
       "0    @ostanasuntoja Agree. It is wiser to use fiat ...       en   \n",
       "1    @linusbehrbohm @21minimal @KeilaniFatina Aber ...       de   \n",
       "2    There were real life people out there who actu...       en   \n",
       "3    Everybody who says/writes/think of #Bitcoin as...       en   \n",
       "4                     @bitcoin___f 片チチでいいんです。。 片チチで。。。       ja   \n",
       "..                                                 ...      ...   \n",
       "147  Elon Musk says SpaceX owns Bitcoin and he owns...       en   \n",
       "148  @airdropinspect believe this is a faithful pro...       en   \n",
       "149  @LockAnaliz $pig var , pigswap ve yeni  listel...       tr   \n",
       "150  This project is really good, Very enthusiastic...       en   \n",
       "151  Is cryptocurrency secure?  https://t.co/ofFP8Z...       en   \n",
       "\n",
       "                                              hashtags  \\\n",
       "0                                                   []   \n",
       "1                                                   []   \n",
       "2                                                   []   \n",
       "3                                          ['bitcoin']   \n",
       "4                                                   []   \n",
       "..                                                 ...   \n",
       "147                  ['ethereum', 'bitcoin', 'spacex']   \n",
       "148  ['airdrop', 'airdrops', 'airdropinspector', 'c...   \n",
       "149                             ['binance', 'bitcoin']   \n",
       "150  ['airdrop', 'airdrops', 'airdropinspector', 'c...   \n",
       "151  ['bitcoin', 'cryptocurrency', 'fintech', 'digi...   \n",
       "\n",
       "                                     cashtags  nlikes  nreplies  nretweets  \\\n",
       "0                                     ['btc']       0         0          0   \n",
       "1                                          []       0         0          0   \n",
       "2                                          []       0         0          0   \n",
       "3                                          []       0         0          0   \n",
       "4                                          []       0         0          0   \n",
       "..                                        ...     ...       ...        ...   \n",
       "147                                        []       0         0          0   \n",
       "148                                        []       0         0          0   \n",
       "149  ['pig', 'juld', 'afen', 'satoz', 'bafe']       0         0          0   \n",
       "150                                        []       0         0          0   \n",
       "151                                        []       0         0          0   \n",
       "\n",
       "     translate  \n",
       "0          NaN  \n",
       "1          NaN  \n",
       "2          NaN  \n",
       "3          NaN  \n",
       "4          NaN  \n",
       "..         ...  \n",
       "147        NaN  \n",
       "148        NaN  \n",
       "149        NaN  \n",
       "150        NaN  \n",
       "151        NaN  \n",
       "\n",
       "[152 rows x 11 columns]"
      ],
      "text/html": "<div>\n<style scoped>\n    .dataframe tbody tr th:only-of-type {\n        vertical-align: middle;\n    }\n\n    .dataframe tbody tr th {\n        vertical-align: top;\n    }\n\n    .dataframe thead th {\n        text-align: right;\n    }\n</style>\n<table border=\"1\" class=\"dataframe\">\n  <thead>\n    <tr style=\"text-align: right;\">\n      <th></th>\n      <th>id</th>\n      <th>date</th>\n      <th>timezone</th>\n      <th>tweet</th>\n      <th>language</th>\n      <th>hashtags</th>\n      <th>cashtags</th>\n      <th>nlikes</th>\n      <th>nreplies</th>\n      <th>nretweets</th>\n      <th>translate</th>\n    </tr>\n  </thead>\n  <tbody>\n    <tr>\n      <th>0</th>\n      <td>1418186492107710465</td>\n      <td>2021-07-22 09:29:43</td>\n      <td>-300</td>\n      <td>@ostanasuntoja Agree. It is wiser to use fiat ...</td>\n      <td>en</td>\n      <td>[]</td>\n      <td>['btc']</td>\n      <td>0</td>\n      <td>0</td>\n      <td>0</td>\n      <td>NaN</td>\n    </tr>\n    <tr>\n      <th>1</th>\n      <td>1418186480275660803</td>\n      <td>2021-07-22 09:29:40</td>\n      <td>-300</td>\n      <td>@linusbehrbohm @21minimal @KeilaniFatina Aber ...</td>\n      <td>de</td>\n      <td>[]</td>\n      <td>[]</td>\n      <td>0</td>\n      <td>0</td>\n      <td>0</td>\n      <td>NaN</td>\n    </tr>\n    <tr>\n      <th>2</th>\n      <td>1418186474437046274</td>\n      <td>2021-07-22 09:29:38</td>\n      <td>-300</td>\n      <td>There were real life people out there who actu...</td>\n      <td>en</td>\n      <td>[]</td>\n      <td>[]</td>\n      <td>0</td>\n      <td>0</td>\n      <td>0</td>\n      <td>NaN</td>\n    </tr>\n    <tr>\n      <th>3</th>\n      <td>1418186465813704711</td>\n      <td>2021-07-22 09:29:36</td>\n      <td>-300</td>\n      <td>Everybody who says/writes/think of #Bitcoin as...</td>\n      <td>en</td>\n      <td>['bitcoin']</td>\n      <td>[]</td>\n      <td>0</td>\n      <td>0</td>\n      <td>0</td>\n      <td>NaN</td>\n    </tr>\n    <tr>\n      <th>4</th>\n      <td>1418186446544932866</td>\n      <td>2021-07-22 09:29:32</td>\n      <td>-300</td>\n      <td>@bitcoin___f 片チチでいいんです。。 片チチで。。。</td>\n      <td>ja</td>\n      <td>[]</td>\n      <td>[]</td>\n      <td>0</td>\n      <td>0</td>\n      <td>0</td>\n      <td>NaN</td>\n    </tr>\n    <tr>\n      <th>...</th>\n      <td>...</td>\n      <td>...</td>\n      <td>...</td>\n      <td>...</td>\n      <td>...</td>\n      <td>...</td>\n      <td>...</td>\n      <td>...</td>\n      <td>...</td>\n      <td>...</td>\n      <td>...</td>\n    </tr>\n    <tr>\n      <th>147</th>\n      <td>1418185788513214465</td>\n      <td>2021-07-22 09:26:55</td>\n      <td>-300</td>\n      <td>Elon Musk says SpaceX owns Bitcoin and he owns...</td>\n      <td>en</td>\n      <td>['ethereum', 'bitcoin', 'spacex']</td>\n      <td>[]</td>\n      <td>0</td>\n      <td>0</td>\n      <td>0</td>\n      <td>NaN</td>\n    </tr>\n    <tr>\n      <th>148</th>\n      <td>1418185787753992194</td>\n      <td>2021-07-22 09:26:55</td>\n      <td>-300</td>\n      <td>@airdropinspect believe this is a faithful pro...</td>\n      <td>en</td>\n      <td>['airdrop', 'airdrops', 'airdropinspector', 'c...</td>\n      <td>[]</td>\n      <td>0</td>\n      <td>0</td>\n      <td>0</td>\n      <td>NaN</td>\n    </tr>\n    <tr>\n      <th>149</th>\n      <td>1418185786697162753</td>\n      <td>2021-07-22 09:26:54</td>\n      <td>-300</td>\n      <td>@LockAnaliz $pig var , pigswap ve yeni  listel...</td>\n      <td>tr</td>\n      <td>['binance', 'bitcoin']</td>\n      <td>['pig', 'juld', 'afen', 'satoz', 'bafe']</td>\n      <td>0</td>\n      <td>0</td>\n      <td>0</td>\n      <td>NaN</td>\n    </tr>\n    <tr>\n      <th>150</th>\n      <td>1418185785157640192</td>\n      <td>2021-07-22 09:26:54</td>\n      <td>-300</td>\n      <td>This project is really good, Very enthusiastic...</td>\n      <td>en</td>\n      <td>['airdrop', 'airdrops', 'airdropinspector', 'c...</td>\n      <td>[]</td>\n      <td>0</td>\n      <td>0</td>\n      <td>0</td>\n      <td>NaN</td>\n    </tr>\n    <tr>\n      <th>151</th>\n      <td>1418185784876703753</td>\n      <td>2021-07-22 09:26:54</td>\n      <td>-300</td>\n      <td>Is cryptocurrency secure?  https://t.co/ofFP8Z...</td>\n      <td>en</td>\n      <td>['bitcoin', 'cryptocurrency', 'fintech', 'digi...</td>\n      <td>[]</td>\n      <td>0</td>\n      <td>0</td>\n      <td>0</td>\n      <td>NaN</td>\n    </tr>\n  </tbody>\n</table>\n<p>152 rows × 11 columns</p>\n</div>"
     },
     "metadata": {},
     "execution_count": 12
    }
   ],
   "source": [
    "df[['id', 'date', 'timezone', 'tweet', 'language', 'hashtags', 'cashtags', 'nlikes', 'nreplies', 'nretweets', 'translate']]"
   ]
  },
  {
   "cell_type": "code",
   "execution_count": null,
   "metadata": {},
   "outputs": [],
   "source": []
  },
  {
   "cell_type": "code",
   "execution_count": null,
   "metadata": {},
   "outputs": [],
   "source": []
  },
  {
   "cell_type": "code",
   "execution_count": 1,
   "metadata": {},
   "outputs": [],
   "source": [
    "import twint"
   ]
  },
  {
   "cell_type": "code",
   "execution_count": 6,
   "metadata": {},
   "outputs": [
    {
     "output_type": "execute_result",
     "data": {
      "text/plain": [
       "['All',\n",
       " 'Backoff_exponent',\n",
       " 'Count',\n",
       " 'Custom',\n",
       " 'Custom_query',\n",
       " 'Database',\n",
       " 'Debug',\n",
       " 'Elasticsearch',\n",
       " 'Email',\n",
       " 'Essid',\n",
       " 'Favorites',\n",
       " 'Filter_retweets',\n",
       " 'Followers',\n",
       " 'Following',\n",
       " 'Format',\n",
       " 'Geo',\n",
       " 'Hide_output',\n",
       " 'Images',\n",
       " 'Index_follow',\n",
       " 'Index_tweets',\n",
       " 'Index_users',\n",
       " 'Lang',\n",
       " 'Limit',\n",
       " 'Links',\n",
       " 'Location',\n",
       " 'Lowercase',\n",
       " 'Media',\n",
       " 'Members_list',\n",
       " 'Min_likes',\n",
       " 'Min_replies',\n",
       " 'Min_retweets',\n",
       " 'Min_wait_time',\n",
       " 'Native_retweets',\n",
       " 'Near',\n",
       " 'Output',\n",
       " 'Pandas',\n",
       " 'Pandas_au',\n",
       " 'Pandas_clean',\n",
       " 'Pandas_type',\n",
       " 'Phone',\n",
       " 'Popular_tweets',\n",
       " 'Profile',\n",
       " 'Profile_full',\n",
       " 'Proxy_host',\n",
       " 'Proxy_port',\n",
       " 'Proxy_type',\n",
       " 'Query',\n",
       " 'Replies',\n",
       " 'Resume',\n",
       " 'Retries_count',\n",
       " 'Retweets',\n",
       " 'Search',\n",
       " 'Show_cashtags',\n",
       " 'Show_hashtags',\n",
       " 'Since',\n",
       " 'Skip_certs',\n",
       " 'Source',\n",
       " 'Stats',\n",
       " 'Store_csv',\n",
       " 'Store_json',\n",
       " 'Store_object',\n",
       " 'Store_object_follow_list',\n",
       " 'Store_object_tweets_list',\n",
       " 'Store_object_users_list',\n",
       " 'To',\n",
       " 'Tor_control_password',\n",
       " 'Tor_control_port',\n",
       " 'Translate',\n",
       " 'TranslateDest',\n",
       " 'TranslateSrc',\n",
       " 'TwitterSearch',\n",
       " 'Until',\n",
       " 'User_full',\n",
       " 'User_id',\n",
       " 'Username',\n",
       " 'Verified',\n",
       " 'Videos',\n",
       " 'Year',\n",
       " '__class__',\n",
       " '__delattr__',\n",
       " '__dict__',\n",
       " '__dir__',\n",
       " '__doc__',\n",
       " '__eq__',\n",
       " '__format__',\n",
       " '__ge__',\n",
       " '__getattribute__',\n",
       " '__gt__',\n",
       " '__hash__',\n",
       " '__init__',\n",
       " '__init_subclass__',\n",
       " '__le__',\n",
       " '__lt__',\n",
       " '__module__',\n",
       " '__ne__',\n",
       " '__new__',\n",
       " '__reduce__',\n",
       " '__reduce_ex__',\n",
       " '__repr__',\n",
       " '__setattr__',\n",
       " '__sizeof__',\n",
       " '__str__',\n",
       " '__subclasshook__',\n",
       " '__weakref__']"
      ]
     },
     "metadata": {},
     "execution_count": 6
    }
   ],
   "source": [
    "[x for x in dir(c)]"
   ]
  },
  {
   "cell_type": "code",
   "execution_count": 2,
   "metadata": {},
   "outputs": [
    {
     "output_type": "error",
     "ename": "RuntimeError",
     "evalue": "This event loop is already running",
     "traceback": [
      "\u001b[1;31m---------------------------------------------------------------------------\u001b[0m",
      "\u001b[1;31mRuntimeError\u001b[0m                              Traceback (most recent call last)",
      "\u001b[1;32m<ipython-input-2-b09e46354778>\u001b[0m in \u001b[0;36m<module>\u001b[1;34m\u001b[0m\n\u001b[0;32m      4\u001b[0m \u001b[1;33m\u001b[0m\u001b[0m\n\u001b[0;32m      5\u001b[0m \u001b[1;31m# Run\u001b[0m\u001b[1;33m\u001b[0m\u001b[1;33m\u001b[0m\u001b[1;33m\u001b[0m\u001b[0m\n\u001b[1;32m----> 6\u001b[1;33m \u001b[0mtwint\u001b[0m\u001b[1;33m.\u001b[0m\u001b[0mrun\u001b[0m\u001b[1;33m.\u001b[0m\u001b[0mSearch\u001b[0m\u001b[1;33m(\u001b[0m\u001b[0mc\u001b[0m\u001b[1;33m)\u001b[0m\u001b[1;33m\u001b[0m\u001b[1;33m\u001b[0m\u001b[0m\n\u001b[0m",
      "\u001b[1;32mC:\\ProgramData\\Anaconda3\\lib\\site-packages\\twint\\run.py\u001b[0m in \u001b[0;36mSearch\u001b[1;34m(config, callback)\u001b[0m\n\u001b[0;32m    325\u001b[0m     \u001b[0mconfig\u001b[0m\u001b[1;33m.\u001b[0m\u001b[0mProfile\u001b[0m \u001b[1;33m=\u001b[0m \u001b[1;32mFalse\u001b[0m\u001b[1;33m\u001b[0m\u001b[1;33m\u001b[0m\u001b[0m\n\u001b[0;32m    326\u001b[0m     \u001b[0mconfig\u001b[0m\u001b[1;33m.\u001b[0m\u001b[0mProfile_full\u001b[0m \u001b[1;33m=\u001b[0m \u001b[1;32mFalse\u001b[0m\u001b[1;33m\u001b[0m\u001b[1;33m\u001b[0m\u001b[0m\n\u001b[1;32m--> 327\u001b[1;33m     \u001b[0mrun\u001b[0m\u001b[1;33m(\u001b[0m\u001b[0mconfig\u001b[0m\u001b[1;33m,\u001b[0m \u001b[0mcallback\u001b[0m\u001b[1;33m)\u001b[0m\u001b[1;33m\u001b[0m\u001b[1;33m\u001b[0m\u001b[0m\n\u001b[0m\u001b[0;32m    328\u001b[0m     \u001b[1;32mif\u001b[0m \u001b[0mconfig\u001b[0m\u001b[1;33m.\u001b[0m\u001b[0mPandas_au\u001b[0m\u001b[1;33m:\u001b[0m\u001b[1;33m\u001b[0m\u001b[1;33m\u001b[0m\u001b[0m\n\u001b[0;32m    329\u001b[0m         \u001b[0mstorage\u001b[0m\u001b[1;33m.\u001b[0m\u001b[0mpanda\u001b[0m\u001b[1;33m.\u001b[0m\u001b[0m_autoget\u001b[0m\u001b[1;33m(\u001b[0m\u001b[1;34m\"tweet\"\u001b[0m\u001b[1;33m)\u001b[0m\u001b[1;33m\u001b[0m\u001b[1;33m\u001b[0m\u001b[0m\n",
      "\u001b[1;32mC:\\ProgramData\\Anaconda3\\lib\\site-packages\\twint\\run.py\u001b[0m in \u001b[0;36mrun\u001b[1;34m(config, callback)\u001b[0m\n\u001b[0;32m    224\u001b[0m         \u001b[1;32mraise\u001b[0m\u001b[1;33m\u001b[0m\u001b[1;33m\u001b[0m\u001b[0m\n\u001b[0;32m    225\u001b[0m \u001b[1;33m\u001b[0m\u001b[0m\n\u001b[1;32m--> 226\u001b[1;33m     \u001b[0mget_event_loop\u001b[0m\u001b[1;33m(\u001b[0m\u001b[1;33m)\u001b[0m\u001b[1;33m.\u001b[0m\u001b[0mrun_until_complete\u001b[0m\u001b[1;33m(\u001b[0m\u001b[0mTwint\u001b[0m\u001b[1;33m(\u001b[0m\u001b[0mconfig\u001b[0m\u001b[1;33m)\u001b[0m\u001b[1;33m.\u001b[0m\u001b[0mmain\u001b[0m\u001b[1;33m(\u001b[0m\u001b[0mcallback\u001b[0m\u001b[1;33m)\u001b[0m\u001b[1;33m)\u001b[0m\u001b[1;33m\u001b[0m\u001b[1;33m\u001b[0m\u001b[0m\n\u001b[0m\u001b[0;32m    227\u001b[0m \u001b[1;33m\u001b[0m\u001b[0m\n\u001b[0;32m    228\u001b[0m \u001b[1;32mdef\u001b[0m \u001b[0mFavorites\u001b[0m\u001b[1;33m(\u001b[0m\u001b[0mconfig\u001b[0m\u001b[1;33m)\u001b[0m\u001b[1;33m:\u001b[0m\u001b[1;33m\u001b[0m\u001b[1;33m\u001b[0m\u001b[0m\n",
      "\u001b[1;32mC:\\ProgramData\\Anaconda3\\lib\\asyncio\\base_events.py\u001b[0m in \u001b[0;36mrun_until_complete\u001b[1;34m(self, future)\u001b[0m\n\u001b[0;32m    590\u001b[0m         \"\"\"\n\u001b[0;32m    591\u001b[0m         \u001b[0mself\u001b[0m\u001b[1;33m.\u001b[0m\u001b[0m_check_closed\u001b[0m\u001b[1;33m(\u001b[0m\u001b[1;33m)\u001b[0m\u001b[1;33m\u001b[0m\u001b[1;33m\u001b[0m\u001b[0m\n\u001b[1;32m--> 592\u001b[1;33m         \u001b[0mself\u001b[0m\u001b[1;33m.\u001b[0m\u001b[0m_check_running\u001b[0m\u001b[1;33m(\u001b[0m\u001b[1;33m)\u001b[0m\u001b[1;33m\u001b[0m\u001b[1;33m\u001b[0m\u001b[0m\n\u001b[0m\u001b[0;32m    593\u001b[0m \u001b[1;33m\u001b[0m\u001b[0m\n\u001b[0;32m    594\u001b[0m         \u001b[0mnew_task\u001b[0m \u001b[1;33m=\u001b[0m \u001b[1;32mnot\u001b[0m \u001b[0mfutures\u001b[0m\u001b[1;33m.\u001b[0m\u001b[0misfuture\u001b[0m\u001b[1;33m(\u001b[0m\u001b[0mfuture\u001b[0m\u001b[1;33m)\u001b[0m\u001b[1;33m\u001b[0m\u001b[1;33m\u001b[0m\u001b[0m\n",
      "\u001b[1;32mC:\\ProgramData\\Anaconda3\\lib\\asyncio\\base_events.py\u001b[0m in \u001b[0;36m_check_running\u001b[1;34m(self)\u001b[0m\n\u001b[0;32m    550\u001b[0m     \u001b[1;32mdef\u001b[0m \u001b[0m_check_running\u001b[0m\u001b[1;33m(\u001b[0m\u001b[0mself\u001b[0m\u001b[1;33m)\u001b[0m\u001b[1;33m:\u001b[0m\u001b[1;33m\u001b[0m\u001b[1;33m\u001b[0m\u001b[0m\n\u001b[0;32m    551\u001b[0m         \u001b[1;32mif\u001b[0m \u001b[0mself\u001b[0m\u001b[1;33m.\u001b[0m\u001b[0mis_running\u001b[0m\u001b[1;33m(\u001b[0m\u001b[1;33m)\u001b[0m\u001b[1;33m:\u001b[0m\u001b[1;33m\u001b[0m\u001b[1;33m\u001b[0m\u001b[0m\n\u001b[1;32m--> 552\u001b[1;33m             \u001b[1;32mraise\u001b[0m \u001b[0mRuntimeError\u001b[0m\u001b[1;33m(\u001b[0m\u001b[1;34m'This event loop is already running'\u001b[0m\u001b[1;33m)\u001b[0m\u001b[1;33m\u001b[0m\u001b[1;33m\u001b[0m\u001b[0m\n\u001b[0m\u001b[0;32m    553\u001b[0m         \u001b[1;32mif\u001b[0m \u001b[0mevents\u001b[0m\u001b[1;33m.\u001b[0m\u001b[0m_get_running_loop\u001b[0m\u001b[1;33m(\u001b[0m\u001b[1;33m)\u001b[0m \u001b[1;32mis\u001b[0m \u001b[1;32mnot\u001b[0m \u001b[1;32mNone\u001b[0m\u001b[1;33m:\u001b[0m\u001b[1;33m\u001b[0m\u001b[1;33m\u001b[0m\u001b[0m\n\u001b[0;32m    554\u001b[0m             raise RuntimeError(\n",
      "\u001b[1;31mRuntimeError\u001b[0m: This event loop is already running"
     ]
    }
   ],
   "source": [
    "c = twint.Config()\n",
    "c.Limit = 10\n",
    "c.Search = \"ITSA4\"\n",
    "c.Store_json = True\n",
    "case.Output = \"custom_out.json\"\n",
    "\n",
    "# Run\n",
    "twint.run.Search(c)"
   ]
  },
  {
   "cell_type": "code",
   "execution_count": 5,
   "metadata": {},
   "outputs": [
    {
     "output_type": "execute_result",
     "data": {
      "text/plain": [
       "<module 'twint.storage' from 'C:\\\\ProgramData\\\\Anaconda3\\\\lib\\\\site-packages\\\\twint\\\\storage\\\\__init__.py'>"
      ]
     },
     "metadata": {},
     "execution_count": 5
    }
   ],
   "source": []
  },
  {
   "cell_type": "code",
   "execution_count": 2,
   "metadata": {},
   "outputs": [],
   "source": [
    "with open(Path(\"config.yaml\"), 'r') as f: \n",
    "    config = yaml.safe_load(f)"
   ]
  },
  {
   "cell_type": "code",
   "execution_count": 3,
   "metadata": {},
   "outputs": [],
   "source": [
    "bearer_token = config['token']\n",
    "# search_url = \"https://api.twitter.com/2/tweets/search/all\"\n",
    "search_url = \"https://api.twitter.com/2/tweets/search/recent\""
   ]
  },
  {
   "cell_type": "code",
   "execution_count": 4,
   "metadata": {},
   "outputs": [],
   "source": [
    "def create_headers(bearer_token):\n",
    "    headers = {\"Authorization\": \"Bearer {}\".format(bearer_token)}\n",
    "    return headers\n",
    "\n",
    "def connect_to_endpoint(url, headers, params, encoding = \"ISO-8859-1\"):\n",
    "    response = requests.request(\"GET\", search_url, headers=headers, params=params)\n",
    "    print(response.apparent_encoding)\n",
    "    print(response.status_code)\n",
    "    if response.status_code != 200:\n",
    "        raise Exception(response.status_code, response.text)\n",
    "    return response.json()"
   ]
  },
  {
   "cell_type": "code",
   "execution_count": 5,
   "metadata": {},
   "outputs": [],
   "source": [
    "s_ticker = \"PETR4\"\n",
    "count = 10\n",
    "start_time = None\n",
    "end_time = None\n",
    "params = {\n",
    "    \"query\": fr\"(\\{s_ticker}) (lang:pt)\",\n",
    "    \"max_results\": str(count),\n",
    "    \"tweet.fields\": \"created_at,lang,public_metrics\",\n",
    "}\n",
    "\n",
    "if start_time:\n",
    "    # Assign from and to datetime parameters for the API\n",
    "    params[\"start_time\"] = start_time\n",
    "if end_time:\n",
    "    params[\"end_time\"] = end_timea"
   ]
  },
  {
   "cell_type": "code",
   "execution_count": 6,
   "metadata": {},
   "outputs": [
    {
     "output_type": "error",
     "ename": "NameError",
     "evalue": "name 'json_response' is not defined",
     "traceback": [
      "\u001b[1;31m---------------------------------------------------------------------------\u001b[0m",
      "\u001b[1;31mNameError\u001b[0m                                 Traceback (most recent call last)",
      "\u001b[1;32m<ipython-input-6-a16cb387bda7>\u001b[0m in \u001b[0;36m<module>\u001b[1;34m\u001b[0m\n\u001b[1;32m----> 1\u001b[1;33m \u001b[0mjson_response\u001b[0m\u001b[1;33m\u001b[0m\u001b[1;33m\u001b[0m\u001b[0m\n\u001b[0m",
      "\u001b[1;31mNameError\u001b[0m: name 'json_response' is not defined"
     ]
    }
   ],
   "source": []
  },
  {
   "cell_type": "code",
   "execution_count": 7,
   "metadata": {},
   "outputs": [
    {
     "output_type": "stream",
     "name": "stdout",
     "text": [
      "utf-8\n200\n"
     ]
    },
    {
     "output_type": "execute_result",
     "data": {
      "text/plain": [
       "{'data': [{'id': '1417869745517367304',\n",
       "   'text': 'Cotação Petróleo $PBR #PETR4 Fonte: https://t.co/JVJQVnBgVJ https://t.co/vcfBTDGIOg',\n",
       "   'public_metrics': {'retweet_count': 0,\n",
       "    'reply_count': 0,\n",
       "    'like_count': 0,\n",
       "    'quote_count': 0},\n",
       "   'created_at': '2021-07-21T15:31:04.000Z',\n",
       "   'lang': 'pt'},\n",
       "  {'id': '1417869102169919490',\n",
       "   'text': 'Na PETR4, neste momento, de olho para ver se ela consegue romper a região dos R$27,30. 😉👍🏻',\n",
       "   'public_metrics': {'retweet_count': 0,\n",
       "    'reply_count': 0,\n",
       "    'like_count': 1,\n",
       "    'quote_count': 0},\n",
       "   'created_at': '2021-07-21T15:28:31.000Z',\n",
       "   'lang': 'pt'},\n",
       "  {'id': '1417869029822418944',\n",
       "   'text': 'A visualização do IQ com a leitura preciosa do professor @clubedopairico !!\\n\\nComo ele disse, sem muita alteração e o combustível continua lá.\\n\\nAdiciono: Barreiras só lá em cima por enquanto?? 🤔🤔\\n\\nVamos aguardar o que a senhora #PETR4 está tramando.. https://t.co/wbN8m9MMfb https://t.co/HmpohTTgl0',\n",
       "   'public_metrics': {'retweet_count': 0,\n",
       "    'reply_count': 1,\n",
       "    'like_count': 1,\n",
       "    'quote_count': 0},\n",
       "   'created_at': '2021-07-21T15:28:14.000Z',\n",
       "   'lang': 'pt'},\n",
       "  {'id': '1417867451862290432',\n",
       "   'text': '\"Zé, como tá o volume projetado pela PETR4 ?\"\\n\\nNeste momento, projetando 76,6MM de ações para o dia de hoje. (a média diária é de 59,2MM de ações)',\n",
       "   'public_metrics': {'retweet_count': 0,\n",
       "    'reply_count': 1,\n",
       "    'like_count': 4,\n",
       "    'quote_count': 0},\n",
       "   'created_at': '2021-07-21T15:21:57.000Z',\n",
       "   'lang': 'pt'},\n",
       "  {'id': '1417861621549043719',\n",
       "   'text': 'E então, curioso para ver como as Opções de PETR4 se comportaram diante da alta de ontem ?\\n\\nSIM ! Tá na hora do IQ !! 😉\\n\\n(se ainda não sabe o que é \"isso\", leia: O índice de qualidade na venda de opções https://t.co/uoKfChSbQ3 via @clubedopairico)',\n",
       "   'public_metrics': {'retweet_count': 0,\n",
       "    'reply_count': 1,\n",
       "    'like_count': 5,\n",
       "    'quote_count': 1},\n",
       "   'created_at': '2021-07-21T14:58:47.000Z',\n",
       "   'lang': 'pt'},\n",
       "  {'id': '1417857822419685386',\n",
       "   'text': '++Petróleo: estoques dos EUA subiram 0,5%, na semana encerrada em 16 de julho. #PETR3 #PETR4 #DMMO3 #PRIO3 #ENAT3 https://t.co/uXCtED4HVN',\n",
       "   'public_metrics': {'retweet_count': 0,\n",
       "    'reply_count': 0,\n",
       "    'like_count': 0,\n",
       "    'quote_count': 0},\n",
       "   'created_at': '2021-07-21T14:43:42.000Z',\n",
       "   'lang': 'pt'},\n",
       "  {'id': '1417854777468366852',\n",
       "   'text': '2️⃣2️⃣ - Faltam 22 pregões para o vencimento de Opções das séries H e T, no dia 20 de agosto. Como as suas operações estão reagindo à recuperação ?\\n\\nMantenho minha venda de PUT de PETR4, com o R$27,46 sendo o meu ponto de interesse.😉\\n\\nLembrando que o vencimento é longo, 5 semanas. https://t.co/ShHMCJF08k',\n",
       "   'public_metrics': {'retweet_count': 0,\n",
       "    'reply_count': 4,\n",
       "    'like_count': 5,\n",
       "    'quote_count': 0},\n",
       "   'created_at': '2021-07-21T14:31:36.000Z',\n",
       "   'lang': 'pt'},\n",
       "  {'id': '1417853591075889158',\n",
       "   'text': '@_danweb Ressuscitando aqui, Dan, querida cunha nossa de todo dia: ta na marca do penalti com petr4 a vale5 já querendo pivotar pra baixo (detalhe: MACD ja perdeu a média= mau sinal) https://t.co/xmJNfyZL4l',\n",
       "   'public_metrics': {'retweet_count': 0,\n",
       "    'reply_count': 1,\n",
       "    'like_count': 1,\n",
       "    'quote_count': 0},\n",
       "   'created_at': '2021-07-21T14:26:53.000Z',\n",
       "   'lang': 'pt'},\n",
       "  {'id': '1417849414761259010',\n",
       "   'text': 'Petr4 vai dar sopa até o balanço...',\n",
       "   'public_metrics': {'retweet_count': 0,\n",
       "    'reply_count': 0,\n",
       "    'like_count': 1,\n",
       "    'quote_count': 0},\n",
       "   'created_at': '2021-07-21T14:10:17.000Z',\n",
       "   'lang': 'pt'},\n",
       "  {'id': '1417846486977720323',\n",
       "   'text': 'RT @clubedopairico: Bom dia ! 😅\\n\\nAcordar com o Ibovespa em alta, e a PETR4 perto dos R$27 é algo interessante ... 😁\\n\\nBons trades a todos !…',\n",
       "   'public_metrics': {'retweet_count': 1,\n",
       "    'reply_count': 0,\n",
       "    'like_count': 0,\n",
       "    'quote_count': 0},\n",
       "   'created_at': '2021-07-21T13:58:39.000Z',\n",
       "   'lang': 'pt'}],\n",
       " 'meta': {'newest_id': '1417869745517367304',\n",
       "  'oldest_id': '1417846486977720323',\n",
       "  'result_count': 10,\n",
       "  'next_token': 'b26v89c19zqg8o3fpdj9na46eadthja5b44s9dkzxn7nh'}}"
      ]
     },
     "metadata": {},
     "execution_count": 7
    }
   ],
   "source": [
    "headers = create_headers(bearer_token)\n",
    "json_response = connect_to_endpoint(search_url, headers, params)\n",
    "json_response"
   ]
  },
  {
   "cell_type": "code",
   "execution_count": 15,
   "metadata": {},
   "outputs": [],
   "source": [
    "for d in json_response['data']:\n",
    "    d['reply_count'] = d['public_metrics']['reply_count']\n",
    "    d['like_count'] = d['public_metrics']['like_count']\n",
    "    d['quote_count'] = d['public_metrics']['quote_count']\n",
    "    d['retweet_count'] = d['public_metrics']['retweet_count']\n",
    "    d.pop('public_metrics', 'None')\n"
   ]
  },
  {
   "cell_type": "code",
   "execution_count": 17,
   "metadata": {},
   "outputs": [
    {
     "output_type": "execute_result",
     "data": {
      "text/plain": [
       "[{'id': '1417869745517367304',\n",
       "  'text': 'Cotação Petróleo $PBR #PETR4 Fonte: https://t.co/JVJQVnBgVJ https://t.co/vcfBTDGIOg',\n",
       "  'created_at': '2021-07-21T15:31:04.000Z',\n",
       "  'lang': 'pt',\n",
       "  'reply_count': 0,\n",
       "  'like_count': 0,\n",
       "  'quote_count': 0,\n",
       "  'retweet_count': 0},\n",
       " {'id': '1417869102169919490',\n",
       "  'text': 'Na PETR4, neste momento, de olho para ver se ela consegue romper a região dos R$27,30. 😉👍🏻',\n",
       "  'created_at': '2021-07-21T15:28:31.000Z',\n",
       "  'lang': 'pt',\n",
       "  'reply_count': 0,\n",
       "  'like_count': 1,\n",
       "  'quote_count': 0,\n",
       "  'retweet_count': 0},\n",
       " {'id': '1417869029822418944',\n",
       "  'text': 'A visualização do IQ com a leitura preciosa do professor @clubedopairico !!\\n\\nComo ele disse, sem muita alteração e o combustível continua lá.\\n\\nAdiciono: Barreiras só lá em cima por enquanto?? 🤔🤔\\n\\nVamos aguardar o que a senhora #PETR4 está tramando.. https://t.co/wbN8m9MMfb https://t.co/HmpohTTgl0',\n",
       "  'created_at': '2021-07-21T15:28:14.000Z',\n",
       "  'lang': 'pt',\n",
       "  'reply_count': 1,\n",
       "  'like_count': 1,\n",
       "  'quote_count': 0,\n",
       "  'retweet_count': 0},\n",
       " {'id': '1417867451862290432',\n",
       "  'text': '\"Zé, como tá o volume projetado pela PETR4 ?\"\\n\\nNeste momento, projetando 76,6MM de ações para o dia de hoje. (a média diária é de 59,2MM de ações)',\n",
       "  'created_at': '2021-07-21T15:21:57.000Z',\n",
       "  'lang': 'pt',\n",
       "  'reply_count': 1,\n",
       "  'like_count': 4,\n",
       "  'quote_count': 0,\n",
       "  'retweet_count': 0},\n",
       " {'id': '1417861621549043719',\n",
       "  'text': 'E então, curioso para ver como as Opções de PETR4 se comportaram diante da alta de ontem ?\\n\\nSIM ! Tá na hora do IQ !! 😉\\n\\n(se ainda não sabe o que é \"isso\", leia: O índice de qualidade na venda de opções https://t.co/uoKfChSbQ3 via @clubedopairico)',\n",
       "  'created_at': '2021-07-21T14:58:47.000Z',\n",
       "  'lang': 'pt',\n",
       "  'reply_count': 1,\n",
       "  'like_count': 5,\n",
       "  'quote_count': 1,\n",
       "  'retweet_count': 0},\n",
       " {'id': '1417857822419685386',\n",
       "  'text': '++Petróleo: estoques dos EUA subiram 0,5%, na semana encerrada em 16 de julho. #PETR3 #PETR4 #DMMO3 #PRIO3 #ENAT3 https://t.co/uXCtED4HVN',\n",
       "  'created_at': '2021-07-21T14:43:42.000Z',\n",
       "  'lang': 'pt',\n",
       "  'reply_count': 0,\n",
       "  'like_count': 0,\n",
       "  'quote_count': 0,\n",
       "  'retweet_count': 0},\n",
       " {'id': '1417854777468366852',\n",
       "  'text': '2️⃣2️⃣ - Faltam 22 pregões para o vencimento de Opções das séries H e T, no dia 20 de agosto. Como as suas operações estão reagindo à recuperação ?\\n\\nMantenho minha venda de PUT de PETR4, com o R$27,46 sendo o meu ponto de interesse.😉\\n\\nLembrando que o vencimento é longo, 5 semanas. https://t.co/ShHMCJF08k',\n",
       "  'created_at': '2021-07-21T14:31:36.000Z',\n",
       "  'lang': 'pt',\n",
       "  'reply_count': 4,\n",
       "  'like_count': 5,\n",
       "  'quote_count': 0,\n",
       "  'retweet_count': 0},\n",
       " {'id': '1417853591075889158',\n",
       "  'text': '@_danweb Ressuscitando aqui, Dan, querida cunha nossa de todo dia: ta na marca do penalti com petr4 a vale5 já querendo pivotar pra baixo (detalhe: MACD ja perdeu a média= mau sinal) https://t.co/xmJNfyZL4l',\n",
       "  'created_at': '2021-07-21T14:26:53.000Z',\n",
       "  'lang': 'pt',\n",
       "  'reply_count': 1,\n",
       "  'like_count': 1,\n",
       "  'quote_count': 0,\n",
       "  'retweet_count': 0},\n",
       " {'id': '1417849414761259010',\n",
       "  'text': 'Petr4 vai dar sopa até o balanço...',\n",
       "  'created_at': '2021-07-21T14:10:17.000Z',\n",
       "  'lang': 'pt',\n",
       "  'reply_count': 0,\n",
       "  'like_count': 1,\n",
       "  'quote_count': 0,\n",
       "  'retweet_count': 0},\n",
       " {'id': '1417846486977720323',\n",
       "  'text': 'RT @clubedopairico: Bom dia ! 😅\\n\\nAcordar com o Ibovespa em alta, e a PETR4 perto dos R$27 é algo interessante ... 😁\\n\\nBons trades a todos !…',\n",
       "  'created_at': '2021-07-21T13:58:39.000Z',\n",
       "  'lang': 'pt',\n",
       "  'reply_count': 0,\n",
       "  'like_count': 0,\n",
       "  'quote_count': 0,\n",
       "  'retweet_count': 1}]"
      ]
     },
     "metadata": {},
     "execution_count": 17
    }
   ],
   "source": [
    "json_response['data']"
   ]
  },
  {
   "cell_type": "code",
   "execution_count": null,
   "metadata": {},
   "outputs": [],
   "source": [
    "data"
   ]
  },
  {
   "cell_type": "code",
   "execution_count": 26,
   "metadata": {},
   "outputs": [],
   "source": [
    "from datetime import datetime \n",
    "def get_data(tweet):\n",
    "    \"\"\"Gets twitter data from API request\"\"\"\n",
    "    if \"+\" in tweet[\"created_at\"]:\n",
    "        s_datetime = tweet[\"created_at\"].split(\" +\")[0]\n",
    "    else:\n",
    "        s_datetime = datetime.strptime(tweet[\"created_at\"].split(\".\")[0], \"%Y-%m-%dT%H:%M:%S\").strftime(\n",
    "            \"%Y-%m-%d %H:%M:%S\"\n",
    "        )\n",
    "\n",
    "    if \"full_text\" in tweet.keys():\n",
    "        s_text = tweet[\"full_text\"]\n",
    "    else:\n",
    "        s_text = tweet[\"text\"]\n",
    "\n",
    "    data = {\"created_at\": s_datetime, \"text\": s_text}\n",
    "    return data\n",
    "    \n",
    "def clean_tweet(tweet: str, s_ticker: str) -> str:\n",
    "    \"\"\"Cleans tweets to be fed to sentiment model\"\"\"\n",
    "    whitespace = re.compile(r\"\\s+\")\n",
    "    web_address = re.compile(r\"(?i)http(s):\\/\\/[a-z0-9.~_\\-\\/]+\")\n",
    "    ticker = re.compile(fr\"(?i)@{s_ticker}(?=\\b)\")\n",
    "    user = re.compile(r\"(?i)@[a-z0-9_]+\")\n",
    "\n",
    "    tweet = whitespace.sub(\" \", tweet)\n",
    "    tweet = web_address.sub(\"\", tweet)\n",
    "    tweet = ticker.sub(s_ticker, tweet)\n",
    "    tweet = user.sub(\"\", tweet)\n",
    "\n",
    "    return tweet"
   ]
  },
  {
   "cell_type": "code",
   "execution_count": 27,
   "metadata": {},
   "outputs": [],
   "source": [
    "df_tweets = pd.DataFrame()\n",
    "for tweet in json_response[\"data\"]:\n",
    "    row = get_data(tweet)\n",
    "    df_tweets = df_tweets.append(row, ignore_index=True)"
   ]
  },
  {
   "cell_type": "code",
   "execution_count": 28,
   "metadata": {},
   "outputs": [
    {
     "output_type": "execute_result",
     "data": {
      "text/plain": [
       "            created_at                                               text\n",
       "0  2021-06-29 21:07:14  RT @unusual_whales: 🚨 BREAKING NEWS 🚨\\n\\n@Trad...\n",
       "1  2021-06-29 21:07:09  RT @CannabisCricket: $ALF $ALFIW 22.50 HOD $25...\n",
       "2  2021-06-29 21:07:07  RT @CannabisCricket: $ALF $ALFIW 22.50 HOD $25...\n",
       "3  2021-06-29 21:07:06  RT @masked_investor: So since 002 has been liv...\n",
       "4  2021-06-29 21:06:58  RT @GMEshortsqueeze: $GME I wonder if these ar...\n",
       "5  2021-06-29 21:06:55  We got someone’s attention #AMC #GME https://t...\n",
       "6  2021-06-29 21:06:50  RT @WSB_Degenerate: $CLOV\\n\\nWhen borrow fees ...\n",
       "7  2021-06-29 21:06:44  RT @cvpayne: .@Trading212 there is some confus...\n",
       "8  2021-06-29 21:06:39  $XELA short squeeze for the rest of the week!!...\n",
       "9  2021-06-29 21:06:39  RT @CannabisCricket: $BSQR $MRIN $AUUD $ALF $X..."
      ],
      "text/html": "<div>\n<style scoped>\n    .dataframe tbody tr th:only-of-type {\n        vertical-align: middle;\n    }\n\n    .dataframe tbody tr th {\n        vertical-align: top;\n    }\n\n    .dataframe thead th {\n        text-align: right;\n    }\n</style>\n<table border=\"1\" class=\"dataframe\">\n  <thead>\n    <tr style=\"text-align: right;\">\n      <th></th>\n      <th>created_at</th>\n      <th>text</th>\n    </tr>\n  </thead>\n  <tbody>\n    <tr>\n      <th>0</th>\n      <td>2021-06-29 21:07:14</td>\n      <td>RT @unusual_whales: 🚨 BREAKING NEWS 🚨\\n\\n@Trad...</td>\n    </tr>\n    <tr>\n      <th>1</th>\n      <td>2021-06-29 21:07:09</td>\n      <td>RT @CannabisCricket: $ALF $ALFIW 22.50 HOD $25...</td>\n    </tr>\n    <tr>\n      <th>2</th>\n      <td>2021-06-29 21:07:07</td>\n      <td>RT @CannabisCricket: $ALF $ALFIW 22.50 HOD $25...</td>\n    </tr>\n    <tr>\n      <th>3</th>\n      <td>2021-06-29 21:07:06</td>\n      <td>RT @masked_investor: So since 002 has been liv...</td>\n    </tr>\n    <tr>\n      <th>4</th>\n      <td>2021-06-29 21:06:58</td>\n      <td>RT @GMEshortsqueeze: $GME I wonder if these ar...</td>\n    </tr>\n    <tr>\n      <th>5</th>\n      <td>2021-06-29 21:06:55</td>\n      <td>We got someone’s attention #AMC #GME https://t...</td>\n    </tr>\n    <tr>\n      <th>6</th>\n      <td>2021-06-29 21:06:50</td>\n      <td>RT @WSB_Degenerate: $CLOV\\n\\nWhen borrow fees ...</td>\n    </tr>\n    <tr>\n      <th>7</th>\n      <td>2021-06-29 21:06:44</td>\n      <td>RT @cvpayne: .@Trading212 there is some confus...</td>\n    </tr>\n    <tr>\n      <th>8</th>\n      <td>2021-06-29 21:06:39</td>\n      <td>$XELA short squeeze for the rest of the week!!...</td>\n    </tr>\n    <tr>\n      <th>9</th>\n      <td>2021-06-29 21:06:39</td>\n      <td>RT @CannabisCricket: $BSQR $MRIN $AUUD $ALF $X...</td>\n    </tr>\n  </tbody>\n</table>\n</div>"
     },
     "metadata": {},
     "execution_count": 28
    }
   ],
   "source": [
    "df_tweets"
   ]
  }
 ]
}