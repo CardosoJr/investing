{
 "metadata": {
  "language_info": {
   "codemirror_mode": {
    "name": "ipython",
    "version": 3
   },
   "file_extension": ".py",
   "mimetype": "text/x-python",
   "name": "python",
   "nbconvert_exporter": "python",
   "pygments_lexer": "ipython3",
   "version": "3.8.5"
  },
  "orig_nbformat": 4,
  "kernelspec": {
   "name": "python3",
   "display_name": "Python 3.8.5 64-bit ('base': conda)"
  },
  "interpreter": {
   "hash": "b3ba2566441a7c06988d0923437866b63cedc61552a5af99d1f4fb67d367b25f"
  }
 },
 "nbformat": 4,
 "nbformat_minor": 2,
 "cells": [
  {
   "cell_type": "code",
   "execution_count": 1,
   "metadata": {},
   "outputs": [],
   "source": [
    "import matplotlib.pyplot as plt\n",
    "import math\n",
    "import datetime as dt\n",
    "import pandas as pd\n",
    "import numpy as np\n",
    "from pathlib import Path\n",
    "import yaml\n",
    "import requests\n",
    "import os\n",
    "import json\n"
   ]
  },
  {
   "cell_type": "code",
   "execution_count": 2,
   "metadata": {},
   "outputs": [],
   "source": [
    "with open(Path(\"config.yaml\"), 'r') as f: \n",
    "    config = yaml.safe_load(f)"
   ]
  },
  {
   "cell_type": "code",
   "execution_count": 3,
   "metadata": {},
   "outputs": [],
   "source": [
    "bearer_token = config['token']\n",
    "# search_url = \"https://api.twitter.com/2/tweets/search/all\"\n",
    "search_url = \"https://api.twitter.com/2/tweets/search/recent\""
   ]
  },
  {
   "cell_type": "code",
   "execution_count": 20,
   "metadata": {},
   "outputs": [],
   "source": [
    "def create_headers(bearer_token):\n",
    "    headers = {\"Authorization\": \"Bearer {}\".format(bearer_token)}\n",
    "    return headers\n",
    "\n",
    "def connect_to_endpoint(url, headers, params, encoding = \"ISO-8859-1\"):\n",
    "    response = requests.request(\"GET\", search_url, headers=headers, params=params)\n",
    "    print(response.apparent_encoding)\n",
    "    print(response.status_code)\n",
    "    if response.status_code != 200:\n",
    "        raise Exception(response.status_code, response.text)\n",
    "    return response.json()"
   ]
  },
  {
   "cell_type": "code",
   "execution_count": 21,
   "metadata": {},
   "outputs": [],
   "source": [
    "s_ticker = \"PETR4\"\n",
    "count = 10\n",
    "start_time = None\n",
    "end_time = None\n",
    "params = {\n",
    "    \"query\": fr\"(\\{s_ticker}) (lang:pt)\",\n",
    "    \"max_results\": str(count),\n",
    "    \"tweet.fields\": \"created_at,lang\",\n",
    "}\n",
    "\n",
    "if start_time:\n",
    "    # Assign from and to datetime parameters for the API\n",
    "    params[\"start_time\"] = start_time\n",
    "if end_time:\n",
    "    params[\"end_time\"] = end_timea"
   ]
  },
  {
   "cell_type": "code",
   "execution_count": 23,
   "metadata": {},
   "outputs": [
    {
     "output_type": "execute_result",
     "data": {
      "text/plain": [
       "{'data': [{'lang': 'pt',\n",
       "   'text': 'Principais mudanças do mês de junho:\\n\\n- Saída parcial PETR4 (venda de 10% com 57% de lucro)\\n- Saída parcial BBDC4 (venda de 30% com 49% de lucro)\\n- Saída Total CVCB3 (venda de 100% com 101% de lucro)\\n\\n- Aumento posição TASA4\\n- Aumento posição SAPR11',\n",
       "   'id': '1410714934300876806',\n",
       "   'created_at': '2021-07-01T21:40:24.000Z'},\n",
       "  {'lang': 'pt',\n",
       "   'text': 'RT @FilipeVillegas: 📊 Mais negociadas investidor PF 🐟🐡🐠 (Lote #Fracionário)\\n\\nTicker / Var(%) / N° de Ações\\n\\n#BBDC4 / -1,3% / 228K\\n#PRIO3 /…',\n",
       "   'id': '1410713143828004868',\n",
       "   'created_at': '2021-07-01T21:33:17.000Z'},\n",
       "  {'lang': 'pt',\n",
       "   'text': 'RT @FilipeVillegas: 📊 Ações +Termadas #termos 🦈\\n\\n🧐 Apostando numa alta ou defendendo posição\\n\\nTicker / Var(%) / N°Ações\\n\\n#BRDT3 / +7,2% / 4…',\n",
       "   'id': '1410713130393608196',\n",
       "   'created_at': '2021-07-01T21:33:14.000Z'},\n",
       "  {'lang': 'pt',\n",
       "   'text': '👀🆙 Ações da BR Distribuidora fecharam com maior alta do índice Ibovespa nesta quinta-feira, avançando mais de 7% após Petrobras ter na véspera precificado oferta de venda de sua fatia restante na empresa de combustíveis #BRDT3 #PETR4 via @MoverTC  @AprendaComTC https://t.co/Wkweers6hH',\n",
       "   'id': '1410710492193210371',\n",
       "   'created_at': '2021-07-01T21:22:45.000Z'},\n",
       "  {'lang': 'pt',\n",
       "   'text': '📊 Ranking posições ATUAL 🆚 pregão ANTERIOR +Termadas\\n\\n#BRDT3 1° ⬆️ \\n#COGN3 2° ⬆️ 4°\\n#PETR4 3° ⬆️ \\n#RAIL3 4° ⬆️ \\n#VVAR3 5° ⬇️ 10°\\n#IRBR3 6° ⏸ 6°\\n#OIBR3 7° ⬇️ 2°\\n#BBDC4 8° ⬆️ \\n#AMAR3 9° ⬆️ \\n#ITUB4 10° ⬆️ \\n\\n#marketmovers',\n",
       "   'id': '1410709693199228947',\n",
       "   'created_at': '2021-07-01T21:19:35.000Z'},\n",
       "  {'lang': 'pt',\n",
       "   'text': '📊 Ações +Termadas #termos 🦈\\n\\n🧐 Apostando numa alta ou defendendo posição\\n\\nTicker / Var(%) / N°Ações\\n\\n#BRDT3 / +7,2% / 4.416K\\n#COGN3 / -1,6% / 2.738K\\n#PETR4 / -1,3% / 2.155K\\n#RAIL3 / +3,1% / 1.581K\\n#VVAR3 / -2,1% / 1.447K\\n\\nAlém disso tivemos #IRBR3 #OIBR3 #BBDC4 #AMAR3 e #ITUB4',\n",
       "   'id': '1410709692058324994',\n",
       "   'created_at': '2021-07-01T21:19:34.000Z'},\n",
       "  {'lang': 'pt',\n",
       "   'text': '📊 Ranking posições ATUAL 🆚 pregão ANTERIOR 🐟🐡🐠 (Lote Fracionário)\\n\\n#BBDC4 1° ⏸ 1°\\n#PRIO3 2° ⬆️ \\n#VVAR3 3° ⬆️ \\n#BPAC11 4° 🆕 #Top10 \\n#B3SA3 5° ⬆️ \\n#VALE3 6° ⬇️ 3°\\n#MGLU3 7° ⬆️ \\n#PETR4 8° ⬆️ \\n#PTBL3 9° ⬇️ 5°\\n#BIDI11 10° ⬆️ 2°\\n\\n#marketmovers',\n",
       "   'id': '1410709323974598660',\n",
       "   'created_at': '2021-07-01T21:18:07.000Z'},\n",
       "  {'lang': 'pt',\n",
       "   'text': '📊 Mais negociadas investidor PF 🐟🐡🐠 (Lote #Fracionário)\\n\\nTicker / Var(%) / N° de Ações\\n\\n#BBDC4 / -1,3% / 228K\\n#PRIO3 / +4,9% / 206K\\n#VVAR3 / -2,0% / 196K\\n#BPAC11 / -0,8% / 190K\\n#B3SA3 / -3,0% / 171K\\n\\nAlém disso tivemos #VALE3 #MGLU3 #PETR4 #PTBL3 e #BIDI11',\n",
       "   'id': '1410709322871492608',\n",
       "   'created_at': '2021-07-01T21:18:06.000Z'},\n",
       "  {'lang': 'pt',\n",
       "   'text': '🛢️ Petrobras (#PETR4) levanta R$ 11,3 bilhões com privatização da BR Distribuidora (#BRDT3).\\n\\n#economia #mercado #Brasil #notícias',\n",
       "   'id': '1410706116590424066',\n",
       "   'created_at': '2021-07-01T21:05:22.000Z'},\n",
       "  {'lang': 'pt',\n",
       "   'text': '🛢️ Segundo Goldman Sachs preço de venda da ação da BR (#BRDT3) de R$ 26 é positivo para Petrobras (#PETR4).\\n\\n#economia #mercado #Brasil #notícias',\n",
       "   'id': '1410706092317986819',\n",
       "   'created_at': '2021-07-01T21:05:16.000Z'}],\n",
       " 'meta': {'newest_id': '1410714934300876806',\n",
       "  'oldest_id': '1410706092317986819',\n",
       "  'result_count': 10,\n",
       "  'next_token': 'b26v89c19zqg8o3fpdj6p4onnu2pr2nr0vd8uzlenowhp'}}"
      ]
     },
     "metadata": {},
     "execution_count": 23
    }
   ],
   "source": [
    "json_response"
   ]
  },
  {
   "cell_type": "code",
   "execution_count": 22,
   "metadata": {},
   "outputs": [
    {
     "output_type": "stream",
     "name": "stdout",
     "text": [
      "utf-8\n200\n{\n    \"data\": [\n        {\n            \"created_at\": \"2021-07-01T21:40:24.000Z\",\n            \"id\": \"1410714934300876806\",\n            \"lang\": \"pt\",\n            \"text\": \"Principais mudan\\u00e7as do m\\u00eas de junho:\\n\\n- Sa\\u00edda parcial PETR4 (venda de 10% com 57% de lucro)\\n- Sa\\u00edda parcial BBDC4 (venda de 30% com 49% de lucro)\\n- Sa\\u00edda Total CVCB3 (venda de 100% com 101% de lucro)\\n\\n- Aumento posi\\u00e7\\u00e3o TASA4\\n- Aumento posi\\u00e7\\u00e3o SAPR11\"\n        },\n        {\n            \"created_at\": \"2021-07-01T21:33:17.000Z\",\n            \"id\": \"1410713143828004868\",\n            \"lang\": \"pt\",\n            \"text\": \"RT @FilipeVillegas: \\ud83d\\udcca Mais negociadas investidor PF \\ud83d\\udc1f\\ud83d\\udc21\\ud83d\\udc20 (Lote #Fracion\\u00e1rio)\\n\\nTicker / Var(%) / N\\u00b0 de A\\u00e7\\u00f5es\\n\\n#BBDC4 / -1,3% / 228K\\n#PRIO3 /\\u2026\"\n        },\n        {\n            \"created_at\": \"2021-07-01T21:33:14.000Z\",\n            \"id\": \"1410713130393608196\",\n            \"lang\": \"pt\",\n            \"text\": \"RT @FilipeVillegas: \\ud83d\\udcca A\\u00e7\\u00f5es +Termadas #termos \\ud83e\\udd88\\n\\n\\ud83e\\uddd0 Apostando numa alta ou defendendo posi\\u00e7\\u00e3o\\n\\nTicker / Var(%) / N\\u00b0A\\u00e7\\u00f5es\\n\\n#BRDT3 / +7,2% / 4\\u2026\"\n        },\n        {\n            \"created_at\": \"2021-07-01T21:22:45.000Z\",\n            \"id\": \"1410710492193210371\",\n            \"lang\": \"pt\",\n            \"text\": \"\\ud83d\\udc40\\ud83c\\udd99 A\\u00e7\\u00f5es da BR Distribuidora fecharam com maior alta do \\u00edndice Ibovespa nesta quinta-feira, avan\\u00e7ando mais de 7% ap\\u00f3s Petrobras ter na v\\u00e9spera precificado oferta de venda de sua fatia restante na empresa de combust\\u00edveis #BRDT3 #PETR4 via @MoverTC  @AprendaComTC https://t.co/Wkweers6hH\"\n        },\n        {\n            \"created_at\": \"2021-07-01T21:19:35.000Z\",\n            \"id\": \"1410709693199228947\",\n            \"lang\": \"pt\",\n            \"text\": \"\\ud83d\\udcca Ranking posi\\u00e7\\u00f5es ATUAL \\ud83c\\udd9a preg\\u00e3o ANTERIOR +Termadas\\n\\n#BRDT3 1\\u00b0 \\u2b06\\ufe0f \\n#COGN3 2\\u00b0 \\u2b06\\ufe0f 4\\u00b0\\n#PETR4 3\\u00b0 \\u2b06\\ufe0f \\n#RAIL3 4\\u00b0 \\u2b06\\ufe0f \\n#VVAR3 5\\u00b0 \\u2b07\\ufe0f 10\\u00b0\\n#IRBR3 6\\u00b0 \\u23f8 6\\u00b0\\n#OIBR3 7\\u00b0 \\u2b07\\ufe0f 2\\u00b0\\n#BBDC4 8\\u00b0 \\u2b06\\ufe0f \\n#AMAR3 9\\u00b0 \\u2b06\\ufe0f \\n#ITUB4 10\\u00b0 \\u2b06\\ufe0f \\n\\n#marketmovers\"\n        },\n        {\n            \"created_at\": \"2021-07-01T21:19:34.000Z\",\n            \"id\": \"1410709692058324994\",\n            \"lang\": \"pt\",\n            \"text\": \"\\ud83d\\udcca A\\u00e7\\u00f5es +Termadas #termos \\ud83e\\udd88\\n\\n\\ud83e\\uddd0 Apostando numa alta ou defendendo posi\\u00e7\\u00e3o\\n\\nTicker / Var(%) / N\\u00b0A\\u00e7\\u00f5es\\n\\n#BRDT3 / +7,2% / 4.416K\\n#COGN3 / -1,6% / 2.738K\\n#PETR4 / -1,3% / 2.155K\\n#RAIL3 / +3,1% / 1.581K\\n#VVAR3 / -2,1% / 1.447K\\n\\nAl\\u00e9m disso tivemos #IRBR3 #OIBR3 #BBDC4 #AMAR3 e #ITUB4\"\n        },\n        {\n            \"created_at\": \"2021-07-01T21:18:07.000Z\",\n            \"id\": \"1410709323974598660\",\n            \"lang\": \"pt\",\n            \"text\": \"\\ud83d\\udcca Ranking posi\\u00e7\\u00f5es ATUAL \\ud83c\\udd9a preg\\u00e3o ANTERIOR \\ud83d\\udc1f\\ud83d\\udc21\\ud83d\\udc20 (Lote Fracion\\u00e1rio)\\n\\n#BBDC4 1\\u00b0 \\u23f8 1\\u00b0\\n#PRIO3 2\\u00b0 \\u2b06\\ufe0f \\n#VVAR3 3\\u00b0 \\u2b06\\ufe0f \\n#BPAC11 4\\u00b0 \\ud83c\\udd95 #Top10 \\n#B3SA3 5\\u00b0 \\u2b06\\ufe0f \\n#VALE3 6\\u00b0 \\u2b07\\ufe0f 3\\u00b0\\n#MGLU3 7\\u00b0 \\u2b06\\ufe0f \\n#PETR4 8\\u00b0 \\u2b06\\ufe0f \\n#PTBL3 9\\u00b0 \\u2b07\\ufe0f 5\\u00b0\\n#BIDI11 10\\u00b0 \\u2b06\\ufe0f 2\\u00b0\\n\\n#marketmovers\"\n        },\n        {\n            \"created_at\": \"2021-07-01T21:18:06.000Z\",\n            \"id\": \"1410709322871492608\",\n            \"lang\": \"pt\",\n            \"text\": \"\\ud83d\\udcca Mais negociadas investidor PF \\ud83d\\udc1f\\ud83d\\udc21\\ud83d\\udc20 (Lote #Fracion\\u00e1rio)\\n\\nTicker / Var(%) / N\\u00b0 de A\\u00e7\\u00f5es\\n\\n#BBDC4 / -1,3% / 228K\\n#PRIO3 / +4,9% / 206K\\n#VVAR3 / -2,0% / 196K\\n#BPAC11 / -0,8% / 190K\\n#B3SA3 / -3,0% / 171K\\n\\nAl\\u00e9m disso tivemos #VALE3 #MGLU3 #PETR4 #PTBL3 e #BIDI11\"\n        },\n        {\n            \"created_at\": \"2021-07-01T21:05:22.000Z\",\n            \"id\": \"1410706116590424066\",\n            \"lang\": \"pt\",\n            \"text\": \"\\ud83d\\udee2\\ufe0f Petrobras (#PETR4) levanta R$ 11,3 bilh\\u00f5es com privatiza\\u00e7\\u00e3o da BR Distribuidora (#BRDT3).\\n\\n#economia #mercado #Brasil #not\\u00edcias\"\n        },\n        {\n            \"created_at\": \"2021-07-01T21:05:16.000Z\",\n            \"id\": \"1410706092317986819\",\n            \"lang\": \"pt\",\n            \"text\": \"\\ud83d\\udee2\\ufe0f Segundo Goldman Sachs pre\\u00e7o de venda da a\\u00e7\\u00e3o da BR (#BRDT3) de R$ 26 \\u00e9 positivo para Petrobras (#PETR4).\\n\\n#economia #mercado #Brasil #not\\u00edcias\"\n        }\n    ],\n    \"meta\": {\n        \"newest_id\": \"1410714934300876806\",\n        \"next_token\": \"b26v89c19zqg8o3fpdj6p4onnu2pr2nr0vd8uzlenowhp\",\n        \"oldest_id\": \"1410706092317986819\",\n        \"result_count\": 10\n    }\n}\n"
     ]
    }
   ],
   "source": [
    "headers = create_headers(bearer_token)\n",
    "json_response = connect_to_endpoint(search_url, headers, params)\n",
    "json_response"
   ]
  },
  {
   "cell_type": "code",
   "execution_count": 26,
   "metadata": {},
   "outputs": [],
   "source": [
    "from datetime import datetime \n",
    "def get_data(tweet):\n",
    "    \"\"\"Gets twitter data from API request\"\"\"\n",
    "    if \"+\" in tweet[\"created_at\"]:\n",
    "        s_datetime = tweet[\"created_at\"].split(\" +\")[0]\n",
    "    else:\n",
    "        s_datetime = datetime.strptime(tweet[\"created_at\"].split(\".\")[0], \"%Y-%m-%dT%H:%M:%S\").strftime(\n",
    "            \"%Y-%m-%d %H:%M:%S\"\n",
    "        )\n",
    "\n",
    "    if \"full_text\" in tweet.keys():\n",
    "        s_text = tweet[\"full_text\"]\n",
    "    else:\n",
    "        s_text = tweet[\"text\"]\n",
    "\n",
    "    data = {\"created_at\": s_datetime, \"text\": s_text}\n",
    "    return data\n",
    "    \n",
    "def clean_tweet(tweet: str, s_ticker: str) -> str:\n",
    "    \"\"\"Cleans tweets to be fed to sentiment model\"\"\"\n",
    "    whitespace = re.compile(r\"\\s+\")\n",
    "    web_address = re.compile(r\"(?i)http(s):\\/\\/[a-z0-9.~_\\-\\/]+\")\n",
    "    ticker = re.compile(fr\"(?i)@{s_ticker}(?=\\b)\")\n",
    "    user = re.compile(r\"(?i)@[a-z0-9_]+\")\n",
    "\n",
    "    tweet = whitespace.sub(\" \", tweet)\n",
    "    tweet = web_address.sub(\"\", tweet)\n",
    "    tweet = ticker.sub(s_ticker, tweet)\n",
    "    tweet = user.sub(\"\", tweet)\n",
    "\n",
    "    return tweet"
   ]
  },
  {
   "cell_type": "code",
   "execution_count": 27,
   "metadata": {},
   "outputs": [],
   "source": [
    "df_tweets = pd.DataFrame()\n",
    "for tweet in json_response[\"data\"]:\n",
    "    row = get_data(tweet)\n",
    "    df_tweets = df_tweets.append(row, ignore_index=True)"
   ]
  },
  {
   "cell_type": "code",
   "execution_count": 28,
   "metadata": {},
   "outputs": [
    {
     "output_type": "execute_result",
     "data": {
      "text/plain": [
       "            created_at                                               text\n",
       "0  2021-06-29 21:07:14  RT @unusual_whales: 🚨 BREAKING NEWS 🚨\\n\\n@Trad...\n",
       "1  2021-06-29 21:07:09  RT @CannabisCricket: $ALF $ALFIW 22.50 HOD $25...\n",
       "2  2021-06-29 21:07:07  RT @CannabisCricket: $ALF $ALFIW 22.50 HOD $25...\n",
       "3  2021-06-29 21:07:06  RT @masked_investor: So since 002 has been liv...\n",
       "4  2021-06-29 21:06:58  RT @GMEshortsqueeze: $GME I wonder if these ar...\n",
       "5  2021-06-29 21:06:55  We got someone’s attention #AMC #GME https://t...\n",
       "6  2021-06-29 21:06:50  RT @WSB_Degenerate: $CLOV\\n\\nWhen borrow fees ...\n",
       "7  2021-06-29 21:06:44  RT @cvpayne: .@Trading212 there is some confus...\n",
       "8  2021-06-29 21:06:39  $XELA short squeeze for the rest of the week!!...\n",
       "9  2021-06-29 21:06:39  RT @CannabisCricket: $BSQR $MRIN $AUUD $ALF $X..."
      ],
      "text/html": "<div>\n<style scoped>\n    .dataframe tbody tr th:only-of-type {\n        vertical-align: middle;\n    }\n\n    .dataframe tbody tr th {\n        vertical-align: top;\n    }\n\n    .dataframe thead th {\n        text-align: right;\n    }\n</style>\n<table border=\"1\" class=\"dataframe\">\n  <thead>\n    <tr style=\"text-align: right;\">\n      <th></th>\n      <th>created_at</th>\n      <th>text</th>\n    </tr>\n  </thead>\n  <tbody>\n    <tr>\n      <th>0</th>\n      <td>2021-06-29 21:07:14</td>\n      <td>RT @unusual_whales: 🚨 BREAKING NEWS 🚨\\n\\n@Trad...</td>\n    </tr>\n    <tr>\n      <th>1</th>\n      <td>2021-06-29 21:07:09</td>\n      <td>RT @CannabisCricket: $ALF $ALFIW 22.50 HOD $25...</td>\n    </tr>\n    <tr>\n      <th>2</th>\n      <td>2021-06-29 21:07:07</td>\n      <td>RT @CannabisCricket: $ALF $ALFIW 22.50 HOD $25...</td>\n    </tr>\n    <tr>\n      <th>3</th>\n      <td>2021-06-29 21:07:06</td>\n      <td>RT @masked_investor: So since 002 has been liv...</td>\n    </tr>\n    <tr>\n      <th>4</th>\n      <td>2021-06-29 21:06:58</td>\n      <td>RT @GMEshortsqueeze: $GME I wonder if these ar...</td>\n    </tr>\n    <tr>\n      <th>5</th>\n      <td>2021-06-29 21:06:55</td>\n      <td>We got someone’s attention #AMC #GME https://t...</td>\n    </tr>\n    <tr>\n      <th>6</th>\n      <td>2021-06-29 21:06:50</td>\n      <td>RT @WSB_Degenerate: $CLOV\\n\\nWhen borrow fees ...</td>\n    </tr>\n    <tr>\n      <th>7</th>\n      <td>2021-06-29 21:06:44</td>\n      <td>RT @cvpayne: .@Trading212 there is some confus...</td>\n    </tr>\n    <tr>\n      <th>8</th>\n      <td>2021-06-29 21:06:39</td>\n      <td>$XELA short squeeze for the rest of the week!!...</td>\n    </tr>\n    <tr>\n      <th>9</th>\n      <td>2021-06-29 21:06:39</td>\n      <td>RT @CannabisCricket: $BSQR $MRIN $AUUD $ALF $X...</td>\n    </tr>\n  </tbody>\n</table>\n</div>"
     },
     "metadata": {},
     "execution_count": 28
    }
   ],
   "source": [
    "df_tweets"
   ]
  }
 ]
}