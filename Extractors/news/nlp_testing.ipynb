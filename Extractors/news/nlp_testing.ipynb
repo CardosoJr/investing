{
 "metadata": {
  "language_info": {
   "codemirror_mode": {
    "name": "ipython",
    "version": 3
   },
   "file_extension": ".py",
   "mimetype": "text/x-python",
   "name": "python",
   "nbconvert_exporter": "python",
   "pygments_lexer": "ipython3",
   "version": "3.8.5"
  },
  "orig_nbformat": 4,
  "kernelspec": {
   "name": "python3",
   "display_name": "Python 3.8.5 64-bit ('base': conda)"
  },
  "interpreter": {
   "hash": "b3ba2566441a7c06988d0923437866b63cedc61552a5af99d1f4fb67d367b25f"
  }
 },
 "nbformat": 4,
 "nbformat_minor": 2,
 "cells": [
  {
   "cell_type": "code",
   "execution_count": 1,
   "metadata": {},
   "outputs": [],
   "source": [
    "from googletrans import Translator\n",
    "translator = Translator()\n"
   ]
  },
  {
   "cell_type": "code",
   "execution_count": 2,
   "metadata": {},
   "outputs": [
    {
     "output_type": "execute_result",
     "data": {
      "text/plain": [
       "'Hi.how are you?'"
      ]
     },
     "metadata": {},
     "execution_count": 2
    }
   ],
   "source": [
    "translator.translate(text = \"olá. como vai vc?\", dest = 'en', src = 'pt').text"
   ]
  },
  {
   "cell_type": "code",
   "execution_count": 3,
   "metadata": {},
   "outputs": [],
   "source": [
    "from nltk.sentiment import SentimentAnalyzer\n",
    "from vaderSentiment.vaderSentiment import SentimentIntensityAnalyzer\n"
   ]
  },
  {
   "cell_type": "code",
   "execution_count": 4,
   "metadata": {},
   "outputs": [],
   "source": [
    "analyzer = SentimentIntensityAnalyzer()"
   ]
  },
  {
   "cell_type": "code",
   "execution_count": 7,
   "metadata": {},
   "outputs": [
    {
     "output_type": "execute_result",
     "data": {
      "text/plain": [
       "{'neg': 0.333, 'neu': 0.667, 'pos': 0.0, 'compound': -0.4585}"
      ]
     },
     "metadata": {},
     "execution_count": 7
    }
   ],
   "source": [
    "analyzer.polarity_scores(\"hi, i am not happy right now\")"
   ]
  },
  {
   "cell_type": "code",
   "execution_count": 10,
   "metadata": {},
   "outputs": [
    {
     "output_type": "execute_result",
     "data": {
      "text/plain": [
       "{'neg': 0.0, 'neu': 1.0, 'pos': 0.0, 'compound': 0.0}"
      ]
     },
     "metadata": {},
     "execution_count": 10
    }
   ],
   "source": [
    "analyzer.polarity_scores(\"GME prices are going very high\")"
   ]
  },
  {
   "cell_type": "code",
   "execution_count": 11,
   "metadata": {},
   "outputs": [
    {
     "output_type": "execute_result",
     "data": {
      "text/plain": [
       "{'neg': 0.0, 'neu': 0.621, 'pos': 0.379, 'compound': 0.6705}"
      ]
     },
     "metadata": {},
     "execution_count": 11
    }
   ],
   "source": [
    "analyzer.polarity_scores(\"We maybe have found some good opportunities to invest ina FII\")"
   ]
  },
  {
   "cell_type": "code",
   "execution_count": 13,
   "metadata": {},
   "outputs": [
    {
     "output_type": "execute_result",
     "data": {
      "text/plain": [
       "{'neg': 0.0, 'neu': 0.64, 'pos': 0.36, 'compound': 0.5423}"
      ]
     },
     "metadata": {},
     "execution_count": 13
    }
   ],
   "source": [
    "analyzer.polarity_scores(translator.translate(text = \"Temos visto uma crescente oportunidade para investir em FIIs\", dest = 'en', src = 'pt').text)"
   ]
  },
  {
   "cell_type": "code",
   "execution_count": 14,
   "metadata": {},
   "outputs": [
    {
     "output_type": "execute_result",
     "data": {
      "text/plain": [
       "{'neg': 0.0, 'neu': 1.0, 'pos': 0.0, 'compound': 0.0}"
      ]
     },
     "metadata": {},
     "execution_count": 14
    }
   ],
   "source": [
    "analyzer.polarity_scores(translator.translate(text = \"Queda recente no valuation de FIIs nos faz desistir da ideia\", dest = 'en', src = 'pt').text)\n"
   ]
  },
  {
   "cell_type": "code",
   "execution_count": 18,
   "metadata": {},
   "outputs": [
    {
     "output_type": "execute_result",
     "data": {
      "text/plain": [
       "{'neg': 0.0, 'neu': 1.0, 'pos': 0.0, 'compound': 0.0}"
      ]
     },
     "metadata": {},
     "execution_count": 18
    }
   ],
   "source": [
    "analyzer.polarity_scores(translator.translate(text = \"Queda recente nos FIIs nos faz não investir nela\", dest = 'en', src = 'pt').text)"
   ]
  },
  {
   "cell_type": "code",
   "execution_count": 26,
   "metadata": {},
   "outputs": [
    {
     "output_type": "execute_result",
     "data": {
      "text/plain": [
       "{'neg': 0.383, 'neu': 0.617, 'pos': 0.0, 'compound': -0.4767}"
      ]
     },
     "metadata": {},
     "execution_count": 26
    }
   ],
   "source": [
    "analyzer.polarity_scores(translator.translate(text = \"Esses fundos de investimento possuem péssimo desempenho\", dest = 'en', src = 'pt').text)"
   ]
  },
  {
   "cell_type": "code",
   "execution_count": 25,
   "metadata": {},
   "outputs": [
    {
     "output_type": "execute_result",
     "data": {
      "text/plain": [
       "'These investment funds have poor performance'"
      ]
     },
     "metadata": {},
     "execution_count": 25
    }
   ],
   "source": [
    "translator.translate(text = \"Esses fundos de investimento possuem péssimo desempenho\", dest = 'en', src = 'pt').text"
   ]
  },
  {
   "cell_type": "code",
   "execution_count": 27,
   "metadata": {},
   "outputs": [
    {
     "output_type": "execute_result",
     "data": {
      "text/plain": [
       "{'neg': 0.333, 'neu': 0.667, 'pos': 0.0, 'compound': -0.3612}"
      ]
     },
     "metadata": {},
     "execution_count": 27
    }
   ],
   "source": [
    "analyzer.polarity_scores(translator.translate(text = \"Os preços das ações de PETR4 tem caído significativamente\", dest = 'en', src = 'pt').text)"
   ]
  },
  {
   "source": [
    "### other translation tools \n",
    "* https://towardsdatascience.com/translate-any-two-languages-in-60-lines-of-python-b54dc4a9e739\n",
    "* https://fasttext.cc/\n",
    "\n",
    "\n",
    "## Translation / Sentiment with Hugging Face pretrained models"
   ],
   "cell_type": "markdown",
   "metadata": {}
  },
  {
   "cell_type": "code",
   "execution_count": 1,
   "metadata": {},
   "outputs": [
    {
     "output_type": "stream",
     "name": "stderr",
     "text": [
      "Downloading: 100%|██████████| 800k/800k [00:00<00:00, 1.95MB/s]\n",
      "Downloading: 100%|██████████| 779k/779k [00:00<00:00, 1.70MB/s]\n",
      "Downloading: 100%|██████████| 1.46M/1.46M [00:00<00:00, 2.38MB/s]\n",
      "Downloading: 100%|██████████| 265/265 [00:00<00:00, 132kB/s]\n"
     ]
    }
   ],
   "source": [
    "from transformers import MarianTokenizer, MarianMTModel\n",
    "\n",
    "translation_model_name = f'Helsinki-NLP/opus-mt-roa-en'\n",
    "model = MarianMTModel.from_pretrained(translation_model_name)\n",
    "tokenizer = MarianTokenizer.from_pretrained(translation_model_name)"
   ]
  },
  {
   "cell_type": "code",
   "execution_count": 3,
   "metadata": {},
   "outputs": [
    {
     "output_type": "execute_result",
     "data": {
      "text/plain": [
       "'Hello, trying to translate that phrase.'"
      ]
     },
     "metadata": {},
     "execution_count": 3
    }
   ],
   "source": [
    "# Translate the text\n",
    "inputs = tokenizer([\"Olá, tentando traduzir essa frase\"], return_tensors=\"pt\", padding=True)\n",
    "gen = model.generate(**inputs)\n",
    "tokenizer.batch_decode(gen, skip_special_tokens=True)[0]"
   ]
  },
  {
   "cell_type": "code",
   "execution_count": 4,
   "metadata": {},
   "outputs": [],
   "source": [
    "from transformers import pipeline"
   ]
  },
  {
   "cell_type": "code",
   "execution_count": 5,
   "metadata": {},
   "outputs": [
    {
     "output_type": "stream",
     "name": "stderr",
     "text": [
      "Downloading: 100%|██████████| 629/629 [00:00<00:00, 634kB/s]\n",
      "Downloading: 100%|██████████| 268M/268M [00:24<00:00, 10.8MB/s]\n",
      "Downloading: 100%|██████████| 48.0/48.0 [00:00<00:00, 48.1kB/s]\n",
      "Downloading: 100%|██████████| 232k/232k [00:00<00:00, 995kB/s]\n"
     ]
    }
   ],
   "source": [
    "senti_pipeline = pipeline(\"sentiment-analysis\")"
   ]
  },
  {
   "cell_type": "code",
   "execution_count": 7,
   "metadata": {},
   "outputs": [
    {
     "output_type": "execute_result",
     "data": {
      "text/plain": [
       "[{'label': 'NEGATIVE', 'score': 0.99976646900177}]"
      ]
     },
     "metadata": {},
     "execution_count": 7
    }
   ],
   "source": [
    "senti_pipeline(\"not that good\")"
   ]
  },
  {
   "cell_type": "code",
   "execution_count": 8,
   "metadata": {},
   "outputs": [
    {
     "output_type": "stream",
     "name": "stderr",
     "text": [
      "Downloading: 100%|██████████| 747/747 [00:00<00:00, 747kB/s]\n",
      "Downloading: 100%|██████████| 899k/899k [00:00<00:00, 1.72MB/s]\n",
      "Downloading: 100%|██████████| 456k/456k [00:00<00:00, 1.27MB/s]\n",
      "Downloading: 100%|██████████| 150/150 [00:00<00:00, 151kB/s]\n"
     ]
    }
   ],
   "source": [
    "from transformers import AutoTokenizer\n",
    "from transformers import AutoModelForSequenceClassification\n",
    "import numpy as np\n",
    "from scipy.special import softmax\n",
    "import csv\n",
    "import urllib.request\n",
    "\n",
    "MODEL = f\"cardiffnlp/twitter-roberta-base-sentiment\"\n",
    "tokenizer = AutoTokenizer.from_pretrained(MODEL)\n",
    "\n",
    "def preprocess(text):\n",
    "    new_text = []\n",
    "\n",
    "\n",
    "    for t in text.split(\" \"):\n",
    "        t = '@user' if t.startswith('@') and len(t) > 1 else t\n",
    "        t = 'http' if t.startswith('http') else t\n",
    "        new_text.append(t)\n",
    "    return \" \".join(new_text)\n",
    "\n"
   ]
  },
  {
   "cell_type": "code",
   "execution_count": 10,
   "metadata": {},
   "outputs": [],
   "source": [
    "# download label mapping\n",
    "task = 'sentiment'\n",
    "labels=[]\n",
    "mapping_link = f\"https://raw.githubusercontent.com/cardiffnlp/tweeteval/main/datasets/{task}/mapping.txt\"\n",
    "with urllib.request.urlopen(mapping_link) as f:\n",
    "    html = f.read().decode('utf-8').split(\"\\n\")\n",
    "    csvreader = csv.reader(html, delimiter='\\t')\n",
    "labels = [row[1] for row in csvreader if len(row) > 1]"
   ]
  },
  {
   "cell_type": "code",
   "execution_count": 12,
   "metadata": {},
   "outputs": [
    {
     "output_type": "stream",
     "name": "stderr",
     "text": [
      "Downloading: 100%|██████████| 499M/499M [00:49<00:00, 10.0MB/s]\n"
     ]
    }
   ],
   "source": [
    "model = AutoModelForSequenceClassification.from_pretrained(MODEL)\n",
    "model.save_pretrained(MODEL)"
   ]
  },
  {
   "cell_type": "code",
   "execution_count": 17,
   "metadata": {},
   "outputs": [
    {
     "output_type": "execute_result",
     "data": {
      "text/plain": [
       "{'negative': 0.9457971, 'neutral': 0.051542837, 'positive': 0.002660079}"
      ]
     },
     "metadata": {},
     "execution_count": 17
    }
   ],
   "source": [
    "text = \"These investment funds have poor performance\"\n",
    "text = preprocess(text)\n",
    "encoded_input = tokenizer(text, return_tensors='pt')\n",
    "output = model(**encoded_input)\n",
    "scores = output[0][0].detach().numpy()\n",
    "scores = softmax(scores)\n",
    "dict(zip(labels, scores))"
   ]
  },
  {
   "cell_type": "code",
   "execution_count": 18,
   "metadata": {},
   "outputs": [
    {
     "output_type": "stream",
     "name": "stderr",
     "text": [
      "Downloading: 100%|██████████| 687/687 [00:00<00:00, 229kB/s]\n",
      "Downloading: 100%|██████████| 1.42G/1.42G [02:28<00:00, 9.57MB/s]\n",
      "Downloading: 100%|██████████| 256/256 [00:00<00:00, 85.4kB/s]\n",
      "Downloading: 100%|██████████| 798k/798k [00:00<00:00, 1.70MB/s]\n",
      "Downloading: 100%|██████████| 456k/456k [00:00<00:00, 1.49MB/s]\n",
      "Downloading: 100%|██████████| 150/150 [00:00<00:00, 156kB/s]\n"
     ]
    }
   ],
   "source": [
    "sentiment_analysis = pipeline(\"sentiment-analysis\",model=\"siebert/sentiment-roberta-large-english\")\n"
   ]
  },
  {
   "cell_type": "code",
   "execution_count": 21,
   "metadata": {},
   "outputs": [
    {
     "output_type": "stream",
     "name": "stdout",
     "text": [
      "[{'label': 'NEGATIVE', 'score': 0.9994285702705383}]\n"
     ]
    }
   ],
   "source": [
    "print(sentiment_analysis(\"not that good\"))\n"
   ]
  },
  {
   "source": [
    "### some portuguese sentiment models to test: \n",
    "* https://github.com/rdenadai/sentiment-analysis-2018-president-election\n",
    "* https://github.com/acardosoj/LeIA"
   ],
   "cell_type": "markdown",
   "metadata": {}
  },
  {
   "cell_type": "code",
   "execution_count": null,
   "metadata": {},
   "outputs": [],
   "source": []
  },
  {
   "cell_type": "code",
   "execution_count": null,
   "metadata": {},
   "outputs": [],
   "source": []
  },
  {
   "cell_type": "code",
   "execution_count": null,
   "metadata": {},
   "outputs": [],
   "source": []
  }
 ]
}