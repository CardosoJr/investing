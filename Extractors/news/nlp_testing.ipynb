{
 "metadata": {
  "language_info": {
   "codemirror_mode": {
    "name": "ipython",
    "version": 3
   },
   "file_extension": ".py",
   "mimetype": "text/x-python",
   "name": "python",
   "nbconvert_exporter": "python",
   "pygments_lexer": "ipython3",
   "version": "3.8.5"
  },
  "orig_nbformat": 4,
  "kernelspec": {
   "name": "python3",
   "display_name": "Python 3.8.5 64-bit ('base': conda)"
  },
  "interpreter": {
   "hash": "b3ba2566441a7c06988d0923437866b63cedc61552a5af99d1f4fb67d367b25f"
  }
 },
 "nbformat": 4,
 "nbformat_minor": 2,
 "cells": [
  {
   "cell_type": "code",
   "execution_count": 1,
   "metadata": {},
   "outputs": [],
   "source": [
    "from googletrans import Translator\n",
    "translator = Translator()\n"
   ]
  },
  {
   "cell_type": "code",
   "execution_count": 2,
   "metadata": {},
   "outputs": [
    {
     "output_type": "execute_result",
     "data": {
      "text/plain": [
       "'Hi.how are you?'"
      ]
     },
     "metadata": {},
     "execution_count": 2
    }
   ],
   "source": [
    "translator.translate(text = \"olá. como vai vc?\", dest = 'en', src = 'pt').text"
   ]
  },
  {
   "cell_type": "code",
   "execution_count": 3,
   "metadata": {},
   "outputs": [],
   "source": [
    "from nltk.sentiment import SentimentAnalyzer\n",
    "from vaderSentiment.vaderSentiment import SentimentIntensityAnalyzer\n"
   ]
  },
  {
   "cell_type": "code",
   "execution_count": 4,
   "metadata": {},
   "outputs": [],
   "source": [
    "analyzer = SentimentIntensityAnalyzer()"
   ]
  },
  {
   "cell_type": "code",
   "execution_count": 7,
   "metadata": {},
   "outputs": [
    {
     "output_type": "execute_result",
     "data": {
      "text/plain": [
       "{'neg': 0.333, 'neu': 0.667, 'pos': 0.0, 'compound': -0.4585}"
      ]
     },
     "metadata": {},
     "execution_count": 7
    }
   ],
   "source": [
    "analyzer.polarity_scores(\"hi, i am not happy right now\")"
   ]
  },
  {
   "cell_type": "code",
   "execution_count": 10,
   "metadata": {},
   "outputs": [
    {
     "output_type": "execute_result",
     "data": {
      "text/plain": [
       "{'neg': 0.0, 'neu': 1.0, 'pos': 0.0, 'compound': 0.0}"
      ]
     },
     "metadata": {},
     "execution_count": 10
    }
   ],
   "source": [
    "analyzer.polarity_scores(\"GME prices are going very high\")"
   ]
  },
  {
   "cell_type": "code",
   "execution_count": 11,
   "metadata": {},
   "outputs": [
    {
     "output_type": "execute_result",
     "data": {
      "text/plain": [
       "{'neg': 0.0, 'neu': 0.621, 'pos': 0.379, 'compound': 0.6705}"
      ]
     },
     "metadata": {},
     "execution_count": 11
    }
   ],
   "source": [
    "analyzer.polarity_scores(\"We maybe have found some good opportunities to invest ina FII\")"
   ]
  },
  {
   "cell_type": "code",
   "execution_count": 13,
   "metadata": {},
   "outputs": [
    {
     "output_type": "execute_result",
     "data": {
      "text/plain": [
       "{'neg': 0.0, 'neu': 0.64, 'pos': 0.36, 'compound': 0.5423}"
      ]
     },
     "metadata": {},
     "execution_count": 13
    }
   ],
   "source": [
    "analyzer.polarity_scores(translator.translate(text = \"Temos visto uma crescente oportunidade para investir em FIIs\", dest = 'en', src = 'pt').text)"
   ]
  },
  {
   "cell_type": "code",
   "execution_count": 14,
   "metadata": {},
   "outputs": [
    {
     "output_type": "execute_result",
     "data": {
      "text/plain": [
       "{'neg': 0.0, 'neu': 1.0, 'pos': 0.0, 'compound': 0.0}"
      ]
     },
     "metadata": {},
     "execution_count": 14
    }
   ],
   "source": [
    "analyzer.polarity_scores(translator.translate(text = \"Queda recente no valuation de FIIs nos faz desistir da ideia\", dest = 'en', src = 'pt').text)\n"
   ]
  },
  {
   "cell_type": "code",
   "execution_count": 18,
   "metadata": {},
   "outputs": [
    {
     "output_type": "execute_result",
     "data": {
      "text/plain": [
       "{'neg': 0.0, 'neu': 1.0, 'pos': 0.0, 'compound': 0.0}"
      ]
     },
     "metadata": {},
     "execution_count": 18
    }
   ],
   "source": [
    "analyzer.polarity_scores(translator.translate(text = \"Queda recente nos FIIs nos faz não investir nela\", dest = 'en', src = 'pt').text)"
   ]
  },
  {
   "cell_type": "code",
   "execution_count": 26,
   "metadata": {},
   "outputs": [
    {
     "output_type": "execute_result",
     "data": {
      "text/plain": [
       "{'neg': 0.383, 'neu': 0.617, 'pos': 0.0, 'compound': -0.4767}"
      ]
     },
     "metadata": {},
     "execution_count": 26
    }
   ],
   "source": [
    "analyzer.polarity_scores(translator.translate(text = \"Esses fundos de investimento possuem péssimo desempenho\", dest = 'en', src = 'pt').text)"
   ]
  },
  {
   "cell_type": "code",
   "execution_count": 25,
   "metadata": {},
   "outputs": [
    {
     "output_type": "execute_result",
     "data": {
      "text/plain": [
       "'These investment funds have poor performance'"
      ]
     },
     "metadata": {},
     "execution_count": 25
    }
   ],
   "source": [
    "translator.translate(text = \"Esses fundos de investimento possuem péssimo desempenho\", dest = 'en', src = 'pt').text"
   ]
  },
  {
   "cell_type": "code",
   "execution_count": 27,
   "metadata": {},
   "outputs": [
    {
     "output_type": "execute_result",
     "data": {
      "text/plain": [
       "{'neg': 0.333, 'neu': 0.667, 'pos': 0.0, 'compound': -0.3612}"
      ]
     },
     "metadata": {},
     "execution_count": 27
    }
   ],
   "source": [
    "analyzer.polarity_scores(translator.translate(text = \"Os preços das ações de PETR4 tem caído significativamente\", dest = 'en', src = 'pt').text)"
   ]
  },
  {
   "source": [
    "### other translation tools \n",
    "* https://towardsdatascience.com/translate-any-two-languages-in-60-lines-of-python-b54dc4a9e739\n",
    "* https://fasttext.cc/\n",
    "\n",
    "\n",
    "## Translation / Sentiment with Hugging Face pretrained models"
   ],
   "cell_type": "markdown",
   "metadata": {}
  },
  {
   "cell_type": "code",
   "execution_count": 33,
   "metadata": {},
   "outputs": [],
   "source": [
    "from transformers import MarianTokenizer, MarianMTModel\n",
    "\n",
    "translation_model_name = f'Helsinki-NLP/opus-mt-roa-en'\n",
    "model = MarianMTModel.from_pretrained(translation_model_name)\n",
    "tokenizer = MarianTokenizer.from_pretrained(translation_model_name)"
   ]
  },
  {
   "cell_type": "code",
   "execution_count": 15,
   "metadata": {},
   "outputs": [
    {
     "output_type": "execute_result",
     "data": {
      "text/plain": [
       "('Helsinki-NLP/opus-mt-roa-en\\\\tokenizer_config.json',\n",
       " 'Helsinki-NLP/opus-mt-roa-en\\\\special_tokens_map.json',\n",
       " WindowsPath('Helsinki-NLP/opus-mt-roa-en/source_spm'),\n",
       " WindowsPath('Helsinki-NLP/opus-mt-roa-en/target_spm'),\n",
       " WindowsPath('Helsinki-NLP/opus-mt-roa-en/vocab'),\n",
       " WindowsPath('Helsinki-NLP/opus-mt-roa-en/tokenizer_config_file'),\n",
       " 'Helsinki-NLP/opus-mt-roa-en\\\\added_tokens.json')"
      ]
     },
     "metadata": {},
     "execution_count": 15
    }
   ],
   "source": [
    "model.save_pretrained(translation_model_name)\n",
    "tokenizer.save_pretrained(translation_model_name)"
   ]
  },
  {
   "cell_type": "code",
   "execution_count": 34,
   "metadata": {},
   "outputs": [
    {
     "output_type": "execute_result",
     "data": {
      "text/plain": [
       "['Petrobras (#PETR4) raises R$ 11.3 billion with privatization of the BR Distribuidora (#BRDT3). #economy #market #Brazil #news']"
      ]
     },
     "metadata": {},
     "execution_count": 34
    }
   ],
   "source": [
    "# Translate the text\n",
    "inputs = tokenizer([\"🛢️ Petrobras (#PETR4) levanta R$ 11,3 bilhões com privatização da BR Distribuidora (#BRDT3).\\n\\n#economia #mercado #Brasil #notícias\"], return_tensors=\"pt\", padding=True)\n",
    "gen = model.generate(**inputs)\n",
    "tokenizer.batch_decode(gen, skip_special_tokens=True)"
   ]
  },
  {
   "cell_type": "code",
   "execution_count": 2,
   "metadata": {},
   "outputs": [],
   "source": [
    "from transformers import pipeline"
   ]
  },
  {
   "cell_type": "code",
   "execution_count": 1,
   "metadata": {},
   "outputs": [],
   "source": [
    "from transformers import AutoTokenizer\n",
    "from transformers import AutoModelForSequenceClassification\n",
    "import numpy as np\n",
    "from scipy.special import softmax\n",
    "import csv\n",
    "import urllib.request\n",
    "task='sentiment'\n",
    "MODEL = f\"cardiffnlp/twitter-roberta-base-{task}\"\n",
    "tokenizer = AutoTokenizer.from_pretrained(MODEL)\n",
    "\n",
    "def preprocess(text):\n",
    "    new_text = []\n",
    "    for t in text.split(\" \"):\n",
    "        t = '@user' if t.startswith('@') and len(t) > 1 else t\n",
    "        t = 'http' if t.startswith('http') else t\n",
    "        new_text.append(t)\n",
    "    return \" \".join(new_text)\n",
    "\n"
   ]
  },
  {
   "cell_type": "code",
   "execution_count": 5,
   "metadata": {},
   "outputs": [],
   "source": [
    "labels=[]\n",
    "mapping_link = f\"https://raw.githubusercontent.com/cardiffnlp/tweeteval/main/datasets/{task}/mapping.txt\"\n",
    "with urllib.request.urlopen(mapping_link) as f:\n",
    "    html = f.read().decode('utf-8').split(\"\\n\")\n",
    "    csvreader = csv.reader(html, delimiter='\\t')\n",
    "labels = [row[1] for row in csvreader if len(row) > 1]"
   ]
  },
  {
   "cell_type": "code",
   "execution_count": 2,
   "metadata": {},
   "outputs": [],
   "source": [
    "model = AutoModelForSequenceClassification.from_pretrained(MODEL)\n",
    "# model.save_pretrained(MODEL)\n",
    "# tokenizer.save_pretrained(MODEL)"
   ]
  },
  {
   "cell_type": "code",
   "execution_count": 8,
   "metadata": {},
   "outputs": [
    {
     "output_type": "execute_result",
     "data": {
      "text/plain": [
       "array([[0.01297671, 0.8384383 , 0.148585  ],\n",
       "       [0.00142769, 0.01704662, 0.9815256 ]], dtype=float32)"
      ]
     },
     "metadata": {},
     "execution_count": 8
    }
   ],
   "source": [
    "text = ['Petrobras (#PETR4) raises R$ 11.3 billion with privatization of the BR Distribuidora (#BRDT3). #economy #market #Brazil #news', \"Hello, i am happy\"]\n",
    "encoded_input = tokenizer(text, return_tensors='pt', padding = True)\n",
    "output = model(**encoded_input)\n",
    "scores = output[0].detach().numpy()\n",
    "scores = softmax(scores, axis = 1)\n",
    "scores"
   ]
  },
  {
   "cell_type": "code",
   "execution_count": 30,
   "metadata": {},
   "outputs": [
    {
     "output_type": "execute_result",
     "data": {
      "text/plain": [
       "array([[0.96737456, 0.02879267, 0.00383274],\n",
       "       [0.00228572, 0.01300936, 0.9847049 ]], dtype=float32)"
      ]
     },
     "metadata": {},
     "execution_count": 30
    }
   ],
   "source": [
    "softmax(output[0].detach().numpy(), axis = 1)"
   ]
  },
  {
   "cell_type": "code",
   "execution_count": 27,
   "metadata": {},
   "outputs": [
    {
     "output_type": "execute_result",
     "data": {
      "text/plain": [
       "array([0.96737456, 0.02879267, 0.00383274], dtype=float32)"
      ]
     },
     "metadata": {},
     "execution_count": 27
    }
   ],
   "source": [
    "softmax(output[0][0].detach().numpy())"
   ]
  },
  {
   "cell_type": "code",
   "execution_count": 28,
   "metadata": {},
   "outputs": [
    {
     "output_type": "execute_result",
     "data": {
      "text/plain": [
       "array([0.00228572, 0.01300936, 0.9847049 ], dtype=float32)"
      ]
     },
     "metadata": {},
     "execution_count": 28
    }
   ],
   "source": [
    "softmax(output[0][1].detach().numpy())"
   ]
  },
  {
   "cell_type": "code",
   "execution_count": 18,
   "metadata": {},
   "outputs": [
    {
     "output_type": "stream",
     "name": "stderr",
     "text": [
      "Downloading: 100%|██████████| 687/687 [00:00<00:00, 229kB/s]\n",
      "Downloading: 100%|██████████| 1.42G/1.42G [02:28<00:00, 9.57MB/s]\n",
      "Downloading: 100%|██████████| 256/256 [00:00<00:00, 85.4kB/s]\n",
      "Downloading: 100%|██████████| 798k/798k [00:00<00:00, 1.70MB/s]\n",
      "Downloading: 100%|██████████| 456k/456k [00:00<00:00, 1.49MB/s]\n",
      "Downloading: 100%|██████████| 150/150 [00:00<00:00, 156kB/s]\n"
     ]
    }
   ],
   "source": [
    "sentiment_analysis = pipeline(\"sentiment-analysis\",model=\"siebert/sentiment-roberta-large-english\")\n"
   ]
  },
  {
   "cell_type": "code",
   "execution_count": 21,
   "metadata": {},
   "outputs": [
    {
     "output_type": "stream",
     "name": "stdout",
     "text": [
      "[{'label': 'NEGATIVE', 'score': 0.9994285702705383}]\n"
     ]
    }
   ],
   "source": [
    "print(sentiment_analysis(\"not that good\"))\n"
   ]
  },
  {
   "source": [
    "### some portuguese sentiment models to test: \n",
    "* https://github.com/rdenadai/sentiment-analysis-2018-president-election\n",
    "* https://github.com/acardosoj/LeIA"
   ],
   "cell_type": "markdown",
   "metadata": {}
  },
  {
   "cell_type": "code",
   "execution_count": 2,
   "metadata": {},
   "outputs": [],
   "source": [
    "import text_processing as tp"
   ]
  },
  {
   "cell_type": "code",
   "execution_count": 5,
   "metadata": {},
   "outputs": [
    {
     "output_type": "execute_result",
     "data": {
      "text/plain": [
       "'OIiiii esse é um tweet sobre ITSA4 MANOOO http://google.com !!!! As vezes você precisa saber que eu sou mais forte.  você vai trabalhar u/vasdahusdh #EHNOIS '"
      ]
     },
     "metadata": {},
     "execution_count": 5
    }
   ],
   "source": [
    "text = \"\"\"OIiiii    esse é um tweet sobre @ITSA4 MANOOO http://google.com !!!! As vezes você precisa saber que eu sou mais forte. @quando você vai trabalhar u/vasdahusdh #EHNOIS\n",
    "\n",
    "\"\"\"\n",
    "\n",
    "tp.cleaning_tweets(text, \"ITSA4\")"
   ]
  },
  {
   "cell_type": "code",
   "execution_count": 6,
   "metadata": {},
   "outputs": [
    {
     "output_type": "execute_result",
     "data": {
      "text/plain": [
       "'OIiiii esse é um tweet sobre  MANOOO  !!!! As vezes você precisa saber que eu sou mais forte.  você vai trabalhar  #EHNOIS'"
      ]
     },
     "metadata": {},
     "execution_count": 6
    }
   ],
   "source": [
    "tp.clean_text(text)"
   ]
  },
  {
   "cell_type": "code",
   "execution_count": 4,
   "metadata": {},
   "outputs": [],
   "source": [
    "model = tp.SentimentPipeline()"
   ]
  },
  {
   "cell_type": "code",
   "execution_count": 5,
   "metadata": {},
   "outputs": [
    {
     "output_type": "stream",
     "name": "stderr",
     "text": [
      "C:\\ProgramData\\Anaconda3\\lib\\site-packages\\torch\\_tensor.py:575: UserWarning: floor_divide is deprecated, and will be removed in a future version of pytorch. It currently rounds toward 0 (like the 'trunc' function NOT 'floor'). This results in incorrect rounding for negative values.\nTo keep the current behavior, use torch.div(a, b, rounding_mode='trunc'), or for actual floor division, use torch.div(a, b, rounding_mode='floor'). (Triggered internally at  ..\\aten\\src\\ATen\\native\\BinaryOps.cpp:467.)\n  return torch.floor_divide(self, other)\n"
     ]
    }
   ],
   "source": [
    "a = model.process([\"Ola, meu nome é bauer\", \"Vc eh um idiota\"])"
   ]
  },
  {
   "cell_type": "code",
   "execution_count": 9,
   "metadata": {},
   "outputs": [],
   "source": [
    "a = model.calculate_sentiments([\"I'm not happy\", \"I am happy\"])"
   ]
  },
  {
   "cell_type": "code",
   "execution_count": 6,
   "metadata": {},
   "outputs": [
    {
     "output_type": "execute_result",
     "data": {
      "text/plain": [
       "array([[0.07512954, 0.6799247 , 0.24494573],\n",
       "       [0.9686483 , 0.02768651, 0.00366522]], dtype=float32)"
      ]
     },
     "metadata": {},
     "execution_count": 6
    }
   ],
   "source": [
    "a"
   ]
  },
  {
   "cell_type": "code",
   "execution_count": 8,
   "metadata": {},
   "outputs": [],
   "source": [
    "teste = a"
   ]
  },
  {
   "cell_type": "code",
   "execution_count": 12,
   "metadata": {},
   "outputs": [],
   "source": [
    "import numpy as np"
   ]
  },
  {
   "cell_type": "code",
   "execution_count": 22,
   "metadata": {},
   "outputs": [
    {
     "output_type": "execute_result",
     "data": {
      "text/plain": [
       "array([[0.07512954, 0.6799247 , 0.24494573],\n",
       "       [0.9686483 , 0.02768651, 0.00366522],\n",
       "       [0.07512954, 0.6799247 , 0.24494573],\n",
       "       [0.9686483 , 0.02768651, 0.00366522]], dtype=float32)"
      ]
     },
     "metadata": {},
     "execution_count": 22
    }
   ],
   "source": [
    "np.append(teste, a, axis = 0)"
   ]
  },
  {
   "cell_type": "code",
   "execution_count": 38,
   "metadata": {},
   "outputs": [],
   "source": [
    "a = np.arange(1000)"
   ]
  },
  {
   "cell_type": "code",
   "execution_count": 43,
   "metadata": {},
   "outputs": [
    {
     "output_type": "execute_result",
     "data": {
      "text/plain": [
       "15"
      ]
     },
     "metadata": {},
     "execution_count": 43
    }
   ],
   "source": [
    "len(a) // 64"
   ]
  },
  {
   "cell_type": "code",
   "execution_count": 45,
   "metadata": {},
   "outputs": [],
   "source": [
    "a = [[1, 2, 3]]"
   ]
  },
  {
   "cell_type": "code",
   "execution_count": 51,
   "metadata": {},
   "outputs": [],
   "source": [
    "a =np.append(a, a, axis = 0)"
   ]
  },
  {
   "cell_type": "code",
   "execution_count": 53,
   "metadata": {},
   "outputs": [
    {
     "output_type": "execute_result",
     "data": {
      "text/plain": [
       "[array([[1, 2, 3],\n",
       "        [1, 2, 3],\n",
       "        [1, 2, 3],\n",
       "        [1, 2, 3]]),\n",
       " array([[1, 2, 3],\n",
       "        [1, 2, 3],\n",
       "        [1, 2, 3],\n",
       "        [1, 2, 3]])]"
      ]
     },
     "metadata": {},
     "execution_count": 53
    }
   ],
   "source": [
    "np.array_split(a, 2)"
   ]
  },
  {
   "cell_type": "code",
   "execution_count": null,
   "metadata": {},
   "outputs": [],
   "source": [
    "from itertools import zip_longest # for Python 3.x\n"
   ]
  }
 ]
}