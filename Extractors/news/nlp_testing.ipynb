{
 "metadata": {
  "language_info": {
   "codemirror_mode": {
    "name": "ipython",
    "version": 3
   },
   "file_extension": ".py",
   "mimetype": "text/x-python",
   "name": "python",
   "nbconvert_exporter": "python",
   "pygments_lexer": "ipython3",
   "version": "3.8.5"
  },
  "orig_nbformat": 4,
  "kernelspec": {
   "name": "python3",
   "display_name": "Python 3.8.5 64-bit ('base': conda)"
  },
  "interpreter": {
   "hash": "b3ba2566441a7c06988d0923437866b63cedc61552a5af99d1f4fb67d367b25f"
  }
 },
 "nbformat": 4,
 "nbformat_minor": 2,
 "cells": [
  {
   "cell_type": "code",
   "execution_count": 1,
   "metadata": {},
   "outputs": [],
   "source": [
    "from googletrans import Translator\n",
    "translator = Translator()\n"
   ]
  },
  {
   "cell_type": "code",
   "execution_count": 2,
   "metadata": {},
   "outputs": [
    {
     "output_type": "execute_result",
     "data": {
      "text/plain": [
       "'Hi.how are you?'"
      ]
     },
     "metadata": {},
     "execution_count": 2
    }
   ],
   "source": [
    "translator.translate(text = \"olá. como vai vc?\", dest = 'en', src = 'pt').text"
   ]
  },
  {
   "cell_type": "code",
   "execution_count": 3,
   "metadata": {},
   "outputs": [],
   "source": [
    "from nltk.sentiment import SentimentAnalyzer\n",
    "from vaderSentiment.vaderSentiment import SentimentIntensityAnalyzer\n"
   ]
  },
  {
   "cell_type": "code",
   "execution_count": 4,
   "metadata": {},
   "outputs": [],
   "source": [
    "analyzer = SentimentIntensityAnalyzer()"
   ]
  },
  {
   "cell_type": "code",
   "execution_count": 7,
   "metadata": {},
   "outputs": [
    {
     "output_type": "execute_result",
     "data": {
      "text/plain": [
       "{'neg': 0.333, 'neu': 0.667, 'pos': 0.0, 'compound': -0.4585}"
      ]
     },
     "metadata": {},
     "execution_count": 7
    }
   ],
   "source": [
    "analyzer.polarity_scores(\"hi, i am not happy right now\")"
   ]
  },
  {
   "cell_type": "code",
   "execution_count": 10,
   "metadata": {},
   "outputs": [
    {
     "output_type": "execute_result",
     "data": {
      "text/plain": [
       "{'neg': 0.0, 'neu': 1.0, 'pos': 0.0, 'compound': 0.0}"
      ]
     },
     "metadata": {},
     "execution_count": 10
    }
   ],
   "source": [
    "analyzer.polarity_scores(\"GME prices are going very high\")"
   ]
  },
  {
   "cell_type": "code",
   "execution_count": 11,
   "metadata": {},
   "outputs": [
    {
     "output_type": "execute_result",
     "data": {
      "text/plain": [
       "{'neg': 0.0, 'neu': 0.621, 'pos': 0.379, 'compound': 0.6705}"
      ]
     },
     "metadata": {},
     "execution_count": 11
    }
   ],
   "source": [
    "analyzer.polarity_scores(\"We maybe have found some good opportunities to invest ina FII\")"
   ]
  },
  {
   "cell_type": "code",
   "execution_count": 13,
   "metadata": {},
   "outputs": [
    {
     "output_type": "execute_result",
     "data": {
      "text/plain": [
       "{'neg': 0.0, 'neu': 0.64, 'pos': 0.36, 'compound': 0.5423}"
      ]
     },
     "metadata": {},
     "execution_count": 13
    }
   ],
   "source": [
    "analyzer.polarity_scores(translator.translate(text = \"Temos visto uma crescente oportunidade para investir em FIIs\", dest = 'en', src = 'pt').text)"
   ]
  },
  {
   "cell_type": "code",
   "execution_count": 14,
   "metadata": {},
   "outputs": [
    {
     "output_type": "execute_result",
     "data": {
      "text/plain": [
       "{'neg': 0.0, 'neu': 1.0, 'pos': 0.0, 'compound': 0.0}"
      ]
     },
     "metadata": {},
     "execution_count": 14
    }
   ],
   "source": [
    "analyzer.polarity_scores(translator.translate(text = \"Queda recente no valuation de FIIs nos faz desistir da ideia\", dest = 'en', src = 'pt').text)\n"
   ]
  },
  {
   "cell_type": "code",
   "execution_count": 18,
   "metadata": {},
   "outputs": [
    {
     "output_type": "execute_result",
     "data": {
      "text/plain": [
       "{'neg': 0.0, 'neu': 1.0, 'pos': 0.0, 'compound': 0.0}"
      ]
     },
     "metadata": {},
     "execution_count": 18
    }
   ],
   "source": [
    "analyzer.polarity_scores(translator.translate(text = \"Queda recente nos FIIs nos faz não investir nela\", dest = 'en', src = 'pt').text)"
   ]
  },
  {
   "cell_type": "code",
   "execution_count": 26,
   "metadata": {},
   "outputs": [
    {
     "output_type": "execute_result",
     "data": {
      "text/plain": [
       "{'neg': 0.383, 'neu': 0.617, 'pos': 0.0, 'compound': -0.4767}"
      ]
     },
     "metadata": {},
     "execution_count": 26
    }
   ],
   "source": [
    "analyzer.polarity_scores(translator.translate(text = \"Esses fundos de investimento possuem péssimo desempenho\", dest = 'en', src = 'pt').text)"
   ]
  },
  {
   "cell_type": "code",
   "execution_count": 25,
   "metadata": {},
   "outputs": [
    {
     "output_type": "execute_result",
     "data": {
      "text/plain": [
       "'These investment funds have poor performance'"
      ]
     },
     "metadata": {},
     "execution_count": 25
    }
   ],
   "source": [
    "translator.translate(text = \"Esses fundos de investimento possuem péssimo desempenho\", dest = 'en', src = 'pt').text"
   ]
  },
  {
   "cell_type": "code",
   "execution_count": 27,
   "metadata": {},
   "outputs": [
    {
     "output_type": "execute_result",
     "data": {
      "text/plain": [
       "{'neg': 0.333, 'neu': 0.667, 'pos': 0.0, 'compound': -0.3612}"
      ]
     },
     "metadata": {},
     "execution_count": 27
    }
   ],
   "source": [
    "analyzer.polarity_scores(translator.translate(text = \"Os preços das ações de PETR4 tem caído significativamente\", dest = 'en', src = 'pt').text)"
   ]
  },
  {
   "cell_type": "code",
   "execution_count": null,
   "metadata": {},
   "outputs": [],
   "source": []
  },
  {
   "source": [
    "### some portuguese sentiment models to test: \n",
    "* https://github.com/rdenadai/sentiment-analysis-2018-president-election\n",
    "* https://github.com/acardosoj/LeIA"
   ],
   "cell_type": "markdown",
   "metadata": {}
  },
  {
   "cell_type": "code",
   "execution_count": null,
   "metadata": {},
   "outputs": [],
   "source": []
  },
  {
   "cell_type": "code",
   "execution_count": null,
   "metadata": {},
   "outputs": [],
   "source": []
  },
  {
   "cell_type": "code",
   "execution_count": null,
   "metadata": {},
   "outputs": [],
   "source": []
  }
 ]
}