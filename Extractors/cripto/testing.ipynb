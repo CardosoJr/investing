{
 "metadata": {
  "language_info": {
   "codemirror_mode": {
    "name": "ipython",
    "version": 3
   },
   "file_extension": ".py",
   "mimetype": "text/x-python",
   "name": "python",
   "nbconvert_exporter": "python",
   "pygments_lexer": "ipython3",
   "version": "3.8.5-final"
  },
  "orig_nbformat": 2,
  "kernelspec": {
   "name": "python3",
   "display_name": "Python 3",
   "language": "python"
  }
 },
 "nbformat": 4,
 "nbformat_minor": 2,
 "cells": [
  {
   "cell_type": "code",
   "execution_count": 1,
   "metadata": {},
   "outputs": [],
   "source": [
    "import pandas as pd "
   ]
  },
  {
   "cell_type": "code",
   "execution_count": 12,
   "metadata": {},
   "outputs": [],
   "source": [
    "rankings = pd.read_csv('ticker_ranking.csv')\n",
    "tickers = pd.read_csv('tickers.csv')"
   ]
  },
  {
   "cell_type": "code",
   "execution_count": 16,
   "metadata": {},
   "outputs": [
    {
     "output_type": "execute_result",
     "data": {
      "text/plain": [
       "  Symbol       Name\n",
       "0     42    42 Coin\n",
       "1    300  300 token\n",
       "2    365    365Coin\n",
       "3    404    404Coin\n",
       "4    433  433 Token"
      ],
      "text/html": "<div>\n<style scoped>\n    .dataframe tbody tr th:only-of-type {\n        vertical-align: middle;\n    }\n\n    .dataframe tbody tr th {\n        vertical-align: top;\n    }\n\n    .dataframe thead th {\n        text-align: right;\n    }\n</style>\n<table border=\"1\" class=\"dataframe\">\n  <thead>\n    <tr style=\"text-align: right;\">\n      <th></th>\n      <th>Symbol</th>\n      <th>Name</th>\n    </tr>\n  </thead>\n  <tbody>\n    <tr>\n      <th>0</th>\n      <td>42</td>\n      <td>42 Coin</td>\n    </tr>\n    <tr>\n      <th>1</th>\n      <td>300</td>\n      <td>300 token</td>\n    </tr>\n    <tr>\n      <th>2</th>\n      <td>365</td>\n      <td>365Coin</td>\n    </tr>\n    <tr>\n      <th>3</th>\n      <td>404</td>\n      <td>404Coin</td>\n    </tr>\n    <tr>\n      <th>4</th>\n      <td>433</td>\n      <td>433 Token</td>\n    </tr>\n  </tbody>\n</table>\n</div>"
     },
     "metadata": {},
     "execution_count": 16
    }
   ],
   "source": [
    "tickers.head()"
   ]
  },
  {
   "cell_type": "code",
   "execution_count": 2,
   "metadata": {},
   "outputs": [],
   "source": [
    "from fuzzywuzzy import fuzz\n",
    "import operator\n",
    "import itertools\n"
   ]
  },
  {
   "cell_type": "code",
   "execution_count": 23,
   "metadata": {},
   "outputs": [],
   "source": [
    "score_threshold = 85\n",
    "\n",
    "combinations = list(itertools.product(rankings['Currency Name'].values.ravel(), tickers['Name'].values.ravel()))\n",
    "scores = {x: fuzz.ratio(x[0], x[1]) for x in combinations}\n",
    "matches = [max({k:v for k,v in scores.items() if k[0] == x}.items(), key=operator.itemgetter(1)) for x in rankings['Currency Name'].values.ravel()]\n",
    "matches = {x[0][0]:x[0][1] for x in matches if x[1] >= score_threshold}"
   ]
  },
  {
   "cell_type": "code",
   "execution_count": 29,
   "metadata": {},
   "outputs": [],
   "source": [
    "not_found = list(set(rankings['Currency Name'].values.ravel()) - set(matches.keys()))\n",
    "not_found = {x:x for x in not_found}\n",
    "\n",
    "matches = dict(**matches, **not_found)"
   ]
  },
  {
   "cell_type": "code",
   "execution_count": 30,
   "metadata": {},
   "outputs": [],
   "source": [
    "rankings['Currency Name'] = rankings['Currency Name'].apply(lambda x: matches[x])"
   ]
  },
  {
   "cell_type": "code",
   "execution_count": 36,
   "metadata": {},
   "outputs": [],
   "source": [
    "ticker_dict = {x[0]:x[1] for x in tickers[['Name', 'Symbol']].values}"
   ]
  },
  {
   "cell_type": "code",
   "execution_count": 49,
   "metadata": {},
   "outputs": [],
   "source": [
    "rankings['Ticker'] = rankings['Currency Name'].apply(lambda x: ticker_dict[x] if x in ticker_dict.keys() else \"NOT_FOUND\")"
   ]
  },
  {
   "cell_type": "code",
   "execution_count": 51,
   "metadata": {},
   "outputs": [],
   "source": [
    "rankings.to_csv('ticker_ranking.csv', index = False)"
   ]
  },
  {
   "cell_type": "code",
   "execution_count": 2,
   "metadata": {},
   "outputs": [],
   "source": [
    "import binance_api"
   ]
  },
  {
   "cell_type": "code",
   "execution_count": 3,
   "metadata": {},
   "outputs": [],
   "source": [
    "api = binance_api.Binance(\"config.yaml\")"
   ]
  },
  {
   "cell_type": "code",
   "execution_count": 4,
   "metadata": {},
   "outputs": [
    {
     "output_type": "execute_result",
     "data": {
      "text/plain": [
       "   timestamp            open            high             low           close  \\\n",
       "0 2021-02-08  38860.36000000  47500.00000000  37000.00000000  46452.01000000   \n",
       "1 2021-02-09  46457.14000000  48216.56000000  45000.00000000  46488.27000000   \n",
       "2 2021-02-10  46480.68000000  47379.74000000  43741.91000000  44858.18000000   \n",
       "3 2021-02-11  44844.88000000  48692.99000000  44007.78000000  47997.30000000   \n",
       "4 2021-02-12  48007.40000000  48999.00000000  46191.22000000  47446.08000000   \n",
       "\n",
       "          volume     close_time            quote_av  trades     tb_base_av  \\\n",
       "0  4452.16061300  1612828799999  189569359.35988677   81315  2484.57905800   \n",
       "1  4025.38658900  1612915199999  187837003.25450567   75108  2240.67414800   \n",
       "2  3472.69011600  1613001599999  158239756.02866267   68657  1882.16539400   \n",
       "3  2685.78931500  1613087999999  126042879.34257909   51625  1420.73495500   \n",
       "4  3020.94994800  1613174399999  143659169.96995944   55955  1626.35086600   \n",
       "\n",
       "          tb_quote_av ignore  \n",
       "0  106072171.68883256      0  \n",
       "1  104600014.11159628      0  \n",
       "2   85740614.95112431      0  \n",
       "3   66757929.03364827      0  \n",
       "4   77407789.42839803      0  "
      ],
      "text/html": "<div>\n<style scoped>\n    .dataframe tbody tr th:only-of-type {\n        vertical-align: middle;\n    }\n\n    .dataframe tbody tr th {\n        vertical-align: top;\n    }\n\n    .dataframe thead th {\n        text-align: right;\n    }\n</style>\n<table border=\"1\" class=\"dataframe\">\n  <thead>\n    <tr style=\"text-align: right;\">\n      <th></th>\n      <th>timestamp</th>\n      <th>open</th>\n      <th>high</th>\n      <th>low</th>\n      <th>close</th>\n      <th>volume</th>\n      <th>close_time</th>\n      <th>quote_av</th>\n      <th>trades</th>\n      <th>tb_base_av</th>\n      <th>tb_quote_av</th>\n      <th>ignore</th>\n    </tr>\n  </thead>\n  <tbody>\n    <tr>\n      <th>0</th>\n      <td>2021-02-08</td>\n      <td>38860.36000000</td>\n      <td>47500.00000000</td>\n      <td>37000.00000000</td>\n      <td>46452.01000000</td>\n      <td>4452.16061300</td>\n      <td>1612828799999</td>\n      <td>189569359.35988677</td>\n      <td>81315</td>\n      <td>2484.57905800</td>\n      <td>106072171.68883256</td>\n      <td>0</td>\n    </tr>\n    <tr>\n      <th>1</th>\n      <td>2021-02-09</td>\n      <td>46457.14000000</td>\n      <td>48216.56000000</td>\n      <td>45000.00000000</td>\n      <td>46488.27000000</td>\n      <td>4025.38658900</td>\n      <td>1612915199999</td>\n      <td>187837003.25450567</td>\n      <td>75108</td>\n      <td>2240.67414800</td>\n      <td>104600014.11159628</td>\n      <td>0</td>\n    </tr>\n    <tr>\n      <th>2</th>\n      <td>2021-02-10</td>\n      <td>46480.68000000</td>\n      <td>47379.74000000</td>\n      <td>43741.91000000</td>\n      <td>44858.18000000</td>\n      <td>3472.69011600</td>\n      <td>1613001599999</td>\n      <td>158239756.02866267</td>\n      <td>68657</td>\n      <td>1882.16539400</td>\n      <td>85740614.95112431</td>\n      <td>0</td>\n    </tr>\n    <tr>\n      <th>3</th>\n      <td>2021-02-11</td>\n      <td>44844.88000000</td>\n      <td>48692.99000000</td>\n      <td>44007.78000000</td>\n      <td>47997.30000000</td>\n      <td>2685.78931500</td>\n      <td>1613087999999</td>\n      <td>126042879.34257909</td>\n      <td>51625</td>\n      <td>1420.73495500</td>\n      <td>66757929.03364827</td>\n      <td>0</td>\n    </tr>\n    <tr>\n      <th>4</th>\n      <td>2021-02-12</td>\n      <td>48007.40000000</td>\n      <td>48999.00000000</td>\n      <td>46191.22000000</td>\n      <td>47446.08000000</td>\n      <td>3020.94994800</td>\n      <td>1613174399999</td>\n      <td>143659169.96995944</td>\n      <td>55955</td>\n      <td>1626.35086600</td>\n      <td>77407789.42839803</td>\n      <td>0</td>\n    </tr>\n  </tbody>\n</table>\n</div>"
     },
     "metadata": {},
     "execution_count": 4
    }
   ],
   "source": [
    "api.get_binance_data(\"BTCUSDC\", \"1d\", \"08 Feb 2021\", \"12 Feb 2021\")"
   ]
  },
  {
   "cell_type": "code",
   "execution_count": 5,
   "metadata": {},
   "outputs": [],
   "source": [
    "teste = {'btc' : 0.2, \"eth\" : 0.3, \"kkk\" : 0.4}"
   ]
  },
  {
   "cell_type": "code",
   "execution_count": 16,
   "metadata": {},
   "outputs": [
    {
     "output_type": "execute_result",
     "data": {
      "text/plain": [
       "  index  volume\n",
       "0   btc     0.2\n",
       "1   eth     0.3\n",
       "2   kkk     0.4"
      ],
      "text/html": "<div>\n<style scoped>\n    .dataframe tbody tr th:only-of-type {\n        vertical-align: middle;\n    }\n\n    .dataframe tbody tr th {\n        vertical-align: top;\n    }\n\n    .dataframe thead th {\n        text-align: right;\n    }\n</style>\n<table border=\"1\" class=\"dataframe\">\n  <thead>\n    <tr style=\"text-align: right;\">\n      <th></th>\n      <th>index</th>\n      <th>volume</th>\n    </tr>\n  </thead>\n  <tbody>\n    <tr>\n      <th>0</th>\n      <td>btc</td>\n      <td>0.2</td>\n    </tr>\n    <tr>\n      <th>1</th>\n      <td>eth</td>\n      <td>0.3</td>\n    </tr>\n    <tr>\n      <th>2</th>\n      <td>kkk</td>\n      <td>0.4</td>\n    </tr>\n  </tbody>\n</table>\n</div>"
     },
     "metadata": {},
     "execution_count": 16
    }
   ],
   "source": [
    "pd.DataFrame.from_dict(teste, orient = 'index',columns = [ 'volume']).reset_index()"
   ]
  },
  {
   "cell_type": "code",
   "execution_count": 2,
   "metadata": {},
   "outputs": [],
   "source": [
    "import get_top_cripto"
   ]
  },
  {
   "cell_type": "code",
   "execution_count": 3,
   "metadata": {
    "tags": [
     "outputPrepend"
    ]
   },
   "outputs": [
    {
     "output_type": "stream",
     "name": "stderr",
     "text": [
      " 3.30it/s]could get data from GOLOS\n",
      " 50%|████▉     | 269/542 [01:32<01:22,  3.31it/s]could get data from GRC\n",
      " 50%|████▉     | 270/542 [01:32<01:22,  3.30it/s]could get data from GRT\n",
      " 50%|█████     | 271/542 [01:33<01:21,  3.31it/s]could get data from GRWI\n",
      " 50%|█████     | 272/542 [01:33<01:22,  3.29it/s]could get data from GTC\n",
      " 51%|█████     | 274/542 [01:34<01:38,  2.71it/s]could get data from GUP\n",
      " 51%|█████     | 275/542 [01:34<01:33,  2.86it/s]could get data from GVT\n",
      " 51%|█████     | 276/542 [01:35<01:29,  2.98it/s]could get data from GXS\n",
      " 51%|█████     | 277/542 [01:35<01:26,  3.07it/s]could get data from HBN\n",
      " 51%|█████▏    | 278/542 [01:35<01:24,  3.14it/s]could get data from HEAT\n",
      " 51%|█████▏    | 279/542 [01:35<01:22,  3.17it/s]could get data from HMQ\n",
      " 52%|█████▏    | 280/542 [01:36<01:21,  3.21it/s]could get data from HPB\n",
      " 52%|█████▏    | 281/542 [01:36<01:20,  3.23it/s]could get data from HSR\n",
      " 52%|█████▏    | 282/542 [01:37<01:46,  2.44it/s]could get data from HUSH\n",
      " 52%|█████▏    | 283/542 [01:37<01:38,  2.64it/s]could get data from HVN\n",
      " 52%|█████▏    | 284/542 [01:38<01:57,  2.19it/s]could get data from HXX\n",
      " 53%|█████▎    | 285/542 [01:38<01:45,  2.43it/s]could get data from ICN\n",
      " 53%|█████▎    | 286/542 [01:38<01:36,  2.64it/s]could get data from IFC\n",
      " 53%|█████▎    | 287/542 [01:39<01:30,  2.81it/s]could get data from IFT\n",
      " 53%|█████▎    | 288/542 [01:39<01:52,  2.27it/s]could get data from INCNT\n",
      " 53%|█████▎    | 289/542 [01:39<01:40,  2.51it/s]could get data from IND\n",
      " 54%|█████▎    | 290/542 [01:40<01:33,  2.71it/s]could get data from INF\n",
      " 54%|█████▎    | 291/542 [01:40<01:53,  2.21it/s]could get data from INK\n",
      " 54%|█████▍    | 292/542 [01:41<01:41,  2.45it/s]could get data from INS\n",
      " 54%|█████▍    | 293/542 [01:41<01:58,  2.09it/s]could get data from INSTAR\n",
      " 54%|█████▍    | 294/542 [01:42<01:45,  2.35it/s]could get data from INT\n",
      " 54%|█████▍    | 295/542 [01:42<01:35,  2.58it/s]could get data from INXT\n",
      " 55%|█████▍    | 296/542 [01:42<01:28,  2.77it/s]could get data from IOC\n",
      " 55%|█████▍    | 297/542 [01:43<01:23,  2.92it/s]could get data from ION\n",
      " 55%|█████▍    | 298/542 [01:43<01:20,  3.02it/s]could get data from IOP\n",
      " 55%|█████▌    | 299/542 [01:43<01:18,  3.10it/s]could get data from IQT\n",
      " 55%|█████▌    | 300/542 [01:43<01:16,  3.15it/s]could get data from ITC\n",
      " 56%|█████▌    | 301/542 [01:44<01:15,  3.17it/s]could get data from IXC\n",
      " 56%|█████▌    | 302/542 [01:44<01:15,  3.19it/s]could get data from IXT\n",
      " 56%|█████▌    | 303/542 [01:44<01:14,  3.22it/s]could get data from J8T\n",
      " 56%|█████▌    | 304/542 [01:45<01:13,  3.25it/s]could get data from JNT\n",
      " 56%|█████▋    | 305/542 [01:45<01:36,  2.45it/s]could get data from KCS\n",
      " 56%|█████▋    | 306/542 [01:46<01:28,  2.65it/s]could get data from KICK\n",
      " 57%|█████▋    | 307/542 [01:46<01:23,  2.82it/s]could get data from KORE\n",
      " 57%|█████▋    | 308/542 [01:46<01:19,  2.96it/s]could get data from LCC\n",
      " 57%|█████▋    | 309/542 [01:47<01:16,  3.03it/s]could get data from LEND\n",
      " 57%|█████▋    | 310/542 [01:47<01:14,  3.12it/s]could get data from LEV\n",
      " 57%|█████▋    | 311/542 [01:47<01:13,  3.14it/s]could get data from LGD\n",
      " 58%|█████▊    | 312/542 [01:47<01:12,  3.19it/s]could get data from LINDA\n",
      " 58%|█████▊    | 313/542 [01:48<01:12,  3.16it/s]could get data from LKK\n",
      " 58%|█████▊    | 314/542 [01:48<01:12,  3.16it/s]could get data from LMC\n",
      " 58%|█████▊    | 315/542 [01:48<01:11,  3.19it/s]could get data from LOCI\n",
      " 58%|█████▊    | 316/542 [01:49<01:10,  3.22it/s]could get data from LOOM\n",
      " 58%|█████▊    | 317/542 [01:49<01:09,  3.24it/s]could get data from LUN\n",
      " 59%|█████▊    | 318/542 [01:49<01:08,  3.26it/s]could get data from MAX\n",
      " 59%|█████▉    | 319/542 [01:50<01:08,  3.28it/s]could get data from MBRS\n",
      " 59%|█████▉    | 320/542 [01:50<01:07,  3.29it/s]could get data from MCAP\n",
      " 59%|█████▉    | 321/542 [01:50<01:06,  3.30it/s]could get data from MCO\n",
      " 59%|█████▉    | 322/542 [01:51<01:06,  3.30it/s]could get data from MDA\n",
      " 60%|█████▉    | 323/542 [01:51<01:06,  3.30it/s]could get data from MEC\n",
      " 60%|█████▉    | 324/542 [01:51<01:06,  3.30it/s]could get data from MED\n",
      " 60%|█████▉    | 325/542 [01:51<01:05,  3.32it/s]could get data from MEME\n",
      " 60%|██████    | 326/542 [01:52<01:05,  3.31it/s]could get data from MER\n",
      " 60%|██████    | 327/542 [01:52<01:05,  3.30it/s]could get data from MGC\n",
      " 61%|██████    | 328/542 [01:52<01:04,  3.30it/s]could get data from MGO\n",
      " 61%|██████    | 329/542 [01:53<01:04,  3.30it/s]could get data from MINEX\n",
      " 61%|██████    | 330/542 [01:53<01:04,  3.31it/s]could get data from MINT\n",
      " 61%|██████    | 331/542 [01:53<01:03,  3.31it/s]could get data from MITH\n",
      " 61%|██████▏   | 332/542 [01:54<01:03,  3.30it/s]could get data from MNE\n",
      " 61%|██████▏   | 333/542 [01:54<01:03,  3.30it/s]could get data from MNX\n",
      " 62%|██████▏   | 334/542 [01:54<01:02,  3.31it/s]could get data from MOD\n",
      " 62%|██████▏   | 335/542 [01:54<01:02,  3.31it/s]could get data from MRT\n",
      " 62%|██████▏   | 336/542 [01:55<01:02,  3.31it/s]could get data from MSP\n",
      " 62%|██████▏   | 337/542 [01:55<01:02,  3.30it/s]could get data from MTH\n",
      " 62%|██████▏   | 338/542 [01:55<01:01,  3.31it/s]could get data from MTN\n",
      " 63%|██████▎   | 339/542 [01:56<01:01,  3.30it/s]could get data from MUE\n",
      " 63%|██████▎   | 340/542 [01:56<01:00,  3.31it/s]could get data from MUSIC\n",
      " 63%|██████▎   | 341/542 [01:57<01:20,  2.48it/s]could get data from MYB\n",
      " 63%|██████▎   | 342/542 [01:57<01:14,  2.68it/s]could get data from MYST\n",
      " 63%|██████▎   | 343/542 [01:57<01:10,  2.84it/s]could get data from MZC\n",
      " 63%|██████▎   | 344/542 [01:58<01:06,  2.97it/s]could get data from NAMO\n",
      " 64%|██████▎   | 345/542 [01:58<01:04,  3.05it/s]could get data from NAS\n",
      " 64%|██████▍   | 346/542 [01:58<01:02,  3.13it/s]could get data from NBT\n",
      " 64%|██████▍   | 347/542 [01:58<01:01,  3.16it/s]could get data from NCASH\n",
      " 64%|██████▍   | 348/542 [01:59<01:00,  3.19it/s]could get data from NDC\n",
      " 64%|██████▍   | 349/542 [01:59<00:59,  3.24it/s]could get data from NEBL\n",
      " 65%|██████▍   | 350/542 [01:59<00:58,  3.27it/s]could get data from NEOS\n",
      " 65%|██████▍   | 351/542 [02:00<00:58,  3.28it/s]could get data from NLC2\n",
      " 65%|██████▍   | 352/542 [02:00<00:58,  3.26it/s]could get data from NLG\n",
      " 65%|██████▌   | 353/542 [02:00<00:57,  3.27it/s]could get data from NMC\n",
      " 65%|██████▌   | 354/542 [02:01<00:57,  3.28it/s]could get data from NOBL\n",
      " 65%|██████▌   | 355/542 [02:01<00:57,  3.27it/s]could get data from NOTE\n",
      " 66%|██████▌   | 357/542 [02:02<01:08,  2.71it/s]could get data from NSR\n",
      " 66%|██████▌   | 358/542 [02:02<01:04,  2.85it/s]could get data from NTO\n",
      " 66%|██████▌   | 359/542 [02:02<01:01,  2.97it/s]could get data from NVC\n",
      " 66%|██████▋   | 360/542 [02:03<00:59,  3.06it/s]could get data from NXC\n",
      " 67%|██████▋   | 361/542 [02:03<00:57,  3.13it/s]could get data from NXT\n",
      " 67%|██████▋   | 362/542 [02:03<00:57,  3.16it/s]could get data from OAX\n",
      " 67%|██████▋   | 363/542 [02:04<00:55,  3.20it/s]could get data from OBITS\n",
      " 67%|██████▋   | 364/542 [02:04<00:55,  3.23it/s]could get data from OCL\n",
      " 67%|██████▋   | 365/542 [02:04<00:54,  3.25it/s]could get data from OCN\n",
      " 68%|██████▊   | 366/542 [02:05<00:54,  3.26it/s]could get data from ODEM\n",
      " 68%|██████▊   | 367/542 [02:05<00:53,  3.25it/s]could get data from ODN\n",
      " 68%|██████▊   | 368/542 [02:05<00:53,  3.25it/s]could get data from OF\n",
      " 68%|██████▊   | 369/542 [02:05<00:53,  3.21it/s]could get data from OK\n",
      " 68%|██████▊   | 370/542 [02:06<00:53,  3.21it/s]could get data from OMNI\n",
      " 68%|██████▊   | 371/542 [02:06<00:52,  3.24it/s]could get data from ONION\n",
      " 69%|██████▊   | 372/542 [02:06<00:52,  3.26it/s]could get data from OPT\n",
      " 69%|██████▉   | 373/542 [02:07<00:51,  3.26it/s]could get data from OST\n",
      " 69%|██████▉   | 374/542 [02:07<00:51,  3.27it/s]could get data from PART\n",
      " 69%|██████▉   | 375/542 [02:07<00:50,  3.28it/s]could get data from PASC\n",
      " 69%|██████▉   | 376/542 [02:08<00:50,  3.28it/s]could get data from PAY\n",
      " 70%|██████▉   | 377/542 [02:08<00:50,  3.28it/s]could get data from PBL\n",
      " 70%|██████▉   | 378/542 [02:08<00:49,  3.29it/s]could get data from PBT\n",
      " 70%|██████▉   | 379/542 [02:09<00:49,  3.31it/s]could get data from PFR\n",
      " 70%|███████   | 380/542 [02:09<00:49,  3.29it/s]could get data from PING\n",
      " 70%|███████   | 381/542 [02:09<00:48,  3.30it/s]could get data from PINK\n",
      " 70%|███████   | 382/542 [02:09<00:48,  3.31it/s]could get data from PIX\n",
      " 71%|███████   | 383/542 [02:10<00:47,  3.31it/s]could get data from PLBT\n",
      " 71%|███████   | 384/542 [02:10<00:48,  3.28it/s]could get data from PLR\n",
      " 71%|███████   | 385/542 [02:10<00:47,  3.28it/s]could get data from PLU\n",
      " 71%|███████   | 386/542 [02:11<00:47,  3.29it/s]could get data from POA\n",
      " 71%|███████▏  | 387/542 [02:11<00:46,  3.32it/s]could get data from POE\n",
      " 72%|███████▏  | 388/542 [02:11<00:46,  3.33it/s]could get data from POSW\n",
      " 72%|███████▏  | 389/542 [02:12<00:45,  3.33it/s]could get data from POT\n",
      " 72%|███████▏  | 390/542 [02:12<00:45,  3.33it/s]could get data from PPC\n",
      " 72%|███████▏  | 391/542 [02:12<00:45,  3.33it/s]could get data from PPY\n",
      " 72%|███████▏  | 392/542 [02:12<00:45,  3.33it/s]could get data from PRG\n",
      " 73%|███████▎  | 393/542 [02:13<00:44,  3.33it/s]could get data from PRL\n",
      " 73%|███████▎  | 394/542 [02:13<00:44,  3.31it/s]could get data from PRO\n",
      " 73%|███████▎  | 395/542 [02:13<00:44,  3.32it/s]could get data from PST\n",
      " 73%|███████▎  | 396/542 [02:14<00:44,  3.32it/s]could get data from PTC\n",
      " 73%|███████▎  | 397/542 [02:14<00:44,  3.28it/s]could get data from PTOY\n",
      " 73%|███████▎  | 398/542 [02:14<00:44,  3.26it/s]could get data from PURA\n",
      " 74%|███████▎  | 399/542 [02:15<00:43,  3.28it/s]could get data from QASH\n",
      " 74%|███████▍  | 400/542 [02:15<00:43,  3.29it/s]could get data from QAU\n",
      " 74%|███████▍  | 401/542 [02:15<00:42,  3.30it/s]could get data from QLC\n",
      " 74%|███████▍  | 402/542 [02:15<00:42,  3.31it/s]could get data from QRK\n",
      " 74%|███████▍  | 403/542 [02:16<00:41,  3.32it/s]could get data from QTL\n",
      " 75%|███████▍  | 404/542 [02:16<00:42,  3.27it/s]could get data from QWARK\n",
      " 75%|███████▍  | 405/542 [02:16<00:41,  3.28it/s]could get data from RADS\n",
      " 75%|███████▍  | 406/542 [02:17<00:41,  3.28it/s]could get data from RAIN\n",
      " 75%|███████▌  | 407/542 [02:17<00:40,  3.30it/s]could get data from RBIES\n",
      " 75%|███████▌  | 408/542 [02:17<00:40,  3.31it/s]could get data from RBX\n",
      " 75%|███████▌  | 409/542 [02:18<00:40,  3.31it/s]could get data from RBY\n",
      " 76%|███████▌  | 410/542 [02:18<00:39,  3.32it/s]could get data from RDN\n",
      " 76%|███████▌  | 411/542 [02:18<00:39,  3.32it/s]could get data from REC\n",
      " 76%|███████▌  | 412/542 [02:18<00:39,  3.33it/s]could get data from RED\n",
      " 76%|███████▌  | 413/542 [02:19<00:38,  3.33it/s]could get data from RHOC\n",
      " 76%|███████▋  | 414/542 [02:19<00:38,  3.34it/s]could get data from RIC\n",
      " 77%|███████▋  | 415/542 [02:19<00:38,  3.34it/s]could get data from RISE\n",
      " 77%|███████▋  | 416/542 [02:20<00:37,  3.34it/s]could get data from RLC\n",
      " 77%|███████▋  | 417/542 [02:20<00:37,  3.34it/s]could get data from RLT\n",
      " 77%|███████▋  | 418/542 [02:20<00:37,  3.35it/s]could get data from RPX\n",
      " 77%|███████▋  | 419/542 [02:21<00:36,  3.33it/s]could get data from RRT\n",
      " 77%|███████▋  | 420/542 [02:21<00:36,  3.31it/s]could get data from RUFF\n",
      " 78%|███████▊  | 421/542 [02:21<00:36,  3.29it/s]could get data from RUP\n",
      " 78%|███████▊  | 422/542 [02:21<00:36,  3.30it/s]could get data from RVT\n",
      " 78%|███████▊  | 423/542 [02:22<00:35,  3.31it/s]could get data from SAFEX\n",
      " 78%|███████▊  | 424/542 [02:22<00:35,  3.32it/s]could get data from SAN\n",
      " 78%|███████▊  | 425/542 [02:22<00:35,  3.33it/s]could get data from SBD\n",
      " 79%|███████▊  | 426/542 [02:23<00:34,  3.34it/s]could get data from SBTC\n",
      " 79%|███████▉  | 427/542 [02:23<00:34,  3.30it/s]could get data from SEELE\n",
      " 79%|███████▉  | 428/542 [02:23<00:34,  3.29it/s]could get data from SEQ\n",
      " 79%|███████▉  | 429/542 [02:24<00:34,  3.29it/s]could get data from SHIFT\n",
      " 79%|███████▉  | 430/542 [02:24<00:34,  3.29it/s]could get data from SIB\n",
      " 80%|███████▉  | 431/542 [02:24<00:33,  3.30it/s]could get data from SIGMA\n",
      " 80%|███████▉  | 432/542 [02:25<00:33,  3.29it/s]could get data from SIGT\n",
      " 80%|███████▉  | 433/542 [02:25<00:33,  3.29it/s]could get data from SJCX\n",
      " 80%|████████  | 434/542 [02:25<00:32,  3.31it/s]could get data from SKIN\n",
      " 80%|████████  | 435/542 [02:25<00:32,  3.31it/s]could get data from SKY\n",
      " 80%|████████  | 436/542 [02:26<00:31,  3.32it/s]could get data from SLR\n",
      " 81%|████████  | 437/542 [02:26<00:31,  3.33it/s]could get data from SLS\n",
      " 81%|████████  | 438/542 [02:26<00:31,  3.32it/s]could get data from SMART\n",
      " 81%|████████  | 439/542 [02:27<00:30,  3.33it/s]could get data from SMT\n",
      " 81%|████████  | 440/542 [02:27<00:30,  3.32it/s]could get data from SNC\n",
      " 81%|████████▏ | 441/542 [02:27<00:30,  3.32it/s]could get data from SNGLS\n",
      " 82%|████████▏ | 442/542 [02:28<00:30,  3.31it/s]could get data from SNM\n",
      " 82%|████████▏ | 443/542 [02:28<00:29,  3.32it/s]could get data from SNRG\n",
      " 82%|████████▏ | 444/542 [02:28<00:29,  3.32it/s]could get data from SNT\n",
      " 82%|████████▏ | 445/542 [02:28<00:29,  3.31it/s]could get data from SOC\n",
      " 82%|████████▏ | 446/542 [02:29<00:28,  3.31it/s]could get data from SOUL\n",
      " 82%|████████▏ | 447/542 [02:29<00:28,  3.31it/s]could get data from SPANK\n",
      " 83%|████████▎ | 448/542 [02:29<00:28,  3.31it/s]could get data from SPC\n",
      " 83%|████████▎ | 449/542 [02:30<00:27,  3.32it/s]could get data from SPHR\n",
      " 83%|████████▎ | 450/542 [02:30<00:27,  3.31it/s]could get data from SPR\n",
      " 83%|████████▎ | 451/542 [02:30<00:27,  3.31it/s]could get data from SRN\n",
      " 83%|████████▎ | 452/542 [02:31<00:27,  3.30it/s]could get data from START\n",
      " 84%|████████▎ | 453/542 [02:31<00:26,  3.31it/s]could get data from STK\n",
      " 84%|████████▍ | 454/542 [02:31<00:26,  3.31it/s]could get data from STORM\n",
      " 84%|████████▍ | 455/542 [02:31<00:26,  3.32it/s]could get data from STQ\n",
      " 84%|████████▍ | 456/542 [02:32<00:26,  3.30it/s]could get data from STX\n",
      " 84%|████████▍ | 457/542 [02:32<00:25,  3.30it/s]could get data from SUB\n",
      " 85%|████████▍ | 458/542 [02:32<00:25,  3.30it/s]could get data from SWFTC\n",
      " 85%|████████▍ | 459/542 [02:33<00:25,  3.29it/s]could get data from SWIFT\n",
      " 85%|████████▍ | 460/542 [02:33<00:25,  3.27it/s]could get data from SWT\n",
      " 85%|████████▌ | 461/542 [02:33<00:24,  3.28it/s]could get data from SYNX\n",
      " 85%|████████▌ | 462/542 [02:34<00:24,  3.27it/s]could get data from TAAS\n",
      " 85%|████████▌ | 463/542 [02:34<00:24,  3.27it/s]could get data from TAU\n",
      " 86%|████████▌ | 464/542 [02:34<00:23,  3.27it/s]could get data from TCC\n",
      " 86%|████████▌ | 465/542 [02:35<00:31,  2.46it/s]could get data from TFL\n",
      " 86%|████████▌ | 466/542 [02:35<00:28,  2.66it/s]could get data from THC\n",
      " 86%|████████▌ | 467/542 [02:35<00:26,  2.83it/s]could get data from TIME\n",
      " 86%|████████▋ | 468/542 [02:36<00:32,  2.28it/s]could get data from TIX\n",
      " 87%|████████▋ | 469/542 [02:36<00:29,  2.51it/s]could get data from TKN\n",
      " 87%|████████▋ | 470/542 [02:37<00:33,  2.12it/s]could get data from TKR\n",
      " 87%|████████▋ | 471/542 [02:37<00:29,  2.37it/s]could get data from TKS\n",
      " 87%|████████▋ | 472/542 [02:38<00:26,  2.59it/s]could get data from TNB\n",
      " 87%|████████▋ | 473/542 [02:38<00:24,  2.77it/s]could get data from TNT\n",
      " 87%|████████▋ | 474/542 [02:38<00:23,  2.91it/s]could get data from TOA\n",
      " 88%|████████▊ | 475/542 [02:39<00:22,  3.02it/s]could get data from TRC\n",
      " 88%|████████▊ | 476/542 [02:39<00:21,  3.09it/s]could get data from TRCT\n",
      " 88%|████████▊ | 477/542 [02:39<00:20,  3.15it/s]could get data from TRIG\n",
      " 88%|████████▊ | 478/542 [02:39<00:20,  3.20it/s]could get data from TRST\n",
      " 88%|████████▊ | 479/542 [02:40<00:19,  3.22it/s]could get data from TRUE\n",
      " 89%|████████▊ | 480/542 [02:40<00:19,  3.25it/s]could get data from TRUST\n",
      " 89%|████████▊ | 481/542 [02:40<00:18,  3.25it/s]could get data from TX\n",
      " 89%|████████▉ | 482/542 [02:41<00:18,  3.25it/s]could get data from UBQ\n",
      " 89%|████████▉ | 483/542 [02:41<00:18,  3.26it/s]could get data from UKG\n",
      " 89%|████████▉ | 484/542 [02:41<00:17,  3.24it/s]could get data from ULA\n",
      " 89%|████████▉ | 485/542 [02:42<00:17,  3.26it/s]could get data from UNB\n",
      " 90%|████████▉ | 486/542 [02:42<00:17,  3.27it/s]could get data from UNITY\n",
      " 90%|████████▉ | 487/542 [02:42<00:16,  3.25it/s]could get data from UNO\n",
      " 90%|█████████ | 488/542 [02:43<00:16,  3.27it/s]could get data from UNY\n",
      " 90%|█████████ | 489/542 [02:43<00:16,  3.29it/s]could get data from UP\n",
      " 90%|█████████ | 490/542 [02:43<00:15,  3.28it/s]could get data from URO\n",
      " 91%|█████████ | 491/542 [02:43<00:15,  3.29it/s]could get data from VEE\n",
      " 91%|█████████ | 492/542 [02:44<00:15,  3.28it/s]could get data from VERI\n",
      " 91%|█████████ | 493/542 [02:44<00:15,  3.26it/s]could get data from VIA\n",
      " 91%|█████████ | 494/542 [02:44<00:14,  3.26it/s]could get data from VIB\n",
      " 91%|█████████▏| 495/542 [02:45<00:14,  3.28it/s]could get data from VIBE\n",
      " 92%|█████████▏| 496/542 [02:45<00:14,  3.28it/s]could get data from VIVO\n",
      " 92%|█████████▏| 497/542 [02:45<00:14,  3.17it/s]could get data from VOISE\n",
      " 92%|█████████▏| 498/542 [02:46<00:13,  3.21it/s]could get data from VOX\n",
      " 92%|█████████▏| 499/542 [02:46<00:13,  3.23it/s]could get data from VPN\n",
      " 92%|█████████▏| 500/542 [02:46<00:12,  3.25it/s]could get data from VRC\n",
      " 92%|█████████▏| 501/542 [02:47<00:12,  3.28it/s]could get data from VRM\n",
      " 93%|█████████▎| 502/542 [02:47<00:12,  3.29it/s]could get data from VRS\n",
      " 93%|█████████▎| 503/542 [02:47<00:11,  3.29it/s]could get data from VSL\n",
      " 93%|█████████▎| 504/542 [02:47<00:11,  3.30it/s]could get data from VTR\n",
      " 93%|█████████▎| 505/542 [02:48<00:14,  2.47it/s]could get data from WABI\n",
      " 93%|█████████▎| 506/542 [02:48<00:13,  2.67it/s]could get data from WCT\n",
      " 94%|█████████▎| 507/542 [02:49<00:12,  2.83it/s]could get data from WDC\n",
      " 94%|█████████▎| 508/542 [02:49<00:11,  2.96it/s]could get data from WGO\n",
      " 94%|█████████▍| 509/542 [02:49<00:10,  3.06it/s]could get data from WGR\n",
      " 94%|█████████▍| 510/542 [02:50<00:10,  3.13it/s]could get data from WINGS\n",
      " 94%|█████████▍| 511/542 [02:50<00:09,  3.19it/s]could get data from WPR\n",
      " 94%|█████████▍| 512/542 [02:50<00:09,  3.23it/s]could get data from WTC\n",
      " 95%|█████████▍| 513/542 [02:50<00:08,  3.26it/s]could get data from WTT\n",
      " 95%|█████████▍| 514/542 [02:51<00:08,  3.27it/s]could get data from XAS\n",
      " 95%|█████████▌| 515/542 [02:51<00:08,  3.28it/s]could get data from XAUR\n",
      " 95%|█████████▌| 516/542 [02:51<00:07,  3.27it/s]could get data from XBC\n",
      " 95%|█████████▌| 517/542 [02:52<00:07,  3.29it/s]could get data from XBY\n",
      " 96%|█████████▌| 518/542 [02:52<00:07,  3.27it/s]could get data from XCN\n",
      " 96%|█████████▌| 519/542 [02:52<00:07,  3.28it/s]could get data from XCP\n",
      " 96%|█████████▌| 520/542 [02:53<00:06,  3.29it/s]could get data from XDN\n",
      " 96%|█████████▌| 521/542 [02:53<00:06,  3.28it/s]could get data from XEL\n",
      " 96%|█████████▋| 522/542 [02:53<00:06,  3.24it/s]could get data from NEM\n",
      " 96%|█████████▋| 523/542 [02:54<00:05,  3.26it/s]could get data from XID\n",
      " 97%|█████████▋| 524/542 [02:54<00:05,  3.28it/s]could get data from XMG\n",
      " 97%|█████████▋| 525/542 [02:54<00:05,  3.29it/s]could get data from XMY\n",
      " 97%|█████████▋| 526/542 [02:54<00:04,  3.30it/s]could get data from XPM\n",
      " 97%|█████████▋| 527/542 [02:55<00:04,  3.30it/s]could get data from XRL\n",
      " 97%|█████████▋| 528/542 [02:55<00:04,  3.31it/s]could get data from XSPEC\n",
      " 98%|█████████▊| 529/542 [02:55<00:03,  3.32it/s]could get data from XST\n",
      " 98%|█████████▊| 530/542 [02:56<00:03,  3.32it/s]could get data from XUC\n",
      " 98%|█████████▊| 531/542 [02:56<00:03,  3.31it/s]could get data from XVC\n",
      " 98%|█████████▊| 532/542 [02:56<00:03,  3.31it/s]could get data from XZC\n",
      " 98%|█████████▊| 533/542 [02:57<00:02,  3.31it/s]could get data from XZR\n",
      " 99%|█████████▊| 534/542 [02:57<00:02,  3.32it/s]could get data from YEE\n",
      " 99%|█████████▊| 535/542 [02:57<00:02,  3.32it/s]could get data from YOYOW\n",
      " 99%|█████████▉| 536/542 [02:57<00:01,  3.32it/s]could get data from ZCC\n",
      " 99%|█████████▉| 537/542 [02:58<00:01,  3.32it/s]could get data from ZCL\n",
      " 99%|█████████▉| 538/542 [02:58<00:01,  3.31it/s]could get data from ZCO\n",
      " 99%|█████████▉| 539/542 [02:58<00:00,  3.30it/s]could get data from ZEN\n",
      "100%|█████████▉| 540/542 [02:59<00:00,  3.29it/s]could get data from ZET\n",
      "100%|█████████▉| 541/542 [02:59<00:00,  3.30it/s]could get data from ZLA\n",
      "100%|██████████| 542/542 [02:59<00:00,  3.01it/s]could get data from ZRX\n",
      "\n"
     ]
    }
   ],
   "source": [
    "result = get_top_cripto.find_top_cripto()"
   ]
  },
  {
   "cell_type": "code",
   "execution_count": 9,
   "metadata": {},
   "outputs": [],
   "source": [
    "import alphavantage"
   ]
  },
  {
   "cell_type": "code",
   "execution_count": null,
   "metadata": {},
   "outputs": [],
   "source": []
  }
 ]
}