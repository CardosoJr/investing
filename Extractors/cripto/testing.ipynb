{
 "metadata": {
  "language_info": {
   "codemirror_mode": {
    "name": "ipython",
    "version": 3
   },
   "file_extension": ".py",
   "mimetype": "text/x-python",
   "name": "python",
   "nbconvert_exporter": "python",
   "pygments_lexer": "ipython3",
   "version": "3.8.5-final"
  },
  "orig_nbformat": 2,
  "kernelspec": {
   "name": "python3",
   "display_name": "Python 3"
  }
 },
 "nbformat": 4,
 "nbformat_minor": 2,
 "cells": [
  {
   "cell_type": "code",
   "execution_count": 7,
   "metadata": {},
   "outputs": [],
   "source": [
    "import pandas as pd "
   ]
  },
  {
   "cell_type": "code",
   "execution_count": 12,
   "metadata": {},
   "outputs": [],
   "source": [
    "rankings = pd.read_csv('ticker_ranking.csv')\n",
    "tickers = pd.read_csv('tickers.csv')"
   ]
  },
  {
   "cell_type": "code",
   "execution_count": 16,
   "metadata": {},
   "outputs": [
    {
     "output_type": "execute_result",
     "data": {
      "text/plain": [
       "  Symbol       Name\n",
       "0     42    42 Coin\n",
       "1    300  300 token\n",
       "2    365    365Coin\n",
       "3    404    404Coin\n",
       "4    433  433 Token"
      ],
      "text/html": "<div>\n<style scoped>\n    .dataframe tbody tr th:only-of-type {\n        vertical-align: middle;\n    }\n\n    .dataframe tbody tr th {\n        vertical-align: top;\n    }\n\n    .dataframe thead th {\n        text-align: right;\n    }\n</style>\n<table border=\"1\" class=\"dataframe\">\n  <thead>\n    <tr style=\"text-align: right;\">\n      <th></th>\n      <th>Symbol</th>\n      <th>Name</th>\n    </tr>\n  </thead>\n  <tbody>\n    <tr>\n      <th>0</th>\n      <td>42</td>\n      <td>42 Coin</td>\n    </tr>\n    <tr>\n      <th>1</th>\n      <td>300</td>\n      <td>300 token</td>\n    </tr>\n    <tr>\n      <th>2</th>\n      <td>365</td>\n      <td>365Coin</td>\n    </tr>\n    <tr>\n      <th>3</th>\n      <td>404</td>\n      <td>404Coin</td>\n    </tr>\n    <tr>\n      <th>4</th>\n      <td>433</td>\n      <td>433 Token</td>\n    </tr>\n  </tbody>\n</table>\n</div>"
     },
     "metadata": {},
     "execution_count": 16
    }
   ],
   "source": [
    "tickers.head()"
   ]
  },
  {
   "cell_type": "code",
   "execution_count": 17,
   "metadata": {},
   "outputs": [],
   "source": [
    "from fuzzywuzzy import fuzz\n",
    "import operator\n",
    "import itertools\n"
   ]
  },
  {
   "cell_type": "code",
   "execution_count": 23,
   "metadata": {},
   "outputs": [],
   "source": [
    "score_threshold = 85\n",
    "\n",
    "combinations = list(itertools.product(rankings['Currency Name'].values.ravel(), tickers['Name'].values.ravel()))\n",
    "scores = {x: fuzz.ratio(x[0], x[1]) for x in combinations}\n",
    "matches = [max({k:v for k,v in scores.items() if k[0] == x}.items(), key=operator.itemgetter(1)) for x in rankings['Currency Name'].values.ravel()]\n",
    "matches = {x[0][0]:x[0][1] for x in matches if x[1] >= score_threshold}"
   ]
  },
  {
   "cell_type": "code",
   "execution_count": 29,
   "metadata": {},
   "outputs": [],
   "source": [
    "not_found = list(set(rankings['Currency Name'].values.ravel()) - set(matches.keys()))\n",
    "not_found = {x:x for x in not_found}\n",
    "\n",
    "matches = dict(**matches, **not_found)"
   ]
  },
  {
   "cell_type": "code",
   "execution_count": 30,
   "metadata": {},
   "outputs": [],
   "source": [
    "rankings['Currency Name'] = rankings['Currency Name'].apply(lambda x: matches[x])"
   ]
  },
  {
   "cell_type": "code",
   "execution_count": 36,
   "metadata": {},
   "outputs": [],
   "source": [
    "ticker_dict = {x[0]:x[1] for x in tickers[['Name', 'Symbol']].values}"
   ]
  },
  {
   "cell_type": "code",
   "execution_count": 49,
   "metadata": {},
   "outputs": [],
   "source": [
    "rankings['Ticker'] = rankings['Currency Name'].apply(lambda x: ticker_dict[x] if x in ticker_dict.keys() else \"NOT_FOUND\")"
   ]
  },
  {
   "cell_type": "code",
   "execution_count": 51,
   "metadata": {},
   "outputs": [],
   "source": [
    "rankings.to_csv('ticker_ranking.csv', index = False)"
   ]
  }
 ]
}