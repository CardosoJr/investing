{
 "metadata": {
  "language_info": {
   "codemirror_mode": {
    "name": "ipython",
    "version": 3
   },
   "file_extension": ".py",
   "mimetype": "text/x-python",
   "name": "python",
   "nbconvert_exporter": "python",
   "pygments_lexer": "ipython3",
   "version": "3.8.5"
  },
  "orig_nbformat": 2,
  "kernelspec": {
   "name": "python3",
   "display_name": "Python 3.8.5 64-bit ('base': conda)"
  },
  "interpreter": {
   "hash": "b3ba2566441a7c06988d0923437866b63cedc61552a5af99d1f4fb67d367b25f"
  }
 },
 "nbformat": 4,
 "nbformat_minor": 2,
 "cells": [
  {
   "cell_type": "code",
   "execution_count": 1,
   "metadata": {},
   "outputs": [],
   "source": [
    "import ipca "
   ]
  },
  {
   "cell_type": "code",
   "execution_count": 2,
   "metadata": {},
   "outputs": [],
   "source": [
    "from datetime import datetime"
   ]
  },
  {
   "cell_type": "code",
   "execution_count": 3,
   "metadata": {},
   "outputs": [],
   "source": [
    "start = datetime.strptime(\"2021-02-05\", \"%Y-%m-%d\")"
   ]
  },
  {
   "cell_type": "code",
   "execution_count": 4,
   "metadata": {},
   "outputs": [
    {
     "output_type": "execute_result",
     "data": {
      "text/plain": [
       "datetime.datetime(2021, 2, 28, 0, 0)"
      ]
     },
     "metadata": {},
     "execution_count": 4
    }
   ],
   "source": [
    "ipca.last_day_of_month(start)"
   ]
  },
  {
   "cell_type": "code",
   "execution_count": 5,
   "metadata": {},
   "outputs": [],
   "source": [
    "a = ipca.get_sidra_ipca(\"2020-10-01\", \"2021-02-02\")"
   ]
  },
  {
   "cell_type": "code",
   "execution_count": 6,
   "metadata": {},
   "outputs": [
    {
     "output_type": "execute_result",
     "data": {
      "text/plain": [
       "                                KPI Value       Date\n",
       "0            IPCA - Variação mensal  0.86 2020-10-01\n",
       "1            IPCA - Variação mensal  0.89 2020-11-01\n",
       "2            IPCA - Variação mensal  1.35 2020-12-01\n",
       "3            IPCA - Variação mensal  0.25 2021-01-01\n",
       "4  IPCA - Variação acumulada no ano  2.22 2020-10-01\n",
       "5  IPCA - Variação acumulada no ano  3.13 2020-11-01\n",
       "6  IPCA - Variação acumulada no ano  4.52 2020-12-01\n",
       "7  IPCA - Variação acumulada no ano  0.25 2021-01-01"
      ],
      "text/html": "<div>\n<style scoped>\n    .dataframe tbody tr th:only-of-type {\n        vertical-align: middle;\n    }\n\n    .dataframe tbody tr th {\n        vertical-align: top;\n    }\n\n    .dataframe thead th {\n        text-align: right;\n    }\n</style>\n<table border=\"1\" class=\"dataframe\">\n  <thead>\n    <tr style=\"text-align: right;\">\n      <th></th>\n      <th>KPI</th>\n      <th>Value</th>\n      <th>Date</th>\n    </tr>\n  </thead>\n  <tbody>\n    <tr>\n      <th>0</th>\n      <td>IPCA - Variação mensal</td>\n      <td>0.86</td>\n      <td>2020-10-01</td>\n    </tr>\n    <tr>\n      <th>1</th>\n      <td>IPCA - Variação mensal</td>\n      <td>0.89</td>\n      <td>2020-11-01</td>\n    </tr>\n    <tr>\n      <th>2</th>\n      <td>IPCA - Variação mensal</td>\n      <td>1.35</td>\n      <td>2020-12-01</td>\n    </tr>\n    <tr>\n      <th>3</th>\n      <td>IPCA - Variação mensal</td>\n      <td>0.25</td>\n      <td>2021-01-01</td>\n    </tr>\n    <tr>\n      <th>4</th>\n      <td>IPCA - Variação acumulada no ano</td>\n      <td>2.22</td>\n      <td>2020-10-01</td>\n    </tr>\n    <tr>\n      <th>5</th>\n      <td>IPCA - Variação acumulada no ano</td>\n      <td>3.13</td>\n      <td>2020-11-01</td>\n    </tr>\n    <tr>\n      <th>6</th>\n      <td>IPCA - Variação acumulada no ano</td>\n      <td>4.52</td>\n      <td>2020-12-01</td>\n    </tr>\n    <tr>\n      <th>7</th>\n      <td>IPCA - Variação acumulada no ano</td>\n      <td>0.25</td>\n      <td>2021-01-01</td>\n    </tr>\n  </tbody>\n</table>\n</div>"
     },
     "metadata": {},
     "execution_count": 6
    }
   ],
   "source": [
    "a"
   ]
  },
  {
   "cell_type": "code",
   "execution_count": 1,
   "metadata": {},
   "outputs": [],
   "source": [
    "import bcb"
   ]
  },
  {
   "cell_type": "code",
   "execution_count": 3,
   "metadata": {},
   "outputs": [
    {
     "output_type": "execute_result",
     "data": {
      "text/plain": [
       "          data  valor\n",
       "0   01/01/2020   0.21\n",
       "1   01/02/2020   0.25\n",
       "2   01/03/2020   0.07\n",
       "3   01/04/2020  -0.31\n",
       "4   01/05/2020  -0.38\n",
       "5   01/06/2020   0.26\n",
       "6   01/07/2020   0.36\n",
       "7   01/08/2020   0.24\n",
       "8   01/09/2020   0.64\n",
       "9   01/10/2020   0.86\n",
       "10  01/11/2020   0.89\n",
       "11  01/12/2020   1.35\n",
       "12  01/01/2021   0.25"
      ],
      "text/html": "<div>\n<style scoped>\n    .dataframe tbody tr th:only-of-type {\n        vertical-align: middle;\n    }\n\n    .dataframe tbody tr th {\n        vertical-align: top;\n    }\n\n    .dataframe thead th {\n        text-align: right;\n    }\n</style>\n<table border=\"1\" class=\"dataframe\">\n  <thead>\n    <tr style=\"text-align: right;\">\n      <th></th>\n      <th>data</th>\n      <th>valor</th>\n    </tr>\n  </thead>\n  <tbody>\n    <tr>\n      <th>0</th>\n      <td>01/01/2020</td>\n      <td>0.21</td>\n    </tr>\n    <tr>\n      <th>1</th>\n      <td>01/02/2020</td>\n      <td>0.25</td>\n    </tr>\n    <tr>\n      <th>2</th>\n      <td>01/03/2020</td>\n      <td>0.07</td>\n    </tr>\n    <tr>\n      <th>3</th>\n      <td>01/04/2020</td>\n      <td>-0.31</td>\n    </tr>\n    <tr>\n      <th>4</th>\n      <td>01/05/2020</td>\n      <td>-0.38</td>\n    </tr>\n    <tr>\n      <th>5</th>\n      <td>01/06/2020</td>\n      <td>0.26</td>\n    </tr>\n    <tr>\n      <th>6</th>\n      <td>01/07/2020</td>\n      <td>0.36</td>\n    </tr>\n    <tr>\n      <th>7</th>\n      <td>01/08/2020</td>\n      <td>0.24</td>\n    </tr>\n    <tr>\n      <th>8</th>\n      <td>01/09/2020</td>\n      <td>0.64</td>\n    </tr>\n    <tr>\n      <th>9</th>\n      <td>01/10/2020</td>\n      <td>0.86</td>\n    </tr>\n    <tr>\n      <th>10</th>\n      <td>01/11/2020</td>\n      <td>0.89</td>\n    </tr>\n    <tr>\n      <th>11</th>\n      <td>01/12/2020</td>\n      <td>1.35</td>\n    </tr>\n    <tr>\n      <th>12</th>\n      <td>01/01/2021</td>\n      <td>0.25</td>\n    </tr>\n  </tbody>\n</table>\n</div>"
     },
     "metadata": {},
     "execution_count": 3
    }
   ],
   "source": [
    "bcb.get_data_bcb('ipca', \"2020-01-01\", '2021-01-01')"
   ]
  },
  {
   "cell_type": "code",
   "execution_count": 1,
   "metadata": {},
   "outputs": [],
   "source": [
    "import inquisitor\n",
    "qb = inquisitor.Inquisitor()\n",
    "\n",
    "# https://www.econdb.com/main-indicators?freq=Q&country=US&transform=2&dateStart=2019-03-31&dateEnd=2021-03-31&view=country-profile"
   ]
  },
  {
   "cell_type": "code",
   "execution_count": 2,
   "metadata": {},
   "outputs": [
    {
     "output_type": "execute_result",
     "data": {
      "text/plain": [
       "[{'source': 'Central Bank of Jordan', 'description': 'Central Bank of Jordan'},\n",
       " {'source': 'Banco de la República, Colombia',\n",
       "  'description': 'Banco de la República, Colombia'},\n",
       " {'source': 'Ministry of Finance, Italy',\n",
       "  'description': \"Ministero dell'Economia e delle Finanze, Italy\"},\n",
       " {'source': 'European Automobile Manufacturers',\n",
       "  'description': \"European Automobile Manufacturers' Association (ACEA)\"},\n",
       " {'source': 'Narodowy Bank Polski', 'description': 'Narodowy Bank Polski'},\n",
       " {'source': 'Banco Central de Costa Rica',\n",
       "  'description': 'Banco Central de Costa Rica'},\n",
       " {'source': 'Central Bank of Uruguay',\n",
       "  'description': 'Central Bank of Uruguay'},\n",
       " {'source': 'Monetary Authority of Macao',\n",
       "  'description': 'Monetary Authority of Macao'},\n",
       " {'source': 'Banque Centrale de Tunisie',\n",
       "  'description': 'Banque Centrale de Tunisie'},\n",
       " {'source': 'National Statistics Institute of Bulgaria',\n",
       "  'description': 'National Statistics Institute of Bulgaria'}]"
      ]
     },
     "metadata": {},
     "execution_count": 2
    }
   ],
   "source": [
    "qb.sources()\n"
   ]
  },
  {
   "cell_type": "code",
   "execution_count": 4,
   "metadata": {},
   "outputs": [
    {
     "output_type": "execute_result",
     "data": {
      "text/plain": [
       "            BCB_GGD.CB579.M.BR  BCB_GGD.CB57C.M.BR  BCB_GGD.CB57D.M.BR  \\\n",
       "2006-12-01           1336645.0           1260147.0             76498.0   \n",
       "2007-01-01           1367452.0           1290908.0             76543.0   \n",
       "2007-02-01           1399084.0           1323407.0             75677.0   \n",
       "2007-03-01           1423274.0           1350166.0             73108.0   \n",
       "2007-04-01           1438855.0           1367797.0             71058.0   \n",
       "...                        ...                 ...                 ...   \n",
       "2020-05-01           5929085.0           5507796.0            421289.0   \n",
       "2020-06-01           6153524.0           5729308.0            424215.0   \n",
       "2020-07-01           6210042.0           5796766.0            413275.0   \n",
       "2020-08-01           6389754.0           5962426.0            427328.0   \n",
       "2020-09-01           6533712.0           6097193.0            436519.0   \n",
       "\n",
       "            BCB_GGD.CB581.M.BR  BCB_GGD.CB582.M.BR  BCB_GGD.CB583.M.BR  \\\n",
       "2006-12-01           1192466.0            144179.0           1186058.0   \n",
       "2007-01-01           1224854.0            142598.0           1218446.0   \n",
       "2007-02-01           1258478.0            140605.0           1250571.0   \n",
       "2007-03-01           1289423.0            133850.0           1280767.0   \n",
       "2007-04-01           1308077.0            130778.0           1299419.0   \n",
       "...                        ...                 ...                 ...   \n",
       "2020-05-01           5544444.0            384641.0           5198413.0   \n",
       "2020-06-01           5747261.0            406263.0           5391224.0   \n",
       "2020-07-01           5822643.0            387399.0           5471076.0   \n",
       "2020-08-01           5982637.0            407117.0           5613484.0   \n",
       "2020-09-01           6114619.0            419093.0           5731701.0   \n",
       "\n",
       "            BCB_GGD.CB584.M.BR  \n",
       "2006-12-01            150587.0  \n",
       "2007-01-01            149006.0  \n",
       "2007-02-01            148512.0  \n",
       "2007-03-01            142507.0  \n",
       "2007-04-01            139436.0  \n",
       "...                        ...  \n",
       "2020-05-01            730672.0  \n",
       "2020-06-01            762299.0  \n",
       "2020-07-01            738965.0  \n",
       "2020-08-01            776270.0  \n",
       "2020-09-01            802011.0  \n",
       "\n",
       "[166 rows x 7 columns]"
      ],
      "text/html": "<div>\n<style scoped>\n    .dataframe tbody tr th:only-of-type {\n        vertical-align: middle;\n    }\n\n    .dataframe tbody tr th {\n        vertical-align: top;\n    }\n\n    .dataframe thead th {\n        text-align: right;\n    }\n</style>\n<table border=\"1\" class=\"dataframe\">\n  <thead>\n    <tr style=\"text-align: right;\">\n      <th></th>\n      <th>BCB_GGD.CB579.M.BR</th>\n      <th>BCB_GGD.CB57C.M.BR</th>\n      <th>BCB_GGD.CB57D.M.BR</th>\n      <th>BCB_GGD.CB581.M.BR</th>\n      <th>BCB_GGD.CB582.M.BR</th>\n      <th>BCB_GGD.CB583.M.BR</th>\n      <th>BCB_GGD.CB584.M.BR</th>\n    </tr>\n  </thead>\n  <tbody>\n    <tr>\n      <th>2006-12-01</th>\n      <td>1336645.0</td>\n      <td>1260147.0</td>\n      <td>76498.0</td>\n      <td>1192466.0</td>\n      <td>144179.0</td>\n      <td>1186058.0</td>\n      <td>150587.0</td>\n    </tr>\n    <tr>\n      <th>2007-01-01</th>\n      <td>1367452.0</td>\n      <td>1290908.0</td>\n      <td>76543.0</td>\n      <td>1224854.0</td>\n      <td>142598.0</td>\n      <td>1218446.0</td>\n      <td>149006.0</td>\n    </tr>\n    <tr>\n      <th>2007-02-01</th>\n      <td>1399084.0</td>\n      <td>1323407.0</td>\n      <td>75677.0</td>\n      <td>1258478.0</td>\n      <td>140605.0</td>\n      <td>1250571.0</td>\n      <td>148512.0</td>\n    </tr>\n    <tr>\n      <th>2007-03-01</th>\n      <td>1423274.0</td>\n      <td>1350166.0</td>\n      <td>73108.0</td>\n      <td>1289423.0</td>\n      <td>133850.0</td>\n      <td>1280767.0</td>\n      <td>142507.0</td>\n    </tr>\n    <tr>\n      <th>2007-04-01</th>\n      <td>1438855.0</td>\n      <td>1367797.0</td>\n      <td>71058.0</td>\n      <td>1308077.0</td>\n      <td>130778.0</td>\n      <td>1299419.0</td>\n      <td>139436.0</td>\n    </tr>\n    <tr>\n      <th>...</th>\n      <td>...</td>\n      <td>...</td>\n      <td>...</td>\n      <td>...</td>\n      <td>...</td>\n      <td>...</td>\n      <td>...</td>\n    </tr>\n    <tr>\n      <th>2020-05-01</th>\n      <td>5929085.0</td>\n      <td>5507796.0</td>\n      <td>421289.0</td>\n      <td>5544444.0</td>\n      <td>384641.0</td>\n      <td>5198413.0</td>\n      <td>730672.0</td>\n    </tr>\n    <tr>\n      <th>2020-06-01</th>\n      <td>6153524.0</td>\n      <td>5729308.0</td>\n      <td>424215.0</td>\n      <td>5747261.0</td>\n      <td>406263.0</td>\n      <td>5391224.0</td>\n      <td>762299.0</td>\n    </tr>\n    <tr>\n      <th>2020-07-01</th>\n      <td>6210042.0</td>\n      <td>5796766.0</td>\n      <td>413275.0</td>\n      <td>5822643.0</td>\n      <td>387399.0</td>\n      <td>5471076.0</td>\n      <td>738965.0</td>\n    </tr>\n    <tr>\n      <th>2020-08-01</th>\n      <td>6389754.0</td>\n      <td>5962426.0</td>\n      <td>427328.0</td>\n      <td>5982637.0</td>\n      <td>407117.0</td>\n      <td>5613484.0</td>\n      <td>776270.0</td>\n    </tr>\n    <tr>\n      <th>2020-09-01</th>\n      <td>6533712.0</td>\n      <td>6097193.0</td>\n      <td>436519.0</td>\n      <td>6114619.0</td>\n      <td>419093.0</td>\n      <td>5731701.0</td>\n      <td>802011.0</td>\n    </tr>\n  </tbody>\n</table>\n<p>166 rows × 7 columns</p>\n</div>"
     },
     "metadata": {},
     "execution_count": 4
    }
   ],
   "source": [
    "qb.series(dataset='BCB_GGD')"
   ]
  }
 ]
}