{
 "metadata": {
  "language_info": {
   "codemirror_mode": {
    "name": "ipython",
    "version": 3
   },
   "file_extension": ".py",
   "mimetype": "text/x-python",
   "name": "python",
   "nbconvert_exporter": "python",
   "pygments_lexer": "ipython3",
   "version": "3.8.5-final"
  },
  "orig_nbformat": 2,
  "kernelspec": {
   "name": "python3",
   "display_name": "Python 3.8.5 64-bit (conda)",
   "metadata": {
    "interpreter": {
     "hash": "b3ba2566441a7c06988d0923437866b63cedc61552a5af99d1f4fb67d367b25f"
    }
   }
  }
 },
 "nbformat": 4,
 "nbformat_minor": 2,
 "cells": [
  {
   "cell_type": "code",
   "execution_count": 1,
   "metadata": {},
   "outputs": [],
   "source": [
    "import ipca "
   ]
  },
  {
   "cell_type": "code",
   "execution_count": 2,
   "metadata": {},
   "outputs": [],
   "source": [
    "from datetime import datetime"
   ]
  },
  {
   "cell_type": "code",
   "execution_count": 3,
   "metadata": {},
   "outputs": [],
   "source": [
    "start = datetime.strptime(\"2021-02-05\", \"%Y-%m-%d\")"
   ]
  },
  {
   "cell_type": "code",
   "execution_count": 4,
   "metadata": {},
   "outputs": [
    {
     "output_type": "execute_result",
     "data": {
      "text/plain": [
       "datetime.datetime(2021, 2, 28, 0, 0)"
      ]
     },
     "metadata": {},
     "execution_count": 4
    }
   ],
   "source": [
    "ipca.last_day_of_month(start)"
   ]
  },
  {
   "cell_type": "code",
   "execution_count": 5,
   "metadata": {},
   "outputs": [],
   "source": [
    "a = ipca.get_sidra_ipca(\"2020-10-01\", \"2021-02-02\")"
   ]
  },
  {
   "cell_type": "code",
   "execution_count": 6,
   "metadata": {},
   "outputs": [
    {
     "output_type": "execute_result",
     "data": {
      "text/plain": [
       "                                KPI Value       Date\n",
       "0            IPCA - Variação mensal  0.86 2020-10-01\n",
       "1            IPCA - Variação mensal  0.89 2020-11-01\n",
       "2            IPCA - Variação mensal  1.35 2020-12-01\n",
       "3            IPCA - Variação mensal  0.25 2021-01-01\n",
       "4  IPCA - Variação acumulada no ano  2.22 2020-10-01\n",
       "5  IPCA - Variação acumulada no ano  3.13 2020-11-01\n",
       "6  IPCA - Variação acumulada no ano  4.52 2020-12-01\n",
       "7  IPCA - Variação acumulada no ano  0.25 2021-01-01"
      ],
      "text/html": "<div>\n<style scoped>\n    .dataframe tbody tr th:only-of-type {\n        vertical-align: middle;\n    }\n\n    .dataframe tbody tr th {\n        vertical-align: top;\n    }\n\n    .dataframe thead th {\n        text-align: right;\n    }\n</style>\n<table border=\"1\" class=\"dataframe\">\n  <thead>\n    <tr style=\"text-align: right;\">\n      <th></th>\n      <th>KPI</th>\n      <th>Value</th>\n      <th>Date</th>\n    </tr>\n  </thead>\n  <tbody>\n    <tr>\n      <th>0</th>\n      <td>IPCA - Variação mensal</td>\n      <td>0.86</td>\n      <td>2020-10-01</td>\n    </tr>\n    <tr>\n      <th>1</th>\n      <td>IPCA - Variação mensal</td>\n      <td>0.89</td>\n      <td>2020-11-01</td>\n    </tr>\n    <tr>\n      <th>2</th>\n      <td>IPCA - Variação mensal</td>\n      <td>1.35</td>\n      <td>2020-12-01</td>\n    </tr>\n    <tr>\n      <th>3</th>\n      <td>IPCA - Variação mensal</td>\n      <td>0.25</td>\n      <td>2021-01-01</td>\n    </tr>\n    <tr>\n      <th>4</th>\n      <td>IPCA - Variação acumulada no ano</td>\n      <td>2.22</td>\n      <td>2020-10-01</td>\n    </tr>\n    <tr>\n      <th>5</th>\n      <td>IPCA - Variação acumulada no ano</td>\n      <td>3.13</td>\n      <td>2020-11-01</td>\n    </tr>\n    <tr>\n      <th>6</th>\n      <td>IPCA - Variação acumulada no ano</td>\n      <td>4.52</td>\n      <td>2020-12-01</td>\n    </tr>\n    <tr>\n      <th>7</th>\n      <td>IPCA - Variação acumulada no ano</td>\n      <td>0.25</td>\n      <td>2021-01-01</td>\n    </tr>\n  </tbody>\n</table>\n</div>"
     },
     "metadata": {},
     "execution_count": 6
    }
   ],
   "source": [
    "a"
   ]
  },
  {
   "cell_type": "code",
   "execution_count": 1,
   "metadata": {},
   "outputs": [],
   "source": [
    "import bcb"
   ]
  },
  {
   "cell_type": "code",
   "execution_count": 3,
   "metadata": {},
   "outputs": [
    {
     "output_type": "execute_result",
     "data": {
      "text/plain": [
       "          data  valor\n",
       "0   01/01/2020   0.21\n",
       "1   01/02/2020   0.25\n",
       "2   01/03/2020   0.07\n",
       "3   01/04/2020  -0.31\n",
       "4   01/05/2020  -0.38\n",
       "5   01/06/2020   0.26\n",
       "6   01/07/2020   0.36\n",
       "7   01/08/2020   0.24\n",
       "8   01/09/2020   0.64\n",
       "9   01/10/2020   0.86\n",
       "10  01/11/2020   0.89\n",
       "11  01/12/2020   1.35\n",
       "12  01/01/2021   0.25"
      ],
      "text/html": "<div>\n<style scoped>\n    .dataframe tbody tr th:only-of-type {\n        vertical-align: middle;\n    }\n\n    .dataframe tbody tr th {\n        vertical-align: top;\n    }\n\n    .dataframe thead th {\n        text-align: right;\n    }\n</style>\n<table border=\"1\" class=\"dataframe\">\n  <thead>\n    <tr style=\"text-align: right;\">\n      <th></th>\n      <th>data</th>\n      <th>valor</th>\n    </tr>\n  </thead>\n  <tbody>\n    <tr>\n      <th>0</th>\n      <td>01/01/2020</td>\n      <td>0.21</td>\n    </tr>\n    <tr>\n      <th>1</th>\n      <td>01/02/2020</td>\n      <td>0.25</td>\n    </tr>\n    <tr>\n      <th>2</th>\n      <td>01/03/2020</td>\n      <td>0.07</td>\n    </tr>\n    <tr>\n      <th>3</th>\n      <td>01/04/2020</td>\n      <td>-0.31</td>\n    </tr>\n    <tr>\n      <th>4</th>\n      <td>01/05/2020</td>\n      <td>-0.38</td>\n    </tr>\n    <tr>\n      <th>5</th>\n      <td>01/06/2020</td>\n      <td>0.26</td>\n    </tr>\n    <tr>\n      <th>6</th>\n      <td>01/07/2020</td>\n      <td>0.36</td>\n    </tr>\n    <tr>\n      <th>7</th>\n      <td>01/08/2020</td>\n      <td>0.24</td>\n    </tr>\n    <tr>\n      <th>8</th>\n      <td>01/09/2020</td>\n      <td>0.64</td>\n    </tr>\n    <tr>\n      <th>9</th>\n      <td>01/10/2020</td>\n      <td>0.86</td>\n    </tr>\n    <tr>\n      <th>10</th>\n      <td>01/11/2020</td>\n      <td>0.89</td>\n    </tr>\n    <tr>\n      <th>11</th>\n      <td>01/12/2020</td>\n      <td>1.35</td>\n    </tr>\n    <tr>\n      <th>12</th>\n      <td>01/01/2021</td>\n      <td>0.25</td>\n    </tr>\n  </tbody>\n</table>\n</div>"
     },
     "metadata": {},
     "execution_count": 3
    }
   ],
   "source": [
    "bcb.get_data_bcb('ipca', \"2020-01-01\", '2021-01-01')"
   ]
  }
 ]
}