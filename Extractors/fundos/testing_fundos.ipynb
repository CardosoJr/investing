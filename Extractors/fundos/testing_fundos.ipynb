{
 "metadata": {
  "language_info": {
   "codemirror_mode": {
    "name": "ipython",
    "version": 3
   },
   "file_extension": ".py",
   "mimetype": "text/x-python",
   "name": "python",
   "nbconvert_exporter": "python",
   "pygments_lexer": "ipython3",
   "version": "3.8.5-final"
  },
  "orig_nbformat": 2,
  "kernelspec": {
   "name": "python3",
   "display_name": "Python 3",
   "language": "python"
  }
 },
 "nbformat": 4,
 "nbformat_minor": 2,
 "cells": [
  {
   "cell_type": "code",
   "execution_count": 1,
   "metadata": {},
   "outputs": [],
   "source": [
    "import pandas as pd"
   ]
  },
  {
   "cell_type": "code",
   "execution_count": 2,
   "metadata": {},
   "outputs": [],
   "source": [
    "import fundos"
   ]
  },
  {
   "cell_type": "code",
   "execution_count": 3,
   "metadata": {},
   "outputs": [],
   "source": [
    "df = fundos.get_info_cadastral()"
   ]
  },
  {
   "cell_type": "code",
   "execution_count": 5,
   "metadata": {},
   "outputs": [
    {
     "output_type": "execute_result",
     "data": {
      "text/plain": [
       "           CNPJ_FUNDO   DT_COMPTC    VL_TOTAL   VL_QUOTA  VL_PATRIM_LIQ  \\\n",
       "0  00.017.024/0001-53  2021-02-01  1093459.20  27.504503     1091740.78   \n",
       "1  00.017.024/0001-53  2021-02-02  1093541.56  27.504054     1091722.98   \n",
       "2  00.017.024/0001-53  2021-02-03  1093599.37  27.503804     1091713.02   \n",
       "3  00.017.024/0001-53  2021-02-04  1093652.55  27.502934     1091678.50   \n",
       "4  00.017.024/0001-53  2021-02-05  1093433.76  27.501947     1091639.34   \n",
       "\n",
       "   CAPTC_DIA  RESG_DIA  NR_COTST  \n",
       "0        0.0       0.0         1  \n",
       "1        0.0       0.0         1  \n",
       "2        0.0       0.0         1  \n",
       "3        0.0       0.0         1  \n",
       "4        0.0       0.0         1  "
      ],
      "text/html": "<div>\n<style scoped>\n    .dataframe tbody tr th:only-of-type {\n        vertical-align: middle;\n    }\n\n    .dataframe tbody tr th {\n        vertical-align: top;\n    }\n\n    .dataframe thead th {\n        text-align: right;\n    }\n</style>\n<table border=\"1\" class=\"dataframe\">\n  <thead>\n    <tr style=\"text-align: right;\">\n      <th></th>\n      <th>CNPJ_FUNDO</th>\n      <th>DT_COMPTC</th>\n      <th>VL_TOTAL</th>\n      <th>VL_QUOTA</th>\n      <th>VL_PATRIM_LIQ</th>\n      <th>CAPTC_DIA</th>\n      <th>RESG_DIA</th>\n      <th>NR_COTST</th>\n    </tr>\n  </thead>\n  <tbody>\n    <tr>\n      <th>0</th>\n      <td>00.017.024/0001-53</td>\n      <td>2021-02-01</td>\n      <td>1093459.20</td>\n      <td>27.504503</td>\n      <td>1091740.78</td>\n      <td>0.0</td>\n      <td>0.0</td>\n      <td>1</td>\n    </tr>\n    <tr>\n      <th>1</th>\n      <td>00.017.024/0001-53</td>\n      <td>2021-02-02</td>\n      <td>1093541.56</td>\n      <td>27.504054</td>\n      <td>1091722.98</td>\n      <td>0.0</td>\n      <td>0.0</td>\n      <td>1</td>\n    </tr>\n    <tr>\n      <th>2</th>\n      <td>00.017.024/0001-53</td>\n      <td>2021-02-03</td>\n      <td>1093599.37</td>\n      <td>27.503804</td>\n      <td>1091713.02</td>\n      <td>0.0</td>\n      <td>0.0</td>\n      <td>1</td>\n    </tr>\n    <tr>\n      <th>3</th>\n      <td>00.017.024/0001-53</td>\n      <td>2021-02-04</td>\n      <td>1093652.55</td>\n      <td>27.502934</td>\n      <td>1091678.50</td>\n      <td>0.0</td>\n      <td>0.0</td>\n      <td>1</td>\n    </tr>\n    <tr>\n      <th>4</th>\n      <td>00.017.024/0001-53</td>\n      <td>2021-02-05</td>\n      <td>1093433.76</td>\n      <td>27.501947</td>\n      <td>1091639.34</td>\n      <td>0.0</td>\n      <td>0.0</td>\n      <td>1</td>\n    </tr>\n  </tbody>\n</table>\n</div>"
     },
     "metadata": {},
     "execution_count": 5
    }
   ],
   "source": [
    "df.head()"
   ]
  },
  {
   "cell_type": "code",
   "execution_count": null,
   "metadata": {},
   "outputs": [],
   "source": []
  }
 ]
}