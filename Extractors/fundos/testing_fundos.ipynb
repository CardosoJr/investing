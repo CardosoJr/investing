{
 "metadata": {
  "language_info": {
   "codemirror_mode": {
    "name": "ipython",
    "version": 3
   },
   "file_extension": ".py",
   "mimetype": "text/x-python",
   "name": "python",
   "nbconvert_exporter": "python",
   "pygments_lexer": "ipython3",
   "version": "3.8.5-final"
  },
  "orig_nbformat": 2,
  "kernelspec": {
   "name": "python3",
   "display_name": "Python 3",
   "language": "python"
  }
 },
 "nbformat": 4,
 "nbformat_minor": 2,
 "cells": [
  {
   "cell_type": "code",
   "execution_count": 17,
   "metadata": {},
   "outputs": [],
   "source": [
    "import pandas as pd"
   ]
  },
  {
   "cell_type": "code",
   "execution_count": 2,
   "metadata": {},
   "outputs": [],
   "source": [
    "import fundos"
   ]
  },
  {
   "cell_type": "code",
   "execution_count": 3,
   "metadata": {},
   "outputs": [],
   "source": [
    "df = fundos.get_info_cadastral()"
   ]
  },
  {
   "cell_type": "code",
   "execution_count": 5,
   "metadata": {},
   "outputs": [
    {
     "output_type": "execute_result",
     "data": {
      "text/plain": [
       "           CNPJ_FUNDO   DT_COMPTC    VL_TOTAL   VL_QUOTA  VL_PATRIM_LIQ  \\\n",
       "0  00.017.024/0001-53  2021-02-01  1093459.20  27.504503     1091740.78   \n",
       "1  00.017.024/0001-53  2021-02-02  1093541.56  27.504054     1091722.98   \n",
       "2  00.017.024/0001-53  2021-02-03  1093599.37  27.503804     1091713.02   \n",
       "3  00.017.024/0001-53  2021-02-04  1093652.55  27.502934     1091678.50   \n",
       "4  00.017.024/0001-53  2021-02-05  1093433.76  27.501947     1091639.34   \n",
       "\n",
       "   CAPTC_DIA  RESG_DIA  NR_COTST  \n",
       "0        0.0       0.0         1  \n",
       "1        0.0       0.0         1  \n",
       "2        0.0       0.0         1  \n",
       "3        0.0       0.0         1  \n",
       "4        0.0       0.0         1  "
      ],
      "text/html": "<div>\n<style scoped>\n    .dataframe tbody tr th:only-of-type {\n        vertical-align: middle;\n    }\n\n    .dataframe tbody tr th {\n        vertical-align: top;\n    }\n\n    .dataframe thead th {\n        text-align: right;\n    }\n</style>\n<table border=\"1\" class=\"dataframe\">\n  <thead>\n    <tr style=\"text-align: right;\">\n      <th></th>\n      <th>CNPJ_FUNDO</th>\n      <th>DT_COMPTC</th>\n      <th>VL_TOTAL</th>\n      <th>VL_QUOTA</th>\n      <th>VL_PATRIM_LIQ</th>\n      <th>CAPTC_DIA</th>\n      <th>RESG_DIA</th>\n      <th>NR_COTST</th>\n    </tr>\n  </thead>\n  <tbody>\n    <tr>\n      <th>0</th>\n      <td>00.017.024/0001-53</td>\n      <td>2021-02-01</td>\n      <td>1093459.20</td>\n      <td>27.504503</td>\n      <td>1091740.78</td>\n      <td>0.0</td>\n      <td>0.0</td>\n      <td>1</td>\n    </tr>\n    <tr>\n      <th>1</th>\n      <td>00.017.024/0001-53</td>\n      <td>2021-02-02</td>\n      <td>1093541.56</td>\n      <td>27.504054</td>\n      <td>1091722.98</td>\n      <td>0.0</td>\n      <td>0.0</td>\n      <td>1</td>\n    </tr>\n    <tr>\n      <th>2</th>\n      <td>00.017.024/0001-53</td>\n      <td>2021-02-03</td>\n      <td>1093599.37</td>\n      <td>27.503804</td>\n      <td>1091713.02</td>\n      <td>0.0</td>\n      <td>0.0</td>\n      <td>1</td>\n    </tr>\n    <tr>\n      <th>3</th>\n      <td>00.017.024/0001-53</td>\n      <td>2021-02-04</td>\n      <td>1093652.55</td>\n      <td>27.502934</td>\n      <td>1091678.50</td>\n      <td>0.0</td>\n      <td>0.0</td>\n      <td>1</td>\n    </tr>\n    <tr>\n      <th>4</th>\n      <td>00.017.024/0001-53</td>\n      <td>2021-02-05</td>\n      <td>1093433.76</td>\n      <td>27.501947</td>\n      <td>1091639.34</td>\n      <td>0.0</td>\n      <td>0.0</td>\n      <td>1</td>\n    </tr>\n  </tbody>\n</table>\n</div>"
     },
     "metadata": {},
     "execution_count": 5
    }
   ],
   "source": [
    "df.head()"
   ]
  },
  {
   "cell_type": "code",
   "execution_count": 26,
   "metadata": {},
   "outputs": [
    {
     "output_type": "execute_result",
     "data": {
      "text/plain": [
       "                                                 0             1    2     3  \\\n",
       "0  AF INVEST CRI FDO. INV. IMOB – RECEBÍVEIS IMOB.  FII AFHI CRI  NaN  AFHI   \n",
       "1      AF INVEST FDO INV. IMOB. - RECEBÍVEIS IMOB.   FII AFINVCR  NaN  AFCR   \n",
       "2    ALIANZA FOF FUNDO DE INVESTIMENTO IMOBILIÁRIO  FII ALIANZFF  NaN  AFOF   \n",
       "3     ALIANZA TRUST RENDA IMOBILIARIA FDO INV IMOB   FII ALIANZA  NaN  ALZR   \n",
       "4                     AQ3 RENDA FDO INV IMOB - FII  FII AQUIL RD   MB  ARFI   \n",
       "\n",
       "    4  \n",
       "0 NaN  \n",
       "1 NaN  \n",
       "2 NaN  \n",
       "3 NaN  \n",
       "4 NaN  "
      ],
      "text/html": "<div>\n<style scoped>\n    .dataframe tbody tr th:only-of-type {\n        vertical-align: middle;\n    }\n\n    .dataframe tbody tr th {\n        vertical-align: top;\n    }\n\n    .dataframe thead th {\n        text-align: right;\n    }\n</style>\n<table border=\"1\" class=\"dataframe\">\n  <thead>\n    <tr style=\"text-align: right;\">\n      <th></th>\n      <th>0</th>\n      <th>1</th>\n      <th>2</th>\n      <th>3</th>\n      <th>4</th>\n    </tr>\n  </thead>\n  <tbody>\n    <tr>\n      <th>0</th>\n      <td>AF INVEST CRI FDO. INV. IMOB – RECEBÍVEIS IMOB.</td>\n      <td>FII AFHI CRI</td>\n      <td>NaN</td>\n      <td>AFHI</td>\n      <td>NaN</td>\n    </tr>\n    <tr>\n      <th>1</th>\n      <td>AF INVEST FDO INV. IMOB. - RECEBÍVEIS IMOB.</td>\n      <td>FII AFINVCR</td>\n      <td>NaN</td>\n      <td>AFCR</td>\n      <td>NaN</td>\n    </tr>\n    <tr>\n      <th>2</th>\n      <td>ALIANZA FOF FUNDO DE INVESTIMENTO IMOBILIÁRIO</td>\n      <td>FII ALIANZFF</td>\n      <td>NaN</td>\n      <td>AFOF</td>\n      <td>NaN</td>\n    </tr>\n    <tr>\n      <th>3</th>\n      <td>ALIANZA TRUST RENDA IMOBILIARIA FDO INV IMOB</td>\n      <td>FII ALIANZA</td>\n      <td>NaN</td>\n      <td>ALZR</td>\n      <td>NaN</td>\n    </tr>\n    <tr>\n      <th>4</th>\n      <td>AQ3 RENDA FDO INV IMOB - FII</td>\n      <td>FII AQUIL RD</td>\n      <td>MB</td>\n      <td>ARFI</td>\n      <td>NaN</td>\n    </tr>\n  </tbody>\n</table>\n</div>"
     },
     "metadata": {},
     "execution_count": 26
    }
   ],
   "source": [
    "pd.read_csv(\"fiis.csv\", sep = \";\", header = None).head()"
   ]
  },
  {
   "cell_type": "code",
   "execution_count": 27,
   "metadata": {},
   "outputs": [
    {
     "output_type": "execute_result",
     "data": {
      "text/plain": [
       "                                                  0             1   2     3  \\\n",
       "0                   BB ETF IBOVESPA FUNDO DE ÍNDICE   BB ETF IBOV NaN  BBOV   \n",
       "1      BB ETF S&P DIVIDENDOS BRASIL FUNDO DE ÍNDICE  BB ETF SP DV NaN  BBSD   \n",
       "2  BTG PACTUAL ESG FUNDO DE ÍNDICE S&P/B3 BRAZIL ES   ETF ESG BTG NaN  ESGB   \n",
       "3                CAIXA ETF IBOVESPA FUNDO DE INDICE  CAIXAETFXBOV NaN  XBOV   \n",
       "4               ETF BRADESCO IBOVESPA FDO DE INDICE  ETF BRA IBOV NaN  BOVB   \n",
       "\n",
       "    4  \n",
       "0 NaN  \n",
       "1 NaN  \n",
       "2 NaN  \n",
       "3 NaN  \n",
       "4 NaN  "
      ],
      "text/html": "<div>\n<style scoped>\n    .dataframe tbody tr th:only-of-type {\n        vertical-align: middle;\n    }\n\n    .dataframe tbody tr th {\n        vertical-align: top;\n    }\n\n    .dataframe thead th {\n        text-align: right;\n    }\n</style>\n<table border=\"1\" class=\"dataframe\">\n  <thead>\n    <tr style=\"text-align: right;\">\n      <th></th>\n      <th>0</th>\n      <th>1</th>\n      <th>2</th>\n      <th>3</th>\n      <th>4</th>\n    </tr>\n  </thead>\n  <tbody>\n    <tr>\n      <th>0</th>\n      <td>BB ETF IBOVESPA FUNDO DE ÍNDICE</td>\n      <td>BB ETF IBOV</td>\n      <td>NaN</td>\n      <td>BBOV</td>\n      <td>NaN</td>\n    </tr>\n    <tr>\n      <th>1</th>\n      <td>BB ETF S&amp;P DIVIDENDOS BRASIL FUNDO DE ÍNDICE</td>\n      <td>BB ETF SP DV</td>\n      <td>NaN</td>\n      <td>BBSD</td>\n      <td>NaN</td>\n    </tr>\n    <tr>\n      <th>2</th>\n      <td>BTG PACTUAL ESG FUNDO DE ÍNDICE S&amp;P/B3 BRAZIL ES</td>\n      <td>ETF ESG BTG</td>\n      <td>NaN</td>\n      <td>ESGB</td>\n      <td>NaN</td>\n    </tr>\n    <tr>\n      <th>3</th>\n      <td>CAIXA ETF IBOVESPA FUNDO DE INDICE</td>\n      <td>CAIXAETFXBOV</td>\n      <td>NaN</td>\n      <td>XBOV</td>\n      <td>NaN</td>\n    </tr>\n    <tr>\n      <th>4</th>\n      <td>ETF BRADESCO IBOVESPA FDO DE INDICE</td>\n      <td>ETF BRA IBOV</td>\n      <td>NaN</td>\n      <td>BOVB</td>\n      <td>NaN</td>\n    </tr>\n  </tbody>\n</table>\n</div>"
     },
     "metadata": {},
     "execution_count": 27
    }
   ],
   "source": [
    "pd.read_csv(\"etfs.csv\", sep = \";\", header = None).head()"
   ]
  },
  {
   "cell_type": "code",
   "execution_count": 31,
   "metadata": {},
   "outputs": [
    {
     "output_type": "execute_result",
     "data": {
      "text/plain": [
       "           EMPRESA  CODIGO                                   SETOR  \\\n",
       "0               3M  MMMC34                 Ind£stria diversificada   \n",
       "1         AB INBEV  ABUD34                                 Bebidas   \n",
       "2          ABB LTD  A1BB34                              Industrial   \n",
       "3           ABBOTT  ABTT34                           Farmacuticos   \n",
       "4           ABBVIE  ABBV34          Medicamentos e Outros Produtos   \n",
       "..             ...     ...                                     ...   \n",
       "668         ORACLE  ORCL34                     Software aplicativo   \n",
       "669  RAYTHEON TECH  RYTT34                              Industrial   \n",
       "670   SCHLUMBERGER  SLBG34  Equipamentos e Servios de Combust¡vel   \n",
       "671        TIFFANY  TIFF34                               Joalheria   \n",
       "672    US BANCORPÿ  USBC34                  Institui?o Financeira   \n",
       "\n",
       "    PAIS DE ORIGEM  \n",
       "0              EUA  \n",
       "1          Blgica  \n",
       "2      Switzerland  \n",
       "3              EUA  \n",
       "4              EUA  \n",
       "..             ...  \n",
       "668            EUA  \n",
       "669            EUA  \n",
       "670            EUA  \n",
       "671            EUA  \n",
       "672            EUA  \n",
       "\n",
       "[673 rows x 4 columns]"
      ],
      "text/html": "<div>\n<style scoped>\n    .dataframe tbody tr th:only-of-type {\n        vertical-align: middle;\n    }\n\n    .dataframe tbody tr th {\n        vertical-align: top;\n    }\n\n    .dataframe thead th {\n        text-align: right;\n    }\n</style>\n<table border=\"1\" class=\"dataframe\">\n  <thead>\n    <tr style=\"text-align: right;\">\n      <th></th>\n      <th>EMPRESA</th>\n      <th>CODIGO</th>\n      <th>SETOR</th>\n      <th>PAIS DE ORIGEM</th>\n    </tr>\n  </thead>\n  <tbody>\n    <tr>\n      <th>0</th>\n      <td>3M</td>\n      <td>MMMC34</td>\n      <td>Ind£stria diversificada</td>\n      <td>EUA</td>\n    </tr>\n    <tr>\n      <th>1</th>\n      <td>AB INBEV</td>\n      <td>ABUD34</td>\n      <td>Bebidas</td>\n      <td>Blgica</td>\n    </tr>\n    <tr>\n      <th>2</th>\n      <td>ABB LTD</td>\n      <td>A1BB34</td>\n      <td>Industrial</td>\n      <td>Switzerland</td>\n    </tr>\n    <tr>\n      <th>3</th>\n      <td>ABBOTT</td>\n      <td>ABTT34</td>\n      <td>Farmacuticos</td>\n      <td>EUA</td>\n    </tr>\n    <tr>\n      <th>4</th>\n      <td>ABBVIE</td>\n      <td>ABBV34</td>\n      <td>Medicamentos e Outros Produtos</td>\n      <td>EUA</td>\n    </tr>\n    <tr>\n      <th>...</th>\n      <td>...</td>\n      <td>...</td>\n      <td>...</td>\n      <td>...</td>\n    </tr>\n    <tr>\n      <th>668</th>\n      <td>ORACLE</td>\n      <td>ORCL34</td>\n      <td>Software aplicativo</td>\n      <td>EUA</td>\n    </tr>\n    <tr>\n      <th>669</th>\n      <td>RAYTHEON TECH</td>\n      <td>RYTT34</td>\n      <td>Industrial</td>\n      <td>EUA</td>\n    </tr>\n    <tr>\n      <th>670</th>\n      <td>SCHLUMBERGER</td>\n      <td>SLBG34</td>\n      <td>Equipamentos e Servios de Combust¡vel</td>\n      <td>EUA</td>\n    </tr>\n    <tr>\n      <th>671</th>\n      <td>TIFFANY</td>\n      <td>TIFF34</td>\n      <td>Joalheria</td>\n      <td>EUA</td>\n    </tr>\n    <tr>\n      <th>672</th>\n      <td>US BANCORPÿ</td>\n      <td>USBC34</td>\n      <td>Institui?o Financeira</td>\n      <td>EUA</td>\n    </tr>\n  </tbody>\n</table>\n<p>673 rows × 4 columns</p>\n</div>"
     },
     "metadata": {},
     "execution_count": 31
    }
   ],
   "source": [
    "pd.read_csv(\"bdrs.csv\", sep = \",\", encoding = \"ISO-8859-1\")"
   ]
  },
  {
   "cell_type": "code",
   "execution_count": 32,
   "metadata": {},
   "outputs": [],
   "source": [
    "df = pd.read_csv(\"fiis.csv\", sep = \";\", header = None)"
   ]
  },
  {
   "cell_type": "code",
   "execution_count": 35,
   "metadata": {},
   "outputs": [
    {
     "output_type": "execute_result",
     "data": {
      "text/plain": [
       "array(['AFHI11', 'AFCR11', 'AFOF11', 'ALZR11', 'ARFI11', 'AQLL11',\n",
       "       'AIEC11', 'BCRI11', 'BNFS11', 'BBFI11', 'BBFO11', 'BBPO11',\n",
       "       'BBIM11', 'BBRC11', 'RDPD11', 'RNDP11', 'BLCP11', 'BLMC11',\n",
       "       'BLMG11', 'BLMO11', 'BLMR11', 'BCIA11', 'BREV11', 'BZLI11',\n",
       "       'CARE11', 'BRCO11', 'BICE11', 'BRIM11', 'BRIP11', 'BTLG11',\n",
       "       'BTWR11', 'BTSG11', 'CRFF11', 'CXRI11', 'CPFF11', 'CPTS11',\n",
       "       'CBOP11', 'CFHI11', 'CJCT11', 'HGFF11', 'HGLG11', 'HGPO11',\n",
       "       'HGRE11', 'HGCR11', 'HGRU11', 'DLMT11', 'DEVA11', 'DAMT11',\n",
       "       'DOVL11', 'EGYR11', 'ERCR11', 'ERPA11', 'KEVE11', 'KINP11',\n",
       "       'FLCR11', 'VRTA11', 'BMII11', 'BTCR11', 'MTRS11', 'ANCR11',\n",
       "       'FAED11', 'BMLC11', 'BPRP11', 'BRCR11', 'FEXC11', 'BCFF11',\n",
       "       'FCFL11', 'CNES11', 'CEOC11', 'THRA11', 'FAMB11', 'EDGA11',\n",
       "       'ELDO11', 'FLRP11', 'HCRI11', 'NSLU11', 'HTMX11', 'MAXR11',\n",
       "       'NCHB11', 'NVHO11', 'PQDP11', 'PATB11', 'RBRM11', 'RBRR11',\n",
       "       'RECR11', 'RECT11', 'JRDM11', 'SHDP11', 'SAIC11', 'TBOF11',\n",
       "       'ALMI11', 'TRNT11', 'VLOL11', 'OUFF11', 'WTSP11', 'RECH11',\n",
       "       'VVPR11', 'LVBI11', 'BARI11', 'BRHT11', 'BPFF11', 'BVAR11',\n",
       "       'BPML11', 'CXCE11', 'CXTL11', 'CTXT11', 'CJFI11', 'FLMA11',\n",
       "       'EDFO11', 'EURO11', 'GESE11', 'ABCP11', 'GTWR11', 'HBTT11',\n",
       "       'HUSC11', 'FIIB11', 'FINF11', 'FMOF11', 'MBRF11', 'MGFF11',\n",
       "       'MVFI11', 'NPAR11', 'OULG11', 'PABY11', 'FPNG11', 'ESTQ11',\n",
       "       'VPSI11', 'FPAB11', 'RBRY11', 'RBRP11', 'RCRB11', 'RBED11',\n",
       "       'RBVA11', 'RNGO11', 'SFND11', 'FISC11', 'SCPF11', 'SDIL11',\n",
       "       'SHPH11', 'TGAR11', 'ONEF11', 'TORM11', 'TOUR11', 'VERE11',\n",
       "       'FVPQ11', 'FIVN11', 'VTLT11', 'VSEC11', 'VSHO11', 'IBFF11',\n",
       "       'PLCR11', 'VTPL11', 'RELG11', 'CVBI11', 'MCCI11', 'FGPM11',\n",
       "       'ATWN11', 'ARRI11', 'BTAL11', 'CXCO11', 'HOSI11', 'MGHT11',\n",
       "       'RECX11', 'PVBI11', 'MGCR11', 'RFOF11', 'TCIN11', 'VTPA11',\n",
       "       'VTXI11', 'HBRH11', 'IRDM11', 'SPVJ11', 'KFOF11', 'OURE11',\n",
       "       'FATN11', 'BRLA11', 'HBCR11', 'MINT11', 'RZTR11', 'GCFF11',\n",
       "       'GCRI11', 'GSFI11', 'FIGS11', 'GGRC11', 'GRLV11', 'RCFA11',\n",
       "       'GALG11', 'HABT11', 'ATCR11', 'HCTR11', 'HCST11', 'HAAA11',\n",
       "       'ATSA11', 'HGBS11', 'HLOG11', 'HRDF11', 'HREC11', 'HPDP11',\n",
       "       'HMOC11', 'HFOF11', 'HGIC11', 'HSAF11', 'HSLG11', 'HSML11',\n",
       "       'HSRE11', 'HUSI11', 'IFID11', 'IFIE11', 'BICR11', 'JBFO11',\n",
       "       'JFLL11', 'RBBV11', 'JPPA11', 'JPPC11', 'JSRE11', 'JTPR11',\n",
       "       'KISU11', 'KNHY11', 'KNRE11', 'KNIP11', 'KNRI11', 'KNCR11',\n",
       "       'KNSC11', 'LATR11', 'LASC11', 'LOFT11', 'LFTT11', 'LGCP11',\n",
       "       'LUGG11', 'DMAC11', 'MALL11', 'MADS11', 'MCFF11', 'MXRF11',\n",
       "       'MFII11', 'MFAI11', 'MORE11', 'PRTS11', 'SHOP11', 'DRIT11',\n",
       "       'MTOF11', 'MOFF11', 'NEWL11', 'NEWU11', 'NVIF11', 'FTCE11',\n",
       "       'OUJP11', 'ORPD11', 'PNDL11', 'PNPR11', 'VTVI11', 'PQAG11',\n",
       "       'PATC11', 'PATL11', 'PRSN11', 'PLOG11', 'PLRI11', 'PORD11',\n",
       "       'PRSV11', 'PBLV11', 'QAGR11', 'QAMI11', 'QIFF11', 'RSPD11',\n",
       "       'RBDS11', 'RBIR11', 'RBGS11', 'RBLG11', 'RBCO11', 'RRCI11',\n",
       "       'FIIP11', 'RBRD11', 'RBRU11', 'RCRI11', 'RBTS11', 'RBRF11',\n",
       "       'RCFF11', 'RBRL11', 'RMAI11', 'RBIV11', 'RBHY11', 'RBVO11',\n",
       "       'RBFF11', 'RBRS11', 'RZAK11', 'ARCT11', 'SADI11', 'SARE11',\n",
       "       'FISD11', 'SEQR11', 'WPLZ11', 'SJAU11', 'REIT11', 'SOLR11',\n",
       "       'SPTW11', 'SPAF11', 'STRX11', 'TELD11', 'TEPP11', 'TSER11',\n",
       "       'TORD11', 'TSNC11', 'TCPF11', 'XTED11', 'TRXF11', 'TRXB11',\n",
       "       'URPR11', 'VGIP11', 'VGHF11', 'VGIR11', 'EVBI11', 'RVBI11',\n",
       "       'VCJR11', 'VLJS11', 'SALI11', 'VSLH11', 'VIDS11', 'VIFI11',\n",
       "       'VILG11', 'VINO11', 'VISC11', 'VOTS11', 'VXXV11', 'XPCM11',\n",
       "       'XPCI11', 'XPHT11', 'XPIN11', 'XPLG11', 'XPML11', 'XPPR11',\n",
       "       'XPSF11', 'YUFI11', 'ZIFI11'], dtype=object)"
      ]
     },
     "metadata": {},
     "execution_count": 35
    }
   ],
   "source": [
    "(df[3] + \"11\").ravel()"
   ]
  }
 ]
}