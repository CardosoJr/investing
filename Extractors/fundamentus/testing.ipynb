{
 "metadata": {
  "language_info": {
   "codemirror_mode": {
    "name": "ipython",
    "version": 3
   },
   "file_extension": ".py",
   "mimetype": "text/x-python",
   "name": "python",
   "nbconvert_exporter": "python",
   "pygments_lexer": "ipython3",
   "version": "3.8.5-final"
  },
  "orig_nbformat": 2,
  "kernelspec": {
   "name": "python3",
   "display_name": "Python 3",
   "language": "python"
  }
 },
 "nbformat": 4,
 "nbformat_minor": 2,
 "cells": [
  {
   "cell_type": "code",
   "execution_count": 1,
   "metadata": {},
   "outputs": [],
   "source": [
    "import fundamentus"
   ]
  },
  {
   "cell_type": "code",
   "execution_count": 3,
   "metadata": {},
   "outputs": [],
   "source": [
    "result = fundamentus.get_data()"
   ]
  },
  {
   "cell_type": "code",
   "execution_count": 11,
   "metadata": {},
   "outputs": [],
   "source": [
    "import pandas as pd"
   ]
  },
  {
   "cell_type": "code",
   "execution_count": 16,
   "metadata": {},
   "outputs": [],
   "source": [
    "df = pd.DataFrame.from_dict(result, orient = 'index')"
   ]
  },
  {
   "cell_type": "code",
   "execution_count": null,
   "metadata": {},
   "outputs": [],
   "source": []
  },
  {
   "cell_type": "code",
   "execution_count": 17,
   "metadata": {},
   "outputs": [
    {
     "output_type": "execute_result",
     "data": {
      "text/plain": [
       "      Cotacao        P/L   P/VP     PSR      DY P/Ativo P/Cap.Giro   P/EBIT  \\\n",
       "CTSA3    2.39  -16625.30   0.93   0.591  0.0127   0.418      13.34    10.68   \n",
       "CTSA4    1.91  -13286.30   0.74   0.472  0.0175   0.334      10.66     8.53   \n",
       "OMGE3   43.36   -3821.30   2.28   8.171    0.00   0.959       5.02    26.49   \n",
       "LINX3   38.55   -1533.33   4.34   8.444  0.0029   2.708      10.63    52.88   \n",
       "DASA3  168.00    -423.63  20.73  13.722  0.0017   6.506      62.84  2878.11   \n",
       "\n",
       "        P/ACL  EV/EBIT EV/EBITDA Mrg.Ebit Mrg.Liq. Liq.Corr.    ROIC      ROE  \\\n",
       "CTSA3   -4.31    19.51     19.50   0.0553    -0.00      1.07  0.0441  -0.0001   \n",
       "CTSA4   -3.45    17.37     17.36   0.0553    -0.00      1.07  0.0441  -0.0001   \n",
       "OMGE3   -2.84    35.42     20.17   0.3084   0.0045      5.14  0.0457  -0.0006   \n",
       "LINX3   33.27    51.12     24.31   0.1597  -0.0055      2.26  0.0725  -0.0028   \n",
       "DASA3  -17.24  3000.38    123.05   0.0048   -0.032      1.50  0.0027  -0.0489   \n",
       "\n",
       "        Liq.2meses        Pat.Liq Div.Brut/Pat. Cresc.5anos  \n",
       "CTSA3     23067.10   285461000.00          0.83      0.0642  \n",
       "CTSA4     27846.30   285461000.00          0.83      0.0642  \n",
       "OMGE3  36874600.00  3722190000.00          1.24      0.5899  \n",
       "LINX3  43717900.00  1684040000.00          0.31      0.1583  \n",
       "DASA3    416460.00  3896020000.00          1.22      0.1775  "
      ],
      "text/html": "<div>\n<style scoped>\n    .dataframe tbody tr th:only-of-type {\n        vertical-align: middle;\n    }\n\n    .dataframe tbody tr th {\n        vertical-align: top;\n    }\n\n    .dataframe thead th {\n        text-align: right;\n    }\n</style>\n<table border=\"1\" class=\"dataframe\">\n  <thead>\n    <tr style=\"text-align: right;\">\n      <th></th>\n      <th>Cotacao</th>\n      <th>P/L</th>\n      <th>P/VP</th>\n      <th>PSR</th>\n      <th>DY</th>\n      <th>P/Ativo</th>\n      <th>P/Cap.Giro</th>\n      <th>P/EBIT</th>\n      <th>P/ACL</th>\n      <th>EV/EBIT</th>\n      <th>EV/EBITDA</th>\n      <th>Mrg.Ebit</th>\n      <th>Mrg.Liq.</th>\n      <th>Liq.Corr.</th>\n      <th>ROIC</th>\n      <th>ROE</th>\n      <th>Liq.2meses</th>\n      <th>Pat.Liq</th>\n      <th>Div.Brut/Pat.</th>\n      <th>Cresc.5anos</th>\n    </tr>\n  </thead>\n  <tbody>\n    <tr>\n      <th>CTSA3</th>\n      <td>2.39</td>\n      <td>-16625.30</td>\n      <td>0.93</td>\n      <td>0.591</td>\n      <td>0.0127</td>\n      <td>0.418</td>\n      <td>13.34</td>\n      <td>10.68</td>\n      <td>-4.31</td>\n      <td>19.51</td>\n      <td>19.50</td>\n      <td>0.0553</td>\n      <td>-0.00</td>\n      <td>1.07</td>\n      <td>0.0441</td>\n      <td>-0.0001</td>\n      <td>23067.10</td>\n      <td>285461000.00</td>\n      <td>0.83</td>\n      <td>0.0642</td>\n    </tr>\n    <tr>\n      <th>CTSA4</th>\n      <td>1.91</td>\n      <td>-13286.30</td>\n      <td>0.74</td>\n      <td>0.472</td>\n      <td>0.0175</td>\n      <td>0.334</td>\n      <td>10.66</td>\n      <td>8.53</td>\n      <td>-3.45</td>\n      <td>17.37</td>\n      <td>17.36</td>\n      <td>0.0553</td>\n      <td>-0.00</td>\n      <td>1.07</td>\n      <td>0.0441</td>\n      <td>-0.0001</td>\n      <td>27846.30</td>\n      <td>285461000.00</td>\n      <td>0.83</td>\n      <td>0.0642</td>\n    </tr>\n    <tr>\n      <th>OMGE3</th>\n      <td>43.36</td>\n      <td>-3821.30</td>\n      <td>2.28</td>\n      <td>8.171</td>\n      <td>0.00</td>\n      <td>0.959</td>\n      <td>5.02</td>\n      <td>26.49</td>\n      <td>-2.84</td>\n      <td>35.42</td>\n      <td>20.17</td>\n      <td>0.3084</td>\n      <td>0.0045</td>\n      <td>5.14</td>\n      <td>0.0457</td>\n      <td>-0.0006</td>\n      <td>36874600.00</td>\n      <td>3722190000.00</td>\n      <td>1.24</td>\n      <td>0.5899</td>\n    </tr>\n    <tr>\n      <th>LINX3</th>\n      <td>38.55</td>\n      <td>-1533.33</td>\n      <td>4.34</td>\n      <td>8.444</td>\n      <td>0.0029</td>\n      <td>2.708</td>\n      <td>10.63</td>\n      <td>52.88</td>\n      <td>33.27</td>\n      <td>51.12</td>\n      <td>24.31</td>\n      <td>0.1597</td>\n      <td>-0.0055</td>\n      <td>2.26</td>\n      <td>0.0725</td>\n      <td>-0.0028</td>\n      <td>43717900.00</td>\n      <td>1684040000.00</td>\n      <td>0.31</td>\n      <td>0.1583</td>\n    </tr>\n    <tr>\n      <th>DASA3</th>\n      <td>168.00</td>\n      <td>-423.63</td>\n      <td>20.73</td>\n      <td>13.722</td>\n      <td>0.0017</td>\n      <td>6.506</td>\n      <td>62.84</td>\n      <td>2878.11</td>\n      <td>-17.24</td>\n      <td>3000.38</td>\n      <td>123.05</td>\n      <td>0.0048</td>\n      <td>-0.032</td>\n      <td>1.50</td>\n      <td>0.0027</td>\n      <td>-0.0489</td>\n      <td>416460.00</td>\n      <td>3896020000.00</td>\n      <td>1.22</td>\n      <td>0.1775</td>\n    </tr>\n  </tbody>\n</table>\n</div>"
     },
     "metadata": {},
     "execution_count": 17
    }
   ],
   "source": [
    "df.head()"
   ]
  },
  {
   "cell_type": "code",
   "execution_count": null,
   "metadata": {},
   "outputs": [],
   "source": []
  },
  {
   "cell_type": "code",
   "execution_count": null,
   "metadata": {},
   "outputs": [],
   "source": []
  }
 ]
}