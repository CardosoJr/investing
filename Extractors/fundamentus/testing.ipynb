{
 "metadata": {
  "language_info": {
   "codemirror_mode": {
    "name": "ipython",
    "version": 3
   },
   "file_extension": ".py",
   "mimetype": "text/x-python",
   "name": "python",
   "nbconvert_exporter": "python",
   "pygments_lexer": "ipython3",
   "version": "3.8.5"
  },
  "orig_nbformat": 2,
  "kernelspec": {
   "name": "python3",
   "display_name": "Python 3.8.5 64-bit ('base': conda)"
  },
  "interpreter": {
   "hash": "b3ba2566441a7c06988d0923437866b63cedc61552a5af99d1f4fb67d367b25f"
  }
 },
 "nbformat": 4,
 "nbformat_minor": 2,
 "cells": [
  {
   "cell_type": "code",
   "execution_count": 1,
   "metadata": {},
   "outputs": [
    {
     "output_type": "error",
     "ename": "ImportError",
     "evalue": "attempted relative import with no known parent package",
     "traceback": [
      "\u001b[1;31m---------------------------------------------------------------------------\u001b[0m",
      "\u001b[1;31mImportError\u001b[0m                               Traceback (most recent call last)",
      "\u001b[1;32m<ipython-input-1-93cee9a3e6db>\u001b[0m in \u001b[0;36m<module>\u001b[1;34m\u001b[0m\n\u001b[1;32m----> 1\u001b[1;33m \u001b[1;32mimport\u001b[0m \u001b[0mfundamentus\u001b[0m\u001b[1;33m\u001b[0m\u001b[1;33m\u001b[0m\u001b[0m\n\u001b[0m\u001b[0;32m      2\u001b[0m \u001b[1;32mimport\u001b[0m \u001b[0mpandas\u001b[0m \u001b[1;32mas\u001b[0m \u001b[0mpd\u001b[0m\u001b[1;33m\u001b[0m\u001b[1;33m\u001b[0m\u001b[0m\n",
      "\u001b[1;32mc:\\Users\\AniltonCardoso\\Desktop\\Code\\investing\\Extractors\\fundamentus\\fundamentus.py\u001b[0m in \u001b[0;36m<module>\u001b[1;34m\u001b[0m\n\u001b[0;32m    110\u001b[0m \u001b[1;32mimport\u001b[0m \u001b[0mrandom\u001b[0m\u001b[1;33m\u001b[0m\u001b[1;33m\u001b[0m\u001b[0m\n\u001b[0;32m    111\u001b[0m \u001b[1;32mfrom\u001b[0m \u001b[0mzipfile\u001b[0m \u001b[1;32mimport\u001b[0m \u001b[0mZipFile\u001b[0m\u001b[1;33m\u001b[0m\u001b[1;33m\u001b[0m\u001b[0m\n\u001b[1;32m--> 112\u001b[1;33m \u001b[1;32mfrom\u001b[0m \u001b[1;33m.\u001b[0m\u001b[0mutils\u001b[0m \u001b[1;32mimport\u001b[0m \u001b[0mconvert_type\u001b[0m\u001b[1;33m,\u001b[0m \u001b[0mDataNotFound\u001b[0m\u001b[1;33m\u001b[0m\u001b[1;33m\u001b[0m\u001b[0m\n\u001b[0m\u001b[0;32m    113\u001b[0m \u001b[1;33m\u001b[0m\u001b[0m\n\u001b[0;32m    114\u001b[0m \u001b[1;33m\u001b[0m\u001b[0m\n",
      "\u001b[1;31mImportError\u001b[0m: attempted relative import with no known parent package"
     ]
    }
   ],
   "source": [
    "import fundamentus\n",
    "import pandas as pd"
   ]
  },
  {
   "cell_type": "code",
   "execution_count": 9,
   "metadata": {},
   "outputs": [],
   "source": [
    "result = fundamentus.get_data()"
   ]
  },
  {
   "cell_type": "code",
   "execution_count": 1,
   "metadata": {},
   "outputs": [],
   "source": [
    "import advfn"
   ]
  },
  {
   "cell_type": "code",
   "execution_count": 10,
   "metadata": {},
   "outputs": [],
   "source": [
    "df = pd.DataFrame.from_dict(result, orient = 'index')"
   ]
  },
  {
   "cell_type": "code",
   "execution_count": 25,
   "metadata": {},
   "outputs": [],
   "source": [
    "tickers.rename(columns = {\"Papel\":\"Ticker\"}, inplace = True)"
   ]
  },
  {
   "cell_type": "code",
   "execution_count": 19,
   "metadata": {},
   "outputs": [],
   "source": [
    "tickers = fundamentus.get_tickers()"
   ]
  },
  {
   "cell_type": "code",
   "execution_count": 30,
   "metadata": {},
   "outputs": [],
   "source": [
    "df2.columns = df2.columns.get_level_values(1)\n"
   ]
  },
  {
   "cell_type": "code",
   "execution_count": 49,
   "metadata": {},
   "outputs": [
    {
     "output_type": "execute_result",
     "data": {
      "text/plain": [
       "ITSA4  Data  Aplicações Financeiras  Dinheiro em Caixa  Disponibilidades  \\\n",
       "0      2008                  778000                NaN            778000   \n",
       "1      2009                  845000           136000.0            981000   \n",
       "2      2010                  518000                NaN            518000   \n",
       "3      2011                  329000                NaN            329000   \n",
       "4      2012                  429000                NaN            429000   \n",
       "5      2013                   86000           340000.0            426000   \n",
       "6      2014                  290000           643000.0            933000   \n",
       "7      2015                  282000           802000.0           1084000   \n",
       "8      2016                  310000           666000.0            976000   \n",
       "9      2017                 1439000            71000.0           1510000   \n",
       "10     2018                 1030000           936000.0           1966000   \n",
       "11     2019                 1213000          1091000.0           2304000   \n",
       "12     2020                 1214000           971000.0           2185000   \n",
       "\n",
       "ITSA4      DY  Dividendos e JCP  Payout  DB/PL  DL/EBITDA  Dívida Bruta  ...  \\\n",
       "0         NaN               NaN     NaN    NaN        NaN           NaN  ...   \n",
       "1         NaN               NaN     NaN    NaN        NaN           NaN  ...   \n",
       "2         NaN      1.667000e+09  0.3774   0.04        NaN     1064000.0  ...   \n",
       "3         NaN      1.103000e+09  0.2280   0.03       0.09      751000.0  ...   \n",
       "4         NaN      1.499000e+09  0.3302   0.02       0.03      573000.0  ...   \n",
       "5         NaN      1.734000e+09  0.3043    NaN      -0.08           NaN  ...   \n",
       "6         NaN      2.452000e+09  0.3099    NaN      -0.12           NaN  ...   \n",
       "7     -3.5802      2.814000e+09  0.3173   0.04       0.07     1709000.0  ...   \n",
       "8     -1.7025      3.187000e+09  0.3881   0.04       0.09     1709000.0  ...   \n",
       "9      2.2058      6.602000e+09  0.8107   0.03       0.02     1709000.0  ...   \n",
       "10        NaN               NaN     NaN   0.02      -0.08     1208000.0  ...   \n",
       "11        NaN               NaN     NaN   0.02        NaN     1206000.0  ...   \n",
       "12        NaN               NaN     NaN   0.02        NaN     1210000.0  ...   \n",
       "\n",
       "ITSA4  Margem EBIT  Margem EBITDA    P/EBIT  P/EBITDA       P/L    PSR  \\\n",
       "0              NaN            NaN   5736.08       NaN   5664.82    NaN   \n",
       "1              NaN            NaN  12827.75       NaN  12545.43    NaN   \n",
       "2              NaN            NaN     12.36       NaN     12.32    NaN   \n",
       "3              NaN            NaN     10.42     10.42     10.35    NaN   \n",
       "4              NaN            NaN     12.32     12.32     12.32    NaN   \n",
       "5              NaN            NaN     10.21     10.20      9.95    NaN   \n",
       "6              NaN            NaN      7.34      7.33      7.34    NaN   \n",
       "7              NaN            NaN      5.31      5.30      5.29 -59.66   \n",
       "8              NaN            NaN      7.58      7.58      7.33 -32.15   \n",
       "9           2.6879         2.6889      9.95      9.94      9.83  26.73   \n",
       "10          3.2332         3.2342     10.86     10.86     11.14  35.12   \n",
       "11          3.5129            NaN     11.26       NaN     11.48  39.56   \n",
       "12          2.3849            NaN     12.83       NaN     13.38  30.59   \n",
       "\n",
       "ITSA4  Receita Líquida  Resultado Bruto   ANO  Ticker  \n",
       "0                  NaN              NaN  2008   ITSA4  \n",
       "1                  NaN              NaN  2009   ITSA4  \n",
       "2                  NaN              NaN  2010   ITSA4  \n",
       "3                  NaN              NaN  2011   ITSA4  \n",
       "4                  NaN              NaN  2012   ITSA4  \n",
       "5                  NaN              NaN  2013   ITSA4  \n",
       "6                  NaN              NaN  2014   ITSA4  \n",
       "7            -786000.0        -786000.0  2015   ITSA4  \n",
       "8           -1872000.0       -1872000.0  2016   ITSA4  \n",
       "9            2993000.0        2993000.0  2017   ITSA4  \n",
       "10           2993000.0        2993000.0  2018   ITSA4  \n",
       "11           2993000.0        2993000.0  2019   ITSA4  \n",
       "12           2993000.0        2993000.0  2020   ITSA4  \n",
       "\n",
       "[13 rows x 65 columns]"
      ],
      "text/html": "<div>\n<style scoped>\n    .dataframe tbody tr th:only-of-type {\n        vertical-align: middle;\n    }\n\n    .dataframe tbody tr th {\n        vertical-align: top;\n    }\n\n    .dataframe thead th {\n        text-align: right;\n    }\n</style>\n<table border=\"1\" class=\"dataframe\">\n  <thead>\n    <tr style=\"text-align: right;\">\n      <th>ITSA4</th>\n      <th>Data</th>\n      <th>Aplicações Financeiras</th>\n      <th>Dinheiro em Caixa</th>\n      <th>Disponibilidades</th>\n      <th>DY</th>\n      <th>Dividendos e JCP</th>\n      <th>Payout</th>\n      <th>DB/PL</th>\n      <th>DL/EBITDA</th>\n      <th>Dívida Bruta</th>\n      <th>...</th>\n      <th>Margem EBIT</th>\n      <th>Margem EBITDA</th>\n      <th>P/EBIT</th>\n      <th>P/EBITDA</th>\n      <th>P/L</th>\n      <th>PSR</th>\n      <th>Receita Líquida</th>\n      <th>Resultado Bruto</th>\n      <th>ANO</th>\n      <th>Ticker</th>\n    </tr>\n  </thead>\n  <tbody>\n    <tr>\n      <th>0</th>\n      <td>2008</td>\n      <td>778000</td>\n      <td>NaN</td>\n      <td>778000</td>\n      <td>NaN</td>\n      <td>NaN</td>\n      <td>NaN</td>\n      <td>NaN</td>\n      <td>NaN</td>\n      <td>NaN</td>\n      <td>...</td>\n      <td>NaN</td>\n      <td>NaN</td>\n      <td>5736.08</td>\n      <td>NaN</td>\n      <td>5664.82</td>\n      <td>NaN</td>\n      <td>NaN</td>\n      <td>NaN</td>\n      <td>2008</td>\n      <td>ITSA4</td>\n    </tr>\n    <tr>\n      <th>1</th>\n      <td>2009</td>\n      <td>845000</td>\n      <td>136000.0</td>\n      <td>981000</td>\n      <td>NaN</td>\n      <td>NaN</td>\n      <td>NaN</td>\n      <td>NaN</td>\n      <td>NaN</td>\n      <td>NaN</td>\n      <td>...</td>\n      <td>NaN</td>\n      <td>NaN</td>\n      <td>12827.75</td>\n      <td>NaN</td>\n      <td>12545.43</td>\n      <td>NaN</td>\n      <td>NaN</td>\n      <td>NaN</td>\n      <td>2009</td>\n      <td>ITSA4</td>\n    </tr>\n    <tr>\n      <th>2</th>\n      <td>2010</td>\n      <td>518000</td>\n      <td>NaN</td>\n      <td>518000</td>\n      <td>NaN</td>\n      <td>1.667000e+09</td>\n      <td>0.3774</td>\n      <td>0.04</td>\n      <td>NaN</td>\n      <td>1064000.0</td>\n      <td>...</td>\n      <td>NaN</td>\n      <td>NaN</td>\n      <td>12.36</td>\n      <td>NaN</td>\n      <td>12.32</td>\n      <td>NaN</td>\n      <td>NaN</td>\n      <td>NaN</td>\n      <td>2010</td>\n      <td>ITSA4</td>\n    </tr>\n    <tr>\n      <th>3</th>\n      <td>2011</td>\n      <td>329000</td>\n      <td>NaN</td>\n      <td>329000</td>\n      <td>NaN</td>\n      <td>1.103000e+09</td>\n      <td>0.2280</td>\n      <td>0.03</td>\n      <td>0.09</td>\n      <td>751000.0</td>\n      <td>...</td>\n      <td>NaN</td>\n      <td>NaN</td>\n      <td>10.42</td>\n      <td>10.42</td>\n      <td>10.35</td>\n      <td>NaN</td>\n      <td>NaN</td>\n      <td>NaN</td>\n      <td>2011</td>\n      <td>ITSA4</td>\n    </tr>\n    <tr>\n      <th>4</th>\n      <td>2012</td>\n      <td>429000</td>\n      <td>NaN</td>\n      <td>429000</td>\n      <td>NaN</td>\n      <td>1.499000e+09</td>\n      <td>0.3302</td>\n      <td>0.02</td>\n      <td>0.03</td>\n      <td>573000.0</td>\n      <td>...</td>\n      <td>NaN</td>\n      <td>NaN</td>\n      <td>12.32</td>\n      <td>12.32</td>\n      <td>12.32</td>\n      <td>NaN</td>\n      <td>NaN</td>\n      <td>NaN</td>\n      <td>2012</td>\n      <td>ITSA4</td>\n    </tr>\n    <tr>\n      <th>5</th>\n      <td>2013</td>\n      <td>86000</td>\n      <td>340000.0</td>\n      <td>426000</td>\n      <td>NaN</td>\n      <td>1.734000e+09</td>\n      <td>0.3043</td>\n      <td>NaN</td>\n      <td>-0.08</td>\n      <td>NaN</td>\n      <td>...</td>\n      <td>NaN</td>\n      <td>NaN</td>\n      <td>10.21</td>\n      <td>10.20</td>\n      <td>9.95</td>\n      <td>NaN</td>\n      <td>NaN</td>\n      <td>NaN</td>\n      <td>2013</td>\n      <td>ITSA4</td>\n    </tr>\n    <tr>\n      <th>6</th>\n      <td>2014</td>\n      <td>290000</td>\n      <td>643000.0</td>\n      <td>933000</td>\n      <td>NaN</td>\n      <td>2.452000e+09</td>\n      <td>0.3099</td>\n      <td>NaN</td>\n      <td>-0.12</td>\n      <td>NaN</td>\n      <td>...</td>\n      <td>NaN</td>\n      <td>NaN</td>\n      <td>7.34</td>\n      <td>7.33</td>\n      <td>7.34</td>\n      <td>NaN</td>\n      <td>NaN</td>\n      <td>NaN</td>\n      <td>2014</td>\n      <td>ITSA4</td>\n    </tr>\n    <tr>\n      <th>7</th>\n      <td>2015</td>\n      <td>282000</td>\n      <td>802000.0</td>\n      <td>1084000</td>\n      <td>-3.5802</td>\n      <td>2.814000e+09</td>\n      <td>0.3173</td>\n      <td>0.04</td>\n      <td>0.07</td>\n      <td>1709000.0</td>\n      <td>...</td>\n      <td>NaN</td>\n      <td>NaN</td>\n      <td>5.31</td>\n      <td>5.30</td>\n      <td>5.29</td>\n      <td>-59.66</td>\n      <td>-786000.0</td>\n      <td>-786000.0</td>\n      <td>2015</td>\n      <td>ITSA4</td>\n    </tr>\n    <tr>\n      <th>8</th>\n      <td>2016</td>\n      <td>310000</td>\n      <td>666000.0</td>\n      <td>976000</td>\n      <td>-1.7025</td>\n      <td>3.187000e+09</td>\n      <td>0.3881</td>\n      <td>0.04</td>\n      <td>0.09</td>\n      <td>1709000.0</td>\n      <td>...</td>\n      <td>NaN</td>\n      <td>NaN</td>\n      <td>7.58</td>\n      <td>7.58</td>\n      <td>7.33</td>\n      <td>-32.15</td>\n      <td>-1872000.0</td>\n      <td>-1872000.0</td>\n      <td>2016</td>\n      <td>ITSA4</td>\n    </tr>\n    <tr>\n      <th>9</th>\n      <td>2017</td>\n      <td>1439000</td>\n      <td>71000.0</td>\n      <td>1510000</td>\n      <td>2.2058</td>\n      <td>6.602000e+09</td>\n      <td>0.8107</td>\n      <td>0.03</td>\n      <td>0.02</td>\n      <td>1709000.0</td>\n      <td>...</td>\n      <td>2.6879</td>\n      <td>2.6889</td>\n      <td>9.95</td>\n      <td>9.94</td>\n      <td>9.83</td>\n      <td>26.73</td>\n      <td>2993000.0</td>\n      <td>2993000.0</td>\n      <td>2017</td>\n      <td>ITSA4</td>\n    </tr>\n    <tr>\n      <th>10</th>\n      <td>2018</td>\n      <td>1030000</td>\n      <td>936000.0</td>\n      <td>1966000</td>\n      <td>NaN</td>\n      <td>NaN</td>\n      <td>NaN</td>\n      <td>0.02</td>\n      <td>-0.08</td>\n      <td>1208000.0</td>\n      <td>...</td>\n      <td>3.2332</td>\n      <td>3.2342</td>\n      <td>10.86</td>\n      <td>10.86</td>\n      <td>11.14</td>\n      <td>35.12</td>\n      <td>2993000.0</td>\n      <td>2993000.0</td>\n      <td>2018</td>\n      <td>ITSA4</td>\n    </tr>\n    <tr>\n      <th>11</th>\n      <td>2019</td>\n      <td>1213000</td>\n      <td>1091000.0</td>\n      <td>2304000</td>\n      <td>NaN</td>\n      <td>NaN</td>\n      <td>NaN</td>\n      <td>0.02</td>\n      <td>NaN</td>\n      <td>1206000.0</td>\n      <td>...</td>\n      <td>3.5129</td>\n      <td>NaN</td>\n      <td>11.26</td>\n      <td>NaN</td>\n      <td>11.48</td>\n      <td>39.56</td>\n      <td>2993000.0</td>\n      <td>2993000.0</td>\n      <td>2019</td>\n      <td>ITSA4</td>\n    </tr>\n    <tr>\n      <th>12</th>\n      <td>2020</td>\n      <td>1214000</td>\n      <td>971000.0</td>\n      <td>2185000</td>\n      <td>NaN</td>\n      <td>NaN</td>\n      <td>NaN</td>\n      <td>0.02</td>\n      <td>NaN</td>\n      <td>1210000.0</td>\n      <td>...</td>\n      <td>2.3849</td>\n      <td>NaN</td>\n      <td>12.83</td>\n      <td>NaN</td>\n      <td>13.38</td>\n      <td>30.59</td>\n      <td>2993000.0</td>\n      <td>2993000.0</td>\n      <td>2020</td>\n      <td>ITSA4</td>\n    </tr>\n  </tbody>\n</table>\n<p>13 rows × 65 columns</p>\n</div>"
     },
     "metadata": {},
     "execution_count": 49
    }
   ],
   "source": [
    "df2"
   ]
  },
  {
   "cell_type": "code",
   "execution_count": 35,
   "metadata": {},
   "outputs": [
    {
     "output_type": "execute_result",
     "data": {
      "text/plain": [
       "0    ITSA\n",
       "0    ITSA\n",
       "0    ITSA\n",
       "0    ITSA\n",
       "0    ITSA\n",
       "0    ITSA\n",
       "0    ITSA\n",
       "0    ITSA\n",
       "0    ITSA\n",
       "0    ITSA\n",
       "0    ITSA\n",
       "0    ITSA\n",
       "0    ITSA\n",
       "Name: Ticker, dtype: object"
      ]
     },
     "metadata": {},
     "execution_count": 35
    }
   ],
   "source": [
    "df2['Ticker'].str[:4]"
   ]
  },
  {
   "cell_type": "code",
   "execution_count": null,
   "metadata": {},
   "outputs": [],
   "source": [
    "teste.lstrip()"
   ]
  },
  {
   "cell_type": "code",
   "execution_count": 20,
   "metadata": {},
   "outputs": [],
   "source": [
    "import requests \n",
    "import pandas as pd\n",
    "import random\n",
    "import string\n",
    "import re\n",
    "import urllib.request\n",
    "import urllib.parse\n",
    "import http.cookiejar"
   ]
  },
  {
   "cell_type": "code",
   "execution_count": 18,
   "metadata": {},
   "outputs": [],
   "source": [
    "def get_ticker_data(ticker):\n",
    "    url = \"http://www.fundamentus.com.br/detalhes.php?papel={}\".format(ticker)\n",
    "\n",
    "    headers = {\n",
    "        'User-Agent': ''.join(\n",
    "            random.choices(string.ascii_letters, k=10)\n",
    "        )\n",
    "    }\n",
    "    html_src = requests.get(url, headers=headers).text\n",
    "    return html_src"
   ]
  },
  {
   "cell_type": "code",
   "execution_count": 19,
   "metadata": {},
   "outputs": [],
   "source": [
    "data = get_ticker_data(\"ITSA4\")"
   ]
  },
  {
   "cell_type": "code",
   "execution_count": 30,
   "metadata": {},
   "outputs": [
    {
     "output_type": "execute_result",
     "data": {
      "text/plain": [
       "'13/07/2021'"
      ]
     },
     "metadata": {},
     "execution_count": 30
    }
   ],
   "source": [
    "data.split('<span class=\"txt\">Data últ cot</span></td>\\n<td class=\"data\"><span class=\"txt\">')[-1].split(\"</span>\")[0]\n"
   ]
  },
  {
   "cell_type": "code",
   "execution_count": 34,
   "metadata": {},
   "outputs": [
    {
     "output_type": "execute_result",
     "data": {
      "text/plain": [
       "datetime.datetime(2021, 7, 13, 0, 0)"
      ]
     },
     "metadata": {},
     "execution_count": 34
    }
   ],
   "source": [
    "from datetime import datetime \n",
    "\n",
    "datetime.strptime('13/07/2021', \"%d/%m/%Y\")"
   ]
  }
 ]
}