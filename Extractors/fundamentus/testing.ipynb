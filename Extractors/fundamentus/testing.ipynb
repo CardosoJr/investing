{
 "metadata": {
  "language_info": {
   "codemirror_mode": {
    "name": "ipython",
    "version": 3
   },
   "file_extension": ".py",
   "mimetype": "text/x-python",
   "name": "python",
   "nbconvert_exporter": "python",
   "pygments_lexer": "ipython3",
   "version": "3.8.5-final"
  },
  "orig_nbformat": 2,
  "kernelspec": {
   "name": "python3",
   "display_name": "Python 3",
   "language": "python"
  }
 },
 "nbformat": 4,
 "nbformat_minor": 2,
 "cells": [
  {
   "cell_type": "code",
   "execution_count": 7,
   "metadata": {},
   "outputs": [],
   "source": [
    "import fundamentus"
   ]
  },
  {
   "cell_type": "code",
   "execution_count": 2,
   "metadata": {},
   "outputs": [],
   "source": [
    "result = fundamentus.get_data()"
   ]
  },
  {
   "cell_type": "code",
   "execution_count": 3,
   "metadata": {},
   "outputs": [],
   "source": [
    "import pandas as pd"
   ]
  },
  {
   "cell_type": "code",
   "execution_count": 4,
   "metadata": {},
   "outputs": [],
   "source": [
    "df = pd.DataFrame.from_dict(result, orient = 'index')"
   ]
  },
  {
   "cell_type": "code",
   "execution_count": null,
   "metadata": {},
   "outputs": [],
   "source": []
  },
  {
   "cell_type": "code",
   "execution_count": 5,
   "metadata": {},
   "outputs": [
    {
     "output_type": "execute_result",
     "data": {
      "text/plain": [
       "      Cotacao        P/L   P/VP     PSR      DY P/Ativo P/Cap.Giro   P/EBIT  \\\n",
       "CTSA3    2.39  -16625.30   0.93   0.591  0.0127   0.418      13.34    10.68   \n",
       "CTSA4    1.91  -13286.30   0.74   0.472  0.0175   0.334      10.66     8.53   \n",
       "OMGE3   43.36   -3821.30   2.28   8.171    0.00   0.959       5.02    26.49   \n",
       "LINX3   38.55   -1533.33   4.34   8.444  0.0029   2.708      10.63    52.88   \n",
       "DASA3  168.00    -423.63  20.73  13.722  0.0017   6.506      62.84  2878.11   \n",
       "\n",
       "        P/ACL  EV/EBIT EV/EBITDA Mrg.Ebit Mrg.Liq. Liq.Corr.    ROIC      ROE  \\\n",
       "CTSA3   -4.31    19.51     19.50   0.0553    -0.00      1.07  0.0441  -0.0001   \n",
       "CTSA4   -3.45    17.37     17.36   0.0553    -0.00      1.07  0.0441  -0.0001   \n",
       "OMGE3   -2.84    35.42     20.17   0.3084   0.0045      5.14  0.0457  -0.0006   \n",
       "LINX3   33.27    51.12     24.31   0.1597  -0.0055      2.26  0.0725  -0.0028   \n",
       "DASA3  -17.24  3000.38    123.05   0.0048   -0.032      1.50  0.0027  -0.0489   \n",
       "\n",
       "        Liq.2meses        Pat.Liq Div.Brut/Pat. Cresc.5anos  \n",
       "CTSA3     23067.10   285461000.00          0.83      0.0642  \n",
       "CTSA4     27846.30   285461000.00          0.83      0.0642  \n",
       "OMGE3  36874600.00  3722190000.00          1.24      0.5899  \n",
       "LINX3  43717900.00  1684040000.00          0.31      0.1583  \n",
       "DASA3    416460.00  3896020000.00          1.22      0.1775  "
      ],
      "text/html": "<div>\n<style scoped>\n    .dataframe tbody tr th:only-of-type {\n        vertical-align: middle;\n    }\n\n    .dataframe tbody tr th {\n        vertical-align: top;\n    }\n\n    .dataframe thead th {\n        text-align: right;\n    }\n</style>\n<table border=\"1\" class=\"dataframe\">\n  <thead>\n    <tr style=\"text-align: right;\">\n      <th></th>\n      <th>Cotacao</th>\n      <th>P/L</th>\n      <th>P/VP</th>\n      <th>PSR</th>\n      <th>DY</th>\n      <th>P/Ativo</th>\n      <th>P/Cap.Giro</th>\n      <th>P/EBIT</th>\n      <th>P/ACL</th>\n      <th>EV/EBIT</th>\n      <th>EV/EBITDA</th>\n      <th>Mrg.Ebit</th>\n      <th>Mrg.Liq.</th>\n      <th>Liq.Corr.</th>\n      <th>ROIC</th>\n      <th>ROE</th>\n      <th>Liq.2meses</th>\n      <th>Pat.Liq</th>\n      <th>Div.Brut/Pat.</th>\n      <th>Cresc.5anos</th>\n    </tr>\n  </thead>\n  <tbody>\n    <tr>\n      <th>CTSA3</th>\n      <td>2.39</td>\n      <td>-16625.30</td>\n      <td>0.93</td>\n      <td>0.591</td>\n      <td>0.0127</td>\n      <td>0.418</td>\n      <td>13.34</td>\n      <td>10.68</td>\n      <td>-4.31</td>\n      <td>19.51</td>\n      <td>19.50</td>\n      <td>0.0553</td>\n      <td>-0.00</td>\n      <td>1.07</td>\n      <td>0.0441</td>\n      <td>-0.0001</td>\n      <td>23067.10</td>\n      <td>285461000.00</td>\n      <td>0.83</td>\n      <td>0.0642</td>\n    </tr>\n    <tr>\n      <th>CTSA4</th>\n      <td>1.91</td>\n      <td>-13286.30</td>\n      <td>0.74</td>\n      <td>0.472</td>\n      <td>0.0175</td>\n      <td>0.334</td>\n      <td>10.66</td>\n      <td>8.53</td>\n      <td>-3.45</td>\n      <td>17.37</td>\n      <td>17.36</td>\n      <td>0.0553</td>\n      <td>-0.00</td>\n      <td>1.07</td>\n      <td>0.0441</td>\n      <td>-0.0001</td>\n      <td>27846.30</td>\n      <td>285461000.00</td>\n      <td>0.83</td>\n      <td>0.0642</td>\n    </tr>\n    <tr>\n      <th>OMGE3</th>\n      <td>43.36</td>\n      <td>-3821.30</td>\n      <td>2.28</td>\n      <td>8.171</td>\n      <td>0.00</td>\n      <td>0.959</td>\n      <td>5.02</td>\n      <td>26.49</td>\n      <td>-2.84</td>\n      <td>35.42</td>\n      <td>20.17</td>\n      <td>0.3084</td>\n      <td>0.0045</td>\n      <td>5.14</td>\n      <td>0.0457</td>\n      <td>-0.0006</td>\n      <td>36874600.00</td>\n      <td>3722190000.00</td>\n      <td>1.24</td>\n      <td>0.5899</td>\n    </tr>\n    <tr>\n      <th>LINX3</th>\n      <td>38.55</td>\n      <td>-1533.33</td>\n      <td>4.34</td>\n      <td>8.444</td>\n      <td>0.0029</td>\n      <td>2.708</td>\n      <td>10.63</td>\n      <td>52.88</td>\n      <td>33.27</td>\n      <td>51.12</td>\n      <td>24.31</td>\n      <td>0.1597</td>\n      <td>-0.0055</td>\n      <td>2.26</td>\n      <td>0.0725</td>\n      <td>-0.0028</td>\n      <td>43717900.00</td>\n      <td>1684040000.00</td>\n      <td>0.31</td>\n      <td>0.1583</td>\n    </tr>\n    <tr>\n      <th>DASA3</th>\n      <td>168.00</td>\n      <td>-423.63</td>\n      <td>20.73</td>\n      <td>13.722</td>\n      <td>0.0017</td>\n      <td>6.506</td>\n      <td>62.84</td>\n      <td>2878.11</td>\n      <td>-17.24</td>\n      <td>3000.38</td>\n      <td>123.05</td>\n      <td>0.0048</td>\n      <td>-0.032</td>\n      <td>1.50</td>\n      <td>0.0027</td>\n      <td>-0.0489</td>\n      <td>416460.00</td>\n      <td>3896020000.00</td>\n      <td>1.22</td>\n      <td>0.1775</td>\n    </tr>\n  </tbody>\n</table>\n</div>"
     },
     "metadata": {},
     "execution_count": 5
    }
   ],
   "source": [
    "df.head()"
   ]
  },
  {
   "cell_type": "code",
   "execution_count": 9,
   "metadata": {},
   "outputs": [],
   "source": [
    "import advfn"
   ]
  },
  {
   "cell_type": "code",
   "execution_count": 10,
   "metadata": {},
   "outputs": [
    {
     "output_type": "execute_result",
     "data": {
      "text/plain": [
       "                       Caixa                                    Dividendos  \\\n",
       "ITSA4 Aplicações Financeiras Dinheiro em Caixa Disponibilidades         DY   \n",
       "Data                                                                         \n",
       "2008                  778000               NaN           778000        NaN   \n",
       "2009                  845000          136000.0           981000        NaN   \n",
       "2010                  518000               NaN           518000        NaN   \n",
       "2011                  329000               NaN           329000        NaN   \n",
       "2012                  429000               NaN           429000        NaN   \n",
       "2013                   86000          340000.0           426000        NaN   \n",
       "2014                  290000          643000.0           933000        NaN   \n",
       "2015                  282000          802000.0          1084000    -3.5802   \n",
       "2016                  310000          666000.0           976000    -1.7025   \n",
       "2017                 1439000           71000.0          1510000     2.2058   \n",
       "2018                 1030000          936000.0          1966000        NaN   \n",
       "2019                 1213000         1091000.0          2304000        NaN   \n",
       "2020                 1214000          971000.0          2185000        NaN   \n",
       "\n",
       "                               Dívida                                        \\\n",
       "ITSA4 Dividendos e JCP  Payout  DB/PL DL/EBITDA Dívida Bruta Dívida Líquida   \n",
       "Data                                                                          \n",
       "2008               NaN     NaN    NaN       NaN          NaN        -778000   \n",
       "2009               NaN     NaN    NaN       NaN          NaN        -981000   \n",
       "2010      1.667000e+09  0.3774   0.04       NaN    1064000.0         546000   \n",
       "2011      1.103000e+09  0.2280   0.03      0.09     751000.0         422000   \n",
       "2012      1.499000e+09  0.3302   0.02      0.03     573000.0         144000   \n",
       "2013      1.734000e+09  0.3043    NaN     -0.08          NaN        -426000   \n",
       "2014      2.452000e+09  0.3099    NaN     -0.12          NaN        -933000   \n",
       "2015      2.814000e+09  0.3173   0.04      0.07    1709000.0         625000   \n",
       "2016      3.187000e+09  0.3881   0.04      0.09    1709000.0         733000   \n",
       "2017      6.602000e+09  0.8107   0.03      0.02    1709000.0         199000   \n",
       "2018               NaN     NaN   0.02     -0.08    1208000.0        -758000   \n",
       "2019               NaN     NaN   0.02       NaN    1206000.0       -1098000   \n",
       "2020               NaN     NaN   0.02       NaN    1210000.0        -975000   \n",
       "\n",
       "       ...    Resultados                                                   \\\n",
       "ITSA4  ... Lucro Líquido Margem Bruta Margem EBIT Margem EBITDA    P/EBIT   \n",
       "Data   ...                                                                  \n",
       "2008   ...       6885773          NaN         NaN           NaN   5736.08   \n",
       "2009   ...       4362000          NaN         NaN           NaN  12827.75   \n",
       "2010   ...       4417000          NaN         NaN           NaN     12.36   \n",
       "2011   ...       4837000          NaN         NaN           NaN     10.42   \n",
       "2012   ...       4539000          NaN         NaN           NaN     12.32   \n",
       "2013   ...       5698000          NaN         NaN           NaN     10.21   \n",
       "2014   ...       7911000          NaN         NaN           NaN      7.34   \n",
       "2015   ...       8868000          1.0         NaN           NaN      5.31   \n",
       "2016   ...       8211000          1.0         NaN           NaN      7.58   \n",
       "2017   ...       8144000          1.0      2.6879        2.6889      9.95   \n",
       "2018   ...       9436000          1.0      3.2332        3.2342     10.86   \n",
       "2019   ...      10312000          1.0      3.5129           NaN     11.26   \n",
       "2020   ...       6844000          1.0      2.3849           NaN     12.85   \n",
       "\n",
       "                                                                 \n",
       "ITSA4 P/EBITDA       P/L    PSR Receita Líquida Resultado Bruto  \n",
       "Data                                                             \n",
       "2008       NaN   5664.82    NaN             NaN             NaN  \n",
       "2009       NaN  12545.43    NaN             NaN             NaN  \n",
       "2010       NaN     12.32    NaN             NaN             NaN  \n",
       "2011     10.42     10.35    NaN             NaN             NaN  \n",
       "2012     12.32     12.32    NaN             NaN             NaN  \n",
       "2013     10.20      9.95    NaN             NaN             NaN  \n",
       "2014      7.33      7.34    NaN             NaN             NaN  \n",
       "2015      5.30      5.29 -59.66       -786000.0       -786000.0  \n",
       "2016      7.58      7.33 -32.15      -1872000.0      -1872000.0  \n",
       "2017      9.94      9.83  26.73       2993000.0       2993000.0  \n",
       "2018     10.86     11.14  35.12       2993000.0       2993000.0  \n",
       "2019       NaN     11.48  39.56       2993000.0       2993000.0  \n",
       "2020       NaN     13.41  30.65       2993000.0       2993000.0  \n",
       "\n",
       "[13 rows x 62 columns]"
      ],
      "text/html": "<div>\n<style scoped>\n    .dataframe tbody tr th:only-of-type {\n        vertical-align: middle;\n    }\n\n    .dataframe tbody tr th {\n        vertical-align: top;\n    }\n\n    .dataframe thead tr th {\n        text-align: left;\n    }\n\n    .dataframe thead tr:last-of-type th {\n        text-align: right;\n    }\n</style>\n<table border=\"1\" class=\"dataframe\">\n  <thead>\n    <tr>\n      <th></th>\n      <th colspan=\"3\" halign=\"left\">Caixa</th>\n      <th colspan=\"3\" halign=\"left\">Dividendos</th>\n      <th colspan=\"4\" halign=\"left\">Dívida</th>\n      <th>...</th>\n      <th colspan=\"10\" halign=\"left\">Resultados</th>\n    </tr>\n    <tr>\n      <th>ITSA4</th>\n      <th>Aplicações Financeiras</th>\n      <th>Dinheiro em Caixa</th>\n      <th>Disponibilidades</th>\n      <th>DY</th>\n      <th>Dividendos e JCP</th>\n      <th>Payout</th>\n      <th>DB/PL</th>\n      <th>DL/EBITDA</th>\n      <th>Dívida Bruta</th>\n      <th>Dívida Líquida</th>\n      <th>...</th>\n      <th>Lucro Líquido</th>\n      <th>Margem Bruta</th>\n      <th>Margem EBIT</th>\n      <th>Margem EBITDA</th>\n      <th>P/EBIT</th>\n      <th>P/EBITDA</th>\n      <th>P/L</th>\n      <th>PSR</th>\n      <th>Receita Líquida</th>\n      <th>Resultado Bruto</th>\n    </tr>\n    <tr>\n      <th>Data</th>\n      <th></th>\n      <th></th>\n      <th></th>\n      <th></th>\n      <th></th>\n      <th></th>\n      <th></th>\n      <th></th>\n      <th></th>\n      <th></th>\n      <th></th>\n      <th></th>\n      <th></th>\n      <th></th>\n      <th></th>\n      <th></th>\n      <th></th>\n      <th></th>\n      <th></th>\n      <th></th>\n      <th></th>\n    </tr>\n  </thead>\n  <tbody>\n    <tr>\n      <th>2008</th>\n      <td>778000</td>\n      <td>NaN</td>\n      <td>778000</td>\n      <td>NaN</td>\n      <td>NaN</td>\n      <td>NaN</td>\n      <td>NaN</td>\n      <td>NaN</td>\n      <td>NaN</td>\n      <td>-778000</td>\n      <td>...</td>\n      <td>6885773</td>\n      <td>NaN</td>\n      <td>NaN</td>\n      <td>NaN</td>\n      <td>5736.08</td>\n      <td>NaN</td>\n      <td>5664.82</td>\n      <td>NaN</td>\n      <td>NaN</td>\n      <td>NaN</td>\n    </tr>\n    <tr>\n      <th>2009</th>\n      <td>845000</td>\n      <td>136000.0</td>\n      <td>981000</td>\n      <td>NaN</td>\n      <td>NaN</td>\n      <td>NaN</td>\n      <td>NaN</td>\n      <td>NaN</td>\n      <td>NaN</td>\n      <td>-981000</td>\n      <td>...</td>\n      <td>4362000</td>\n      <td>NaN</td>\n      <td>NaN</td>\n      <td>NaN</td>\n      <td>12827.75</td>\n      <td>NaN</td>\n      <td>12545.43</td>\n      <td>NaN</td>\n      <td>NaN</td>\n      <td>NaN</td>\n    </tr>\n    <tr>\n      <th>2010</th>\n      <td>518000</td>\n      <td>NaN</td>\n      <td>518000</td>\n      <td>NaN</td>\n      <td>1.667000e+09</td>\n      <td>0.3774</td>\n      <td>0.04</td>\n      <td>NaN</td>\n      <td>1064000.0</td>\n      <td>546000</td>\n      <td>...</td>\n      <td>4417000</td>\n      <td>NaN</td>\n      <td>NaN</td>\n      <td>NaN</td>\n      <td>12.36</td>\n      <td>NaN</td>\n      <td>12.32</td>\n      <td>NaN</td>\n      <td>NaN</td>\n      <td>NaN</td>\n    </tr>\n    <tr>\n      <th>2011</th>\n      <td>329000</td>\n      <td>NaN</td>\n      <td>329000</td>\n      <td>NaN</td>\n      <td>1.103000e+09</td>\n      <td>0.2280</td>\n      <td>0.03</td>\n      <td>0.09</td>\n      <td>751000.0</td>\n      <td>422000</td>\n      <td>...</td>\n      <td>4837000</td>\n      <td>NaN</td>\n      <td>NaN</td>\n      <td>NaN</td>\n      <td>10.42</td>\n      <td>10.42</td>\n      <td>10.35</td>\n      <td>NaN</td>\n      <td>NaN</td>\n      <td>NaN</td>\n    </tr>\n    <tr>\n      <th>2012</th>\n      <td>429000</td>\n      <td>NaN</td>\n      <td>429000</td>\n      <td>NaN</td>\n      <td>1.499000e+09</td>\n      <td>0.3302</td>\n      <td>0.02</td>\n      <td>0.03</td>\n      <td>573000.0</td>\n      <td>144000</td>\n      <td>...</td>\n      <td>4539000</td>\n      <td>NaN</td>\n      <td>NaN</td>\n      <td>NaN</td>\n      <td>12.32</td>\n      <td>12.32</td>\n      <td>12.32</td>\n      <td>NaN</td>\n      <td>NaN</td>\n      <td>NaN</td>\n    </tr>\n    <tr>\n      <th>2013</th>\n      <td>86000</td>\n      <td>340000.0</td>\n      <td>426000</td>\n      <td>NaN</td>\n      <td>1.734000e+09</td>\n      <td>0.3043</td>\n      <td>NaN</td>\n      <td>-0.08</td>\n      <td>NaN</td>\n      <td>-426000</td>\n      <td>...</td>\n      <td>5698000</td>\n      <td>NaN</td>\n      <td>NaN</td>\n      <td>NaN</td>\n      <td>10.21</td>\n      <td>10.20</td>\n      <td>9.95</td>\n      <td>NaN</td>\n      <td>NaN</td>\n      <td>NaN</td>\n    </tr>\n    <tr>\n      <th>2014</th>\n      <td>290000</td>\n      <td>643000.0</td>\n      <td>933000</td>\n      <td>NaN</td>\n      <td>2.452000e+09</td>\n      <td>0.3099</td>\n      <td>NaN</td>\n      <td>-0.12</td>\n      <td>NaN</td>\n      <td>-933000</td>\n      <td>...</td>\n      <td>7911000</td>\n      <td>NaN</td>\n      <td>NaN</td>\n      <td>NaN</td>\n      <td>7.34</td>\n      <td>7.33</td>\n      <td>7.34</td>\n      <td>NaN</td>\n      <td>NaN</td>\n      <td>NaN</td>\n    </tr>\n    <tr>\n      <th>2015</th>\n      <td>282000</td>\n      <td>802000.0</td>\n      <td>1084000</td>\n      <td>-3.5802</td>\n      <td>2.814000e+09</td>\n      <td>0.3173</td>\n      <td>0.04</td>\n      <td>0.07</td>\n      <td>1709000.0</td>\n      <td>625000</td>\n      <td>...</td>\n      <td>8868000</td>\n      <td>1.0</td>\n      <td>NaN</td>\n      <td>NaN</td>\n      <td>5.31</td>\n      <td>5.30</td>\n      <td>5.29</td>\n      <td>-59.66</td>\n      <td>-786000.0</td>\n      <td>-786000.0</td>\n    </tr>\n    <tr>\n      <th>2016</th>\n      <td>310000</td>\n      <td>666000.0</td>\n      <td>976000</td>\n      <td>-1.7025</td>\n      <td>3.187000e+09</td>\n      <td>0.3881</td>\n      <td>0.04</td>\n      <td>0.09</td>\n      <td>1709000.0</td>\n      <td>733000</td>\n      <td>...</td>\n      <td>8211000</td>\n      <td>1.0</td>\n      <td>NaN</td>\n      <td>NaN</td>\n      <td>7.58</td>\n      <td>7.58</td>\n      <td>7.33</td>\n      <td>-32.15</td>\n      <td>-1872000.0</td>\n      <td>-1872000.0</td>\n    </tr>\n    <tr>\n      <th>2017</th>\n      <td>1439000</td>\n      <td>71000.0</td>\n      <td>1510000</td>\n      <td>2.2058</td>\n      <td>6.602000e+09</td>\n      <td>0.8107</td>\n      <td>0.03</td>\n      <td>0.02</td>\n      <td>1709000.0</td>\n      <td>199000</td>\n      <td>...</td>\n      <td>8144000</td>\n      <td>1.0</td>\n      <td>2.6879</td>\n      <td>2.6889</td>\n      <td>9.95</td>\n      <td>9.94</td>\n      <td>9.83</td>\n      <td>26.73</td>\n      <td>2993000.0</td>\n      <td>2993000.0</td>\n    </tr>\n    <tr>\n      <th>2018</th>\n      <td>1030000</td>\n      <td>936000.0</td>\n      <td>1966000</td>\n      <td>NaN</td>\n      <td>NaN</td>\n      <td>NaN</td>\n      <td>0.02</td>\n      <td>-0.08</td>\n      <td>1208000.0</td>\n      <td>-758000</td>\n      <td>...</td>\n      <td>9436000</td>\n      <td>1.0</td>\n      <td>3.2332</td>\n      <td>3.2342</td>\n      <td>10.86</td>\n      <td>10.86</td>\n      <td>11.14</td>\n      <td>35.12</td>\n      <td>2993000.0</td>\n      <td>2993000.0</td>\n    </tr>\n    <tr>\n      <th>2019</th>\n      <td>1213000</td>\n      <td>1091000.0</td>\n      <td>2304000</td>\n      <td>NaN</td>\n      <td>NaN</td>\n      <td>NaN</td>\n      <td>0.02</td>\n      <td>NaN</td>\n      <td>1206000.0</td>\n      <td>-1098000</td>\n      <td>...</td>\n      <td>10312000</td>\n      <td>1.0</td>\n      <td>3.5129</td>\n      <td>NaN</td>\n      <td>11.26</td>\n      <td>NaN</td>\n      <td>11.48</td>\n      <td>39.56</td>\n      <td>2993000.0</td>\n      <td>2993000.0</td>\n    </tr>\n    <tr>\n      <th>2020</th>\n      <td>1214000</td>\n      <td>971000.0</td>\n      <td>2185000</td>\n      <td>NaN</td>\n      <td>NaN</td>\n      <td>NaN</td>\n      <td>0.02</td>\n      <td>NaN</td>\n      <td>1210000.0</td>\n      <td>-975000</td>\n      <td>...</td>\n      <td>6844000</td>\n      <td>1.0</td>\n      <td>2.3849</td>\n      <td>NaN</td>\n      <td>12.85</td>\n      <td>NaN</td>\n      <td>13.41</td>\n      <td>30.65</td>\n      <td>2993000.0</td>\n      <td>2993000.0</td>\n    </tr>\n  </tbody>\n</table>\n<p>13 rows × 62 columns</p>\n</div>"
     },
     "metadata": {},
     "execution_count": 10
    }
   ],
   "source": [
    "advfn.get_fundamentos(\"ITSA4\")"
   ]
  }
 ]
}