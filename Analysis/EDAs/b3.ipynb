{
 "metadata": {
  "language_info": {
   "codemirror_mode": {
    "name": "ipython",
    "version": 3
   },
   "file_extension": ".py",
   "mimetype": "text/x-python",
   "name": "python",
   "nbconvert_exporter": "python",
   "pygments_lexer": "ipython3",
   "version": "3.8.5-final"
  },
  "orig_nbformat": 2,
  "kernelspec": {
   "name": "python3",
   "display_name": "Python 3",
   "language": "python"
  }
 },
 "nbformat": 4,
 "nbformat_minor": 2,
 "cells": [
  {
   "source": [
    "# EDA for B3 Stocks Extracted \n",
    "\n",
    "**This is an ongoing effort. So, it's imcomplete** "
   ],
   "cell_type": "markdown",
   "metadata": {}
  },
  {
   "cell_type": "code",
   "execution_count": 1,
   "metadata": {},
   "outputs": [],
   "source": [
    "import pandas as pd\n",
    "from pathlib import Path"
   ]
  },
  {
   "cell_type": "code",
   "execution_count": 3,
   "metadata": {},
   "outputs": [],
   "source": [
    "df = pd.read_csv(Path(\"../../DATA/assets.csv\"))"
   ]
  },
  {
   "cell_type": "code",
   "execution_count": 4,
   "metadata": {},
   "outputs": [
    {
     "output_type": "execute_result",
     "data": {
      "text/plain": [
       "                             Setor                         Subsetor Codigo  \\\n",
       "0  Petróleo, Gás e Biocombustíveis  Petróleo, Gás e Biocombustíveis   RRRP   \n",
       "1  Petróleo, Gás e Biocombustíveis  Petróleo, Gás e Biocombustíveis   CSAN   \n",
       "2  Petróleo, Gás e Biocombustíveis  Petróleo, Gás e Biocombustíveis   CSAN   \n",
       "3  Petróleo, Gás e Biocombustíveis  Petróleo, Gás e Biocombustíveis   CSAN   \n",
       "4  Petróleo, Gás e Biocombustíveis  Petróleo, Gás e Biocombustíveis   CSAN   \n",
       "\n",
       "  Ticker  Aplicações Financeiras  Dinheiro em Caixa  Disponibilidades    Data  \\\n",
       "0  RRRP3                     NaN                NaN               NaN  2020.0   \n",
       "1  CSAN3                     NaN           388726.0          388726.0  2009.0   \n",
       "2  CSAN3                     NaN           285925.0          285925.0  2010.0   \n",
       "3  CSAN3                     NaN           372318.0          372318.0  2011.0   \n",
       "4  CSAN3                     NaN           256091.0          256091.0  2013.0   \n",
       "\n",
       "       DY  Dividendos e JCP  ...  Margem EBIT  Margem EBITDA  P/EBIT  \\\n",
       "0  0.0000               NaN  ...       0.0000            NaN    0.00   \n",
       "1     NaN               NaN  ...          NaN            NaN     NaN   \n",
       "2  0.0748       193095000.0  ...       0.3150         0.3527   13.81   \n",
       "3  0.1145       240837000.0  ...       0.3016         0.3392   17.33   \n",
       "4     NaN       297080000.0  ...          NaN            NaN   27.06   \n",
       "\n",
       "   P/EBITDA    P/L   PSR  Receita Líquida  Resultado Bruto  \\\n",
       "0       NaN   0.00  0.00              NaN              NaN   \n",
       "1       NaN    NaN   NaN              NaN              NaN   \n",
       "2     12.34  10.67  4.35        2583094.0         494759.0   \n",
       "3     15.40  14.25  5.23        2104078.0         604613.0   \n",
       "4     26.97  68.83   NaN              NaN              NaN   \n",
       "\n",
       "                  Nome Comercial                   Razão Social  \n",
       "0                            NaN                            NaN  \n",
       "1  COSAN SA INDUSTRIA E COMERCIO  COSAN SA INDUSTRIA E COMERCIO  \n",
       "2  COSAN SA INDUSTRIA E COMERCIO  COSAN SA INDUSTRIA E COMERCIO  \n",
       "3  COSAN SA INDUSTRIA E COMERCIO  COSAN SA INDUSTRIA E COMERCIO  \n",
       "4  COSAN SA INDUSTRIA E COMERCIO  COSAN SA INDUSTRIA E COMERCIO  \n",
       "\n",
       "[5 rows x 69 columns]"
      ],
      "text/html": "<div>\n<style scoped>\n    .dataframe tbody tr th:only-of-type {\n        vertical-align: middle;\n    }\n\n    .dataframe tbody tr th {\n        vertical-align: top;\n    }\n\n    .dataframe thead th {\n        text-align: right;\n    }\n</style>\n<table border=\"1\" class=\"dataframe\">\n  <thead>\n    <tr style=\"text-align: right;\">\n      <th></th>\n      <th>Setor</th>\n      <th>Subsetor</th>\n      <th>Codigo</th>\n      <th>Ticker</th>\n      <th>Aplicações Financeiras</th>\n      <th>Dinheiro em Caixa</th>\n      <th>Disponibilidades</th>\n      <th>Data</th>\n      <th>DY</th>\n      <th>Dividendos e JCP</th>\n      <th>...</th>\n      <th>Margem EBIT</th>\n      <th>Margem EBITDA</th>\n      <th>P/EBIT</th>\n      <th>P/EBITDA</th>\n      <th>P/L</th>\n      <th>PSR</th>\n      <th>Receita Líquida</th>\n      <th>Resultado Bruto</th>\n      <th>Nome Comercial</th>\n      <th>Razão Social</th>\n    </tr>\n  </thead>\n  <tbody>\n    <tr>\n      <th>0</th>\n      <td>Petróleo, Gás e Biocombustíveis</td>\n      <td>Petróleo, Gás e Biocombustíveis</td>\n      <td>RRRP</td>\n      <td>RRRP3</td>\n      <td>NaN</td>\n      <td>NaN</td>\n      <td>NaN</td>\n      <td>2020.0</td>\n      <td>0.0000</td>\n      <td>NaN</td>\n      <td>...</td>\n      <td>0.0000</td>\n      <td>NaN</td>\n      <td>0.00</td>\n      <td>NaN</td>\n      <td>0.00</td>\n      <td>0.00</td>\n      <td>NaN</td>\n      <td>NaN</td>\n      <td>NaN</td>\n      <td>NaN</td>\n    </tr>\n    <tr>\n      <th>1</th>\n      <td>Petróleo, Gás e Biocombustíveis</td>\n      <td>Petróleo, Gás e Biocombustíveis</td>\n      <td>CSAN</td>\n      <td>CSAN3</td>\n      <td>NaN</td>\n      <td>388726.0</td>\n      <td>388726.0</td>\n      <td>2009.0</td>\n      <td>NaN</td>\n      <td>NaN</td>\n      <td>...</td>\n      <td>NaN</td>\n      <td>NaN</td>\n      <td>NaN</td>\n      <td>NaN</td>\n      <td>NaN</td>\n      <td>NaN</td>\n      <td>NaN</td>\n      <td>NaN</td>\n      <td>COSAN SA INDUSTRIA E COMERCIO</td>\n      <td>COSAN SA INDUSTRIA E COMERCIO</td>\n    </tr>\n    <tr>\n      <th>2</th>\n      <td>Petróleo, Gás e Biocombustíveis</td>\n      <td>Petróleo, Gás e Biocombustíveis</td>\n      <td>CSAN</td>\n      <td>CSAN3</td>\n      <td>NaN</td>\n      <td>285925.0</td>\n      <td>285925.0</td>\n      <td>2010.0</td>\n      <td>0.0748</td>\n      <td>193095000.0</td>\n      <td>...</td>\n      <td>0.3150</td>\n      <td>0.3527</td>\n      <td>13.81</td>\n      <td>12.34</td>\n      <td>10.67</td>\n      <td>4.35</td>\n      <td>2583094.0</td>\n      <td>494759.0</td>\n      <td>COSAN SA INDUSTRIA E COMERCIO</td>\n      <td>COSAN SA INDUSTRIA E COMERCIO</td>\n    </tr>\n    <tr>\n      <th>3</th>\n      <td>Petróleo, Gás e Biocombustíveis</td>\n      <td>Petróleo, Gás e Biocombustíveis</td>\n      <td>CSAN</td>\n      <td>CSAN3</td>\n      <td>NaN</td>\n      <td>372318.0</td>\n      <td>372318.0</td>\n      <td>2011.0</td>\n      <td>0.1145</td>\n      <td>240837000.0</td>\n      <td>...</td>\n      <td>0.3016</td>\n      <td>0.3392</td>\n      <td>17.33</td>\n      <td>15.40</td>\n      <td>14.25</td>\n      <td>5.23</td>\n      <td>2104078.0</td>\n      <td>604613.0</td>\n      <td>COSAN SA INDUSTRIA E COMERCIO</td>\n      <td>COSAN SA INDUSTRIA E COMERCIO</td>\n    </tr>\n    <tr>\n      <th>4</th>\n      <td>Petróleo, Gás e Biocombustíveis</td>\n      <td>Petróleo, Gás e Biocombustíveis</td>\n      <td>CSAN</td>\n      <td>CSAN3</td>\n      <td>NaN</td>\n      <td>256091.0</td>\n      <td>256091.0</td>\n      <td>2013.0</td>\n      <td>NaN</td>\n      <td>297080000.0</td>\n      <td>...</td>\n      <td>NaN</td>\n      <td>NaN</td>\n      <td>27.06</td>\n      <td>26.97</td>\n      <td>68.83</td>\n      <td>NaN</td>\n      <td>NaN</td>\n      <td>NaN</td>\n      <td>COSAN SA INDUSTRIA E COMERCIO</td>\n      <td>COSAN SA INDUSTRIA E COMERCIO</td>\n    </tr>\n  </tbody>\n</table>\n<p>5 rows × 69 columns</p>\n</div>"
     },
     "metadata": {},
     "execution_count": 4
    }
   ],
   "source": [
    "df.head()"
   ]
  },
  {
   "cell_type": "code",
   "execution_count": 7,
   "metadata": {},
   "outputs": [
    {
     "output_type": "execute_result",
     "data": {
      "text/plain": [
       "0"
      ]
     },
     "metadata": {},
     "execution_count": 7
    }
   ],
   "source": [
    "sum(df['Ticker'] == \"IVVB11\")"
   ]
  },
  {
   "cell_type": "code",
   "execution_count": 8,
   "metadata": {},
   "outputs": [
    {
     "output_type": "execute_result",
     "data": {
      "text/plain": [
       "0"
      ]
     },
     "metadata": {},
     "execution_count": 8
    }
   ],
   "source": [
    "sum(df['Ticker'] == \"HGLG11\")"
   ]
  },
  {
   "source": [
    "It's does not have data on REITs and ETFs. Gonna do some extracting first... Be right back"
   ],
   "cell_type": "markdown",
   "metadata": {}
  },
  {
   "cell_type": "code",
   "execution_count": null,
   "metadata": {},
   "outputs": [],
   "source": []
  }
 ]
}